{
  "cells": [
    {
      "cell_type": "markdown",
      "metadata": {
        "id": "pvnob6JOjcvF"
      },
      "source": [
        "# Парсинг новостных статей"
      ]
    },
    {
      "cell_type": "code",
      "execution_count": null,
      "metadata": {
        "colab": {
          "base_uri": "https://localhost:8080/"
        },
        "id": "fSYrKdHVHPOr",
        "outputId": "757dde2d-1728-4f8c-f285-47bb292ff5ec"
      },
      "outputs": [
        {
          "name": "stdout",
          "output_type": "stream",
          "text": [
            "Requirement already satisfied: requests in /usr/local/lib/python3.12/dist-packages (2.32.4)\n",
            "Requirement already satisfied: beautifulsoup4 in /usr/local/lib/python3.12/dist-packages (4.13.5)\n",
            "Requirement already satisfied: selenium in /usr/local/lib/python3.12/dist-packages (4.36.0)\n",
            "Requirement already satisfied: webdriver-manager in /usr/local/lib/python3.12/dist-packages (4.0.2)\n",
            "Collecting google_colab_selenium\n",
            "  Downloading google_colab_selenium-1.0.15-py3-none-any.whl.metadata (2.8 kB)\n",
            "Requirement already satisfied: charset_normalizer<4,>=2 in /usr/local/lib/python3.12/dist-packages (from requests) (3.4.3)\n",
            "Requirement already satisfied: idna<4,>=2.5 in /usr/local/lib/python3.12/dist-packages (from requests) (3.10)\n",
            "Requirement already satisfied: urllib3<3,>=1.21.1 in /usr/local/lib/python3.12/dist-packages (from requests) (2.5.0)\n",
            "Requirement already satisfied: certifi>=2017.4.17 in /usr/local/lib/python3.12/dist-packages (from requests) (2025.8.3)\n",
            "Requirement already satisfied: soupsieve>1.2 in /usr/local/lib/python3.12/dist-packages (from beautifulsoup4) (2.8)\n",
            "Requirement already satisfied: typing-extensions>=4.0.0 in /usr/local/lib/python3.12/dist-packages (from beautifulsoup4) (4.15.0)\n",
            "Requirement already satisfied: trio<1.0,>=0.30.0 in /usr/local/lib/python3.12/dist-packages (from selenium) (0.31.0)\n",
            "Requirement already satisfied: trio-websocket<1.0,>=0.12.2 in /usr/local/lib/python3.12/dist-packages (from selenium) (0.12.2)\n",
            "Requirement already satisfied: websocket-client<2.0,>=1.8.0 in /usr/local/lib/python3.12/dist-packages (from selenium) (1.8.0)\n",
            "Requirement already satisfied: python-dotenv in /usr/local/lib/python3.12/dist-packages (from webdriver-manager) (1.1.1)\n",
            "Requirement already satisfied: packaging in /usr/local/lib/python3.12/dist-packages (from webdriver-manager) (25.0)\n",
            "Requirement already satisfied: notebook>=6.5.7 in /usr/local/lib/python3.12/dist-packages (from google_colab_selenium) (6.5.7)\n",
            "Requirement already satisfied: jinja2 in /usr/local/lib/python3.12/dist-packages (from notebook>=6.5.7->google_colab_selenium) (3.1.6)\n",
            "Requirement already satisfied: tornado>=6.1 in /usr/local/lib/python3.12/dist-packages (from notebook>=6.5.7->google_colab_selenium) (6.4.2)\n",
            "Requirement already satisfied: pyzmq>=17 in /usr/local/lib/python3.12/dist-packages (from notebook>=6.5.7->google_colab_selenium) (26.2.1)\n",
            "Requirement already satisfied: argon2-cffi in /usr/local/lib/python3.12/dist-packages (from notebook>=6.5.7->google_colab_selenium) (25.1.0)\n",
            "Requirement already satisfied: traitlets>=4.2.1 in /usr/local/lib/python3.12/dist-packages (from notebook>=6.5.7->google_colab_selenium) (5.7.1)\n",
            "Requirement already satisfied: jupyter-core>=4.6.1 in /usr/local/lib/python3.12/dist-packages (from notebook>=6.5.7->google_colab_selenium) (5.8.1)\n",
            "Requirement already satisfied: jupyter-client<8,>=5.3.4 in /usr/local/lib/python3.12/dist-packages (from notebook>=6.5.7->google_colab_selenium) (7.4.9)\n",
            "Requirement already satisfied: ipython-genutils in /usr/local/lib/python3.12/dist-packages (from notebook>=6.5.7->google_colab_selenium) (0.2.0)\n",
            "Requirement already satisfied: nbformat in /usr/local/lib/python3.12/dist-packages (from notebook>=6.5.7->google_colab_selenium) (5.10.4)\n",
            "Requirement already satisfied: nbconvert>=5 in /usr/local/lib/python3.12/dist-packages (from notebook>=6.5.7->google_colab_selenium) (7.16.6)\n",
            "Requirement already satisfied: nest-asyncio>=1.5 in /usr/local/lib/python3.12/dist-packages (from notebook>=6.5.7->google_colab_selenium) (1.6.0)\n",
            "Requirement already satisfied: ipykernel in /usr/local/lib/python3.12/dist-packages (from notebook>=6.5.7->google_colab_selenium) (6.17.1)\n",
            "Requirement already satisfied: Send2Trash>=1.8.0 in /usr/local/lib/python3.12/dist-packages (from notebook>=6.5.7->google_colab_selenium) (1.8.3)\n",
            "Requirement already satisfied: terminado>=0.8.3 in /usr/local/lib/python3.12/dist-packages (from notebook>=6.5.7->google_colab_selenium) (0.18.1)\n",
            "Requirement already satisfied: prometheus-client in /usr/local/lib/python3.12/dist-packages (from notebook>=6.5.7->google_colab_selenium) (0.23.1)\n",
            "Requirement already satisfied: nbclassic>=0.4.7 in /usr/local/lib/python3.12/dist-packages (from notebook>=6.5.7->google_colab_selenium) (1.3.3)\n",
            "Requirement already satisfied: attrs>=23.2.0 in /usr/local/lib/python3.12/dist-packages (from trio<1.0,>=0.30.0->selenium) (25.3.0)\n",
            "Requirement already satisfied: sortedcontainers in /usr/local/lib/python3.12/dist-packages (from trio<1.0,>=0.30.0->selenium) (2.4.0)\n",
            "Requirement already satisfied: outcome in /usr/local/lib/python3.12/dist-packages (from trio<1.0,>=0.30.0->selenium) (1.3.0.post0)\n",
            "Requirement already satisfied: sniffio>=1.3.0 in /usr/local/lib/python3.12/dist-packages (from trio<1.0,>=0.30.0->selenium) (1.3.1)\n",
            "Requirement already satisfied: wsproto>=0.14 in /usr/local/lib/python3.12/dist-packages (from trio-websocket<1.0,>=0.12.2->selenium) (1.2.0)\n",
            "Requirement already satisfied: pysocks!=1.5.7,<2.0,>=1.5.6 in /usr/local/lib/python3.12/dist-packages (from urllib3[socks]<3.0,>=2.5.0->selenium) (1.7.1)\n",
            "Requirement already satisfied: entrypoints in /usr/local/lib/python3.12/dist-packages (from jupyter-client<8,>=5.3.4->notebook>=6.5.7->google_colab_selenium) (0.4)\n",
            "Requirement already satisfied: python-dateutil>=2.8.2 in /usr/local/lib/python3.12/dist-packages (from jupyter-client<8,>=5.3.4->notebook>=6.5.7->google_colab_selenium) (2.9.0.post0)\n",
            "Requirement already satisfied: platformdirs>=2.5 in /usr/local/lib/python3.12/dist-packages (from jupyter-core>=4.6.1->notebook>=6.5.7->google_colab_selenium) (4.4.0)\n",
            "Requirement already satisfied: notebook-shim>=0.2.3 in /usr/local/lib/python3.12/dist-packages (from nbclassic>=0.4.7->notebook>=6.5.7->google_colab_selenium) (0.2.4)\n",
            "Requirement already satisfied: bleach!=5.0.0 in /usr/local/lib/python3.12/dist-packages (from bleach[css]!=5.0.0->nbconvert>=5->notebook>=6.5.7->google_colab_selenium) (6.2.0)\n",
            "Requirement already satisfied: defusedxml in /usr/local/lib/python3.12/dist-packages (from nbconvert>=5->notebook>=6.5.7->google_colab_selenium) (0.7.1)\n",
            "Requirement already satisfied: jupyterlab-pygments in /usr/local/lib/python3.12/dist-packages (from nbconvert>=5->notebook>=6.5.7->google_colab_selenium) (0.3.0)\n",
            "Requirement already satisfied: markupsafe>=2.0 in /usr/local/lib/python3.12/dist-packages (from nbconvert>=5->notebook>=6.5.7->google_colab_selenium) (3.0.3)\n",
            "Requirement already satisfied: mistune<4,>=2.0.3 in /usr/local/lib/python3.12/dist-packages (from nbconvert>=5->notebook>=6.5.7->google_colab_selenium) (3.1.4)\n",
            "Requirement already satisfied: nbclient>=0.5.0 in /usr/local/lib/python3.12/dist-packages (from nbconvert>=5->notebook>=6.5.7->google_colab_selenium) (0.10.2)\n",
            "Requirement already satisfied: pandocfilters>=1.4.1 in /usr/local/lib/python3.12/dist-packages (from nbconvert>=5->notebook>=6.5.7->google_colab_selenium) (1.5.1)\n",
            "Requirement already satisfied: pygments>=2.4.1 in /usr/local/lib/python3.12/dist-packages (from nbconvert>=5->notebook>=6.5.7->google_colab_selenium) (2.19.2)\n",
            "Requirement already satisfied: fastjsonschema>=2.15 in /usr/local/lib/python3.12/dist-packages (from nbformat->notebook>=6.5.7->google_colab_selenium) (2.21.2)\n",
            "Requirement already satisfied: jsonschema>=2.6 in /usr/local/lib/python3.12/dist-packages (from nbformat->notebook>=6.5.7->google_colab_selenium) (4.25.1)\n",
            "Requirement already satisfied: ptyprocess in /usr/local/lib/python3.12/dist-packages (from terminado>=0.8.3->notebook>=6.5.7->google_colab_selenium) (0.7.0)\n",
            "Requirement already satisfied: h11<1,>=0.9.0 in /usr/local/lib/python3.12/dist-packages (from wsproto>=0.14->trio-websocket<1.0,>=0.12.2->selenium) (0.16.0)\n",
            "Requirement already satisfied: argon2-cffi-bindings in /usr/local/lib/python3.12/dist-packages (from argon2-cffi->notebook>=6.5.7->google_colab_selenium) (25.1.0)\n",
            "Requirement already satisfied: debugpy>=1.0 in /usr/local/lib/python3.12/dist-packages (from ipykernel->notebook>=6.5.7->google_colab_selenium) (1.8.15)\n",
            "Requirement already satisfied: ipython>=7.23.1 in /usr/local/lib/python3.12/dist-packages (from ipykernel->notebook>=6.5.7->google_colab_selenium) (7.34.0)\n",
            "Requirement already satisfied: matplotlib-inline>=0.1 in /usr/local/lib/python3.12/dist-packages (from ipykernel->notebook>=6.5.7->google_colab_selenium) (0.1.7)\n",
            "Requirement already satisfied: psutil in /usr/local/lib/python3.12/dist-packages (from ipykernel->notebook>=6.5.7->google_colab_selenium) (5.9.5)\n",
            "Requirement already satisfied: webencodings in /usr/local/lib/python3.12/dist-packages (from bleach!=5.0.0->bleach[css]!=5.0.0->nbconvert>=5->notebook>=6.5.7->google_colab_selenium) (0.5.1)\n",
            "Requirement already satisfied: tinycss2<1.5,>=1.1.0 in /usr/local/lib/python3.12/dist-packages (from bleach[css]!=5.0.0->nbconvert>=5->notebook>=6.5.7->google_colab_selenium) (1.4.0)\n",
            "Requirement already satisfied: setuptools>=18.5 in /usr/local/lib/python3.12/dist-packages (from ipython>=7.23.1->ipykernel->notebook>=6.5.7->google_colab_selenium) (75.2.0)\n",
            "Collecting jedi>=0.16 (from ipython>=7.23.1->ipykernel->notebook>=6.5.7->google_colab_selenium)\n",
            "  Downloading jedi-0.19.2-py2.py3-none-any.whl.metadata (22 kB)\n",
            "Requirement already satisfied: decorator in /usr/local/lib/python3.12/dist-packages (from ipython>=7.23.1->ipykernel->notebook>=6.5.7->google_colab_selenium) (4.4.2)\n",
            "Requirement already satisfied: pickleshare in /usr/local/lib/python3.12/dist-packages (from ipython>=7.23.1->ipykernel->notebook>=6.5.7->google_colab_selenium) (0.7.5)\n",
            "Requirement already satisfied: prompt-toolkit!=3.0.0,!=3.0.1,<3.1.0,>=2.0.0 in /usr/local/lib/python3.12/dist-packages (from ipython>=7.23.1->ipykernel->notebook>=6.5.7->google_colab_selenium) (3.0.52)\n",
            "Requirement already satisfied: backcall in /usr/local/lib/python3.12/dist-packages (from ipython>=7.23.1->ipykernel->notebook>=6.5.7->google_colab_selenium) (0.2.0)\n",
            "Requirement already satisfied: pexpect>4.3 in /usr/local/lib/python3.12/dist-packages (from ipython>=7.23.1->ipykernel->notebook>=6.5.7->google_colab_selenium) (4.9.0)\n",
            "Requirement already satisfied: jsonschema-specifications>=2023.03.6 in /usr/local/lib/python3.12/dist-packages (from jsonschema>=2.6->nbformat->notebook>=6.5.7->google_colab_selenium) (2025.9.1)\n",
            "Requirement already satisfied: referencing>=0.28.4 in /usr/local/lib/python3.12/dist-packages (from jsonschema>=2.6->nbformat->notebook>=6.5.7->google_colab_selenium) (0.36.2)\n",
            "Requirement already satisfied: rpds-py>=0.7.1 in /usr/local/lib/python3.12/dist-packages (from jsonschema>=2.6->nbformat->notebook>=6.5.7->google_colab_selenium) (0.27.1)\n",
            "Requirement already satisfied: jupyter-server<3,>=1.8 in /usr/local/lib/python3.12/dist-packages (from notebook-shim>=0.2.3->nbclassic>=0.4.7->notebook>=6.5.7->google_colab_selenium) (2.14.0)\n",
            "Requirement already satisfied: six>=1.5 in /usr/local/lib/python3.12/dist-packages (from python-dateutil>=2.8.2->jupyter-client<8,>=5.3.4->notebook>=6.5.7->google_colab_selenium) (1.17.0)\n",
            "Requirement already satisfied: cffi>=1.0.1 in /usr/local/lib/python3.12/dist-packages (from argon2-cffi-bindings->argon2-cffi->notebook>=6.5.7->google_colab_selenium) (2.0.0)\n",
            "Requirement already satisfied: pycparser in /usr/local/lib/python3.12/dist-packages (from cffi>=1.0.1->argon2-cffi-bindings->argon2-cffi->notebook>=6.5.7->google_colab_selenium) (2.23)\n",
            "Requirement already satisfied: parso<0.9.0,>=0.8.4 in /usr/local/lib/python3.12/dist-packages (from jedi>=0.16->ipython>=7.23.1->ipykernel->notebook>=6.5.7->google_colab_selenium) (0.8.5)\n",
            "Requirement already satisfied: anyio>=3.1.0 in /usr/local/lib/python3.12/dist-packages (from jupyter-server<3,>=1.8->notebook-shim>=0.2.3->nbclassic>=0.4.7->notebook>=6.5.7->google_colab_selenium) (4.11.0)\n",
            "Requirement already satisfied: jupyter-events>=0.9.0 in /usr/local/lib/python3.12/dist-packages (from jupyter-server<3,>=1.8->notebook-shim>=0.2.3->nbclassic>=0.4.7->notebook>=6.5.7->google_colab_selenium) (0.12.0)\n",
            "Requirement already satisfied: jupyter-server-terminals>=0.4.4 in /usr/local/lib/python3.12/dist-packages (from jupyter-server<3,>=1.8->notebook-shim>=0.2.3->nbclassic>=0.4.7->notebook>=6.5.7->google_colab_selenium) (0.5.3)\n",
            "Requirement already satisfied: overrides>=5.0 in /usr/local/lib/python3.12/dist-packages (from jupyter-server<3,>=1.8->notebook-shim>=0.2.3->nbclassic>=0.4.7->notebook>=6.5.7->google_colab_selenium) (7.7.0)\n",
            "Requirement already satisfied: wcwidth in /usr/local/lib/python3.12/dist-packages (from prompt-toolkit!=3.0.0,!=3.0.1,<3.1.0,>=2.0.0->ipython>=7.23.1->ipykernel->notebook>=6.5.7->google_colab_selenium) (0.2.14)\n",
            "Requirement already satisfied: python-json-logger>=2.0.4 in /usr/local/lib/python3.12/dist-packages (from jupyter-events>=0.9.0->jupyter-server<3,>=1.8->notebook-shim>=0.2.3->nbclassic>=0.4.7->notebook>=6.5.7->google_colab_selenium) (3.3.0)\n",
            "Requirement already satisfied: pyyaml>=5.3 in /usr/local/lib/python3.12/dist-packages (from jupyter-events>=0.9.0->jupyter-server<3,>=1.8->notebook-shim>=0.2.3->nbclassic>=0.4.7->notebook>=6.5.7->google_colab_selenium) (6.0.3)\n",
            "Requirement already satisfied: rfc3339-validator in /usr/local/lib/python3.12/dist-packages (from jupyter-events>=0.9.0->jupyter-server<3,>=1.8->notebook-shim>=0.2.3->nbclassic>=0.4.7->notebook>=6.5.7->google_colab_selenium) (0.1.4)\n",
            "Requirement already satisfied: rfc3986-validator>=0.1.1 in /usr/local/lib/python3.12/dist-packages (from jupyter-events>=0.9.0->jupyter-server<3,>=1.8->notebook-shim>=0.2.3->nbclassic>=0.4.7->notebook>=6.5.7->google_colab_selenium) (0.1.1)\n",
            "Requirement already satisfied: fqdn in /usr/local/lib/python3.12/dist-packages (from jsonschema[format-nongpl]>=4.18.0->jupyter-events>=0.9.0->jupyter-server<3,>=1.8->notebook-shim>=0.2.3->nbclassic>=0.4.7->notebook>=6.5.7->google_colab_selenium) (1.5.1)\n",
            "Requirement already satisfied: isoduration in /usr/local/lib/python3.12/dist-packages (from jsonschema[format-nongpl]>=4.18.0->jupyter-events>=0.9.0->jupyter-server<3,>=1.8->notebook-shim>=0.2.3->nbclassic>=0.4.7->notebook>=6.5.7->google_colab_selenium) (20.11.0)\n",
            "Requirement already satisfied: jsonpointer>1.13 in /usr/local/lib/python3.12/dist-packages (from jsonschema[format-nongpl]>=4.18.0->jupyter-events>=0.9.0->jupyter-server<3,>=1.8->notebook-shim>=0.2.3->nbclassic>=0.4.7->notebook>=6.5.7->google_colab_selenium) (3.0.0)\n",
            "Requirement already satisfied: rfc3987-syntax>=1.1.0 in /usr/local/lib/python3.12/dist-packages (from jsonschema[format-nongpl]>=4.18.0->jupyter-events>=0.9.0->jupyter-server<3,>=1.8->notebook-shim>=0.2.3->nbclassic>=0.4.7->notebook>=6.5.7->google_colab_selenium) (1.1.0)\n",
            "Requirement already satisfied: uri-template in /usr/local/lib/python3.12/dist-packages (from jsonschema[format-nongpl]>=4.18.0->jupyter-events>=0.9.0->jupyter-server<3,>=1.8->notebook-shim>=0.2.3->nbclassic>=0.4.7->notebook>=6.5.7->google_colab_selenium) (1.3.0)\n",
            "Requirement already satisfied: webcolors>=24.6.0 in /usr/local/lib/python3.12/dist-packages (from jsonschema[format-nongpl]>=4.18.0->jupyter-events>=0.9.0->jupyter-server<3,>=1.8->notebook-shim>=0.2.3->nbclassic>=0.4.7->notebook>=6.5.7->google_colab_selenium) (24.11.1)\n",
            "Requirement already satisfied: lark>=1.2.2 in /usr/local/lib/python3.12/dist-packages (from rfc3987-syntax>=1.1.0->jsonschema[format-nongpl]>=4.18.0->jupyter-events>=0.9.0->jupyter-server<3,>=1.8->notebook-shim>=0.2.3->nbclassic>=0.4.7->notebook>=6.5.7->google_colab_selenium) (1.3.0)\n",
            "Requirement already satisfied: arrow>=0.15.0 in /usr/local/lib/python3.12/dist-packages (from isoduration->jsonschema[format-nongpl]>=4.18.0->jupyter-events>=0.9.0->jupyter-server<3,>=1.8->notebook-shim>=0.2.3->nbclassic>=0.4.7->notebook>=6.5.7->google_colab_selenium) (1.3.0)\n",
            "Requirement already satisfied: types-python-dateutil>=2.8.10 in /usr/local/lib/python3.12/dist-packages (from arrow>=0.15.0->isoduration->jsonschema[format-nongpl]>=4.18.0->jupyter-events>=0.9.0->jupyter-server<3,>=1.8->notebook-shim>=0.2.3->nbclassic>=0.4.7->notebook>=6.5.7->google_colab_selenium) (2.9.0.20250822)\n",
            "Downloading google_colab_selenium-1.0.15-py3-none-any.whl (8.3 kB)\n",
            "Downloading jedi-0.19.2-py2.py3-none-any.whl (1.6 MB)\n",
            "\u001b[2K   \u001b[90m━━━━━━━━━━━━━━━━━━━━━━━━━━━━━━━━━━━━━━━━\u001b[0m \u001b[32m1.6/1.6 MB\u001b[0m \u001b[31m23.2 MB/s\u001b[0m eta \u001b[36m0:00:00\u001b[0m\n",
            "\u001b[?25hInstalling collected packages: jedi, google_colab_selenium\n",
            "Successfully installed google_colab_selenium-1.0.15 jedi-0.19.2\n"
          ]
        }
      ],
      "source": [
        "!pip install requests beautifulsoup4 selenium webdriver-manager google_colab_selenium\n"
      ]
    },
    {
      "cell_type": "code",
      "execution_count": null,
      "metadata": {
        "colab": {
          "base_uri": "https://localhost:8080/",
          "height": 1000
        },
        "id": "XG9DyBXMHHub",
        "outputId": "116d9ce3-0d54-4eda-848d-9a5473752b08"
      },
      "outputs": [
        {
          "name": "stdout",
          "output_type": "stream",
          "text": [
            "\n",
            "=== Сбор с ria.ru ===\n"
          ]
        },
        {
          "data": {
            "text/html": [
              "\n",
              "            <div class=\"spinner-container\">\n",
              "                <div class=\"spinner\" id=\"fdb6d336-840d-43f2-a39b-8fb49bacd2e6-circle\"></div>\n",
              "                <div class=\"spinner-text\" id=\"fdb6d336-840d-43f2-a39b-8fb49bacd2e6-text\">Initializing Chromedriver</div>\n",
              "            </div>\n",
              "            <style>\n",
              "                @keyframes spin {\n",
              "                    from { transform: rotate(0deg); }\n",
              "                    to { transform: rotate(360deg); }\n",
              "                }\n",
              "\n",
              "                .spinner-container {\n",
              "                    display: flex;\n",
              "                    align-items: center;\n",
              "                    margin-bottom: 3px;\n",
              "                }\n",
              "\n",
              "                .spinner {\n",
              "                    border: 3px solid rgba(0, 0, 0, 0.1);\n",
              "                    border-left-color: lightblue;\n",
              "                    border-radius: 50%;\n",
              "                    width: 12px;\n",
              "                    height: 12px;\n",
              "                    animation: spin 1s linear infinite;\n",
              "                }\n",
              "\n",
              "                .spinner-text {\n",
              "                    padding-left: 6px;\n",
              "                }\n",
              "            </style>\n",
              "        "
            ],
            "text/plain": [
              "<IPython.core.display.HTML object>"
            ]
          },
          "metadata": {},
          "output_type": "display_data"
        },
        {
          "data": {
            "application/javascript": "\n            const element = document.getElementById(\"fdb6d336-840d-43f2-a39b-8fb49bacd2e6-circle\");\n            element.style.border = \"3px solid limegreen\";\n            element.style.animation = \"none\";\n\n            const text = document.getElementById(\"fdb6d336-840d-43f2-a39b-8fb49bacd2e6-text\");\n            text.innerText = \"Initialized Chromedriver\";\n        ",
            "text/plain": [
              "<IPython.core.display.Javascript object>"
            ]
          },
          "metadata": {},
          "output_type": "display_data"
        },
        {
          "name": "stdout",
          "output_type": "stream",
          "text": [
            "[ria.ru] Загружаем главную страницу: https://ria.ru/lenta/\n",
            "[ria.ru] Найдено 50 элементов статей\n",
            "[ria.ru] Сырые ссылки: ['https://ria.ru/20251009/tramp-2047396952.html', 'https://ria.ru/20251009/tramp-2047396952.html', 'https://ria.ru/20251009/tramp-2047396952.html']...\n",
            "[ria.ru] Отфильтровано 50 валидных ссылок: ['https://ria.ru/20251009/tramp-2047396952.html', 'https://ria.ru/20251009/tramp-2047396952.html', 'https://ria.ru/20251009/tramp-2047396952.html']...\n"
          ]
        },
        {
          "data": {
            "text/html": [
              "\n",
              "            <div class=\"spinner-container\">\n",
              "                <div class=\"spinner\" id=\"5d652fc1-1da5-4e27-a31a-d7541365b4fd-circle\"></div>\n",
              "                <div class=\"spinner-text\" id=\"5d652fc1-1da5-4e27-a31a-d7541365b4fd-text\">Initializing Chromedriver</div>\n",
              "            </div>\n",
              "            <style>\n",
              "                @keyframes spin {\n",
              "                    from { transform: rotate(0deg); }\n",
              "                    to { transform: rotate(360deg); }\n",
              "                }\n",
              "\n",
              "                .spinner-container {\n",
              "                    display: flex;\n",
              "                    align-items: center;\n",
              "                    margin-bottom: 3px;\n",
              "                }\n",
              "\n",
              "                .spinner {\n",
              "                    border: 3px solid rgba(0, 0, 0, 0.1);\n",
              "                    border-left-color: lightblue;\n",
              "                    border-radius: 50%;\n",
              "                    width: 12px;\n",
              "                    height: 12px;\n",
              "                    animation: spin 1s linear infinite;\n",
              "                }\n",
              "\n",
              "                .spinner-text {\n",
              "                    padding-left: 6px;\n",
              "                }\n",
              "            </style>\n",
              "        "
            ],
            "text/plain": [
              "<IPython.core.display.HTML object>"
            ]
          },
          "metadata": {},
          "output_type": "display_data"
        },
        {
          "data": {
            "text/html": [
              "\n",
              "            <div class=\"spinner-container\">\n",
              "                <div class=\"spinner\" id=\"8dd70fc0-40bd-4ae3-98dd-5def5b6d300c-circle\"></div>\n",
              "                <div class=\"spinner-text\" id=\"8dd70fc0-40bd-4ae3-98dd-5def5b6d300c-text\">Initializing Chromedriver</div>\n",
              "            </div>\n",
              "            <style>\n",
              "                @keyframes spin {\n",
              "                    from { transform: rotate(0deg); }\n",
              "                    to { transform: rotate(360deg); }\n",
              "                }\n",
              "\n",
              "                .spinner-container {\n",
              "                    display: flex;\n",
              "                    align-items: center;\n",
              "                    margin-bottom: 3px;\n",
              "                }\n",
              "\n",
              "                .spinner {\n",
              "                    border: 3px solid rgba(0, 0, 0, 0.1);\n",
              "                    border-left-color: lightblue;\n",
              "                    border-radius: 50%;\n",
              "                    width: 12px;\n",
              "                    height: 12px;\n",
              "                    animation: spin 1s linear infinite;\n",
              "                }\n",
              "\n",
              "                .spinner-text {\n",
              "                    padding-left: 6px;\n",
              "                }\n",
              "            </style>\n",
              "        "
            ],
            "text/plain": [
              "<IPython.core.display.HTML object>"
            ]
          },
          "metadata": {},
          "output_type": "display_data"
        },
        {
          "data": {
            "text/html": [
              "\n",
              "            <div class=\"spinner-container\">\n",
              "                <div class=\"spinner\" id=\"998caeb2-421c-4bea-a2b3-ca575670f818-circle\"></div>\n",
              "                <div class=\"spinner-text\" id=\"998caeb2-421c-4bea-a2b3-ca575670f818-text\">Initializing Chromedriver</div>\n",
              "            </div>\n",
              "            <style>\n",
              "                @keyframes spin {\n",
              "                    from { transform: rotate(0deg); }\n",
              "                    to { transform: rotate(360deg); }\n",
              "                }\n",
              "\n",
              "                .spinner-container {\n",
              "                    display: flex;\n",
              "                    align-items: center;\n",
              "                    margin-bottom: 3px;\n",
              "                }\n",
              "\n",
              "                .spinner {\n",
              "                    border: 3px solid rgba(0, 0, 0, 0.1);\n",
              "                    border-left-color: lightblue;\n",
              "                    border-radius: 50%;\n",
              "                    width: 12px;\n",
              "                    height: 12px;\n",
              "                    animation: spin 1s linear infinite;\n",
              "                }\n",
              "\n",
              "                .spinner-text {\n",
              "                    padding-left: 6px;\n",
              "                }\n",
              "            </style>\n",
              "        "
            ],
            "text/plain": [
              "<IPython.core.display.HTML object>"
            ]
          },
          "metadata": {},
          "output_type": "display_data"
        },
        {
          "data": {
            "text/html": [
              "\n",
              "            <div class=\"spinner-container\">\n",
              "                <div class=\"spinner\" id=\"1c29a0ba-0d63-4e0d-bb9e-e3d76a2b7afe-circle\"></div>\n",
              "                <div class=\"spinner-text\" id=\"1c29a0ba-0d63-4e0d-bb9e-e3d76a2b7afe-text\">Initializing Chromedriver</div>\n",
              "            </div>\n",
              "            <style>\n",
              "                @keyframes spin {\n",
              "                    from { transform: rotate(0deg); }\n",
              "                    to { transform: rotate(360deg); }\n",
              "                }\n",
              "\n",
              "                .spinner-container {\n",
              "                    display: flex;\n",
              "                    align-items: center;\n",
              "                    margin-bottom: 3px;\n",
              "                }\n",
              "\n",
              "                .spinner {\n",
              "                    border: 3px solid rgba(0, 0, 0, 0.1);\n",
              "                    border-left-color: lightblue;\n",
              "                    border-radius: 50%;\n",
              "                    width: 12px;\n",
              "                    height: 12px;\n",
              "                    animation: spin 1s linear infinite;\n",
              "                }\n",
              "\n",
              "                .spinner-text {\n",
              "                    padding-left: 6px;\n",
              "                }\n",
              "            </style>\n",
              "        "
            ],
            "text/plain": [
              "<IPython.core.display.HTML object>"
            ]
          },
          "metadata": {},
          "output_type": "display_data"
        },
        {
          "data": {
            "application/javascript": "\n            const element = document.getElementById(\"1c29a0ba-0d63-4e0d-bb9e-e3d76a2b7afe-circle\");\n            element.style.border = \"3px solid limegreen\";\n            element.style.animation = \"none\";\n\n            const text = document.getElementById(\"1c29a0ba-0d63-4e0d-bb9e-e3d76a2b7afe-text\");\n            text.innerText = \"Initialized Chromedriver\";\n        ",
            "text/plain": [
              "<IPython.core.display.Javascript object>"
            ]
          },
          "metadata": {},
          "output_type": "display_data"
        },
        {
          "data": {
            "application/javascript": "\n            const element = document.getElementById(\"5d652fc1-1da5-4e27-a31a-d7541365b4fd-circle\");\n            element.style.border = \"3px solid limegreen\";\n            element.style.animation = \"none\";\n\n            const text = document.getElementById(\"5d652fc1-1da5-4e27-a31a-d7541365b4fd-text\");\n            text.innerText = \"Initialized Chromedriver\";\n        ",
            "text/plain": [
              "<IPython.core.display.Javascript object>"
            ]
          },
          "metadata": {},
          "output_type": "display_data"
        },
        {
          "data": {
            "application/javascript": "\n            const element = document.getElementById(\"998caeb2-421c-4bea-a2b3-ca575670f818-circle\");\n            element.style.border = \"3px solid limegreen\";\n            element.style.animation = \"none\";\n\n            const text = document.getElementById(\"998caeb2-421c-4bea-a2b3-ca575670f818-text\");\n            text.innerText = \"Initialized Chromedriver\";\n        ",
            "text/plain": [
              "<IPython.core.display.Javascript object>"
            ]
          },
          "metadata": {},
          "output_type": "display_data"
        },
        {
          "data": {
            "application/javascript": "\n            const element = document.getElementById(\"8dd70fc0-40bd-4ae3-98dd-5def5b6d300c-circle\");\n            element.style.border = \"3px solid limegreen\";\n            element.style.animation = \"none\";\n\n            const text = document.getElementById(\"8dd70fc0-40bd-4ae3-98dd-5def5b6d300c-text\");\n            text.innerText = \"Initialized Chromedriver\";\n        ",
            "text/plain": [
              "<IPython.core.display.Javascript object>"
            ]
          },
          "metadata": {},
          "output_type": "display_data"
        },
        {
          "name": "stdout",
          "output_type": "stream",
          "text": [
            "[ria.ru] Загружаем https://ria.ru/20251009/tramp-2047396787.html\n",
            "[ria.ru] Загружаем https://ria.ru/20251009/tramp-2047396952.html\n",
            "[ria.ru] Загружаем https://ria.ru/20251009/tramp-2047396952.html\n",
            "[ria.ru] Загружаем https://ria.ru/20251009/tramp-2047396952.html\n",
            "[ria.ru] Мало текста из мета (12 слов), ищем в DOM...\n",
            "[ria.ru] Успешно: 46 слов\n",
            "[ria.ru] Мало текста из мета (12 слов), ищем в DOM...\n",
            "[ria.ru] Мало текста из мета (12 слов), ищем в DOM...\n",
            "[ria.ru] ❌ Мало слов: 46\n"
          ]
        },
        {
          "data": {
            "text/html": [
              "\n",
              "            <div class=\"spinner-container\">\n",
              "                <div class=\"spinner\" id=\"4ca2a087-dbef-4e0b-be9a-73b881319de9-circle\"></div>\n",
              "                <div class=\"spinner-text\" id=\"4ca2a087-dbef-4e0b-be9a-73b881319de9-text\">Initializing Chromedriver</div>\n",
              "            </div>\n",
              "            <style>\n",
              "                @keyframes spin {\n",
              "                    from { transform: rotate(0deg); }\n",
              "                    to { transform: rotate(360deg); }\n",
              "                }\n",
              "\n",
              "                .spinner-container {\n",
              "                    display: flex;\n",
              "                    align-items: center;\n",
              "                    margin-bottom: 3px;\n",
              "                }\n",
              "\n",
              "                .spinner {\n",
              "                    border: 3px solid rgba(0, 0, 0, 0.1);\n",
              "                    border-left-color: lightblue;\n",
              "                    border-radius: 50%;\n",
              "                    width: 12px;\n",
              "                    height: 12px;\n",
              "                    animation: spin 1s linear infinite;\n",
              "                }\n",
              "\n",
              "                .spinner-text {\n",
              "                    padding-left: 6px;\n",
              "                }\n",
              "            </style>\n",
              "        "
            ],
            "text/plain": [
              "<IPython.core.display.HTML object>"
            ]
          },
          "metadata": {},
          "output_type": "display_data"
        },
        {
          "data": {
            "application/javascript": "\n            const element = document.getElementById(\"4ca2a087-dbef-4e0b-be9a-73b881319de9-circle\");\n            element.style.border = \"3px solid limegreen\";\n            element.style.animation = \"none\";\n\n            const text = document.getElementById(\"4ca2a087-dbef-4e0b-be9a-73b881319de9-text\");\n            text.innerText = \"Initialized Chromedriver\";\n        ",
            "text/plain": [
              "<IPython.core.display.Javascript object>"
            ]
          },
          "metadata": {},
          "output_type": "display_data"
        },
        {
          "name": "stdout",
          "output_type": "stream",
          "text": [
            "[ria.ru] Найдено 4 блоков текста\n",
            "[ria.ru] Успешно: 24 слов\n",
            "[ria.ru] ❌ Мало слов: 24\n"
          ]
        },
        {
          "data": {
            "text/html": [
              "\n",
              "            <div class=\"spinner-container\">\n",
              "                <div class=\"spinner\" id=\"4a31683e-ff8c-4537-a65a-f1f0833c9bdf-circle\"></div>\n",
              "                <div class=\"spinner-text\" id=\"4a31683e-ff8c-4537-a65a-f1f0833c9bdf-text\">Initializing Chromedriver</div>\n",
              "            </div>\n",
              "            <style>\n",
              "                @keyframes spin {\n",
              "                    from { transform: rotate(0deg); }\n",
              "                    to { transform: rotate(360deg); }\n",
              "                }\n",
              "\n",
              "                .spinner-container {\n",
              "                    display: flex;\n",
              "                    align-items: center;\n",
              "                    margin-bottom: 3px;\n",
              "                }\n",
              "\n",
              "                .spinner {\n",
              "                    border: 3px solid rgba(0, 0, 0, 0.1);\n",
              "                    border-left-color: lightblue;\n",
              "                    border-radius: 50%;\n",
              "                    width: 12px;\n",
              "                    height: 12px;\n",
              "                    animation: spin 1s linear infinite;\n",
              "                }\n",
              "\n",
              "                .spinner-text {\n",
              "                    padding-left: 6px;\n",
              "                }\n",
              "            </style>\n",
              "        "
            ],
            "text/plain": [
              "<IPython.core.display.HTML object>"
            ]
          },
          "metadata": {},
          "output_type": "display_data"
        },
        {
          "name": "stdout",
          "output_type": "stream",
          "text": [
            "[ria.ru] Найдено 4 блоков текста\n",
            "[ria.ru] Успешно: 24 слов\n",
            "[ria.ru] Найдено 4 блоков текста\n",
            "[ria.ru] Успешно: 24 слов\n",
            "[ria.ru] Загружаем https://ria.ru/20251009/tramp-2047396787.html\n"
          ]
        },
        {
          "data": {
            "text/html": [
              "\n",
              "            <div class=\"spinner-container\">\n",
              "                <div class=\"spinner\" id=\"550bd548-9b0b-4d4c-b59a-b819471f5bbf-circle\"></div>\n",
              "                <div class=\"spinner-text\" id=\"550bd548-9b0b-4d4c-b59a-b819471f5bbf-text\">Initializing Chromedriver</div>\n",
              "            </div>\n",
              "            <style>\n",
              "                @keyframes spin {\n",
              "                    from { transform: rotate(0deg); }\n",
              "                    to { transform: rotate(360deg); }\n",
              "                }\n",
              "\n",
              "                .spinner-container {\n",
              "                    display: flex;\n",
              "                    align-items: center;\n",
              "                    margin-bottom: 3px;\n",
              "                }\n",
              "\n",
              "                .spinner {\n",
              "                    border: 3px solid rgba(0, 0, 0, 0.1);\n",
              "                    border-left-color: lightblue;\n",
              "                    border-radius: 50%;\n",
              "                    width: 12px;\n",
              "                    height: 12px;\n",
              "                    animation: spin 1s linear infinite;\n",
              "                }\n",
              "\n",
              "                .spinner-text {\n",
              "                    padding-left: 6px;\n",
              "                }\n",
              "            </style>\n",
              "        "
            ],
            "text/plain": [
              "<IPython.core.display.HTML object>"
            ]
          },
          "metadata": {},
          "output_type": "display_data"
        },
        {
          "data": {
            "text/html": [
              "\n",
              "            <div class=\"spinner-container\">\n",
              "                <div class=\"spinner\" id=\"ff897787-8385-4e99-a5bf-8bef9df62673-circle\"></div>\n",
              "                <div class=\"spinner-text\" id=\"ff897787-8385-4e99-a5bf-8bef9df62673-text\">Initializing Chromedriver</div>\n",
              "            </div>\n",
              "            <style>\n",
              "                @keyframes spin {\n",
              "                    from { transform: rotate(0deg); }\n",
              "                    to { transform: rotate(360deg); }\n",
              "                }\n",
              "\n",
              "                .spinner-container {\n",
              "                    display: flex;\n",
              "                    align-items: center;\n",
              "                    margin-bottom: 3px;\n",
              "                }\n",
              "\n",
              "                .spinner {\n",
              "                    border: 3px solid rgba(0, 0, 0, 0.1);\n",
              "                    border-left-color: lightblue;\n",
              "                    border-radius: 50%;\n",
              "                    width: 12px;\n",
              "                    height: 12px;\n",
              "                    animation: spin 1s linear infinite;\n",
              "                }\n",
              "\n",
              "                .spinner-text {\n",
              "                    padding-left: 6px;\n",
              "                }\n",
              "            </style>\n",
              "        "
            ],
            "text/plain": [
              "<IPython.core.display.HTML object>"
            ]
          },
          "metadata": {},
          "output_type": "display_data"
        },
        {
          "name": "stdout",
          "output_type": "stream",
          "text": [
            "[ria.ru] ❌ Мало слов: 24\n",
            "[ria.ru] ❌ Мало слов: 24\n"
          ]
        },
        {
          "data": {
            "application/javascript": "\n            const element = document.getElementById(\"4a31683e-ff8c-4537-a65a-f1f0833c9bdf-circle\");\n            element.style.border = \"3px solid limegreen\";\n            element.style.animation = \"none\";\n\n            const text = document.getElementById(\"4a31683e-ff8c-4537-a65a-f1f0833c9bdf-text\");\n            text.innerText = \"Initialized Chromedriver\";\n        ",
            "text/plain": [
              "<IPython.core.display.Javascript object>"
            ]
          },
          "metadata": {},
          "output_type": "display_data"
        },
        {
          "name": "stdout",
          "output_type": "stream",
          "text": [
            "[ria.ru] Загружаем https://ria.ru/20251009/tramp-2047396787.html\n"
          ]
        },
        {
          "data": {
            "application/javascript": "\n            const element = document.getElementById(\"ff897787-8385-4e99-a5bf-8bef9df62673-circle\");\n            element.style.border = \"3px solid limegreen\";\n            element.style.animation = \"none\";\n\n            const text = document.getElementById(\"ff897787-8385-4e99-a5bf-8bef9df62673-text\");\n            text.innerText = \"Initialized Chromedriver\";\n        ",
            "text/plain": [
              "<IPython.core.display.Javascript object>"
            ]
          },
          "metadata": {},
          "output_type": "display_data"
        },
        {
          "data": {
            "application/javascript": "\n            const element = document.getElementById(\"550bd548-9b0b-4d4c-b59a-b819471f5bbf-circle\");\n            element.style.border = \"3px solid limegreen\";\n            element.style.animation = \"none\";\n\n            const text = document.getElementById(\"550bd548-9b0b-4d4c-b59a-b819471f5bbf-text\");\n            text.innerText = \"Initialized Chromedriver\";\n        ",
            "text/plain": [
              "<IPython.core.display.Javascript object>"
            ]
          },
          "metadata": {},
          "output_type": "display_data"
        },
        {
          "name": "stdout",
          "output_type": "stream",
          "text": [
            "[ria.ru] Загружаем https://ria.ru/20251009/finljandija-2047396621.html\n",
            "[ria.ru] Загружаем https://ria.ru/20251009/finljandija-2047396621.html\n",
            "[ria.ru] Успешно: 46 слов\n",
            "[ria.ru] ❌ Мало слов: 46\n"
          ]
        },
        {
          "data": {
            "text/html": [
              "\n",
              "            <div class=\"spinner-container\">\n",
              "                <div class=\"spinner\" id=\"bcba390b-d4d5-4025-90ed-2e107baa289c-circle\"></div>\n",
              "                <div class=\"spinner-text\" id=\"bcba390b-d4d5-4025-90ed-2e107baa289c-text\">Initializing Chromedriver</div>\n",
              "            </div>\n",
              "            <style>\n",
              "                @keyframes spin {\n",
              "                    from { transform: rotate(0deg); }\n",
              "                    to { transform: rotate(360deg); }\n",
              "                }\n",
              "\n",
              "                .spinner-container {\n",
              "                    display: flex;\n",
              "                    align-items: center;\n",
              "                    margin-bottom: 3px;\n",
              "                }\n",
              "\n",
              "                .spinner {\n",
              "                    border: 3px solid rgba(0, 0, 0, 0.1);\n",
              "                    border-left-color: lightblue;\n",
              "                    border-radius: 50%;\n",
              "                    width: 12px;\n",
              "                    height: 12px;\n",
              "                    animation: spin 1s linear infinite;\n",
              "                }\n",
              "\n",
              "                .spinner-text {\n",
              "                    padding-left: 6px;\n",
              "                }\n",
              "            </style>\n",
              "        "
            ],
            "text/plain": [
              "<IPython.core.display.HTML object>"
            ]
          },
          "metadata": {},
          "output_type": "display_data"
        },
        {
          "data": {
            "application/javascript": "\n            const element = document.getElementById(\"bcba390b-d4d5-4025-90ed-2e107baa289c-circle\");\n            element.style.border = \"3px solid limegreen\";\n            element.style.animation = \"none\";\n\n            const text = document.getElementById(\"bcba390b-d4d5-4025-90ed-2e107baa289c-text\");\n            text.innerText = \"Initialized Chromedriver\";\n        ",
            "text/plain": [
              "<IPython.core.display.Javascript object>"
            ]
          },
          "metadata": {},
          "output_type": "display_data"
        },
        {
          "name": "stdout",
          "output_type": "stream",
          "text": [
            "[ria.ru] Успешно: 44 слов\n",
            "[ria.ru] ❌ Мало слов: 44\n"
          ]
        },
        {
          "data": {
            "text/html": [
              "\n",
              "            <div class=\"spinner-container\">\n",
              "                <div class=\"spinner\" id=\"f76feada-2b07-4310-894e-d1b00f22e7c2-circle\"></div>\n",
              "                <div class=\"spinner-text\" id=\"f76feada-2b07-4310-894e-d1b00f22e7c2-text\">Initializing Chromedriver</div>\n",
              "            </div>\n",
              "            <style>\n",
              "                @keyframes spin {\n",
              "                    from { transform: rotate(0deg); }\n",
              "                    to { transform: rotate(360deg); }\n",
              "                }\n",
              "\n",
              "                .spinner-container {\n",
              "                    display: flex;\n",
              "                    align-items: center;\n",
              "                    margin-bottom: 3px;\n",
              "                }\n",
              "\n",
              "                .spinner {\n",
              "                    border: 3px solid rgba(0, 0, 0, 0.1);\n",
              "                    border-left-color: lightblue;\n",
              "                    border-radius: 50%;\n",
              "                    width: 12px;\n",
              "                    height: 12px;\n",
              "                    animation: spin 1s linear infinite;\n",
              "                }\n",
              "\n",
              "                .spinner-text {\n",
              "                    padding-left: 6px;\n",
              "                }\n",
              "            </style>\n",
              "        "
            ],
            "text/plain": [
              "<IPython.core.display.HTML object>"
            ]
          },
          "metadata": {},
          "output_type": "display_data"
        },
        {
          "name": "stdout",
          "output_type": "stream",
          "text": [
            "[ria.ru] Загружаем https://ria.ru/20251009/finljandija-2047396621.html\n"
          ]
        },
        {
          "data": {
            "application/javascript": "\n            const element = document.getElementById(\"f76feada-2b07-4310-894e-d1b00f22e7c2-circle\");\n            element.style.border = \"3px solid limegreen\";\n            element.style.animation = \"none\";\n\n            const text = document.getElementById(\"f76feada-2b07-4310-894e-d1b00f22e7c2-text\");\n            text.innerText = \"Initialized Chromedriver\";\n        ",
            "text/plain": [
              "<IPython.core.display.Javascript object>"
            ]
          },
          "metadata": {},
          "output_type": "display_data"
        },
        {
          "name": "stdout",
          "output_type": "stream",
          "text": [
            "[ria.ru] Успешно: 44 слов\n"
          ]
        },
        {
          "data": {
            "text/html": [
              "\n",
              "            <div class=\"spinner-container\">\n",
              "                <div class=\"spinner\" id=\"57d2f98a-1882-4979-8260-bf98cce7b186-circle\"></div>\n",
              "                <div class=\"spinner-text\" id=\"57d2f98a-1882-4979-8260-bf98cce7b186-text\">Initializing Chromedriver</div>\n",
              "            </div>\n",
              "            <style>\n",
              "                @keyframes spin {\n",
              "                    from { transform: rotate(0deg); }\n",
              "                    to { transform: rotate(360deg); }\n",
              "                }\n",
              "\n",
              "                .spinner-container {\n",
              "                    display: flex;\n",
              "                    align-items: center;\n",
              "                    margin-bottom: 3px;\n",
              "                }\n",
              "\n",
              "                .spinner {\n",
              "                    border: 3px solid rgba(0, 0, 0, 0.1);\n",
              "                    border-left-color: lightblue;\n",
              "                    border-radius: 50%;\n",
              "                    width: 12px;\n",
              "                    height: 12px;\n",
              "                    animation: spin 1s linear infinite;\n",
              "                }\n",
              "\n",
              "                .spinner-text {\n",
              "                    padding-left: 6px;\n",
              "                }\n",
              "            </style>\n",
              "        "
            ],
            "text/plain": [
              "<IPython.core.display.HTML object>"
            ]
          },
          "metadata": {},
          "output_type": "display_data"
        },
        {
          "name": "stdout",
          "output_type": "stream",
          "text": [
            "[ria.ru] ❌ Мало слов: 44\n",
            "[ria.ru] Загружаем https://ria.ru/20251009/tramp-2047396206.html\n",
            "[ria.ru] Успешно: 46 слов\n"
          ]
        },
        {
          "data": {
            "text/html": [
              "\n",
              "            <div class=\"spinner-container\">\n",
              "                <div class=\"spinner\" id=\"909d3d8c-39d1-4cc6-99c8-e6357eda288a-circle\"></div>\n",
              "                <div class=\"spinner-text\" id=\"909d3d8c-39d1-4cc6-99c8-e6357eda288a-text\">Initializing Chromedriver</div>\n",
              "            </div>\n",
              "            <style>\n",
              "                @keyframes spin {\n",
              "                    from { transform: rotate(0deg); }\n",
              "                    to { transform: rotate(360deg); }\n",
              "                }\n",
              "\n",
              "                .spinner-container {\n",
              "                    display: flex;\n",
              "                    align-items: center;\n",
              "                    margin-bottom: 3px;\n",
              "                }\n",
              "\n",
              "                .spinner {\n",
              "                    border: 3px solid rgba(0, 0, 0, 0.1);\n",
              "                    border-left-color: lightblue;\n",
              "                    border-radius: 50%;\n",
              "                    width: 12px;\n",
              "                    height: 12px;\n",
              "                    animation: spin 1s linear infinite;\n",
              "                }\n",
              "\n",
              "                .spinner-text {\n",
              "                    padding-left: 6px;\n",
              "                }\n",
              "            </style>\n",
              "        "
            ],
            "text/plain": [
              "<IPython.core.display.HTML object>"
            ]
          },
          "metadata": {},
          "output_type": "display_data"
        },
        {
          "name": "stdout",
          "output_type": "stream",
          "text": [
            "[ria.ru] ❌ Мало слов: 46\n"
          ]
        },
        {
          "data": {
            "application/javascript": "\n            const element = document.getElementById(\"909d3d8c-39d1-4cc6-99c8-e6357eda288a-circle\");\n            element.style.border = \"3px solid limegreen\";\n            element.style.animation = \"none\";\n\n            const text = document.getElementById(\"909d3d8c-39d1-4cc6-99c8-e6357eda288a-text\");\n            text.innerText = \"Initialized Chromedriver\";\n        ",
            "text/plain": [
              "<IPython.core.display.Javascript object>"
            ]
          },
          "metadata": {},
          "output_type": "display_data"
        },
        {
          "data": {
            "application/javascript": "\n            const element = document.getElementById(\"57d2f98a-1882-4979-8260-bf98cce7b186-circle\");\n            element.style.border = \"3px solid limegreen\";\n            element.style.animation = \"none\";\n\n            const text = document.getElementById(\"57d2f98a-1882-4979-8260-bf98cce7b186-text\");\n            text.innerText = \"Initialized Chromedriver\";\n        ",
            "text/plain": [
              "<IPython.core.display.Javascript object>"
            ]
          },
          "metadata": {},
          "output_type": "display_data"
        },
        {
          "name": "stdout",
          "output_type": "stream",
          "text": [
            "[ria.ru] Загружаем https://ria.ru/20251009/tramp-2047396206.html\n",
            "[ria.ru] Загружаем https://ria.ru/20251009/tramp-2047396206.html\n",
            "[ria.ru] Успешно: 44 слов\n",
            "[ria.ru] ❌ Мало слов: 44\n"
          ]
        },
        {
          "data": {
            "text/html": [
              "\n",
              "            <div class=\"spinner-container\">\n",
              "                <div class=\"spinner\" id=\"cab36e6a-9dde-47a0-99d2-559928536901-circle\"></div>\n",
              "                <div class=\"spinner-text\" id=\"cab36e6a-9dde-47a0-99d2-559928536901-text\">Initializing Chromedriver</div>\n",
              "            </div>\n",
              "            <style>\n",
              "                @keyframes spin {\n",
              "                    from { transform: rotate(0deg); }\n",
              "                    to { transform: rotate(360deg); }\n",
              "                }\n",
              "\n",
              "                .spinner-container {\n",
              "                    display: flex;\n",
              "                    align-items: center;\n",
              "                    margin-bottom: 3px;\n",
              "                }\n",
              "\n",
              "                .spinner {\n",
              "                    border: 3px solid rgba(0, 0, 0, 0.1);\n",
              "                    border-left-color: lightblue;\n",
              "                    border-radius: 50%;\n",
              "                    width: 12px;\n",
              "                    height: 12px;\n",
              "                    animation: spin 1s linear infinite;\n",
              "                }\n",
              "\n",
              "                .spinner-text {\n",
              "                    padding-left: 6px;\n",
              "                }\n",
              "            </style>\n",
              "        "
            ],
            "text/plain": [
              "<IPython.core.display.HTML object>"
            ]
          },
          "metadata": {},
          "output_type": "display_data"
        },
        {
          "data": {
            "application/javascript": "\n            const element = document.getElementById(\"cab36e6a-9dde-47a0-99d2-559928536901-circle\");\n            element.style.border = \"3px solid limegreen\";\n            element.style.animation = \"none\";\n\n            const text = document.getElementById(\"cab36e6a-9dde-47a0-99d2-559928536901-text\");\n            text.innerText = \"Initialized Chromedriver\";\n        ",
            "text/plain": [
              "<IPython.core.display.Javascript object>"
            ]
          },
          "metadata": {},
          "output_type": "display_data"
        },
        {
          "name": "stdout",
          "output_type": "stream",
          "text": [
            "[ria.ru] Успешно: 49 слов\n",
            "[ria.ru] ❌ Мало слов: 49\n"
          ]
        },
        {
          "data": {
            "text/html": [
              "\n",
              "            <div class=\"spinner-container\">\n",
              "                <div class=\"spinner\" id=\"31229b7f-e72f-4170-9a7e-bad28a1a2b25-circle\"></div>\n",
              "                <div class=\"spinner-text\" id=\"31229b7f-e72f-4170-9a7e-bad28a1a2b25-text\">Initializing Chromedriver</div>\n",
              "            </div>\n",
              "            <style>\n",
              "                @keyframes spin {\n",
              "                    from { transform: rotate(0deg); }\n",
              "                    to { transform: rotate(360deg); }\n",
              "                }\n",
              "\n",
              "                .spinner-container {\n",
              "                    display: flex;\n",
              "                    align-items: center;\n",
              "                    margin-bottom: 3px;\n",
              "                }\n",
              "\n",
              "                .spinner {\n",
              "                    border: 3px solid rgba(0, 0, 0, 0.1);\n",
              "                    border-left-color: lightblue;\n",
              "                    border-radius: 50%;\n",
              "                    width: 12px;\n",
              "                    height: 12px;\n",
              "                    animation: spin 1s linear infinite;\n",
              "                }\n",
              "\n",
              "                .spinner-text {\n",
              "                    padding-left: 6px;\n",
              "                }\n",
              "            </style>\n",
              "        "
            ],
            "text/plain": [
              "<IPython.core.display.HTML object>"
            ]
          },
          "metadata": {},
          "output_type": "display_data"
        },
        {
          "name": "stdout",
          "output_type": "stream",
          "text": [
            "[ria.ru] Загружаем https://ria.ru/20251009/rossija-2047395864.html\n"
          ]
        },
        {
          "data": {
            "application/javascript": "\n            const element = document.getElementById(\"31229b7f-e72f-4170-9a7e-bad28a1a2b25-circle\");\n            element.style.border = \"3px solid limegreen\";\n            element.style.animation = \"none\";\n\n            const text = document.getElementById(\"31229b7f-e72f-4170-9a7e-bad28a1a2b25-text\");\n            text.innerText = \"Initialized Chromedriver\";\n        ",
            "text/plain": [
              "<IPython.core.display.Javascript object>"
            ]
          },
          "metadata": {},
          "output_type": "display_data"
        },
        {
          "name": "stdout",
          "output_type": "stream",
          "text": [
            "[ria.ru] Успешно: 49 слов\n",
            "[ria.ru] ❌ Мало слов: 49\n"
          ]
        },
        {
          "data": {
            "text/html": [
              "\n",
              "            <div class=\"spinner-container\">\n",
              "                <div class=\"spinner\" id=\"200c8b3e-f782-4764-a689-969811c1ae16-circle\"></div>\n",
              "                <div class=\"spinner-text\" id=\"200c8b3e-f782-4764-a689-969811c1ae16-text\">Initializing Chromedriver</div>\n",
              "            </div>\n",
              "            <style>\n",
              "                @keyframes spin {\n",
              "                    from { transform: rotate(0deg); }\n",
              "                    to { transform: rotate(360deg); }\n",
              "                }\n",
              "\n",
              "                .spinner-container {\n",
              "                    display: flex;\n",
              "                    align-items: center;\n",
              "                    margin-bottom: 3px;\n",
              "                }\n",
              "\n",
              "                .spinner {\n",
              "                    border: 3px solid rgba(0, 0, 0, 0.1);\n",
              "                    border-left-color: lightblue;\n",
              "                    border-radius: 50%;\n",
              "                    width: 12px;\n",
              "                    height: 12px;\n",
              "                    animation: spin 1s linear infinite;\n",
              "                }\n",
              "\n",
              "                .spinner-text {\n",
              "                    padding-left: 6px;\n",
              "                }\n",
              "            </style>\n",
              "        "
            ],
            "text/plain": [
              "<IPython.core.display.HTML object>"
            ]
          },
          "metadata": {},
          "output_type": "display_data"
        },
        {
          "name": "stdout",
          "output_type": "stream",
          "text": [
            "[ria.ru] Успешно: 49 слов\n"
          ]
        },
        {
          "data": {
            "text/html": [
              "\n",
              "            <div class=\"spinner-container\">\n",
              "                <div class=\"spinner\" id=\"0ce32a2d-e200-44f9-90d7-870b355e1d06-circle\"></div>\n",
              "                <div class=\"spinner-text\" id=\"0ce32a2d-e200-44f9-90d7-870b355e1d06-text\">Initializing Chromedriver</div>\n",
              "            </div>\n",
              "            <style>\n",
              "                @keyframes spin {\n",
              "                    from { transform: rotate(0deg); }\n",
              "                    to { transform: rotate(360deg); }\n",
              "                }\n",
              "\n",
              "                .spinner-container {\n",
              "                    display: flex;\n",
              "                    align-items: center;\n",
              "                    margin-bottom: 3px;\n",
              "                }\n",
              "\n",
              "                .spinner {\n",
              "                    border: 3px solid rgba(0, 0, 0, 0.1);\n",
              "                    border-left-color: lightblue;\n",
              "                    border-radius: 50%;\n",
              "                    width: 12px;\n",
              "                    height: 12px;\n",
              "                    animation: spin 1s linear infinite;\n",
              "                }\n",
              "\n",
              "                .spinner-text {\n",
              "                    padding-left: 6px;\n",
              "                }\n",
              "            </style>\n",
              "        "
            ],
            "text/plain": [
              "<IPython.core.display.HTML object>"
            ]
          },
          "metadata": {},
          "output_type": "display_data"
        },
        {
          "name": "stdout",
          "output_type": "stream",
          "text": [
            "[ria.ru] Загружаем https://ria.ru/20251009/rossija-2047395864.html\n",
            "[ria.ru] ❌ Мало слов: 49\n"
          ]
        },
        {
          "data": {
            "application/javascript": "\n            const element = document.getElementById(\"200c8b3e-f782-4764-a689-969811c1ae16-circle\");\n            element.style.border = \"3px solid limegreen\";\n            element.style.animation = \"none\";\n\n            const text = document.getElementById(\"200c8b3e-f782-4764-a689-969811c1ae16-text\");\n            text.innerText = \"Initialized Chromedriver\";\n        ",
            "text/plain": [
              "<IPython.core.display.Javascript object>"
            ]
          },
          "metadata": {},
          "output_type": "display_data"
        },
        {
          "data": {
            "application/javascript": "\n            const element = document.getElementById(\"0ce32a2d-e200-44f9-90d7-870b355e1d06-circle\");\n            element.style.border = \"3px solid limegreen\";\n            element.style.animation = \"none\";\n\n            const text = document.getElementById(\"0ce32a2d-e200-44f9-90d7-870b355e1d06-text\");\n            text.innerText = \"Initialized Chromedriver\";\n        ",
            "text/plain": [
              "<IPython.core.display.Javascript object>"
            ]
          },
          "metadata": {},
          "output_type": "display_data"
        },
        {
          "name": "stdout",
          "output_type": "stream",
          "text": [
            "[ria.ru] Загружаем https://ria.ru/20251009/rossija-2047395864.html\n",
            "[ria.ru] Загружаем https://ria.ru/20251009/tramp-2047395757.html\n",
            "[ria.ru] Успешно: 284 слов\n",
            "[ria.ru] ✅ Добавлено: Россия и Сербия вышли на путь сотрудничества в кино, заявил ... (284 слов). Итого: 284\n"
          ]
        },
        {
          "data": {
            "text/html": [
              "\n",
              "            <div class=\"spinner-container\">\n",
              "                <div class=\"spinner\" id=\"7ee28e1e-0586-4d4f-a0f7-10a9e0e9d8e0-circle\"></div>\n",
              "                <div class=\"spinner-text\" id=\"7ee28e1e-0586-4d4f-a0f7-10a9e0e9d8e0-text\">Initializing Chromedriver</div>\n",
              "            </div>\n",
              "            <style>\n",
              "                @keyframes spin {\n",
              "                    from { transform: rotate(0deg); }\n",
              "                    to { transform: rotate(360deg); }\n",
              "                }\n",
              "\n",
              "                .spinner-container {\n",
              "                    display: flex;\n",
              "                    align-items: center;\n",
              "                    margin-bottom: 3px;\n",
              "                }\n",
              "\n",
              "                .spinner {\n",
              "                    border: 3px solid rgba(0, 0, 0, 0.1);\n",
              "                    border-left-color: lightblue;\n",
              "                    border-radius: 50%;\n",
              "                    width: 12px;\n",
              "                    height: 12px;\n",
              "                    animation: spin 1s linear infinite;\n",
              "                }\n",
              "\n",
              "                .spinner-text {\n",
              "                    padding-left: 6px;\n",
              "                }\n",
              "            </style>\n",
              "        "
            ],
            "text/plain": [
              "<IPython.core.display.HTML object>"
            ]
          },
          "metadata": {},
          "output_type": "display_data"
        },
        {
          "data": {
            "application/javascript": "\n            const element = document.getElementById(\"7ee28e1e-0586-4d4f-a0f7-10a9e0e9d8e0-circle\");\n            element.style.border = \"3px solid limegreen\";\n            element.style.animation = \"none\";\n\n            const text = document.getElementById(\"7ee28e1e-0586-4d4f-a0f7-10a9e0e9d8e0-text\");\n            text.innerText = \"Initialized Chromedriver\";\n        ",
            "text/plain": [
              "<IPython.core.display.Javascript object>"
            ]
          },
          "metadata": {},
          "output_type": "display_data"
        },
        {
          "name": "stdout",
          "output_type": "stream",
          "text": [
            "[ria.ru] Успешно: 284 слов\n",
            "[ria.ru] Загружаем https://ria.ru/20251009/tramp-2047395757.html\n"
          ]
        },
        {
          "data": {
            "text/html": [
              "\n",
              "            <div class=\"spinner-container\">\n",
              "                <div class=\"spinner\" id=\"f4f7029d-4baf-4f1e-8bc7-88aa31a8122e-circle\"></div>\n",
              "                <div class=\"spinner-text\" id=\"f4f7029d-4baf-4f1e-8bc7-88aa31a8122e-text\">Initializing Chromedriver</div>\n",
              "            </div>\n",
              "            <style>\n",
              "                @keyframes spin {\n",
              "                    from { transform: rotate(0deg); }\n",
              "                    to { transform: rotate(360deg); }\n",
              "                }\n",
              "\n",
              "                .spinner-container {\n",
              "                    display: flex;\n",
              "                    align-items: center;\n",
              "                    margin-bottom: 3px;\n",
              "                }\n",
              "\n",
              "                .spinner {\n",
              "                    border: 3px solid rgba(0, 0, 0, 0.1);\n",
              "                    border-left-color: lightblue;\n",
              "                    border-radius: 50%;\n",
              "                    width: 12px;\n",
              "                    height: 12px;\n",
              "                    animation: spin 1s linear infinite;\n",
              "                }\n",
              "\n",
              "                .spinner-text {\n",
              "                    padding-left: 6px;\n",
              "                }\n",
              "            </style>\n",
              "        "
            ],
            "text/plain": [
              "<IPython.core.display.HTML object>"
            ]
          },
          "metadata": {},
          "output_type": "display_data"
        },
        {
          "name": "stdout",
          "output_type": "stream",
          "text": [
            "[ria.ru] ✅ Добавлено: Россия и Сербия вышли на путь сотрудничества в кино, заявил ... (284 слов). Итого: 568\n"
          ]
        },
        {
          "data": {
            "application/javascript": "\n            const element = document.getElementById(\"f4f7029d-4baf-4f1e-8bc7-88aa31a8122e-circle\");\n            element.style.border = \"3px solid limegreen\";\n            element.style.animation = \"none\";\n\n            const text = document.getElementById(\"f4f7029d-4baf-4f1e-8bc7-88aa31a8122e-text\");\n            text.innerText = \"Initialized Chromedriver\";\n        ",
            "text/plain": [
              "<IPython.core.display.Javascript object>"
            ]
          },
          "metadata": {},
          "output_type": "display_data"
        },
        {
          "name": "stdout",
          "output_type": "stream",
          "text": [
            "[ria.ru] Загружаем https://ria.ru/20251009/tramp-2047395757.html\n",
            "[ria.ru] Успешно: 284 слов\n",
            "[ria.ru] ✅ Добавлено: Россия и Сербия вышли на путь сотрудничества в кино, заявил ... (284 слов). Итого: 852\n"
          ]
        },
        {
          "data": {
            "text/html": [
              "\n",
              "            <div class=\"spinner-container\">\n",
              "                <div class=\"spinner\" id=\"fa5f64e9-3caf-48c9-b875-ad0719512436-circle\"></div>\n",
              "                <div class=\"spinner-text\" id=\"fa5f64e9-3caf-48c9-b875-ad0719512436-text\">Initializing Chromedriver</div>\n",
              "            </div>\n",
              "            <style>\n",
              "                @keyframes spin {\n",
              "                    from { transform: rotate(0deg); }\n",
              "                    to { transform: rotate(360deg); }\n",
              "                }\n",
              "\n",
              "                .spinner-container {\n",
              "                    display: flex;\n",
              "                    align-items: center;\n",
              "                    margin-bottom: 3px;\n",
              "                }\n",
              "\n",
              "                .spinner {\n",
              "                    border: 3px solid rgba(0, 0, 0, 0.1);\n",
              "                    border-left-color: lightblue;\n",
              "                    border-radius: 50%;\n",
              "                    width: 12px;\n",
              "                    height: 12px;\n",
              "                    animation: spin 1s linear infinite;\n",
              "                }\n",
              "\n",
              "                .spinner-text {\n",
              "                    padding-left: 6px;\n",
              "                }\n",
              "            </style>\n",
              "        "
            ],
            "text/plain": [
              "<IPython.core.display.HTML object>"
            ]
          },
          "metadata": {},
          "output_type": "display_data"
        },
        {
          "data": {
            "application/javascript": "\n            const element = document.getElementById(\"fa5f64e9-3caf-48c9-b875-ad0719512436-circle\");\n            element.style.border = \"3px solid limegreen\";\n            element.style.animation = \"none\";\n\n            const text = document.getElementById(\"fa5f64e9-3caf-48c9-b875-ad0719512436-text\");\n            text.innerText = \"Initialized Chromedriver\";\n        ",
            "text/plain": [
              "<IPython.core.display.Javascript object>"
            ]
          },
          "metadata": {},
          "output_type": "display_data"
        },
        {
          "name": "stdout",
          "output_type": "stream",
          "text": [
            "[ria.ru] Успешно: 77 слов\n",
            "[ria.ru] ✅ Добавлено: США хотят перенять у Финляндии опыт строительства ледоколов,... (77 слов). Итого: 929\n",
            "[ria.ru] Загружаем https://ria.ru/20251009/stubb-2047395617.html\n"
          ]
        },
        {
          "data": {
            "text/html": [
              "\n",
              "            <div class=\"spinner-container\">\n",
              "                <div class=\"spinner\" id=\"cadd5f7e-82a8-4300-9ef0-c3a087289ae7-circle\"></div>\n",
              "                <div class=\"spinner-text\" id=\"cadd5f7e-82a8-4300-9ef0-c3a087289ae7-text\">Initializing Chromedriver</div>\n",
              "            </div>\n",
              "            <style>\n",
              "                @keyframes spin {\n",
              "                    from { transform: rotate(0deg); }\n",
              "                    to { transform: rotate(360deg); }\n",
              "                }\n",
              "\n",
              "                .spinner-container {\n",
              "                    display: flex;\n",
              "                    align-items: center;\n",
              "                    margin-bottom: 3px;\n",
              "                }\n",
              "\n",
              "                .spinner {\n",
              "                    border: 3px solid rgba(0, 0, 0, 0.1);\n",
              "                    border-left-color: lightblue;\n",
              "                    border-radius: 50%;\n",
              "                    width: 12px;\n",
              "                    height: 12px;\n",
              "                    animation: spin 1s linear infinite;\n",
              "                }\n",
              "\n",
              "                .spinner-text {\n",
              "                    padding-left: 6px;\n",
              "                }\n",
              "            </style>\n",
              "        "
            ],
            "text/plain": [
              "<IPython.core.display.HTML object>"
            ]
          },
          "metadata": {},
          "output_type": "display_data"
        },
        {
          "data": {
            "application/javascript": "\n            const element = document.getElementById(\"cadd5f7e-82a8-4300-9ef0-c3a087289ae7-circle\");\n            element.style.border = \"3px solid limegreen\";\n            element.style.animation = \"none\";\n\n            const text = document.getElementById(\"cadd5f7e-82a8-4300-9ef0-c3a087289ae7-text\");\n            text.innerText = \"Initialized Chromedriver\";\n        ",
            "text/plain": [
              "<IPython.core.display.Javascript object>"
            ]
          },
          "metadata": {},
          "output_type": "display_data"
        },
        {
          "name": "stdout",
          "output_type": "stream",
          "text": [
            "[ria.ru] Загружаем https://ria.ru/20251009/stubb-2047395617.html\n",
            "[ria.ru] Успешно: 77 слов\n",
            "[ria.ru] ✅ Добавлено: США хотят перенять у Финляндии опыт строительства ледоколов,... (77 слов). Итого: 1006\n"
          ]
        },
        {
          "data": {
            "text/html": [
              "\n",
              "            <div class=\"spinner-container\">\n",
              "                <div class=\"spinner\" id=\"dca59815-5f0a-45e2-8bf7-d9d7c4a3d24c-circle\"></div>\n",
              "                <div class=\"spinner-text\" id=\"dca59815-5f0a-45e2-8bf7-d9d7c4a3d24c-text\">Initializing Chromedriver</div>\n",
              "            </div>\n",
              "            <style>\n",
              "                @keyframes spin {\n",
              "                    from { transform: rotate(0deg); }\n",
              "                    to { transform: rotate(360deg); }\n",
              "                }\n",
              "\n",
              "                .spinner-container {\n",
              "                    display: flex;\n",
              "                    align-items: center;\n",
              "                    margin-bottom: 3px;\n",
              "                }\n",
              "\n",
              "                .spinner {\n",
              "                    border: 3px solid rgba(0, 0, 0, 0.1);\n",
              "                    border-left-color: lightblue;\n",
              "                    border-radius: 50%;\n",
              "                    width: 12px;\n",
              "                    height: 12px;\n",
              "                    animation: spin 1s linear infinite;\n",
              "                }\n",
              "\n",
              "                .spinner-text {\n",
              "                    padding-left: 6px;\n",
              "                }\n",
              "            </style>\n",
              "        "
            ],
            "text/plain": [
              "<IPython.core.display.HTML object>"
            ]
          },
          "metadata": {},
          "output_type": "display_data"
        },
        {
          "data": {
            "application/javascript": "\n            const element = document.getElementById(\"dca59815-5f0a-45e2-8bf7-d9d7c4a3d24c-circle\");\n            element.style.border = \"3px solid limegreen\";\n            element.style.animation = \"none\";\n\n            const text = document.getElementById(\"dca59815-5f0a-45e2-8bf7-d9d7c4a3d24c-text\");\n            text.innerText = \"Initialized Chromedriver\";\n        ",
            "text/plain": [
              "<IPython.core.display.Javascript object>"
            ]
          },
          "metadata": {},
          "output_type": "display_data"
        },
        {
          "name": "stdout",
          "output_type": "stream",
          "text": [
            "[ria.ru] Загружаем https://ria.ru/20251009/stubb-2047395617.html\n",
            "[ria.ru] Успешно: 77 слов\n",
            "[ria.ru] ✅ Добавлено: США хотят перенять у Финляндии опыт строительства ледоколов,... (77 слов). Итого: 1083\n"
          ]
        },
        {
          "data": {
            "text/html": [
              "\n",
              "            <div class=\"spinner-container\">\n",
              "                <div class=\"spinner\" id=\"098f4e39-f02b-4564-bc43-b9846a97249d-circle\"></div>\n",
              "                <div class=\"spinner-text\" id=\"098f4e39-f02b-4564-bc43-b9846a97249d-text\">Initializing Chromedriver</div>\n",
              "            </div>\n",
              "            <style>\n",
              "                @keyframes spin {\n",
              "                    from { transform: rotate(0deg); }\n",
              "                    to { transform: rotate(360deg); }\n",
              "                }\n",
              "\n",
              "                .spinner-container {\n",
              "                    display: flex;\n",
              "                    align-items: center;\n",
              "                    margin-bottom: 3px;\n",
              "                }\n",
              "\n",
              "                .spinner {\n",
              "                    border: 3px solid rgba(0, 0, 0, 0.1);\n",
              "                    border-left-color: lightblue;\n",
              "                    border-radius: 50%;\n",
              "                    width: 12px;\n",
              "                    height: 12px;\n",
              "                    animation: spin 1s linear infinite;\n",
              "                }\n",
              "\n",
              "                .spinner-text {\n",
              "                    padding-left: 6px;\n",
              "                }\n",
              "            </style>\n",
              "        "
            ],
            "text/plain": [
              "<IPython.core.display.HTML object>"
            ]
          },
          "metadata": {},
          "output_type": "display_data"
        },
        {
          "data": {
            "application/javascript": "\n            const element = document.getElementById(\"098f4e39-f02b-4564-bc43-b9846a97249d-circle\");\n            element.style.border = \"3px solid limegreen\";\n            element.style.animation = \"none\";\n\n            const text = document.getElementById(\"098f4e39-f02b-4564-bc43-b9846a97249d-text\");\n            text.innerText = \"Initialized Chromedriver\";\n        ",
            "text/plain": [
              "<IPython.core.display.Javascript object>"
            ]
          },
          "metadata": {},
          "output_type": "display_data"
        },
        {
          "name": "stdout",
          "output_type": "stream",
          "text": [
            "[ria.ru] Успешно: 56 слов\n"
          ]
        },
        {
          "data": {
            "text/html": [
              "\n",
              "            <div class=\"spinner-container\">\n",
              "                <div class=\"spinner\" id=\"ae779a50-010e-4c93-9bc2-1655be29b573-circle\"></div>\n",
              "                <div class=\"spinner-text\" id=\"ae779a50-010e-4c93-9bc2-1655be29b573-text\">Initializing Chromedriver</div>\n",
              "            </div>\n",
              "            <style>\n",
              "                @keyframes spin {\n",
              "                    from { transform: rotate(0deg); }\n",
              "                    to { transform: rotate(360deg); }\n",
              "                }\n",
              "\n",
              "                .spinner-container {\n",
              "                    display: flex;\n",
              "                    align-items: center;\n",
              "                    margin-bottom: 3px;\n",
              "                }\n",
              "\n",
              "                .spinner {\n",
              "                    border: 3px solid rgba(0, 0, 0, 0.1);\n",
              "                    border-left-color: lightblue;\n",
              "                    border-radius: 50%;\n",
              "                    width: 12px;\n",
              "                    height: 12px;\n",
              "                    animation: spin 1s linear infinite;\n",
              "                }\n",
              "\n",
              "                .spinner-text {\n",
              "                    padding-left: 6px;\n",
              "                }\n",
              "            </style>\n",
              "        "
            ],
            "text/plain": [
              "<IPython.core.display.HTML object>"
            ]
          },
          "metadata": {},
          "output_type": "display_data"
        },
        {
          "name": "stdout",
          "output_type": "stream",
          "text": [
            "[ria.ru] ✅ Добавлено: Президент Финляндии прибыл в Белый дом на встречу с Трампом ... (56 слов). Итого: 1139\n",
            "[ria.ru] Загружаем https://ria.ru/20251009/tramp-2047395511.html\n"
          ]
        },
        {
          "data": {
            "application/javascript": "\n            const element = document.getElementById(\"ae779a50-010e-4c93-9bc2-1655be29b573-circle\");\n            element.style.border = \"3px solid limegreen\";\n            element.style.animation = \"none\";\n\n            const text = document.getElementById(\"ae779a50-010e-4c93-9bc2-1655be29b573-text\");\n            text.innerText = \"Initialized Chromedriver\";\n        ",
            "text/plain": [
              "<IPython.core.display.Javascript object>"
            ]
          },
          "metadata": {},
          "output_type": "display_data"
        },
        {
          "name": "stdout",
          "output_type": "stream",
          "text": [
            "[ria.ru] Успешно: 56 слов\n",
            "[ria.ru] Загружаем https://ria.ru/20251009/tramp-2047395511.html\n",
            "[ria.ru] ✅ Добавлено: Президент Финляндии прибыл в Белый дом на встречу с Трампом ... (56 слов). Итого: 1195\n"
          ]
        },
        {
          "data": {
            "text/html": [
              "\n",
              "            <div class=\"spinner-container\">\n",
              "                <div class=\"spinner\" id=\"4ea34abd-f988-402f-9075-15c28fe695c7-circle\"></div>\n",
              "                <div class=\"spinner-text\" id=\"4ea34abd-f988-402f-9075-15c28fe695c7-text\">Initializing Chromedriver</div>\n",
              "            </div>\n",
              "            <style>\n",
              "                @keyframes spin {\n",
              "                    from { transform: rotate(0deg); }\n",
              "                    to { transform: rotate(360deg); }\n",
              "                }\n",
              "\n",
              "                .spinner-container {\n",
              "                    display: flex;\n",
              "                    align-items: center;\n",
              "                    margin-bottom: 3px;\n",
              "                }\n",
              "\n",
              "                .spinner {\n",
              "                    border: 3px solid rgba(0, 0, 0, 0.1);\n",
              "                    border-left-color: lightblue;\n",
              "                    border-radius: 50%;\n",
              "                    width: 12px;\n",
              "                    height: 12px;\n",
              "                    animation: spin 1s linear infinite;\n",
              "                }\n",
              "\n",
              "                .spinner-text {\n",
              "                    padding-left: 6px;\n",
              "                }\n",
              "            </style>\n",
              "        "
            ],
            "text/plain": [
              "<IPython.core.display.HTML object>"
            ]
          },
          "metadata": {},
          "output_type": "display_data"
        },
        {
          "data": {
            "application/javascript": "\n            const element = document.getElementById(\"4ea34abd-f988-402f-9075-15c28fe695c7-circle\");\n            element.style.border = \"3px solid limegreen\";\n            element.style.animation = \"none\";\n\n            const text = document.getElementById(\"4ea34abd-f988-402f-9075-15c28fe695c7-text\");\n            text.innerText = \"Initialized Chromedriver\";\n        ",
            "text/plain": [
              "<IPython.core.display.Javascript object>"
            ]
          },
          "metadata": {},
          "output_type": "display_data"
        },
        {
          "name": "stdout",
          "output_type": "stream",
          "text": [
            "[ria.ru] Загружаем https://ria.ru/20251009/tramp-2047395511.html\n",
            "[ria.ru] Успешно: 56 слов\n",
            "[ria.ru] ✅ Добавлено: Президент Финляндии прибыл в Белый дом на встречу с Трампом ... (56 слов). Итого: 1251\n"
          ]
        },
        {
          "data": {
            "text/html": [
              "\n",
              "            <div class=\"spinner-container\">\n",
              "                <div class=\"spinner\" id=\"fd861757-caf2-4f4a-ad7d-de5e84ad805a-circle\"></div>\n",
              "                <div class=\"spinner-text\" id=\"fd861757-caf2-4f4a-ad7d-de5e84ad805a-text\">Initializing Chromedriver</div>\n",
              "            </div>\n",
              "            <style>\n",
              "                @keyframes spin {\n",
              "                    from { transform: rotate(0deg); }\n",
              "                    to { transform: rotate(360deg); }\n",
              "                }\n",
              "\n",
              "                .spinner-container {\n",
              "                    display: flex;\n",
              "                    align-items: center;\n",
              "                    margin-bottom: 3px;\n",
              "                }\n",
              "\n",
              "                .spinner {\n",
              "                    border: 3px solid rgba(0, 0, 0, 0.1);\n",
              "                    border-left-color: lightblue;\n",
              "                    border-radius: 50%;\n",
              "                    width: 12px;\n",
              "                    height: 12px;\n",
              "                    animation: spin 1s linear infinite;\n",
              "                }\n",
              "\n",
              "                .spinner-text {\n",
              "                    padding-left: 6px;\n",
              "                }\n",
              "            </style>\n",
              "        "
            ],
            "text/plain": [
              "<IPython.core.display.HTML object>"
            ]
          },
          "metadata": {},
          "output_type": "display_data"
        },
        {
          "data": {
            "application/javascript": "\n            const element = document.getElementById(\"fd861757-caf2-4f4a-ad7d-de5e84ad805a-circle\");\n            element.style.border = \"3px solid limegreen\";\n            element.style.animation = \"none\";\n\n            const text = document.getElementById(\"fd861757-caf2-4f4a-ad7d-de5e84ad805a-text\");\n            text.innerText = \"Initialized Chromedriver\";\n        ",
            "text/plain": [
              "<IPython.core.display.Javascript object>"
            ]
          },
          "metadata": {},
          "output_type": "display_data"
        },
        {
          "name": "stdout",
          "output_type": "stream",
          "text": [
            "[ria.ru] Загружаем https://ria.ru/20251009/ssha-2047394772.html\n",
            "[ria.ru] Успешно: 60 слов\n",
            "[ria.ru] ✅ Добавлено: Трамп сообщил, что США купят ледоколы у Финляндии - РИА Ново... (60 слов). Итого: 1311\n"
          ]
        },
        {
          "data": {
            "text/html": [
              "\n",
              "            <div class=\"spinner-container\">\n",
              "                <div class=\"spinner\" id=\"190aa786-3486-4430-85dc-df9b79a9e5f5-circle\"></div>\n",
              "                <div class=\"spinner-text\" id=\"190aa786-3486-4430-85dc-df9b79a9e5f5-text\">Initializing Chromedriver</div>\n",
              "            </div>\n",
              "            <style>\n",
              "                @keyframes spin {\n",
              "                    from { transform: rotate(0deg); }\n",
              "                    to { transform: rotate(360deg); }\n",
              "                }\n",
              "\n",
              "                .spinner-container {\n",
              "                    display: flex;\n",
              "                    align-items: center;\n",
              "                    margin-bottom: 3px;\n",
              "                }\n",
              "\n",
              "                .spinner {\n",
              "                    border: 3px solid rgba(0, 0, 0, 0.1);\n",
              "                    border-left-color: lightblue;\n",
              "                    border-radius: 50%;\n",
              "                    width: 12px;\n",
              "                    height: 12px;\n",
              "                    animation: spin 1s linear infinite;\n",
              "                }\n",
              "\n",
              "                .spinner-text {\n",
              "                    padding-left: 6px;\n",
              "                }\n",
              "            </style>\n",
              "        "
            ],
            "text/plain": [
              "<IPython.core.display.HTML object>"
            ]
          },
          "metadata": {},
          "output_type": "display_data"
        },
        {
          "name": "stdout",
          "output_type": "stream",
          "text": [
            "[ria.ru] Успешно: 60 слов\n",
            "[ria.ru] ✅ Добавлено: Трамп сообщил, что США купят ледоколы у Финляндии - РИА Ново... (60 слов). Итого: 1371\n"
          ]
        },
        {
          "data": {
            "text/html": [
              "\n",
              "            <div class=\"spinner-container\">\n",
              "                <div class=\"spinner\" id=\"4c3e00ca-a864-4228-bc45-0e26b0feed2e-circle\"></div>\n",
              "                <div class=\"spinner-text\" id=\"4c3e00ca-a864-4228-bc45-0e26b0feed2e-text\">Initializing Chromedriver</div>\n",
              "            </div>\n",
              "            <style>\n",
              "                @keyframes spin {\n",
              "                    from { transform: rotate(0deg); }\n",
              "                    to { transform: rotate(360deg); }\n",
              "                }\n",
              "\n",
              "                .spinner-container {\n",
              "                    display: flex;\n",
              "                    align-items: center;\n",
              "                    margin-bottom: 3px;\n",
              "                }\n",
              "\n",
              "                .spinner {\n",
              "                    border: 3px solid rgba(0, 0, 0, 0.1);\n",
              "                    border-left-color: lightblue;\n",
              "                    border-radius: 50%;\n",
              "                    width: 12px;\n",
              "                    height: 12px;\n",
              "                    animation: spin 1s linear infinite;\n",
              "                }\n",
              "\n",
              "                .spinner-text {\n",
              "                    padding-left: 6px;\n",
              "                }\n",
              "            </style>\n",
              "        "
            ],
            "text/plain": [
              "<IPython.core.display.HTML object>"
            ]
          },
          "metadata": {},
          "output_type": "display_data"
        },
        {
          "data": {
            "application/javascript": "\n            const element = document.getElementById(\"190aa786-3486-4430-85dc-df9b79a9e5f5-circle\");\n            element.style.border = \"3px solid limegreen\";\n            element.style.animation = \"none\";\n\n            const text = document.getElementById(\"190aa786-3486-4430-85dc-df9b79a9e5f5-text\");\n            text.innerText = \"Initialized Chromedriver\";\n        ",
            "text/plain": [
              "<IPython.core.display.Javascript object>"
            ]
          },
          "metadata": {},
          "output_type": "display_data"
        },
        {
          "name": "stdout",
          "output_type": "stream",
          "text": [
            "[ria.ru] Загружаем https://ria.ru/20251009/ssha-2047394772.html\n"
          ]
        },
        {
          "data": {
            "application/javascript": "\n            const element = document.getElementById(\"4c3e00ca-a864-4228-bc45-0e26b0feed2e-circle\");\n            element.style.border = \"3px solid limegreen\";\n            element.style.animation = \"none\";\n\n            const text = document.getElementById(\"4c3e00ca-a864-4228-bc45-0e26b0feed2e-text\");\n            text.innerText = \"Initialized Chromedriver\";\n        ",
            "text/plain": [
              "<IPython.core.display.Javascript object>"
            ]
          },
          "metadata": {},
          "output_type": "display_data"
        },
        {
          "name": "stdout",
          "output_type": "stream",
          "text": [
            "[ria.ru] Загружаем https://ria.ru/20251009/ssha-2047394772.html\n",
            "[ria.ru] Успешно: 60 слов\n",
            "[ria.ru] ✅ Добавлено: Трамп сообщил, что США купят ледоколы у Финляндии - РИА Ново... (60 слов). Итого: 1431\n"
          ]
        },
        {
          "data": {
            "text/html": [
              "\n",
              "            <div class=\"spinner-container\">\n",
              "                <div class=\"spinner\" id=\"df7d8725-3e5a-461b-8d64-2ab79db0bd2a-circle\"></div>\n",
              "                <div class=\"spinner-text\" id=\"df7d8725-3e5a-461b-8d64-2ab79db0bd2a-text\">Initializing Chromedriver</div>\n",
              "            </div>\n",
              "            <style>\n",
              "                @keyframes spin {\n",
              "                    from { transform: rotate(0deg); }\n",
              "                    to { transform: rotate(360deg); }\n",
              "                }\n",
              "\n",
              "                .spinner-container {\n",
              "                    display: flex;\n",
              "                    align-items: center;\n",
              "                    margin-bottom: 3px;\n",
              "                }\n",
              "\n",
              "                .spinner {\n",
              "                    border: 3px solid rgba(0, 0, 0, 0.1);\n",
              "                    border-left-color: lightblue;\n",
              "                    border-radius: 50%;\n",
              "                    width: 12px;\n",
              "                    height: 12px;\n",
              "                    animation: spin 1s linear infinite;\n",
              "                }\n",
              "\n",
              "                .spinner-text {\n",
              "                    padding-left: 6px;\n",
              "                }\n",
              "            </style>\n",
              "        "
            ],
            "text/plain": [
              "<IPython.core.display.HTML object>"
            ]
          },
          "metadata": {},
          "output_type": "display_data"
        },
        {
          "data": {
            "application/javascript": "\n            const element = document.getElementById(\"df7d8725-3e5a-461b-8d64-2ab79db0bd2a-circle\");\n            element.style.border = \"3px solid limegreen\";\n            element.style.animation = \"none\";\n\n            const text = document.getElementById(\"df7d8725-3e5a-461b-8d64-2ab79db0bd2a-text\");\n            text.innerText = \"Initialized Chromedriver\";\n        ",
            "text/plain": [
              "<IPython.core.display.Javascript object>"
            ]
          },
          "metadata": {},
          "output_type": "display_data"
        },
        {
          "name": "stdout",
          "output_type": "stream",
          "text": [
            "[ria.ru] Загружаем https://ria.ru/20251009/rossija-2047394624.html\n",
            "[ria.ru] Успешно: 195 слов\n",
            "[ria.ru] ✅ Добавлено: Фидан: США, Турция, Катар и Египет создадут посредническую г... (195 слов). Итого: 1626\n"
          ]
        },
        {
          "data": {
            "text/html": [
              "\n",
              "            <div class=\"spinner-container\">\n",
              "                <div class=\"spinner\" id=\"385b0410-0a35-4a88-8746-df721e44d331-circle\"></div>\n",
              "                <div class=\"spinner-text\" id=\"385b0410-0a35-4a88-8746-df721e44d331-text\">Initializing Chromedriver</div>\n",
              "            </div>\n",
              "            <style>\n",
              "                @keyframes spin {\n",
              "                    from { transform: rotate(0deg); }\n",
              "                    to { transform: rotate(360deg); }\n",
              "                }\n",
              "\n",
              "                .spinner-container {\n",
              "                    display: flex;\n",
              "                    align-items: center;\n",
              "                    margin-bottom: 3px;\n",
              "                }\n",
              "\n",
              "                .spinner {\n",
              "                    border: 3px solid rgba(0, 0, 0, 0.1);\n",
              "                    border-left-color: lightblue;\n",
              "                    border-radius: 50%;\n",
              "                    width: 12px;\n",
              "                    height: 12px;\n",
              "                    animation: spin 1s linear infinite;\n",
              "                }\n",
              "\n",
              "                .spinner-text {\n",
              "                    padding-left: 6px;\n",
              "                }\n",
              "            </style>\n",
              "        "
            ],
            "text/plain": [
              "<IPython.core.display.HTML object>"
            ]
          },
          "metadata": {},
          "output_type": "display_data"
        },
        {
          "data": {
            "application/javascript": "\n            const element = document.getElementById(\"385b0410-0a35-4a88-8746-df721e44d331-circle\");\n            element.style.border = \"3px solid limegreen\";\n            element.style.animation = \"none\";\n\n            const text = document.getElementById(\"385b0410-0a35-4a88-8746-df721e44d331-text\");\n            text.innerText = \"Initialized Chromedriver\";\n        ",
            "text/plain": [
              "<IPython.core.display.Javascript object>"
            ]
          },
          "metadata": {},
          "output_type": "display_data"
        },
        {
          "name": "stdout",
          "output_type": "stream",
          "text": [
            "[ria.ru] Успешно: 195 слов\n",
            "[ria.ru] Загружаем https://ria.ru/20251009/rossija-2047394624.html\n",
            "[ria.ru] ✅ Добавлено: Фидан: США, Турция, Катар и Египет создадут посредническую г... (195 слов). Итого: 1821\n"
          ]
        },
        {
          "data": {
            "text/html": [
              "\n",
              "            <div class=\"spinner-container\">\n",
              "                <div class=\"spinner\" id=\"4303910f-66fe-48c3-833f-a5a879768c86-circle\"></div>\n",
              "                <div class=\"spinner-text\" id=\"4303910f-66fe-48c3-833f-a5a879768c86-text\">Initializing Chromedriver</div>\n",
              "            </div>\n",
              "            <style>\n",
              "                @keyframes spin {\n",
              "                    from { transform: rotate(0deg); }\n",
              "                    to { transform: rotate(360deg); }\n",
              "                }\n",
              "\n",
              "                .spinner-container {\n",
              "                    display: flex;\n",
              "                    align-items: center;\n",
              "                    margin-bottom: 3px;\n",
              "                }\n",
              "\n",
              "                .spinner {\n",
              "                    border: 3px solid rgba(0, 0, 0, 0.1);\n",
              "                    border-left-color: lightblue;\n",
              "                    border-radius: 50%;\n",
              "                    width: 12px;\n",
              "                    height: 12px;\n",
              "                    animation: spin 1s linear infinite;\n",
              "                }\n",
              "\n",
              "                .spinner-text {\n",
              "                    padding-left: 6px;\n",
              "                }\n",
              "            </style>\n",
              "        "
            ],
            "text/plain": [
              "<IPython.core.display.HTML object>"
            ]
          },
          "metadata": {},
          "output_type": "display_data"
        },
        {
          "data": {
            "application/javascript": "\n            const element = document.getElementById(\"4303910f-66fe-48c3-833f-a5a879768c86-circle\");\n            element.style.border = \"3px solid limegreen\";\n            element.style.animation = \"none\";\n\n            const text = document.getElementById(\"4303910f-66fe-48c3-833f-a5a879768c86-text\");\n            text.innerText = \"Initialized Chromedriver\";\n        ",
            "text/plain": [
              "<IPython.core.display.Javascript object>"
            ]
          },
          "metadata": {},
          "output_type": "display_data"
        },
        {
          "name": "stdout",
          "output_type": "stream",
          "text": [
            "[ria.ru] Успешно: 195 слов\n",
            "[ria.ru] ✅ Добавлено: Фидан: США, Турция, Катар и Египет создадут посредническую г... (195 слов). Итого: 2016\n"
          ]
        },
        {
          "data": {
            "text/html": [
              "\n",
              "            <div class=\"spinner-container\">\n",
              "                <div class=\"spinner\" id=\"951b86cf-b54d-4e6e-9dfd-39dcc60e6d39-circle\"></div>\n",
              "                <div class=\"spinner-text\" id=\"951b86cf-b54d-4e6e-9dfd-39dcc60e6d39-text\">Initializing Chromedriver</div>\n",
              "            </div>\n",
              "            <style>\n",
              "                @keyframes spin {\n",
              "                    from { transform: rotate(0deg); }\n",
              "                    to { transform: rotate(360deg); }\n",
              "                }\n",
              "\n",
              "                .spinner-container {\n",
              "                    display: flex;\n",
              "                    align-items: center;\n",
              "                    margin-bottom: 3px;\n",
              "                }\n",
              "\n",
              "                .spinner {\n",
              "                    border: 3px solid rgba(0, 0, 0, 0.1);\n",
              "                    border-left-color: lightblue;\n",
              "                    border-radius: 50%;\n",
              "                    width: 12px;\n",
              "                    height: 12px;\n",
              "                    animation: spin 1s linear infinite;\n",
              "                }\n",
              "\n",
              "                .spinner-text {\n",
              "                    padding-left: 6px;\n",
              "                }\n",
              "            </style>\n",
              "        "
            ],
            "text/plain": [
              "<IPython.core.display.HTML object>"
            ]
          },
          "metadata": {},
          "output_type": "display_data"
        },
        {
          "name": "stdout",
          "output_type": "stream",
          "text": [
            "[ria.ru] Загружаем https://ria.ru/20251009/rossija-2047394624.html\n"
          ]
        },
        {
          "data": {
            "application/javascript": "\n            const element = document.getElementById(\"951b86cf-b54d-4e6e-9dfd-39dcc60e6d39-circle\");\n            element.style.border = \"3px solid limegreen\";\n            element.style.animation = \"none\";\n\n            const text = document.getElementById(\"951b86cf-b54d-4e6e-9dfd-39dcc60e6d39-text\");\n            text.innerText = \"Initialized Chromedriver\";\n        ",
            "text/plain": [
              "<IPython.core.display.Javascript object>"
            ]
          },
          "metadata": {},
          "output_type": "display_data"
        },
        {
          "name": "stdout",
          "output_type": "stream",
          "text": [
            "[ria.ru] Загружаем https://ria.ru/20251009/slutskiy-2047394395.html\n",
            "[ria.ru] Успешно: 78 слов\n",
            "[ria.ru] ✅ Добавлено: В России разработали модель мониторинга цен на бензин - РИА ... (78 слов). Итого: 2094\n"
          ]
        },
        {
          "data": {
            "text/html": [
              "\n",
              "            <div class=\"spinner-container\">\n",
              "                <div class=\"spinner\" id=\"094a864f-b67b-49d6-a186-3c677c191b78-circle\"></div>\n",
              "                <div class=\"spinner-text\" id=\"094a864f-b67b-49d6-a186-3c677c191b78-text\">Initializing Chromedriver</div>\n",
              "            </div>\n",
              "            <style>\n",
              "                @keyframes spin {\n",
              "                    from { transform: rotate(0deg); }\n",
              "                    to { transform: rotate(360deg); }\n",
              "                }\n",
              "\n",
              "                .spinner-container {\n",
              "                    display: flex;\n",
              "                    align-items: center;\n",
              "                    margin-bottom: 3px;\n",
              "                }\n",
              "\n",
              "                .spinner {\n",
              "                    border: 3px solid rgba(0, 0, 0, 0.1);\n",
              "                    border-left-color: lightblue;\n",
              "                    border-radius: 50%;\n",
              "                    width: 12px;\n",
              "                    height: 12px;\n",
              "                    animation: spin 1s linear infinite;\n",
              "                }\n",
              "\n",
              "                .spinner-text {\n",
              "                    padding-left: 6px;\n",
              "                }\n",
              "            </style>\n",
              "        "
            ],
            "text/plain": [
              "<IPython.core.display.HTML object>"
            ]
          },
          "metadata": {},
          "output_type": "display_data"
        },
        {
          "data": {
            "application/javascript": "\n            const element = document.getElementById(\"094a864f-b67b-49d6-a186-3c677c191b78-circle\");\n            element.style.border = \"3px solid limegreen\";\n            element.style.animation = \"none\";\n\n            const text = document.getElementById(\"094a864f-b67b-49d6-a186-3c677c191b78-text\");\n            text.innerText = \"Initialized Chromedriver\";\n        ",
            "text/plain": [
              "<IPython.core.display.Javascript object>"
            ]
          },
          "metadata": {},
          "output_type": "display_data"
        },
        {
          "name": "stdout",
          "output_type": "stream",
          "text": [
            "[ria.ru] Загружаем https://ria.ru/20251009/slutskiy-2047394395.html\n",
            "[ria.ru] Успешно: 78 слов\n",
            "[ria.ru] ✅ Добавлено: В России разработали модель мониторинга цен на бензин - РИА ... (78 слов). Итого: 2172\n"
          ]
        },
        {
          "data": {
            "text/html": [
              "\n",
              "            <div class=\"spinner-container\">\n",
              "                <div class=\"spinner\" id=\"3e3ece5b-a83b-4173-b3e1-2557cc38c665-circle\"></div>\n",
              "                <div class=\"spinner-text\" id=\"3e3ece5b-a83b-4173-b3e1-2557cc38c665-text\">Initializing Chromedriver</div>\n",
              "            </div>\n",
              "            <style>\n",
              "                @keyframes spin {\n",
              "                    from { transform: rotate(0deg); }\n",
              "                    to { transform: rotate(360deg); }\n",
              "                }\n",
              "\n",
              "                .spinner-container {\n",
              "                    display: flex;\n",
              "                    align-items: center;\n",
              "                    margin-bottom: 3px;\n",
              "                }\n",
              "\n",
              "                .spinner {\n",
              "                    border: 3px solid rgba(0, 0, 0, 0.1);\n",
              "                    border-left-color: lightblue;\n",
              "                    border-radius: 50%;\n",
              "                    width: 12px;\n",
              "                    height: 12px;\n",
              "                    animation: spin 1s linear infinite;\n",
              "                }\n",
              "\n",
              "                .spinner-text {\n",
              "                    padding-left: 6px;\n",
              "                }\n",
              "            </style>\n",
              "        "
            ],
            "text/plain": [
              "<IPython.core.display.HTML object>"
            ]
          },
          "metadata": {},
          "output_type": "display_data"
        },
        {
          "data": {
            "application/javascript": "\n            const element = document.getElementById(\"3e3ece5b-a83b-4173-b3e1-2557cc38c665-circle\");\n            element.style.border = \"3px solid limegreen\";\n            element.style.animation = \"none\";\n\n            const text = document.getElementById(\"3e3ece5b-a83b-4173-b3e1-2557cc38c665-text\");\n            text.innerText = \"Initialized Chromedriver\";\n        ",
            "text/plain": [
              "<IPython.core.display.Javascript object>"
            ]
          },
          "metadata": {},
          "output_type": "display_data"
        },
        {
          "name": "stdout",
          "output_type": "stream",
          "text": [
            "[ria.ru] Успешно: 78 слов\n",
            "[ria.ru] ✅ Добавлено: В России разработали модель мониторинга цен на бензин - РИА ... (78 слов). Итого: 2250\n"
          ]
        },
        {
          "data": {
            "text/html": [
              "\n",
              "            <div class=\"spinner-container\">\n",
              "                <div class=\"spinner\" id=\"347adc21-1746-4209-b981-13a1d441995c-circle\"></div>\n",
              "                <div class=\"spinner-text\" id=\"347adc21-1746-4209-b981-13a1d441995c-text\">Initializing Chromedriver</div>\n",
              "            </div>\n",
              "            <style>\n",
              "                @keyframes spin {\n",
              "                    from { transform: rotate(0deg); }\n",
              "                    to { transform: rotate(360deg); }\n",
              "                }\n",
              "\n",
              "                .spinner-container {\n",
              "                    display: flex;\n",
              "                    align-items: center;\n",
              "                    margin-bottom: 3px;\n",
              "                }\n",
              "\n",
              "                .spinner {\n",
              "                    border: 3px solid rgba(0, 0, 0, 0.1);\n",
              "                    border-left-color: lightblue;\n",
              "                    border-radius: 50%;\n",
              "                    width: 12px;\n",
              "                    height: 12px;\n",
              "                    animation: spin 1s linear infinite;\n",
              "                }\n",
              "\n",
              "                .spinner-text {\n",
              "                    padding-left: 6px;\n",
              "                }\n",
              "            </style>\n",
              "        "
            ],
            "text/plain": [
              "<IPython.core.display.HTML object>"
            ]
          },
          "metadata": {},
          "output_type": "display_data"
        },
        {
          "name": "stdout",
          "output_type": "stream",
          "text": [
            "[ria.ru] Загружаем https://ria.ru/20251009/slutskiy-2047394395.html\n"
          ]
        },
        {
          "data": {
            "application/javascript": "\n            const element = document.getElementById(\"347adc21-1746-4209-b981-13a1d441995c-circle\");\n            element.style.border = \"3px solid limegreen\";\n            element.style.animation = \"none\";\n\n            const text = document.getElementById(\"347adc21-1746-4209-b981-13a1d441995c-text\");\n            text.innerText = \"Initialized Chromedriver\";\n        ",
            "text/plain": [
              "<IPython.core.display.Javascript object>"
            ]
          },
          "metadata": {},
          "output_type": "display_data"
        },
        {
          "name": "stdout",
          "output_type": "stream",
          "text": [
            "[ria.ru] Загружаем https://ria.ru/20251009/serbiya-2047394083.html\n",
            "[ria.ru] Успешно: 242 слов\n",
            "[ria.ru] ✅ Добавлено: Слуцкий назвал Европарламент соучастником преступлений Зелен... (242 слов). Итого: 2492\n"
          ]
        },
        {
          "data": {
            "text/html": [
              "\n",
              "            <div class=\"spinner-container\">\n",
              "                <div class=\"spinner\" id=\"6a691260-346a-41de-b113-c1a5e1d2f699-circle\"></div>\n",
              "                <div class=\"spinner-text\" id=\"6a691260-346a-41de-b113-c1a5e1d2f699-text\">Initializing Chromedriver</div>\n",
              "            </div>\n",
              "            <style>\n",
              "                @keyframes spin {\n",
              "                    from { transform: rotate(0deg); }\n",
              "                    to { transform: rotate(360deg); }\n",
              "                }\n",
              "\n",
              "                .spinner-container {\n",
              "                    display: flex;\n",
              "                    align-items: center;\n",
              "                    margin-bottom: 3px;\n",
              "                }\n",
              "\n",
              "                .spinner {\n",
              "                    border: 3px solid rgba(0, 0, 0, 0.1);\n",
              "                    border-left-color: lightblue;\n",
              "                    border-radius: 50%;\n",
              "                    width: 12px;\n",
              "                    height: 12px;\n",
              "                    animation: spin 1s linear infinite;\n",
              "                }\n",
              "\n",
              "                .spinner-text {\n",
              "                    padding-left: 6px;\n",
              "                }\n",
              "            </style>\n",
              "        "
            ],
            "text/plain": [
              "<IPython.core.display.HTML object>"
            ]
          },
          "metadata": {},
          "output_type": "display_data"
        },
        {
          "data": {
            "application/javascript": "\n            const element = document.getElementById(\"6a691260-346a-41de-b113-c1a5e1d2f699-circle\");\n            element.style.border = \"3px solid limegreen\";\n            element.style.animation = \"none\";\n\n            const text = document.getElementById(\"6a691260-346a-41de-b113-c1a5e1d2f699-text\");\n            text.innerText = \"Initialized Chromedriver\";\n        ",
            "text/plain": [
              "<IPython.core.display.Javascript object>"
            ]
          },
          "metadata": {},
          "output_type": "display_data"
        },
        {
          "name": "stdout",
          "output_type": "stream",
          "text": [
            "[ria.ru] Загружаем https://ria.ru/20251009/serbiya-2047394083.html\n",
            "[ria.ru] Успешно: 242 слов\n",
            "[ria.ru] ✅ Добавлено: Слуцкий назвал Европарламент соучастником преступлений Зелен... (242 слов). Итого: 2734\n"
          ]
        },
        {
          "data": {
            "text/html": [
              "\n",
              "            <div class=\"spinner-container\">\n",
              "                <div class=\"spinner\" id=\"918140c6-19fb-462b-a789-d45a8158db41-circle\"></div>\n",
              "                <div class=\"spinner-text\" id=\"918140c6-19fb-462b-a789-d45a8158db41-text\">Initializing Chromedriver</div>\n",
              "            </div>\n",
              "            <style>\n",
              "                @keyframes spin {\n",
              "                    from { transform: rotate(0deg); }\n",
              "                    to { transform: rotate(360deg); }\n",
              "                }\n",
              "\n",
              "                .spinner-container {\n",
              "                    display: flex;\n",
              "                    align-items: center;\n",
              "                    margin-bottom: 3px;\n",
              "                }\n",
              "\n",
              "                .spinner {\n",
              "                    border: 3px solid rgba(0, 0, 0, 0.1);\n",
              "                    border-left-color: lightblue;\n",
              "                    border-radius: 50%;\n",
              "                    width: 12px;\n",
              "                    height: 12px;\n",
              "                    animation: spin 1s linear infinite;\n",
              "                }\n",
              "\n",
              "                .spinner-text {\n",
              "                    padding-left: 6px;\n",
              "                }\n",
              "            </style>\n",
              "        "
            ],
            "text/plain": [
              "<IPython.core.display.HTML object>"
            ]
          },
          "metadata": {},
          "output_type": "display_data"
        },
        {
          "data": {
            "application/javascript": "\n            const element = document.getElementById(\"918140c6-19fb-462b-a789-d45a8158db41-circle\");\n            element.style.border = \"3px solid limegreen\";\n            element.style.animation = \"none\";\n\n            const text = document.getElementById(\"918140c6-19fb-462b-a789-d45a8158db41-text\");\n            text.innerText = \"Initialized Chromedriver\";\n        ",
            "text/plain": [
              "<IPython.core.display.Javascript object>"
            ]
          },
          "metadata": {},
          "output_type": "display_data"
        },
        {
          "name": "stdout",
          "output_type": "stream",
          "text": [
            "[ria.ru] Загружаем https://ria.ru/20251009/serbiya-2047394083.html\n",
            "[ria.ru] Успешно: 576 слов\n",
            "[ria.ru] ✅ Добавлено: Вучич призвал ООН отреагировать на поставку Турцией дронов К... (576 слов). Итого: 3310\n"
          ]
        },
        {
          "data": {
            "text/html": [
              "\n",
              "            <div class=\"spinner-container\">\n",
              "                <div class=\"spinner\" id=\"b44cd068-a8e3-4136-99b1-bd1fd9132e26-circle\"></div>\n",
              "                <div class=\"spinner-text\" id=\"b44cd068-a8e3-4136-99b1-bd1fd9132e26-text\">Initializing Chromedriver</div>\n",
              "            </div>\n",
              "            <style>\n",
              "                @keyframes spin {\n",
              "                    from { transform: rotate(0deg); }\n",
              "                    to { transform: rotate(360deg); }\n",
              "                }\n",
              "\n",
              "                .spinner-container {\n",
              "                    display: flex;\n",
              "                    align-items: center;\n",
              "                    margin-bottom: 3px;\n",
              "                }\n",
              "\n",
              "                .spinner {\n",
              "                    border: 3px solid rgba(0, 0, 0, 0.1);\n",
              "                    border-left-color: lightblue;\n",
              "                    border-radius: 50%;\n",
              "                    width: 12px;\n",
              "                    height: 12px;\n",
              "                    animation: spin 1s linear infinite;\n",
              "                }\n",
              "\n",
              "                .spinner-text {\n",
              "                    padding-left: 6px;\n",
              "                }\n",
              "            </style>\n",
              "        "
            ],
            "text/plain": [
              "<IPython.core.display.HTML object>"
            ]
          },
          "metadata": {},
          "output_type": "display_data"
        },
        {
          "data": {
            "application/javascript": "\n            const element = document.getElementById(\"b44cd068-a8e3-4136-99b1-bd1fd9132e26-circle\");\n            element.style.border = \"3px solid limegreen\";\n            element.style.animation = \"none\";\n\n            const text = document.getElementById(\"b44cd068-a8e3-4136-99b1-bd1fd9132e26-text\");\n            text.innerText = \"Initialized Chromedriver\";\n        ",
            "text/plain": [
              "<IPython.core.display.Javascript object>"
            ]
          },
          "metadata": {},
          "output_type": "display_data"
        },
        {
          "name": "stdout",
          "output_type": "stream",
          "text": [
            "[ria.ru] Успешно: 242 слов\n",
            "[ria.ru] ✅ Добавлено: Слуцкий назвал Европарламент соучастником преступлений Зелен... (242 слов). Итого: 3552\n"
          ]
        },
        {
          "data": {
            "text/html": [
              "\n",
              "            <div class=\"spinner-container\">\n",
              "                <div class=\"spinner\" id=\"93b1051c-bb53-4746-82ce-4699c5a6a678-circle\"></div>\n",
              "                <div class=\"spinner-text\" id=\"93b1051c-bb53-4746-82ce-4699c5a6a678-text\">Initializing Chromedriver</div>\n",
              "            </div>\n",
              "            <style>\n",
              "                @keyframes spin {\n",
              "                    from { transform: rotate(0deg); }\n",
              "                    to { transform: rotate(360deg); }\n",
              "                }\n",
              "\n",
              "                .spinner-container {\n",
              "                    display: flex;\n",
              "                    align-items: center;\n",
              "                    margin-bottom: 3px;\n",
              "                }\n",
              "\n",
              "                .spinner {\n",
              "                    border: 3px solid rgba(0, 0, 0, 0.1);\n",
              "                    border-left-color: lightblue;\n",
              "                    border-radius: 50%;\n",
              "                    width: 12px;\n",
              "                    height: 12px;\n",
              "                    animation: spin 1s linear infinite;\n",
              "                }\n",
              "\n",
              "                .spinner-text {\n",
              "                    padding-left: 6px;\n",
              "                }\n",
              "            </style>\n",
              "        "
            ],
            "text/plain": [
              "<IPython.core.display.HTML object>"
            ]
          },
          "metadata": {},
          "output_type": "display_data"
        },
        {
          "name": "stdout",
          "output_type": "stream",
          "text": [
            "[ria.ru] Загружаем https://ria.ru/20251009/neftjaniki-2047393416.html\n",
            "[ria.ru] Успешно: 576 слов\n",
            "[ria.ru] ✅ Добавлено: Вучич призвал ООН отреагировать на поставку Турцией дронов К... (576 слов). Итого: 4128\n"
          ]
        },
        {
          "data": {
            "text/html": [
              "\n",
              "            <div class=\"spinner-container\">\n",
              "                <div class=\"spinner\" id=\"8d0fd899-3edb-4ae1-8d1e-e00c9d26cdff-circle\"></div>\n",
              "                <div class=\"spinner-text\" id=\"8d0fd899-3edb-4ae1-8d1e-e00c9d26cdff-text\">Initializing Chromedriver</div>\n",
              "            </div>\n",
              "            <style>\n",
              "                @keyframes spin {\n",
              "                    from { transform: rotate(0deg); }\n",
              "                    to { transform: rotate(360deg); }\n",
              "                }\n",
              "\n",
              "                .spinner-container {\n",
              "                    display: flex;\n",
              "                    align-items: center;\n",
              "                    margin-bottom: 3px;\n",
              "                }\n",
              "\n",
              "                .spinner {\n",
              "                    border: 3px solid rgba(0, 0, 0, 0.1);\n",
              "                    border-left-color: lightblue;\n",
              "                    border-radius: 50%;\n",
              "                    width: 12px;\n",
              "                    height: 12px;\n",
              "                    animation: spin 1s linear infinite;\n",
              "                }\n",
              "\n",
              "                .spinner-text {\n",
              "                    padding-left: 6px;\n",
              "                }\n",
              "            </style>\n",
              "        "
            ],
            "text/plain": [
              "<IPython.core.display.HTML object>"
            ]
          },
          "metadata": {},
          "output_type": "display_data"
        },
        {
          "data": {
            "application/javascript": "\n            const element = document.getElementById(\"93b1051c-bb53-4746-82ce-4699c5a6a678-circle\");\n            element.style.border = \"3px solid limegreen\";\n            element.style.animation = \"none\";\n\n            const text = document.getElementById(\"93b1051c-bb53-4746-82ce-4699c5a6a678-text\");\n            text.innerText = \"Initialized Chromedriver\";\n        ",
            "text/plain": [
              "<IPython.core.display.Javascript object>"
            ]
          },
          "metadata": {},
          "output_type": "display_data"
        },
        {
          "name": "stdout",
          "output_type": "stream",
          "text": [
            "[ria.ru] Загружаем https://ria.ru/20251009/neftjaniki-2047393416.html\n"
          ]
        },
        {
          "data": {
            "application/javascript": "\n            const element = document.getElementById(\"8d0fd899-3edb-4ae1-8d1e-e00c9d26cdff-circle\");\n            element.style.border = \"3px solid limegreen\";\n            element.style.animation = \"none\";\n\n            const text = document.getElementById(\"8d0fd899-3edb-4ae1-8d1e-e00c9d26cdff-text\");\n            text.innerText = \"Initialized Chromedriver\";\n        ",
            "text/plain": [
              "<IPython.core.display.Javascript object>"
            ]
          },
          "metadata": {},
          "output_type": "display_data"
        },
        {
          "name": "stdout",
          "output_type": "stream",
          "text": [
            "[ria.ru] Загружаем https://ria.ru/20251009/neftjaniki-2047393416.html\n",
            "[ria.ru] Успешно: 576 слов\n"
          ]
        },
        {
          "data": {
            "text/html": [
              "\n",
              "            <div class=\"spinner-container\">\n",
              "                <div class=\"spinner\" id=\"c0f28a80-b793-49b9-b886-30eb778be3ef-circle\"></div>\n",
              "                <div class=\"spinner-text\" id=\"c0f28a80-b793-49b9-b886-30eb778be3ef-text\">Initializing Chromedriver</div>\n",
              "            </div>\n",
              "            <style>\n",
              "                @keyframes spin {\n",
              "                    from { transform: rotate(0deg); }\n",
              "                    to { transform: rotate(360deg); }\n",
              "                }\n",
              "\n",
              "                .spinner-container {\n",
              "                    display: flex;\n",
              "                    align-items: center;\n",
              "                    margin-bottom: 3px;\n",
              "                }\n",
              "\n",
              "                .spinner {\n",
              "                    border: 3px solid rgba(0, 0, 0, 0.1);\n",
              "                    border-left-color: lightblue;\n",
              "                    border-radius: 50%;\n",
              "                    width: 12px;\n",
              "                    height: 12px;\n",
              "                    animation: spin 1s linear infinite;\n",
              "                }\n",
              "\n",
              "                .spinner-text {\n",
              "                    padding-left: 6px;\n",
              "                }\n",
              "            </style>\n",
              "        "
            ],
            "text/plain": [
              "<IPython.core.display.HTML object>"
            ]
          },
          "metadata": {},
          "output_type": "display_data"
        },
        {
          "name": "stdout",
          "output_type": "stream",
          "text": [
            "[ria.ru] ✅ Добавлено: Вучич призвал ООН отреагировать на поставку Турцией дронов К... (576 слов). Итого: 4704\n"
          ]
        },
        {
          "data": {
            "application/javascript": "\n            const element = document.getElementById(\"c0f28a80-b793-49b9-b886-30eb778be3ef-circle\");\n            element.style.border = \"3px solid limegreen\";\n            element.style.animation = \"none\";\n\n            const text = document.getElementById(\"c0f28a80-b793-49b9-b886-30eb778be3ef-text\");\n            text.innerText = \"Initialized Chromedriver\";\n        ",
            "text/plain": [
              "<IPython.core.display.Javascript object>"
            ]
          },
          "metadata": {},
          "output_type": "display_data"
        },
        {
          "name": "stdout",
          "output_type": "stream",
          "text": [
            "[ria.ru] Загружаем https://ria.ru/20251009/rossiya-2047392802.html\n",
            "[ria.ru] Успешно: 70 слов\n",
            "[ria.ru] ✅ Добавлено: Нефтяники доложили о выполнении рекомендаций по поставкам то... (70 слов). Итого: 4774\n"
          ]
        },
        {
          "data": {
            "text/html": [
              "\n",
              "            <div class=\"spinner-container\">\n",
              "                <div class=\"spinner\" id=\"6ff73526-9b8f-4b44-89a2-7388462aa56c-circle\"></div>\n",
              "                <div class=\"spinner-text\" id=\"6ff73526-9b8f-4b44-89a2-7388462aa56c-text\">Initializing Chromedriver</div>\n",
              "            </div>\n",
              "            <style>\n",
              "                @keyframes spin {\n",
              "                    from { transform: rotate(0deg); }\n",
              "                    to { transform: rotate(360deg); }\n",
              "                }\n",
              "\n",
              "                .spinner-container {\n",
              "                    display: flex;\n",
              "                    align-items: center;\n",
              "                    margin-bottom: 3px;\n",
              "                }\n",
              "\n",
              "                .spinner {\n",
              "                    border: 3px solid rgba(0, 0, 0, 0.1);\n",
              "                    border-left-color: lightblue;\n",
              "                    border-radius: 50%;\n",
              "                    width: 12px;\n",
              "                    height: 12px;\n",
              "                    animation: spin 1s linear infinite;\n",
              "                }\n",
              "\n",
              "                .spinner-text {\n",
              "                    padding-left: 6px;\n",
              "                }\n",
              "            </style>\n",
              "        "
            ],
            "text/plain": [
              "<IPython.core.display.HTML object>"
            ]
          },
          "metadata": {},
          "output_type": "display_data"
        },
        {
          "data": {
            "application/javascript": "\n            const element = document.getElementById(\"6ff73526-9b8f-4b44-89a2-7388462aa56c-circle\");\n            element.style.border = \"3px solid limegreen\";\n            element.style.animation = \"none\";\n\n            const text = document.getElementById(\"6ff73526-9b8f-4b44-89a2-7388462aa56c-text\");\n            text.innerText = \"Initialized Chromedriver\";\n        ",
            "text/plain": [
              "<IPython.core.display.Javascript object>"
            ]
          },
          "metadata": {},
          "output_type": "display_data"
        },
        {
          "name": "stdout",
          "output_type": "stream",
          "text": [
            "[ria.ru] Загружаем https://ria.ru/20251009/rossiya-2047392802.html\n",
            "[ria.ru] Успешно: 70 слов\n",
            "[ria.ru] ✅ Добавлено: Нефтяники доложили о выполнении рекомендаций по поставкам то... (70 слов). Итого: 4844\n"
          ]
        },
        {
          "data": {
            "text/html": [
              "\n",
              "            <div class=\"spinner-container\">\n",
              "                <div class=\"spinner\" id=\"6d7a673d-e073-43d4-8583-f9a1a29196c7-circle\"></div>\n",
              "                <div class=\"spinner-text\" id=\"6d7a673d-e073-43d4-8583-f9a1a29196c7-text\">Initializing Chromedriver</div>\n",
              "            </div>\n",
              "            <style>\n",
              "                @keyframes spin {\n",
              "                    from { transform: rotate(0deg); }\n",
              "                    to { transform: rotate(360deg); }\n",
              "                }\n",
              "\n",
              "                .spinner-container {\n",
              "                    display: flex;\n",
              "                    align-items: center;\n",
              "                    margin-bottom: 3px;\n",
              "                }\n",
              "\n",
              "                .spinner {\n",
              "                    border: 3px solid rgba(0, 0, 0, 0.1);\n",
              "                    border-left-color: lightblue;\n",
              "                    border-radius: 50%;\n",
              "                    width: 12px;\n",
              "                    height: 12px;\n",
              "                    animation: spin 1s linear infinite;\n",
              "                }\n",
              "\n",
              "                .spinner-text {\n",
              "                    padding-left: 6px;\n",
              "                }\n",
              "            </style>\n",
              "        "
            ],
            "text/plain": [
              "<IPython.core.display.HTML object>"
            ]
          },
          "metadata": {},
          "output_type": "display_data"
        },
        {
          "name": "stdout",
          "output_type": "stream",
          "text": [
            "[ria.ru] Успешно: 70 слов\n",
            "[ria.ru] ✅ Добавлено: Нефтяники доложили о выполнении рекомендаций по поставкам то... (70 слов). Итого: 4914\n"
          ]
        },
        {
          "data": {
            "text/html": [
              "\n",
              "            <div class=\"spinner-container\">\n",
              "                <div class=\"spinner\" id=\"99e9c615-e73a-46b9-924f-9c09417e6c1b-circle\"></div>\n",
              "                <div class=\"spinner-text\" id=\"99e9c615-e73a-46b9-924f-9c09417e6c1b-text\">Initializing Chromedriver</div>\n",
              "            </div>\n",
              "            <style>\n",
              "                @keyframes spin {\n",
              "                    from { transform: rotate(0deg); }\n",
              "                    to { transform: rotate(360deg); }\n",
              "                }\n",
              "\n",
              "                .spinner-container {\n",
              "                    display: flex;\n",
              "                    align-items: center;\n",
              "                    margin-bottom: 3px;\n",
              "                }\n",
              "\n",
              "                .spinner {\n",
              "                    border: 3px solid rgba(0, 0, 0, 0.1);\n",
              "                    border-left-color: lightblue;\n",
              "                    border-radius: 50%;\n",
              "                    width: 12px;\n",
              "                    height: 12px;\n",
              "                    animation: spin 1s linear infinite;\n",
              "                }\n",
              "\n",
              "                .spinner-text {\n",
              "                    padding-left: 6px;\n",
              "                }\n",
              "            </style>\n",
              "        "
            ],
            "text/plain": [
              "<IPython.core.display.HTML object>"
            ]
          },
          "metadata": {},
          "output_type": "display_data"
        },
        {
          "data": {
            "application/javascript": "\n            const element = document.getElementById(\"6d7a673d-e073-43d4-8583-f9a1a29196c7-circle\");\n            element.style.border = \"3px solid limegreen\";\n            element.style.animation = \"none\";\n\n            const text = document.getElementById(\"6d7a673d-e073-43d4-8583-f9a1a29196c7-text\");\n            text.innerText = \"Initialized Chromedriver\";\n        ",
            "text/plain": [
              "<IPython.core.display.Javascript object>"
            ]
          },
          "metadata": {},
          "output_type": "display_data"
        },
        {
          "name": "stdout",
          "output_type": "stream",
          "text": [
            "[ria.ru] Загружаем https://ria.ru/20251009/rossiya-2047392802.html\n"
          ]
        },
        {
          "data": {
            "application/javascript": "\n            const element = document.getElementById(\"99e9c615-e73a-46b9-924f-9c09417e6c1b-circle\");\n            element.style.border = \"3px solid limegreen\";\n            element.style.animation = \"none\";\n\n            const text = document.getElementById(\"99e9c615-e73a-46b9-924f-9c09417e6c1b-text\");\n            text.innerText = \"Initialized Chromedriver\";\n        ",
            "text/plain": [
              "<IPython.core.display.Javascript object>"
            ]
          },
          "metadata": {},
          "output_type": "display_data"
        },
        {
          "name": "stdout",
          "output_type": "stream",
          "text": [
            "[ria.ru] Загружаем https://ria.ru/20251009/oon-2047392502.html\n",
            "[ria.ru] Успешно: 345 слов\n",
            "[ria.ru] ✅ Добавлено: Платформу по борьбе с кибермошенничеством введут до 1 марта ... (345 слов). Итого: 5259\n"
          ]
        },
        {
          "data": {
            "text/html": [
              "\n",
              "            <div class=\"spinner-container\">\n",
              "                <div class=\"spinner\" id=\"b0b2ddb9-dcb3-4db9-8dc5-9f4cbe28f647-circle\"></div>\n",
              "                <div class=\"spinner-text\" id=\"b0b2ddb9-dcb3-4db9-8dc5-9f4cbe28f647-text\">Initializing Chromedriver</div>\n",
              "            </div>\n",
              "            <style>\n",
              "                @keyframes spin {\n",
              "                    from { transform: rotate(0deg); }\n",
              "                    to { transform: rotate(360deg); }\n",
              "                }\n",
              "\n",
              "                .spinner-container {\n",
              "                    display: flex;\n",
              "                    align-items: center;\n",
              "                    margin-bottom: 3px;\n",
              "                }\n",
              "\n",
              "                .spinner {\n",
              "                    border: 3px solid rgba(0, 0, 0, 0.1);\n",
              "                    border-left-color: lightblue;\n",
              "                    border-radius: 50%;\n",
              "                    width: 12px;\n",
              "                    height: 12px;\n",
              "                    animation: spin 1s linear infinite;\n",
              "                }\n",
              "\n",
              "                .spinner-text {\n",
              "                    padding-left: 6px;\n",
              "                }\n",
              "            </style>\n",
              "        "
            ],
            "text/plain": [
              "<IPython.core.display.HTML object>"
            ]
          },
          "metadata": {},
          "output_type": "display_data"
        },
        {
          "data": {
            "application/javascript": "\n            const element = document.getElementById(\"b0b2ddb9-dcb3-4db9-8dc5-9f4cbe28f647-circle\");\n            element.style.border = \"3px solid limegreen\";\n            element.style.animation = \"none\";\n\n            const text = document.getElementById(\"b0b2ddb9-dcb3-4db9-8dc5-9f4cbe28f647-text\");\n            text.innerText = \"Initialized Chromedriver\";\n        ",
            "text/plain": [
              "<IPython.core.display.Javascript object>"
            ]
          },
          "metadata": {},
          "output_type": "display_data"
        },
        {
          "name": "stdout",
          "output_type": "stream",
          "text": [
            "[ria.ru] Загружаем https://ria.ru/20251009/oon-2047392502.html\n",
            "[ria.ru] Успешно: 345 слов\n",
            "[ria.ru] ✅ Добавлено: Платформу по борьбе с кибермошенничеством введут до 1 марта ... (345 слов). Итого: 5604\n"
          ]
        },
        {
          "data": {
            "text/html": [
              "\n",
              "            <div class=\"spinner-container\">\n",
              "                <div class=\"spinner\" id=\"46bbb6c6-dcd3-43da-8be3-53af38ef8290-circle\"></div>\n",
              "                <div class=\"spinner-text\" id=\"46bbb6c6-dcd3-43da-8be3-53af38ef8290-text\">Initializing Chromedriver</div>\n",
              "            </div>\n",
              "            <style>\n",
              "                @keyframes spin {\n",
              "                    from { transform: rotate(0deg); }\n",
              "                    to { transform: rotate(360deg); }\n",
              "                }\n",
              "\n",
              "                .spinner-container {\n",
              "                    display: flex;\n",
              "                    align-items: center;\n",
              "                    margin-bottom: 3px;\n",
              "                }\n",
              "\n",
              "                .spinner {\n",
              "                    border: 3px solid rgba(0, 0, 0, 0.1);\n",
              "                    border-left-color: lightblue;\n",
              "                    border-radius: 50%;\n",
              "                    width: 12px;\n",
              "                    height: 12px;\n",
              "                    animation: spin 1s linear infinite;\n",
              "                }\n",
              "\n",
              "                .spinner-text {\n",
              "                    padding-left: 6px;\n",
              "                }\n",
              "            </style>\n",
              "        "
            ],
            "text/plain": [
              "<IPython.core.display.HTML object>"
            ]
          },
          "metadata": {},
          "output_type": "display_data"
        },
        {
          "data": {
            "application/javascript": "\n            const element = document.getElementById(\"46bbb6c6-dcd3-43da-8be3-53af38ef8290-circle\");\n            element.style.border = \"3px solid limegreen\";\n            element.style.animation = \"none\";\n\n            const text = document.getElementById(\"46bbb6c6-dcd3-43da-8be3-53af38ef8290-text\");\n            text.innerText = \"Initialized Chromedriver\";\n        ",
            "text/plain": [
              "<IPython.core.display.Javascript object>"
            ]
          },
          "metadata": {},
          "output_type": "display_data"
        },
        {
          "name": "stdout",
          "output_type": "stream",
          "text": [
            "[ria.ru] Загружаем https://ria.ru/20251009/oon-2047392502.html\n",
            "[ria.ru] Успешно: 345 слов\n",
            "[ria.ru] Успешно: 122 слов\n",
            "[ria.ru] ✅ Добавлено: Платформу по борьбе с кибермошенничеством введут до 1 марта ... (345 слов). Итого: 5949\n"
          ]
        },
        {
          "data": {
            "text/html": [
              "\n",
              "            <div class=\"spinner-container\">\n",
              "                <div class=\"spinner\" id=\"9f6a0f82-87f7-46ce-9551-f2b284ea7f71-circle\"></div>\n",
              "                <div class=\"spinner-text\" id=\"9f6a0f82-87f7-46ce-9551-f2b284ea7f71-text\">Initializing Chromedriver</div>\n",
              "            </div>\n",
              "            <style>\n",
              "                @keyframes spin {\n",
              "                    from { transform: rotate(0deg); }\n",
              "                    to { transform: rotate(360deg); }\n",
              "                }\n",
              "\n",
              "                .spinner-container {\n",
              "                    display: flex;\n",
              "                    align-items: center;\n",
              "                    margin-bottom: 3px;\n",
              "                }\n",
              "\n",
              "                .spinner {\n",
              "                    border: 3px solid rgba(0, 0, 0, 0.1);\n",
              "                    border-left-color: lightblue;\n",
              "                    border-radius: 50%;\n",
              "                    width: 12px;\n",
              "                    height: 12px;\n",
              "                    animation: spin 1s linear infinite;\n",
              "                }\n",
              "\n",
              "                .spinner-text {\n",
              "                    padding-left: 6px;\n",
              "                }\n",
              "            </style>\n",
              "        "
            ],
            "text/plain": [
              "<IPython.core.display.HTML object>"
            ]
          },
          "metadata": {},
          "output_type": "display_data"
        },
        {
          "data": {
            "text/html": [
              "\n",
              "            <div class=\"spinner-container\">\n",
              "                <div class=\"spinner\" id=\"1be5c717-3805-4355-912c-c93b5bd75186-circle\"></div>\n",
              "                <div class=\"spinner-text\" id=\"1be5c717-3805-4355-912c-c93b5bd75186-text\">Initializing Chromedriver</div>\n",
              "            </div>\n",
              "            <style>\n",
              "                @keyframes spin {\n",
              "                    from { transform: rotate(0deg); }\n",
              "                    to { transform: rotate(360deg); }\n",
              "                }\n",
              "\n",
              "                .spinner-container {\n",
              "                    display: flex;\n",
              "                    align-items: center;\n",
              "                    margin-bottom: 3px;\n",
              "                }\n",
              "\n",
              "                .spinner {\n",
              "                    border: 3px solid rgba(0, 0, 0, 0.1);\n",
              "                    border-left-color: lightblue;\n",
              "                    border-radius: 50%;\n",
              "                    width: 12px;\n",
              "                    height: 12px;\n",
              "                    animation: spin 1s linear infinite;\n",
              "                }\n",
              "\n",
              "                .spinner-text {\n",
              "                    padding-left: 6px;\n",
              "                }\n",
              "            </style>\n",
              "        "
            ],
            "text/plain": [
              "<IPython.core.display.HTML object>"
            ]
          },
          "metadata": {},
          "output_type": "display_data"
        },
        {
          "name": "stdout",
          "output_type": "stream",
          "text": [
            "[ria.ru] ✅ Добавлено: В ООН призвали не допустить попыток помешать плану Трампа по... (122 слов). Итого: 6071\n"
          ]
        },
        {
          "data": {
            "application/javascript": "\n            const element = document.getElementById(\"1be5c717-3805-4355-912c-c93b5bd75186-circle\");\n            element.style.border = \"3px solid limegreen\";\n            element.style.animation = \"none\";\n\n            const text = document.getElementById(\"1be5c717-3805-4355-912c-c93b5bd75186-text\");\n            text.innerText = \"Initialized Chromedriver\";\n        ",
            "text/plain": [
              "<IPython.core.display.Javascript object>"
            ]
          },
          "metadata": {},
          "output_type": "display_data"
        },
        {
          "data": {
            "application/javascript": "\n            const element = document.getElementById(\"9f6a0f82-87f7-46ce-9551-f2b284ea7f71-circle\");\n            element.style.border = \"3px solid limegreen\";\n            element.style.animation = \"none\";\n\n            const text = document.getElementById(\"9f6a0f82-87f7-46ce-9551-f2b284ea7f71-text\");\n            text.innerText = \"Initialized Chromedriver\";\n        ",
            "text/plain": [
              "<IPython.core.display.Javascript object>"
            ]
          },
          "metadata": {},
          "output_type": "display_data"
        },
        {
          "name": "stdout",
          "output_type": "stream",
          "text": [
            "[ria.ru] Загружаем https://ria.ru/20251009/vuchich-2047392012.html\n",
            "[ria.ru] Загружаем https://ria.ru/20251009/vuchich-2047392012.html\n",
            "[ria.ru] Успешно: 122 слов\n",
            "[ria.ru] ✅ Добавлено: В ООН призвали не допустить попыток помешать плану Трампа по... (122 слов). Итого: 6193\n"
          ]
        },
        {
          "data": {
            "text/html": [
              "\n",
              "            <div class=\"spinner-container\">\n",
              "                <div class=\"spinner\" id=\"c8761f35-5187-4c26-b3aa-dc49dec35a30-circle\"></div>\n",
              "                <div class=\"spinner-text\" id=\"c8761f35-5187-4c26-b3aa-dc49dec35a30-text\">Initializing Chromedriver</div>\n",
              "            </div>\n",
              "            <style>\n",
              "                @keyframes spin {\n",
              "                    from { transform: rotate(0deg); }\n",
              "                    to { transform: rotate(360deg); }\n",
              "                }\n",
              "\n",
              "                .spinner-container {\n",
              "                    display: flex;\n",
              "                    align-items: center;\n",
              "                    margin-bottom: 3px;\n",
              "                }\n",
              "\n",
              "                .spinner {\n",
              "                    border: 3px solid rgba(0, 0, 0, 0.1);\n",
              "                    border-left-color: lightblue;\n",
              "                    border-radius: 50%;\n",
              "                    width: 12px;\n",
              "                    height: 12px;\n",
              "                    animation: spin 1s linear infinite;\n",
              "                }\n",
              "\n",
              "                .spinner-text {\n",
              "                    padding-left: 6px;\n",
              "                }\n",
              "            </style>\n",
              "        "
            ],
            "text/plain": [
              "<IPython.core.display.HTML object>"
            ]
          },
          "metadata": {},
          "output_type": "display_data"
        },
        {
          "data": {
            "application/javascript": "\n            const element = document.getElementById(\"c8761f35-5187-4c26-b3aa-dc49dec35a30-circle\");\n            element.style.border = \"3px solid limegreen\";\n            element.style.animation = \"none\";\n\n            const text = document.getElementById(\"c8761f35-5187-4c26-b3aa-dc49dec35a30-text\");\n            text.innerText = \"Initialized Chromedriver\";\n        ",
            "text/plain": [
              "<IPython.core.display.Javascript object>"
            ]
          },
          "metadata": {},
          "output_type": "display_data"
        },
        {
          "name": "stdout",
          "output_type": "stream",
          "text": [
            "[ria.ru] Загружаем https://ria.ru/20251009/vuchich-2047392012.html\n",
            "[ria.ru] Успешно: 122 слов\n",
            "[ria.ru] ✅ Добавлено: В ООН призвали не допустить попыток помешать плану Трампа по... (122 слов). Итого: 6315\n"
          ]
        },
        {
          "data": {
            "text/html": [
              "\n",
              "            <div class=\"spinner-container\">\n",
              "                <div class=\"spinner\" id=\"788b505f-9f7e-4938-8143-b7a5700ed543-circle\"></div>\n",
              "                <div class=\"spinner-text\" id=\"788b505f-9f7e-4938-8143-b7a5700ed543-text\">Initializing Chromedriver</div>\n",
              "            </div>\n",
              "            <style>\n",
              "                @keyframes spin {\n",
              "                    from { transform: rotate(0deg); }\n",
              "                    to { transform: rotate(360deg); }\n",
              "                }\n",
              "\n",
              "                .spinner-container {\n",
              "                    display: flex;\n",
              "                    align-items: center;\n",
              "                    margin-bottom: 3px;\n",
              "                }\n",
              "\n",
              "                .spinner {\n",
              "                    border: 3px solid rgba(0, 0, 0, 0.1);\n",
              "                    border-left-color: lightblue;\n",
              "                    border-radius: 50%;\n",
              "                    width: 12px;\n",
              "                    height: 12px;\n",
              "                    animation: spin 1s linear infinite;\n",
              "                }\n",
              "\n",
              "                .spinner-text {\n",
              "                    padding-left: 6px;\n",
              "                }\n",
              "            </style>\n",
              "        "
            ],
            "text/plain": [
              "<IPython.core.display.HTML object>"
            ]
          },
          "metadata": {},
          "output_type": "display_data"
        },
        {
          "data": {
            "application/javascript": "\n            const element = document.getElementById(\"788b505f-9f7e-4938-8143-b7a5700ed543-circle\");\n            element.style.border = \"3px solid limegreen\";\n            element.style.animation = \"none\";\n\n            const text = document.getElementById(\"788b505f-9f7e-4938-8143-b7a5700ed543-text\");\n            text.innerText = \"Initialized Chromedriver\";\n        ",
            "text/plain": [
              "<IPython.core.display.Javascript object>"
            ]
          },
          "metadata": {},
          "output_type": "display_data"
        },
        {
          "name": "stdout",
          "output_type": "stream",
          "text": [
            "[ria.ru] Загружаем https://ria.ru/20251009/tramp-2047391813.html\n",
            "[ria.ru] Успешно: 466 слов\n"
          ]
        },
        {
          "data": {
            "text/html": [
              "\n",
              "            <div class=\"spinner-container\">\n",
              "                <div class=\"spinner\" id=\"24e93d67-b84f-4209-9f3f-ba815053bc6d-circle\"></div>\n",
              "                <div class=\"spinner-text\" id=\"24e93d67-b84f-4209-9f3f-ba815053bc6d-text\">Initializing Chromedriver</div>\n",
              "            </div>\n",
              "            <style>\n",
              "                @keyframes spin {\n",
              "                    from { transform: rotate(0deg); }\n",
              "                    to { transform: rotate(360deg); }\n",
              "                }\n",
              "\n",
              "                .spinner-container {\n",
              "                    display: flex;\n",
              "                    align-items: center;\n",
              "                    margin-bottom: 3px;\n",
              "                }\n",
              "\n",
              "                .spinner {\n",
              "                    border: 3px solid rgba(0, 0, 0, 0.1);\n",
              "                    border-left-color: lightblue;\n",
              "                    border-radius: 50%;\n",
              "                    width: 12px;\n",
              "                    height: 12px;\n",
              "                    animation: spin 1s linear infinite;\n",
              "                }\n",
              "\n",
              "                .spinner-text {\n",
              "                    padding-left: 6px;\n",
              "                }\n",
              "            </style>\n",
              "        "
            ],
            "text/plain": [
              "<IPython.core.display.HTML object>"
            ]
          },
          "metadata": {},
          "output_type": "display_data"
        },
        {
          "name": "stdout",
          "output_type": "stream",
          "text": [
            "[ria.ru] ✅ Добавлено: Вучич заявил о более 700 нападениях на сербов в Косово и Мет... (466 слов). Итого: 6781\n"
          ]
        },
        {
          "data": {
            "application/javascript": "\n            const element = document.getElementById(\"24e93d67-b84f-4209-9f3f-ba815053bc6d-circle\");\n            element.style.border = \"3px solid limegreen\";\n            element.style.animation = \"none\";\n\n            const text = document.getElementById(\"24e93d67-b84f-4209-9f3f-ba815053bc6d-text\");\n            text.innerText = \"Initialized Chromedriver\";\n        ",
            "text/plain": [
              "<IPython.core.display.Javascript object>"
            ]
          },
          "metadata": {},
          "output_type": "display_data"
        },
        {
          "name": "stdout",
          "output_type": "stream",
          "text": [
            "[ria.ru] Успешно: 466 слов\n",
            "[ria.ru] Успешно: 466 слов\n",
            "[ria.ru] ✅ Добавлено: Вучич заявил о более 700 нападениях на сербов в Косово и Мет... (466 слов). Итого: 7247\n",
            "[ria.ru] Загружаем https://ria.ru/20251009/tramp-2047391813.html\n",
            "[ria.ru] ✅ Добавлено: Вучич заявил о более 700 нападениях на сербов в Косово и Мет... (466 слов). Итого: 7713\n",
            "[ria.ru] Успешно: 301 слов\n",
            "[ria.ru] ✅ Добавлено: Трамп высказался о двугосударственном решении конфликта на Б... (301 слов). Итого: 8014\n",
            "[ria.ru] Успешно: 301 слов\n",
            "[ria.ru] ✅ Добавлено: Трамп высказался о двугосударственном решении конфликта на Б... (301 слов). Итого: 8315\n",
            "\n",
            "=== Сбор с lenta.ru ===\n"
          ]
        },
        {
          "data": {
            "text/html": [
              "\n",
              "            <div class=\"spinner-container\">\n",
              "                <div class=\"spinner\" id=\"b4f9140f-c92f-4d74-a4c6-89dc7d896c66-circle\"></div>\n",
              "                <div class=\"spinner-text\" id=\"b4f9140f-c92f-4d74-a4c6-89dc7d896c66-text\">Initializing Chromedriver</div>\n",
              "            </div>\n",
              "            <style>\n",
              "                @keyframes spin {\n",
              "                    from { transform: rotate(0deg); }\n",
              "                    to { transform: rotate(360deg); }\n",
              "                }\n",
              "\n",
              "                .spinner-container {\n",
              "                    display: flex;\n",
              "                    align-items: center;\n",
              "                    margin-bottom: 3px;\n",
              "                }\n",
              "\n",
              "                .spinner {\n",
              "                    border: 3px solid rgba(0, 0, 0, 0.1);\n",
              "                    border-left-color: lightblue;\n",
              "                    border-radius: 50%;\n",
              "                    width: 12px;\n",
              "                    height: 12px;\n",
              "                    animation: spin 1s linear infinite;\n",
              "                }\n",
              "\n",
              "                .spinner-text {\n",
              "                    padding-left: 6px;\n",
              "                }\n",
              "            </style>\n",
              "        "
            ],
            "text/plain": [
              "<IPython.core.display.HTML object>"
            ]
          },
          "metadata": {},
          "output_type": "display_data"
        },
        {
          "data": {
            "application/javascript": "\n            const element = document.getElementById(\"b4f9140f-c92f-4d74-a4c6-89dc7d896c66-circle\");\n            element.style.border = \"3px solid limegreen\";\n            element.style.animation = \"none\";\n\n            const text = document.getElementById(\"b4f9140f-c92f-4d74-a4c6-89dc7d896c66-text\");\n            text.innerText = \"Initialized Chromedriver\";\n        ",
            "text/plain": [
              "<IPython.core.display.Javascript object>"
            ]
          },
          "metadata": {},
          "output_type": "display_data"
        },
        {
          "name": "stdout",
          "output_type": "stream",
          "text": [
            "[lenta.ru] Загружаем главную страницу: https://lenta.ru/\n",
            "[lenta.ru] Найдено 50 элементов статей\n",
            "[lenta.ru] Сырые ссылки: ['/news/2025/10/09/chervinskiy/', '/news/2025/10/09/poyavilis-kadry-oblomkov-noveyshey-ukrainskoy-rakety-flamingo/', '/news/2025/10/09/polskie-pogranichniki-zaderzhali-hotevshego-popast-v-es-podrostka/']...\n",
            "[lenta.ru] Отфильтровано 50 валидных ссылок: ['https://lenta.ru/news/2025/10/09/chervinskiy/', 'https://lenta.ru/news/2025/10/09/poyavilis-kadry-oblomkov-noveyshey-ukrainskoy-rakety-flamingo/', 'https://lenta.ru/news/2025/10/09/polskie-pogranichniki-zaderzhali-hotevshego-popast-v-es-podrostka/']...\n"
          ]
        },
        {
          "data": {
            "text/html": [
              "\n",
              "            <div class=\"spinner-container\">\n",
              "                <div class=\"spinner\" id=\"614b8075-6fc2-4806-a15a-b7383a0a790b-circle\"></div>\n",
              "                <div class=\"spinner-text\" id=\"614b8075-6fc2-4806-a15a-b7383a0a790b-text\">Initializing Chromedriver</div>\n",
              "            </div>\n",
              "            <style>\n",
              "                @keyframes spin {\n",
              "                    from { transform: rotate(0deg); }\n",
              "                    to { transform: rotate(360deg); }\n",
              "                }\n",
              "\n",
              "                .spinner-container {\n",
              "                    display: flex;\n",
              "                    align-items: center;\n",
              "                    margin-bottom: 3px;\n",
              "                }\n",
              "\n",
              "                .spinner {\n",
              "                    border: 3px solid rgba(0, 0, 0, 0.1);\n",
              "                    border-left-color: lightblue;\n",
              "                    border-radius: 50%;\n",
              "                    width: 12px;\n",
              "                    height: 12px;\n",
              "                    animation: spin 1s linear infinite;\n",
              "                }\n",
              "\n",
              "                .spinner-text {\n",
              "                    padding-left: 6px;\n",
              "                }\n",
              "            </style>\n",
              "        "
            ],
            "text/plain": [
              "<IPython.core.display.HTML object>"
            ]
          },
          "metadata": {},
          "output_type": "display_data"
        },
        {
          "data": {
            "text/html": [
              "\n",
              "            <div class=\"spinner-container\">\n",
              "                <div class=\"spinner\" id=\"34e88832-7a51-4d9d-b551-f6eb0018a0e7-circle\"></div>\n",
              "                <div class=\"spinner-text\" id=\"34e88832-7a51-4d9d-b551-f6eb0018a0e7-text\">Initializing Chromedriver</div>\n",
              "            </div>\n",
              "            <style>\n",
              "                @keyframes spin {\n",
              "                    from { transform: rotate(0deg); }\n",
              "                    to { transform: rotate(360deg); }\n",
              "                }\n",
              "\n",
              "                .spinner-container {\n",
              "                    display: flex;\n",
              "                    align-items: center;\n",
              "                    margin-bottom: 3px;\n",
              "                }\n",
              "\n",
              "                .spinner {\n",
              "                    border: 3px solid rgba(0, 0, 0, 0.1);\n",
              "                    border-left-color: lightblue;\n",
              "                    border-radius: 50%;\n",
              "                    width: 12px;\n",
              "                    height: 12px;\n",
              "                    animation: spin 1s linear infinite;\n",
              "                }\n",
              "\n",
              "                .spinner-text {\n",
              "                    padding-left: 6px;\n",
              "                }\n",
              "            </style>\n",
              "        "
            ],
            "text/plain": [
              "<IPython.core.display.HTML object>"
            ]
          },
          "metadata": {},
          "output_type": "display_data"
        },
        {
          "data": {
            "text/html": [
              "\n",
              "            <div class=\"spinner-container\">\n",
              "                <div class=\"spinner\" id=\"bfc9e066-4b91-492c-b700-f977885c79d7-circle\"></div>\n",
              "                <div class=\"spinner-text\" id=\"bfc9e066-4b91-492c-b700-f977885c79d7-text\">Initializing Chromedriver</div>\n",
              "            </div>\n",
              "            <style>\n",
              "                @keyframes spin {\n",
              "                    from { transform: rotate(0deg); }\n",
              "                    to { transform: rotate(360deg); }\n",
              "                }\n",
              "\n",
              "                .spinner-container {\n",
              "                    display: flex;\n",
              "                    align-items: center;\n",
              "                    margin-bottom: 3px;\n",
              "                }\n",
              "\n",
              "                .spinner {\n",
              "                    border: 3px solid rgba(0, 0, 0, 0.1);\n",
              "                    border-left-color: lightblue;\n",
              "                    border-radius: 50%;\n",
              "                    width: 12px;\n",
              "                    height: 12px;\n",
              "                    animation: spin 1s linear infinite;\n",
              "                }\n",
              "\n",
              "                .spinner-text {\n",
              "                    padding-left: 6px;\n",
              "                }\n",
              "            </style>\n",
              "        "
            ],
            "text/plain": [
              "<IPython.core.display.HTML object>"
            ]
          },
          "metadata": {},
          "output_type": "display_data"
        },
        {
          "data": {
            "text/html": [
              "\n",
              "            <div class=\"spinner-container\">\n",
              "                <div class=\"spinner\" id=\"40a2f3c6-6dd0-4b1a-84ab-d888a2fd92c6-circle\"></div>\n",
              "                <div class=\"spinner-text\" id=\"40a2f3c6-6dd0-4b1a-84ab-d888a2fd92c6-text\">Initializing Chromedriver</div>\n",
              "            </div>\n",
              "            <style>\n",
              "                @keyframes spin {\n",
              "                    from { transform: rotate(0deg); }\n",
              "                    to { transform: rotate(360deg); }\n",
              "                }\n",
              "\n",
              "                .spinner-container {\n",
              "                    display: flex;\n",
              "                    align-items: center;\n",
              "                    margin-bottom: 3px;\n",
              "                }\n",
              "\n",
              "                .spinner {\n",
              "                    border: 3px solid rgba(0, 0, 0, 0.1);\n",
              "                    border-left-color: lightblue;\n",
              "                    border-radius: 50%;\n",
              "                    width: 12px;\n",
              "                    height: 12px;\n",
              "                    animation: spin 1s linear infinite;\n",
              "                }\n",
              "\n",
              "                .spinner-text {\n",
              "                    padding-left: 6px;\n",
              "                }\n",
              "            </style>\n",
              "        "
            ],
            "text/plain": [
              "<IPython.core.display.HTML object>"
            ]
          },
          "metadata": {},
          "output_type": "display_data"
        },
        {
          "data": {
            "application/javascript": "\n            const element = document.getElementById(\"614b8075-6fc2-4806-a15a-b7383a0a790b-circle\");\n            element.style.border = \"3px solid limegreen\";\n            element.style.animation = \"none\";\n\n            const text = document.getElementById(\"614b8075-6fc2-4806-a15a-b7383a0a790b-text\");\n            text.innerText = \"Initialized Chromedriver\";\n        ",
            "text/plain": [
              "<IPython.core.display.Javascript object>"
            ]
          },
          "metadata": {},
          "output_type": "display_data"
        },
        {
          "data": {
            "application/javascript": "\n            const element = document.getElementById(\"bfc9e066-4b91-492c-b700-f977885c79d7-circle\");\n            element.style.border = \"3px solid limegreen\";\n            element.style.animation = \"none\";\n\n            const text = document.getElementById(\"bfc9e066-4b91-492c-b700-f977885c79d7-text\");\n            text.innerText = \"Initialized Chromedriver\";\n        ",
            "text/plain": [
              "<IPython.core.display.Javascript object>"
            ]
          },
          "metadata": {},
          "output_type": "display_data"
        },
        {
          "data": {
            "application/javascript": "\n            const element = document.getElementById(\"40a2f3c6-6dd0-4b1a-84ab-d888a2fd92c6-circle\");\n            element.style.border = \"3px solid limegreen\";\n            element.style.animation = \"none\";\n\n            const text = document.getElementById(\"40a2f3c6-6dd0-4b1a-84ab-d888a2fd92c6-text\");\n            text.innerText = \"Initialized Chromedriver\";\n        ",
            "text/plain": [
              "<IPython.core.display.Javascript object>"
            ]
          },
          "metadata": {},
          "output_type": "display_data"
        },
        {
          "data": {
            "application/javascript": "\n            const element = document.getElementById(\"34e88832-7a51-4d9d-b551-f6eb0018a0e7-circle\");\n            element.style.border = \"3px solid limegreen\";\n            element.style.animation = \"none\";\n\n            const text = document.getElementById(\"34e88832-7a51-4d9d-b551-f6eb0018a0e7-text\");\n            text.innerText = \"Initialized Chromedriver\";\n        ",
            "text/plain": [
              "<IPython.core.display.Javascript object>"
            ]
          },
          "metadata": {},
          "output_type": "display_data"
        },
        {
          "name": "stdout",
          "output_type": "stream",
          "text": [
            "[lenta.ru] Загружаем https://lenta.ru/news/2025/10/09/chervinskiy/\n",
            "[lenta.ru] Загружаем https://lenta.ru/news/2025/10/09/na-ukraine-priznali-prevoshodstvo-rossii-v-proizvodstve-dronov/\n",
            "[lenta.ru] Загружаем https://lenta.ru/news/2025/10/09/poyavilis-kadry-oblomkov-noveyshey-ukrainskoy-rakety-flamingo/\n",
            "[lenta.ru] Загружаем https://lenta.ru/news/2025/10/09/polskie-pogranichniki-zaderzhali-hotevshego-popast-v-es-podrostka/\n",
            "[lenta.ru] Мало текста из мета (0 слов), ищем в DOM...\n",
            "[lenta.ru] Найдено 23 блоков текста\n",
            "[lenta.ru] Успешно: 704 слов\n"
          ]
        },
        {
          "data": {
            "text/html": [
              "\n",
              "            <div class=\"spinner-container\">\n",
              "                <div class=\"spinner\" id=\"d10c0ac3-72e1-40ff-b738-f64c476c0329-circle\"></div>\n",
              "                <div class=\"spinner-text\" id=\"d10c0ac3-72e1-40ff-b738-f64c476c0329-text\">Initializing Chromedriver</div>\n",
              "            </div>\n",
              "            <style>\n",
              "                @keyframes spin {\n",
              "                    from { transform: rotate(0deg); }\n",
              "                    to { transform: rotate(360deg); }\n",
              "                }\n",
              "\n",
              "                .spinner-container {\n",
              "                    display: flex;\n",
              "                    align-items: center;\n",
              "                    margin-bottom: 3px;\n",
              "                }\n",
              "\n",
              "                .spinner {\n",
              "                    border: 3px solid rgba(0, 0, 0, 0.1);\n",
              "                    border-left-color: lightblue;\n",
              "                    border-radius: 50%;\n",
              "                    width: 12px;\n",
              "                    height: 12px;\n",
              "                    animation: spin 1s linear infinite;\n",
              "                }\n",
              "\n",
              "                .spinner-text {\n",
              "                    padding-left: 6px;\n",
              "                }\n",
              "            </style>\n",
              "        "
            ],
            "text/plain": [
              "<IPython.core.display.HTML object>"
            ]
          },
          "metadata": {},
          "output_type": "display_data"
        },
        {
          "name": "stdout",
          "output_type": "stream",
          "text": [
            "[lenta.ru] ✅ Добавлено: Координатор подрыва «Северных потоков» раскрыл неизвестные п... (704 слов). Итого: 9019\n",
            "[lenta.ru] Мало текста из мета (0 слов), ищем в DOM...\n",
            "[lenta.ru] Найдено 7 блоков текста\n",
            "[lenta.ru] Успешно: 176 слов\n"
          ]
        },
        {
          "data": {
            "text/html": [
              "\n",
              "            <div class=\"spinner-container\">\n",
              "                <div class=\"spinner\" id=\"004b59c7-f912-4a33-b309-4f417feadaab-circle\"></div>\n",
              "                <div class=\"spinner-text\" id=\"004b59c7-f912-4a33-b309-4f417feadaab-text\">Initializing Chromedriver</div>\n",
              "            </div>\n",
              "            <style>\n",
              "                @keyframes spin {\n",
              "                    from { transform: rotate(0deg); }\n",
              "                    to { transform: rotate(360deg); }\n",
              "                }\n",
              "\n",
              "                .spinner-container {\n",
              "                    display: flex;\n",
              "                    align-items: center;\n",
              "                    margin-bottom: 3px;\n",
              "                }\n",
              "\n",
              "                .spinner {\n",
              "                    border: 3px solid rgba(0, 0, 0, 0.1);\n",
              "                    border-left-color: lightblue;\n",
              "                    border-radius: 50%;\n",
              "                    width: 12px;\n",
              "                    height: 12px;\n",
              "                    animation: spin 1s linear infinite;\n",
              "                }\n",
              "\n",
              "                .spinner-text {\n",
              "                    padding-left: 6px;\n",
              "                }\n",
              "            </style>\n",
              "        "
            ],
            "text/plain": [
              "<IPython.core.display.HTML object>"
            ]
          },
          "metadata": {},
          "output_type": "display_data"
        },
        {
          "name": "stdout",
          "output_type": "stream",
          "text": [
            "[lenta.ru] ✅ Добавлено: Появились кадры обломков новейшей украинской ракеты «Фламинг... (176 слов). Итого: 9195\n"
          ]
        },
        {
          "data": {
            "application/javascript": "\n            const element = document.getElementById(\"d10c0ac3-72e1-40ff-b738-f64c476c0329-circle\");\n            element.style.border = \"3px solid limegreen\";\n            element.style.animation = \"none\";\n\n            const text = document.getElementById(\"d10c0ac3-72e1-40ff-b738-f64c476c0329-text\");\n            text.innerText = \"Initialized Chromedriver\";\n        ",
            "text/plain": [
              "<IPython.core.display.Javascript object>"
            ]
          },
          "metadata": {},
          "output_type": "display_data"
        },
        {
          "name": "stdout",
          "output_type": "stream",
          "text": [
            "[lenta.ru] Мало текста из мета (0 слов), ищем в DOM...\n",
            "[lenta.ru] Мало текста из мета (0 слов), ищем в DOM...\n",
            "[lenta.ru] Найдено 4 блоков текста\n",
            "[lenta.ru] Успешно: 101 слов\n",
            "[lenta.ru] Найдено 8 блоков текста\n",
            "[lenta.ru] Успешно: 188 слов\n"
          ]
        },
        {
          "data": {
            "application/javascript": "\n            const element = document.getElementById(\"004b59c7-f912-4a33-b309-4f417feadaab-circle\");\n            element.style.border = \"3px solid limegreen\";\n            element.style.animation = \"none\";\n\n            const text = document.getElementById(\"004b59c7-f912-4a33-b309-4f417feadaab-text\");\n            text.innerText = \"Initialized Chromedriver\";\n        ",
            "text/plain": [
              "<IPython.core.display.Javascript object>"
            ]
          },
          "metadata": {},
          "output_type": "display_data"
        },
        {
          "name": "stdout",
          "output_type": "stream",
          "text": [
            "[lenta.ru] ✅ Добавлено: Польские пограничники задержали хотевшего попасть в ЕС подро... (188 слов). Итого: 9383\n"
          ]
        },
        {
          "data": {
            "text/html": [
              "\n",
              "            <div class=\"spinner-container\">\n",
              "                <div class=\"spinner\" id=\"9a94947a-4cab-4a1d-a1d8-d47031d4597a-circle\"></div>\n",
              "                <div class=\"spinner-text\" id=\"9a94947a-4cab-4a1d-a1d8-d47031d4597a-text\">Initializing Chromedriver</div>\n",
              "            </div>\n",
              "            <style>\n",
              "                @keyframes spin {\n",
              "                    from { transform: rotate(0deg); }\n",
              "                    to { transform: rotate(360deg); }\n",
              "                }\n",
              "\n",
              "                .spinner-container {\n",
              "                    display: flex;\n",
              "                    align-items: center;\n",
              "                    margin-bottom: 3px;\n",
              "                }\n",
              "\n",
              "                .spinner {\n",
              "                    border: 3px solid rgba(0, 0, 0, 0.1);\n",
              "                    border-left-color: lightblue;\n",
              "                    border-radius: 50%;\n",
              "                    width: 12px;\n",
              "                    height: 12px;\n",
              "                    animation: spin 1s linear infinite;\n",
              "                }\n",
              "\n",
              "                .spinner-text {\n",
              "                    padding-left: 6px;\n",
              "                }\n",
              "            </style>\n",
              "        "
            ],
            "text/plain": [
              "<IPython.core.display.HTML object>"
            ]
          },
          "metadata": {},
          "output_type": "display_data"
        },
        {
          "data": {
            "text/html": [
              "\n",
              "            <div class=\"spinner-container\">\n",
              "                <div class=\"spinner\" id=\"dbc227b3-3ff7-4393-b829-7fbbaf6c9a0f-circle\"></div>\n",
              "                <div class=\"spinner-text\" id=\"dbc227b3-3ff7-4393-b829-7fbbaf6c9a0f-text\">Initializing Chromedriver</div>\n",
              "            </div>\n",
              "            <style>\n",
              "                @keyframes spin {\n",
              "                    from { transform: rotate(0deg); }\n",
              "                    to { transform: rotate(360deg); }\n",
              "                }\n",
              "\n",
              "                .spinner-container {\n",
              "                    display: flex;\n",
              "                    align-items: center;\n",
              "                    margin-bottom: 3px;\n",
              "                }\n",
              "\n",
              "                .spinner {\n",
              "                    border: 3px solid rgba(0, 0, 0, 0.1);\n",
              "                    border-left-color: lightblue;\n",
              "                    border-radius: 50%;\n",
              "                    width: 12px;\n",
              "                    height: 12px;\n",
              "                    animation: spin 1s linear infinite;\n",
              "                }\n",
              "\n",
              "                .spinner-text {\n",
              "                    padding-left: 6px;\n",
              "                }\n",
              "            </style>\n",
              "        "
            ],
            "text/plain": [
              "<IPython.core.display.HTML object>"
            ]
          },
          "metadata": {},
          "output_type": "display_data"
        },
        {
          "name": "stdout",
          "output_type": "stream",
          "text": [
            "[lenta.ru] Загружаем https://lenta.ru/news/2025/10/09/aktera-zbrueva-pereveli-v-drugoe-meduchrezhdenie-posle-gospitalizatsii/\n",
            "[lenta.ru] Загружаем https://lenta.ru/news/2025/10/09/v-belgii-predotvratili-pokushenie-na-politikov-s-pomoschyu-bpla/\n",
            "[lenta.ru] ✅ Добавлено: На Украине признали превосходство России в производстве дрон... (101 слов). Итого: 9484\n"
          ]
        },
        {
          "data": {
            "application/javascript": "\n            const element = document.getElementById(\"9a94947a-4cab-4a1d-a1d8-d47031d4597a-circle\");\n            element.style.border = \"3px solid limegreen\";\n            element.style.animation = \"none\";\n\n            const text = document.getElementById(\"9a94947a-4cab-4a1d-a1d8-d47031d4597a-text\");\n            text.innerText = \"Initialized Chromedriver\";\n        ",
            "text/plain": [
              "<IPython.core.display.Javascript object>"
            ]
          },
          "metadata": {},
          "output_type": "display_data"
        },
        {
          "data": {
            "application/javascript": "\n            const element = document.getElementById(\"dbc227b3-3ff7-4393-b829-7fbbaf6c9a0f-circle\");\n            element.style.border = \"3px solid limegreen\";\n            element.style.animation = \"none\";\n\n            const text = document.getElementById(\"dbc227b3-3ff7-4393-b829-7fbbaf6c9a0f-text\");\n            text.innerText = \"Initialized Chromedriver\";\n        ",
            "text/plain": [
              "<IPython.core.display.Javascript object>"
            ]
          },
          "metadata": {},
          "output_type": "display_data"
        },
        {
          "name": "stdout",
          "output_type": "stream",
          "text": [
            "[lenta.ru] Загружаем https://lenta.ru/news/2025/10/09/samaya-seksualnaya-v-mire-sudya-snyalas-v-kozhanom-mikrobikini/\n",
            "[lenta.ru] Загружаем https://lenta.ru/news/2025/10/09/borba-za-gorod-v-zone-svo-zakonchilas-podnyatiem-rossiyskogo-flaga/\n",
            "[lenta.ru] Мало текста из мета (0 слов), ищем в DOM...\n",
            "[lenta.ru] Найдено 5 блоков текста\n",
            "[lenta.ru] Успешно: 111 слов\n",
            "[lenta.ru] ✅ Добавлено: Актера Збруева перевели в другое медучреждение после госпита... (111 слов). Итого: 9595\n"
          ]
        },
        {
          "data": {
            "text/html": [
              "\n",
              "            <div class=\"spinner-container\">\n",
              "                <div class=\"spinner\" id=\"3aa5d7d3-df6f-48b7-a447-aa59ce067935-circle\"></div>\n",
              "                <div class=\"spinner-text\" id=\"3aa5d7d3-df6f-48b7-a447-aa59ce067935-text\">Initializing Chromedriver</div>\n",
              "            </div>\n",
              "            <style>\n",
              "                @keyframes spin {\n",
              "                    from { transform: rotate(0deg); }\n",
              "                    to { transform: rotate(360deg); }\n",
              "                }\n",
              "\n",
              "                .spinner-container {\n",
              "                    display: flex;\n",
              "                    align-items: center;\n",
              "                    margin-bottom: 3px;\n",
              "                }\n",
              "\n",
              "                .spinner {\n",
              "                    border: 3px solid rgba(0, 0, 0, 0.1);\n",
              "                    border-left-color: lightblue;\n",
              "                    border-radius: 50%;\n",
              "                    width: 12px;\n",
              "                    height: 12px;\n",
              "                    animation: spin 1s linear infinite;\n",
              "                }\n",
              "\n",
              "                .spinner-text {\n",
              "                    padding-left: 6px;\n",
              "                }\n",
              "            </style>\n",
              "        "
            ],
            "text/plain": [
              "<IPython.core.display.HTML object>"
            ]
          },
          "metadata": {},
          "output_type": "display_data"
        },
        {
          "data": {
            "application/javascript": "\n            const element = document.getElementById(\"3aa5d7d3-df6f-48b7-a447-aa59ce067935-circle\");\n            element.style.border = \"3px solid limegreen\";\n            element.style.animation = \"none\";\n\n            const text = document.getElementById(\"3aa5d7d3-df6f-48b7-a447-aa59ce067935-text\");\n            text.innerText = \"Initialized Chromedriver\";\n        ",
            "text/plain": [
              "<IPython.core.display.Javascript object>"
            ]
          },
          "metadata": {},
          "output_type": "display_data"
        },
        {
          "name": "stdout",
          "output_type": "stream",
          "text": [
            "[lenta.ru] Загружаем https://lenta.ru/news/2025/10/09/hamas-podtverdil-zavershenie-voyny-s-izrailem/\n",
            "[lenta.ru] Мало текста из мета (0 слов), ищем в DOM...\n",
            "[lenta.ru] Мало текста из мета (0 слов), ищем в DOM...\n",
            "[lenta.ru] Найдено 4 блоков текста\n",
            "[lenta.ru] Успешно: 81 слов\n",
            "[lenta.ru] Найдено 4 блоков текста\n",
            "[lenta.ru] Успешно: 99 слов\n",
            "[lenta.ru] ✅ Добавлено: Борьба за город в зоне СВО закончилась поднятием российского... (81 слов). Итого: 9676\n"
          ]
        },
        {
          "data": {
            "text/html": [
              "\n",
              "            <div class=\"spinner-container\">\n",
              "                <div class=\"spinner\" id=\"68eab7e7-4049-43a9-89c7-2529c0a536dd-circle\"></div>\n",
              "                <div class=\"spinner-text\" id=\"68eab7e7-4049-43a9-89c7-2529c0a536dd-text\">Initializing Chromedriver</div>\n",
              "            </div>\n",
              "            <style>\n",
              "                @keyframes spin {\n",
              "                    from { transform: rotate(0deg); }\n",
              "                    to { transform: rotate(360deg); }\n",
              "                }\n",
              "\n",
              "                .spinner-container {\n",
              "                    display: flex;\n",
              "                    align-items: center;\n",
              "                    margin-bottom: 3px;\n",
              "                }\n",
              "\n",
              "                .spinner {\n",
              "                    border: 3px solid rgba(0, 0, 0, 0.1);\n",
              "                    border-left-color: lightblue;\n",
              "                    border-radius: 50%;\n",
              "                    width: 12px;\n",
              "                    height: 12px;\n",
              "                    animation: spin 1s linear infinite;\n",
              "                }\n",
              "\n",
              "                .spinner-text {\n",
              "                    padding-left: 6px;\n",
              "                }\n",
              "            </style>\n",
              "        "
            ],
            "text/plain": [
              "<IPython.core.display.HTML object>"
            ]
          },
          "metadata": {},
          "output_type": "display_data"
        },
        {
          "data": {
            "text/html": [
              "\n",
              "            <div class=\"spinner-container\">\n",
              "                <div class=\"spinner\" id=\"89a445a7-a3a9-4aee-8ec7-deb380e12db7-circle\"></div>\n",
              "                <div class=\"spinner-text\" id=\"89a445a7-a3a9-4aee-8ec7-deb380e12db7-text\">Initializing Chromedriver</div>\n",
              "            </div>\n",
              "            <style>\n",
              "                @keyframes spin {\n",
              "                    from { transform: rotate(0deg); }\n",
              "                    to { transform: rotate(360deg); }\n",
              "                }\n",
              "\n",
              "                .spinner-container {\n",
              "                    display: flex;\n",
              "                    align-items: center;\n",
              "                    margin-bottom: 3px;\n",
              "                }\n",
              "\n",
              "                .spinner {\n",
              "                    border: 3px solid rgba(0, 0, 0, 0.1);\n",
              "                    border-left-color: lightblue;\n",
              "                    border-radius: 50%;\n",
              "                    width: 12px;\n",
              "                    height: 12px;\n",
              "                    animation: spin 1s linear infinite;\n",
              "                }\n",
              "\n",
              "                .spinner-text {\n",
              "                    padding-left: 6px;\n",
              "                }\n",
              "            </style>\n",
              "        "
            ],
            "text/plain": [
              "<IPython.core.display.HTML object>"
            ]
          },
          "metadata": {},
          "output_type": "display_data"
        },
        {
          "name": "stdout",
          "output_type": "stream",
          "text": [
            "[lenta.ru] Мало текста из мета (0 слов), ищем в DOM...\n",
            "[lenta.ru] Найдено 3 блоков текста\n",
            "[lenta.ru] Успешно: 122 слов\n",
            "[lenta.ru] ✅ Добавлено: В Бельгии предотвратили покушение на политиков с помощью БПЛ... (99 слов). Итого: 9775\n"
          ]
        },
        {
          "data": {
            "text/html": [
              "\n",
              "            <div class=\"spinner-container\">\n",
              "                <div class=\"spinner\" id=\"ba942005-eb04-48fd-ab51-4a0730e20eba-circle\"></div>\n",
              "                <div class=\"spinner-text\" id=\"ba942005-eb04-48fd-ab51-4a0730e20eba-text\">Initializing Chromedriver</div>\n",
              "            </div>\n",
              "            <style>\n",
              "                @keyframes spin {\n",
              "                    from { transform: rotate(0deg); }\n",
              "                    to { transform: rotate(360deg); }\n",
              "                }\n",
              "\n",
              "                .spinner-container {\n",
              "                    display: flex;\n",
              "                    align-items: center;\n",
              "                    margin-bottom: 3px;\n",
              "                }\n",
              "\n",
              "                .spinner {\n",
              "                    border: 3px solid rgba(0, 0, 0, 0.1);\n",
              "                    border-left-color: lightblue;\n",
              "                    border-radius: 50%;\n",
              "                    width: 12px;\n",
              "                    height: 12px;\n",
              "                    animation: spin 1s linear infinite;\n",
              "                }\n",
              "\n",
              "                .spinner-text {\n",
              "                    padding-left: 6px;\n",
              "                }\n",
              "            </style>\n",
              "        "
            ],
            "text/plain": [
              "<IPython.core.display.HTML object>"
            ]
          },
          "metadata": {},
          "output_type": "display_data"
        },
        {
          "name": "stdout",
          "output_type": "stream",
          "text": [
            "[lenta.ru] ✅ Добавлено: «Самая сексуальная в мире судья» снялась в кожаном микробики... (122 слов). Итого: 9897\n"
          ]
        },
        {
          "data": {
            "application/javascript": "\n            const element = document.getElementById(\"68eab7e7-4049-43a9-89c7-2529c0a536dd-circle\");\n            element.style.border = \"3px solid limegreen\";\n            element.style.animation = \"none\";\n\n            const text = document.getElementById(\"68eab7e7-4049-43a9-89c7-2529c0a536dd-text\");\n            text.innerText = \"Initialized Chromedriver\";\n        ",
            "text/plain": [
              "<IPython.core.display.Javascript object>"
            ]
          },
          "metadata": {},
          "output_type": "display_data"
        },
        {
          "data": {
            "application/javascript": "\n            const element = document.getElementById(\"ba942005-eb04-48fd-ab51-4a0730e20eba-circle\");\n            element.style.border = \"3px solid limegreen\";\n            element.style.animation = \"none\";\n\n            const text = document.getElementById(\"ba942005-eb04-48fd-ab51-4a0730e20eba-text\");\n            text.innerText = \"Initialized Chromedriver\";\n        ",
            "text/plain": [
              "<IPython.core.display.Javascript object>"
            ]
          },
          "metadata": {},
          "output_type": "display_data"
        },
        {
          "data": {
            "application/javascript": "\n            const element = document.getElementById(\"89a445a7-a3a9-4aee-8ec7-deb380e12db7-circle\");\n            element.style.border = \"3px solid limegreen\";\n            element.style.animation = \"none\";\n\n            const text = document.getElementById(\"89a445a7-a3a9-4aee-8ec7-deb380e12db7-text\");\n            text.innerText = \"Initialized Chromedriver\";\n        ",
            "text/plain": [
              "<IPython.core.display.Javascript object>"
            ]
          },
          "metadata": {},
          "output_type": "display_data"
        },
        {
          "name": "stdout",
          "output_type": "stream",
          "text": [
            "[lenta.ru] Загружаем https://lenta.ru/news/2025/10/09/na-zapade-rasskazali-o-podgotovke-armii-ssha/\n",
            "[lenta.ru] Загружаем https://lenta.ru/news/2025/10/09/tramp-zadumalsya-ob-okazanii-uslugi-kitayu-za-trillion-dollarov/\n",
            "[lenta.ru] Загружаем https://lenta.ru/news/2025/10/09/tramp-ob-yavil-o-skorom-podpisanii-dogovorennosti-ob-uregulirovanii-v-gaze/\n",
            "[lenta.ru] Мало текста из мета (0 слов), ищем в DOM...\n",
            "[lenta.ru] Найдено 4 блоков текста\n",
            "[lenta.ru] Успешно: 80 слов\n",
            "[lenta.ru] ✅ Добавлено: ХАМАС подтвердил завершение войны с Израилем: Политика: Мир:... (80 слов). Итого: 9977\n"
          ]
        },
        {
          "data": {
            "text/html": [
              "\n",
              "            <div class=\"spinner-container\">\n",
              "                <div class=\"spinner\" id=\"83b51cc4-a6b0-4dd0-b7fb-7bed8f37bee2-circle\"></div>\n",
              "                <div class=\"spinner-text\" id=\"83b51cc4-a6b0-4dd0-b7fb-7bed8f37bee2-text\">Initializing Chromedriver</div>\n",
              "            </div>\n",
              "            <style>\n",
              "                @keyframes spin {\n",
              "                    from { transform: rotate(0deg); }\n",
              "                    to { transform: rotate(360deg); }\n",
              "                }\n",
              "\n",
              "                .spinner-container {\n",
              "                    display: flex;\n",
              "                    align-items: center;\n",
              "                    margin-bottom: 3px;\n",
              "                }\n",
              "\n",
              "                .spinner {\n",
              "                    border: 3px solid rgba(0, 0, 0, 0.1);\n",
              "                    border-left-color: lightblue;\n",
              "                    border-radius: 50%;\n",
              "                    width: 12px;\n",
              "                    height: 12px;\n",
              "                    animation: spin 1s linear infinite;\n",
              "                }\n",
              "\n",
              "                .spinner-text {\n",
              "                    padding-left: 6px;\n",
              "                }\n",
              "            </style>\n",
              "        "
            ],
            "text/plain": [
              "<IPython.core.display.HTML object>"
            ]
          },
          "metadata": {},
          "output_type": "display_data"
        },
        {
          "data": {
            "application/javascript": "\n            const element = document.getElementById(\"83b51cc4-a6b0-4dd0-b7fb-7bed8f37bee2-circle\");\n            element.style.border = \"3px solid limegreen\";\n            element.style.animation = \"none\";\n\n            const text = document.getElementById(\"83b51cc4-a6b0-4dd0-b7fb-7bed8f37bee2-text\");\n            text.innerText = \"Initialized Chromedriver\";\n        ",
            "text/plain": [
              "<IPython.core.display.Javascript object>"
            ]
          },
          "metadata": {},
          "output_type": "display_data"
        },
        {
          "name": "stdout",
          "output_type": "stream",
          "text": [
            "[lenta.ru] Загружаем https://lenta.ru/news/2025/10/09/voenkor-soobschil-o-planah-kieva-ustroit-blekaut-v-belgorode/\n",
            "[lenta.ru] Мало текста из мета (0 слов), ищем в DOM...\n",
            "[lenta.ru] Найдено 6 блоков текста\n",
            "[lenta.ru] Успешно: 135 слов\n",
            "[lenta.ru] ✅ Добавлено: На Западе рассказали о подготовке армии США к предстоящему к... (135 слов). Итого: 10112\n"
          ]
        },
        {
          "data": {
            "text/html": [
              "\n",
              "            <div class=\"spinner-container\">\n",
              "                <div class=\"spinner\" id=\"03442900-8c58-4296-a233-5989cc369a61-circle\"></div>\n",
              "                <div class=\"spinner-text\" id=\"03442900-8c58-4296-a233-5989cc369a61-text\">Initializing Chromedriver</div>\n",
              "            </div>\n",
              "            <style>\n",
              "                @keyframes spin {\n",
              "                    from { transform: rotate(0deg); }\n",
              "                    to { transform: rotate(360deg); }\n",
              "                }\n",
              "\n",
              "                .spinner-container {\n",
              "                    display: flex;\n",
              "                    align-items: center;\n",
              "                    margin-bottom: 3px;\n",
              "                }\n",
              "\n",
              "                .spinner {\n",
              "                    border: 3px solid rgba(0, 0, 0, 0.1);\n",
              "                    border-left-color: lightblue;\n",
              "                    border-radius: 50%;\n",
              "                    width: 12px;\n",
              "                    height: 12px;\n",
              "                    animation: spin 1s linear infinite;\n",
              "                }\n",
              "\n",
              "                .spinner-text {\n",
              "                    padding-left: 6px;\n",
              "                }\n",
              "            </style>\n",
              "        "
            ],
            "text/plain": [
              "<IPython.core.display.HTML object>"
            ]
          },
          "metadata": {},
          "output_type": "display_data"
        },
        {
          "data": {
            "application/javascript": "\n            const element = document.getElementById(\"03442900-8c58-4296-a233-5989cc369a61-circle\");\n            element.style.border = \"3px solid limegreen\";\n            element.style.animation = \"none\";\n\n            const text = document.getElementById(\"03442900-8c58-4296-a233-5989cc369a61-text\");\n            text.innerText = \"Initialized Chromedriver\";\n        ",
            "text/plain": [
              "<IPython.core.display.Javascript object>"
            ]
          },
          "metadata": {},
          "output_type": "display_data"
        },
        {
          "name": "stdout",
          "output_type": "stream",
          "text": [
            "[lenta.ru] Мало текста из мета (0 слов), ищем в DOM...\n",
            "[lenta.ru] Найдено 6 блоков текста\n",
            "[lenta.ru] Успешно: 183 слов\n",
            "[lenta.ru] Загружаем https://lenta.ru/news/2025/10/09/ssha-predrekli-otsutstvie-sredstv-na-pereosnaschenie-yadernogo-arsenala/\n"
          ]
        },
        {
          "data": {
            "text/html": [
              "\n",
              "            <div class=\"spinner-container\">\n",
              "                <div class=\"spinner\" id=\"c7e73c39-ef56-4f6e-b29d-288d1568d699-circle\"></div>\n",
              "                <div class=\"spinner-text\" id=\"c7e73c39-ef56-4f6e-b29d-288d1568d699-text\">Initializing Chromedriver</div>\n",
              "            </div>\n",
              "            <style>\n",
              "                @keyframes spin {\n",
              "                    from { transform: rotate(0deg); }\n",
              "                    to { transform: rotate(360deg); }\n",
              "                }\n",
              "\n",
              "                .spinner-container {\n",
              "                    display: flex;\n",
              "                    align-items: center;\n",
              "                    margin-bottom: 3px;\n",
              "                }\n",
              "\n",
              "                .spinner {\n",
              "                    border: 3px solid rgba(0, 0, 0, 0.1);\n",
              "                    border-left-color: lightblue;\n",
              "                    border-radius: 50%;\n",
              "                    width: 12px;\n",
              "                    height: 12px;\n",
              "                    animation: spin 1s linear infinite;\n",
              "                }\n",
              "\n",
              "                .spinner-text {\n",
              "                    padding-left: 6px;\n",
              "                }\n",
              "            </style>\n",
              "        "
            ],
            "text/plain": [
              "<IPython.core.display.HTML object>"
            ]
          },
          "metadata": {},
          "output_type": "display_data"
        },
        {
          "name": "stdout",
          "output_type": "stream",
          "text": [
            "[lenta.ru] ✅ Добавлено: Трамп задумался об оказании услуги Китаю за триллион долларо... (183 слов). Итого: 10295\n",
            "[lenta.ru] Мало текста из мета (0 слов), ищем в DOM...\n",
            "[lenta.ru] Найдено 4 блоков текста\n",
            "[lenta.ru] Успешно: 67 слов\n"
          ]
        },
        {
          "data": {
            "text/html": [
              "\n",
              "            <div class=\"spinner-container\">\n",
              "                <div class=\"spinner\" id=\"8c1e8b5e-bc44-438a-b68e-544663f2a94c-circle\"></div>\n",
              "                <div class=\"spinner-text\" id=\"8c1e8b5e-bc44-438a-b68e-544663f2a94c-text\">Initializing Chromedriver</div>\n",
              "            </div>\n",
              "            <style>\n",
              "                @keyframes spin {\n",
              "                    from { transform: rotate(0deg); }\n",
              "                    to { transform: rotate(360deg); }\n",
              "                }\n",
              "\n",
              "                .spinner-container {\n",
              "                    display: flex;\n",
              "                    align-items: center;\n",
              "                    margin-bottom: 3px;\n",
              "                }\n",
              "\n",
              "                .spinner {\n",
              "                    border: 3px solid rgba(0, 0, 0, 0.1);\n",
              "                    border-left-color: lightblue;\n",
              "                    border-radius: 50%;\n",
              "                    width: 12px;\n",
              "                    height: 12px;\n",
              "                    animation: spin 1s linear infinite;\n",
              "                }\n",
              "\n",
              "                .spinner-text {\n",
              "                    padding-left: 6px;\n",
              "                }\n",
              "            </style>\n",
              "        "
            ],
            "text/plain": [
              "<IPython.core.display.HTML object>"
            ]
          },
          "metadata": {},
          "output_type": "display_data"
        },
        {
          "name": "stdout",
          "output_type": "stream",
          "text": [
            "[lenta.ru] ✅ Добавлено: Трамп объявил о скором подписании договоренности об урегулир... (67 слов). Итого: 10362\n"
          ]
        },
        {
          "data": {
            "application/javascript": "\n            const element = document.getElementById(\"c7e73c39-ef56-4f6e-b29d-288d1568d699-circle\");\n            element.style.border = \"3px solid limegreen\";\n            element.style.animation = \"none\";\n\n            const text = document.getElementById(\"c7e73c39-ef56-4f6e-b29d-288d1568d699-text\");\n            text.innerText = \"Initialized Chromedriver\";\n        ",
            "text/plain": [
              "<IPython.core.display.Javascript object>"
            ]
          },
          "metadata": {},
          "output_type": "display_data"
        },
        {
          "data": {
            "application/javascript": "\n            const element = document.getElementById(\"8c1e8b5e-bc44-438a-b68e-544663f2a94c-circle\");\n            element.style.border = \"3px solid limegreen\";\n            element.style.animation = \"none\";\n\n            const text = document.getElementById(\"8c1e8b5e-bc44-438a-b68e-544663f2a94c-text\");\n            text.innerText = \"Initialized Chromedriver\";\n        ",
            "text/plain": [
              "<IPython.core.display.Javascript object>"
            ]
          },
          "metadata": {},
          "output_type": "display_data"
        },
        {
          "name": "stdout",
          "output_type": "stream",
          "text": [
            "[lenta.ru] Загружаем https://lenta.ru/news/2025/10/09/baronet/\n",
            "[lenta.ru] Загружаем https://lenta.ru/parts/news/\n",
            "[lenta.ru] Мало текста из мета (0 слов), ищем в DOM...\n",
            "[lenta.ru] Найдено 4 блоков текста\n",
            "[lenta.ru] Успешно: 116 слов\n",
            "[lenta.ru] ✅ Добавлено: Военкор сообщил о планах Киева устроить блэкаут в Белгороде:... (116 слов). Итого: 10478\n"
          ]
        },
        {
          "data": {
            "text/html": [
              "\n",
              "            <div class=\"spinner-container\">\n",
              "                <div class=\"spinner\" id=\"6bf62def-6e94-4b9f-894e-9a73345644c1-circle\"></div>\n",
              "                <div class=\"spinner-text\" id=\"6bf62def-6e94-4b9f-894e-9a73345644c1-text\">Initializing Chromedriver</div>\n",
              "            </div>\n",
              "            <style>\n",
              "                @keyframes spin {\n",
              "                    from { transform: rotate(0deg); }\n",
              "                    to { transform: rotate(360deg); }\n",
              "                }\n",
              "\n",
              "                .spinner-container {\n",
              "                    display: flex;\n",
              "                    align-items: center;\n",
              "                    margin-bottom: 3px;\n",
              "                }\n",
              "\n",
              "                .spinner {\n",
              "                    border: 3px solid rgba(0, 0, 0, 0.1);\n",
              "                    border-left-color: lightblue;\n",
              "                    border-radius: 50%;\n",
              "                    width: 12px;\n",
              "                    height: 12px;\n",
              "                    animation: spin 1s linear infinite;\n",
              "                }\n",
              "\n",
              "                .spinner-text {\n",
              "                    padding-left: 6px;\n",
              "                }\n",
              "            </style>\n",
              "        "
            ],
            "text/plain": [
              "<IPython.core.display.HTML object>"
            ]
          },
          "metadata": {},
          "output_type": "display_data"
        },
        {
          "data": {
            "application/javascript": "\n            const element = document.getElementById(\"6bf62def-6e94-4b9f-894e-9a73345644c1-circle\");\n            element.style.border = \"3px solid limegreen\";\n            element.style.animation = \"none\";\n\n            const text = document.getElementById(\"6bf62def-6e94-4b9f-894e-9a73345644c1-text\");\n            text.innerText = \"Initialized Chromedriver\";\n        ",
            "text/plain": [
              "<IPython.core.display.Javascript object>"
            ]
          },
          "metadata": {},
          "output_type": "display_data"
        },
        {
          "name": "stdout",
          "output_type": "stream",
          "text": [
            "[lenta.ru] Загружаем https://lenta.ru/news/2025/10/09/byvshiy-ministr-sporta-rossii-otreagiroval-na-slova-osudivshego-uchastie-rossiyan-v-nhl-gasheka/\n",
            "[lenta.ru] Мало текста из мета (0 слов), ищем в DOM...\n",
            "[lenta.ru] Найдено 4 блоков текста\n",
            "[lenta.ru] Успешно: 100 слов\n",
            "[lenta.ru] ✅ Добавлено: США предрекли отсутствие средств на переоснащение ядерного а... (100 слов). Итого: 10578\n"
          ]
        },
        {
          "data": {
            "text/html": [
              "\n",
              "            <div class=\"spinner-container\">\n",
              "                <div class=\"spinner\" id=\"f6e7d811-e073-4e4b-b3df-56e1381ca2ac-circle\"></div>\n",
              "                <div class=\"spinner-text\" id=\"f6e7d811-e073-4e4b-b3df-56e1381ca2ac-text\">Initializing Chromedriver</div>\n",
              "            </div>\n",
              "            <style>\n",
              "                @keyframes spin {\n",
              "                    from { transform: rotate(0deg); }\n",
              "                    to { transform: rotate(360deg); }\n",
              "                }\n",
              "\n",
              "                .spinner-container {\n",
              "                    display: flex;\n",
              "                    align-items: center;\n",
              "                    margin-bottom: 3px;\n",
              "                }\n",
              "\n",
              "                .spinner {\n",
              "                    border: 3px solid rgba(0, 0, 0, 0.1);\n",
              "                    border-left-color: lightblue;\n",
              "                    border-radius: 50%;\n",
              "                    width: 12px;\n",
              "                    height: 12px;\n",
              "                    animation: spin 1s linear infinite;\n",
              "                }\n",
              "\n",
              "                .spinner-text {\n",
              "                    padding-left: 6px;\n",
              "                }\n",
              "            </style>\n",
              "        "
            ],
            "text/plain": [
              "<IPython.core.display.HTML object>"
            ]
          },
          "metadata": {},
          "output_type": "display_data"
        },
        {
          "data": {
            "application/javascript": "\n            const element = document.getElementById(\"f6e7d811-e073-4e4b-b3df-56e1381ca2ac-circle\");\n            element.style.border = \"3px solid limegreen\";\n            element.style.animation = \"none\";\n\n            const text = document.getElementById(\"f6e7d811-e073-4e4b-b3df-56e1381ca2ac-text\");\n            text.innerText = \"Initialized Chromedriver\";\n        ",
            "text/plain": [
              "<IPython.core.display.Javascript object>"
            ]
          },
          "metadata": {},
          "output_type": "display_data"
        },
        {
          "name": "stdout",
          "output_type": "stream",
          "text": [
            "[lenta.ru] Загружаем https://lenta.ru/news/2025/10/09/samaya-izvestnaya-pevitsa-v-mire-spela-o-penise-zheniha/\n",
            "[lenta.ru] Мало текста из мета (0 слов), ищем в DOM...\n",
            "[lenta.ru] Найдено 56 блоков текста\n",
            "[lenta.ru] Успешно: 1945 слов\n",
            "[lenta.ru] ✅ Добавлено: «Как же меня утомили русские». Как эксцентричный аристократ-... (1945 слов). Итого: 12523"
          ]
        },
        {
          "data": {
            "text/html": [
              "\n",
              "            <div class=\"spinner-container\">\n",
              "                <div class=\"spinner\" id=\"67176a88-022b-4ad0-b364-80f224fd3e22-circle\"></div>\n",
              "                <div class=\"spinner-text\" id=\"67176a88-022b-4ad0-b364-80f224fd3e22-text\">Initializing Chromedriver</div>\n",
              "            </div>\n",
              "            <style>\n",
              "                @keyframes spin {\n",
              "                    from { transform: rotate(0deg); }\n",
              "                    to { transform: rotate(360deg); }\n",
              "                }\n",
              "\n",
              "                .spinner-container {\n",
              "                    display: flex;\n",
              "                    align-items: center;\n",
              "                    margin-bottom: 3px;\n",
              "                }\n",
              "\n",
              "                .spinner {\n",
              "                    border: 3px solid rgba(0, 0, 0, 0.1);\n",
              "                    border-left-color: lightblue;\n",
              "                    border-radius: 50%;\n",
              "                    width: 12px;\n",
              "                    height: 12px;\n",
              "                    animation: spin 1s linear infinite;\n",
              "                }\n",
              "\n",
              "                .spinner-text {\n",
              "                    padding-left: 6px;\n",
              "                }\n",
              "            </style>\n",
              "        "
            ],
            "text/plain": [
              "<IPython.core.display.HTML object>"
            ]
          },
          "metadata": {},
          "output_type": "display_data"
        },
        {
          "name": "stdout",
          "output_type": "stream",
          "text": [
            "\n"
          ]
        },
        {
          "data": {
            "application/javascript": "\n            const element = document.getElementById(\"67176a88-022b-4ad0-b364-80f224fd3e22-circle\");\n            element.style.border = \"3px solid limegreen\";\n            element.style.animation = \"none\";\n\n            const text = document.getElementById(\"67176a88-022b-4ad0-b364-80f224fd3e22-text\");\n            text.innerText = \"Initialized Chromedriver\";\n        ",
            "text/plain": [
              "<IPython.core.display.Javascript object>"
            ]
          },
          "metadata": {},
          "output_type": "display_data"
        },
        {
          "name": "stdout",
          "output_type": "stream",
          "text": [
            "[lenta.ru] Загружаем https://lenta.ru/news/2025/10/09/ob-yasnena-polza-koshek-dlya-zdorovya-serdtsa/\n",
            "[lenta.ru] Ошибка парсинга https://lenta.ru/parts/news/: Message: \n",
            "\n",
            "[lenta.ru] ❌ Не удалось извлечь статью: https://lenta.ru/parts/news/\n"
          ]
        },
        {
          "data": {
            "text/html": [
              "\n",
              "            <div class=\"spinner-container\">\n",
              "                <div class=\"spinner\" id=\"c2053efb-3bbc-432e-a429-b466707c31d8-circle\"></div>\n",
              "                <div class=\"spinner-text\" id=\"c2053efb-3bbc-432e-a429-b466707c31d8-text\">Initializing Chromedriver</div>\n",
              "            </div>\n",
              "            <style>\n",
              "                @keyframes spin {\n",
              "                    from { transform: rotate(0deg); }\n",
              "                    to { transform: rotate(360deg); }\n",
              "                }\n",
              "\n",
              "                .spinner-container {\n",
              "                    display: flex;\n",
              "                    align-items: center;\n",
              "                    margin-bottom: 3px;\n",
              "                }\n",
              "\n",
              "                .spinner {\n",
              "                    border: 3px solid rgba(0, 0, 0, 0.1);\n",
              "                    border-left-color: lightblue;\n",
              "                    border-radius: 50%;\n",
              "                    width: 12px;\n",
              "                    height: 12px;\n",
              "                    animation: spin 1s linear infinite;\n",
              "                }\n",
              "\n",
              "                .spinner-text {\n",
              "                    padding-left: 6px;\n",
              "                }\n",
              "            </style>\n",
              "        "
            ],
            "text/plain": [
              "<IPython.core.display.HTML object>"
            ]
          },
          "metadata": {},
          "output_type": "display_data"
        },
        {
          "data": {
            "application/javascript": "\n            const element = document.getElementById(\"c2053efb-3bbc-432e-a429-b466707c31d8-circle\");\n            element.style.border = \"3px solid limegreen\";\n            element.style.animation = \"none\";\n\n            const text = document.getElementById(\"c2053efb-3bbc-432e-a429-b466707c31d8-text\");\n            text.innerText = \"Initialized Chromedriver\";\n        ",
            "text/plain": [
              "<IPython.core.display.Javascript object>"
            ]
          },
          "metadata": {},
          "output_type": "display_data"
        },
        {
          "name": "stdout",
          "output_type": "stream",
          "text": [
            "[lenta.ru] Загружаем https://lenta.ru/news/2025/10/09/izvestnaya-rossiyskaya-televeduschaya-rasskazala-ob-aborte-i-nazvala-ego-muchitelnym-resheniem/\n",
            "[lenta.ru] Мало текста из мета (0 слов), ищем в DOM...\n",
            "[lenta.ru] Найдено 4 блоков текста\n",
            "[lenta.ru] Успешно: 115 слов\n",
            "[lenta.ru] ✅ Добавлено: Бывший министр спорта России отреагировал на слова осудившег... (115 слов). Итого: 12638\n"
          ]
        },
        {
          "data": {
            "text/html": [
              "\n",
              "            <div class=\"spinner-container\">\n",
              "                <div class=\"spinner\" id=\"0b21b168-8efe-44ec-9029-c6b1367fc3e2-circle\"></div>\n",
              "                <div class=\"spinner-text\" id=\"0b21b168-8efe-44ec-9029-c6b1367fc3e2-text\">Initializing Chromedriver</div>\n",
              "            </div>\n",
              "            <style>\n",
              "                @keyframes spin {\n",
              "                    from { transform: rotate(0deg); }\n",
              "                    to { transform: rotate(360deg); }\n",
              "                }\n",
              "\n",
              "                .spinner-container {\n",
              "                    display: flex;\n",
              "                    align-items: center;\n",
              "                    margin-bottom: 3px;\n",
              "                }\n",
              "\n",
              "                .spinner {\n",
              "                    border: 3px solid rgba(0, 0, 0, 0.1);\n",
              "                    border-left-color: lightblue;\n",
              "                    border-radius: 50%;\n",
              "                    width: 12px;\n",
              "                    height: 12px;\n",
              "                    animation: spin 1s linear infinite;\n",
              "                }\n",
              "\n",
              "                .spinner-text {\n",
              "                    padding-left: 6px;\n",
              "                }\n",
              "            </style>\n",
              "        "
            ],
            "text/plain": [
              "<IPython.core.display.HTML object>"
            ]
          },
          "metadata": {},
          "output_type": "display_data"
        },
        {
          "data": {
            "application/javascript": "\n            const element = document.getElementById(\"0b21b168-8efe-44ec-9029-c6b1367fc3e2-circle\");\n            element.style.border = \"3px solid limegreen\";\n            element.style.animation = \"none\";\n\n            const text = document.getElementById(\"0b21b168-8efe-44ec-9029-c6b1367fc3e2-text\");\n            text.innerText = \"Initialized Chromedriver\";\n        ",
            "text/plain": [
              "<IPython.core.display.Javascript object>"
            ]
          },
          "metadata": {},
          "output_type": "display_data"
        },
        {
          "name": "stdout",
          "output_type": "stream",
          "text": [
            "[lenta.ru] Загружаем https://lenta.ru/news/2025/10/09/byvshaya-zhena-pashi-tehnika-obratilas-k-reperu-vacio/\n",
            "[lenta.ru] Мало текста из мета (0 слов), ищем в DOM...\n",
            "[lenta.ru] Найдено 5 блоков текста\n",
            "[lenta.ru] Успешно: 157 слов\n",
            "[lenta.ru] ✅ Добавлено: Самая известная певица в мире спела о пенисе жениха: Персоны... (157 слов). Итого: 12795\n"
          ]
        },
        {
          "data": {
            "text/html": [
              "\n",
              "            <div class=\"spinner-container\">\n",
              "                <div class=\"spinner\" id=\"1af0c1c2-1b26-4e72-a42a-9410e7339797-circle\"></div>\n",
              "                <div class=\"spinner-text\" id=\"1af0c1c2-1b26-4e72-a42a-9410e7339797-text\">Initializing Chromedriver</div>\n",
              "            </div>\n",
              "            <style>\n",
              "                @keyframes spin {\n",
              "                    from { transform: rotate(0deg); }\n",
              "                    to { transform: rotate(360deg); }\n",
              "                }\n",
              "\n",
              "                .spinner-container {\n",
              "                    display: flex;\n",
              "                    align-items: center;\n",
              "                    margin-bottom: 3px;\n",
              "                }\n",
              "\n",
              "                .spinner {\n",
              "                    border: 3px solid rgba(0, 0, 0, 0.1);\n",
              "                    border-left-color: lightblue;\n",
              "                    border-radius: 50%;\n",
              "                    width: 12px;\n",
              "                    height: 12px;\n",
              "                    animation: spin 1s linear infinite;\n",
              "                }\n",
              "\n",
              "                .spinner-text {\n",
              "                    padding-left: 6px;\n",
              "                }\n",
              "            </style>\n",
              "        "
            ],
            "text/plain": [
              "<IPython.core.display.HTML object>"
            ]
          },
          "metadata": {},
          "output_type": "display_data"
        },
        {
          "data": {
            "application/javascript": "\n            const element = document.getElementById(\"1af0c1c2-1b26-4e72-a42a-9410e7339797-circle\");\n            element.style.border = \"3px solid limegreen\";\n            element.style.animation = \"none\";\n\n            const text = document.getElementById(\"1af0c1c2-1b26-4e72-a42a-9410e7339797-text\");\n            text.innerText = \"Initialized Chromedriver\";\n        ",
            "text/plain": [
              "<IPython.core.display.Javascript object>"
            ]
          },
          "metadata": {},
          "output_type": "display_data"
        },
        {
          "name": "stdout",
          "output_type": "stream",
          "text": [
            "[lenta.ru] Загружаем https://lenta.ru/news/2025/10/09/rossiyan-predupredili-ob-obshirnoy-tsiklonicheskoy-depressii/\n",
            "[lenta.ru] Мало текста из мета (0 слов), ищем в DOM...\n",
            "[lenta.ru] Найдено 4 блоков текста\n",
            "[lenta.ru] Успешно: 106 слов\n",
            "[lenta.ru] ✅ Добавлено: Объяснена польза кошек для здоровья сердца: Уход за собой: З... (106 слов). Итого: 12901\n"
          ]
        },
        {
          "data": {
            "text/html": [
              "\n",
              "            <div class=\"spinner-container\">\n",
              "                <div class=\"spinner\" id=\"44d5642e-1c20-448e-8d5d-290eb298b1da-circle\"></div>\n",
              "                <div class=\"spinner-text\" id=\"44d5642e-1c20-448e-8d5d-290eb298b1da-text\">Initializing Chromedriver</div>\n",
              "            </div>\n",
              "            <style>\n",
              "                @keyframes spin {\n",
              "                    from { transform: rotate(0deg); }\n",
              "                    to { transform: rotate(360deg); }\n",
              "                }\n",
              "\n",
              "                .spinner-container {\n",
              "                    display: flex;\n",
              "                    align-items: center;\n",
              "                    margin-bottom: 3px;\n",
              "                }\n",
              "\n",
              "                .spinner {\n",
              "                    border: 3px solid rgba(0, 0, 0, 0.1);\n",
              "                    border-left-color: lightblue;\n",
              "                    border-radius: 50%;\n",
              "                    width: 12px;\n",
              "                    height: 12px;\n",
              "                    animation: spin 1s linear infinite;\n",
              "                }\n",
              "\n",
              "                .spinner-text {\n",
              "                    padding-left: 6px;\n",
              "                }\n",
              "            </style>\n",
              "        "
            ],
            "text/plain": [
              "<IPython.core.display.HTML object>"
            ]
          },
          "metadata": {},
          "output_type": "display_data"
        },
        {
          "data": {
            "application/javascript": "\n            const element = document.getElementById(\"44d5642e-1c20-448e-8d5d-290eb298b1da-circle\");\n            element.style.border = \"3px solid limegreen\";\n            element.style.animation = \"none\";\n\n            const text = document.getElementById(\"44d5642e-1c20-448e-8d5d-290eb298b1da-text\");\n            text.innerText = \"Initialized Chromedriver\";\n        ",
            "text/plain": [
              "<IPython.core.display.Javascript object>"
            ]
          },
          "metadata": {},
          "output_type": "display_data"
        },
        {
          "name": "stdout",
          "output_type": "stream",
          "text": [
            "[lenta.ru] Загружаем https://lenta.ru/news/2025/10/09/putin-raskryl-alievu-podrobnosti-krusheniya-samoleta-azal-iz-za-chego-proizoshla-aviakatastrofa/\n",
            "[lenta.ru] Мало текста из мета (0 слов), ищем в DOM...\n",
            "[lenta.ru] Найдено 4 блоков текста\n",
            "[lenta.ru] Успешно: 112 слов\n",
            "[lenta.ru] ✅ Добавлено: Известная российская телеведущая рассказала об аборте и назв... (112 слов). Итого: 13013\n"
          ]
        },
        {
          "data": {
            "text/html": [
              "\n",
              "            <div class=\"spinner-container\">\n",
              "                <div class=\"spinner\" id=\"83c26cae-3c6e-4b1d-a06d-7721dd9f9c9a-circle\"></div>\n",
              "                <div class=\"spinner-text\" id=\"83c26cae-3c6e-4b1d-a06d-7721dd9f9c9a-text\">Initializing Chromedriver</div>\n",
              "            </div>\n",
              "            <style>\n",
              "                @keyframes spin {\n",
              "                    from { transform: rotate(0deg); }\n",
              "                    to { transform: rotate(360deg); }\n",
              "                }\n",
              "\n",
              "                .spinner-container {\n",
              "                    display: flex;\n",
              "                    align-items: center;\n",
              "                    margin-bottom: 3px;\n",
              "                }\n",
              "\n",
              "                .spinner {\n",
              "                    border: 3px solid rgba(0, 0, 0, 0.1);\n",
              "                    border-left-color: lightblue;\n",
              "                    border-radius: 50%;\n",
              "                    width: 12px;\n",
              "                    height: 12px;\n",
              "                    animation: spin 1s linear infinite;\n",
              "                }\n",
              "\n",
              "                .spinner-text {\n",
              "                    padding-left: 6px;\n",
              "                }\n",
              "            </style>\n",
              "        "
            ],
            "text/plain": [
              "<IPython.core.display.HTML object>"
            ]
          },
          "metadata": {},
          "output_type": "display_data"
        },
        {
          "data": {
            "application/javascript": "\n            const element = document.getElementById(\"83c26cae-3c6e-4b1d-a06d-7721dd9f9c9a-circle\");\n            element.style.border = \"3px solid limegreen\";\n            element.style.animation = \"none\";\n\n            const text = document.getElementById(\"83c26cae-3c6e-4b1d-a06d-7721dd9f9c9a-text\");\n            text.innerText = \"Initialized Chromedriver\";\n        ",
            "text/plain": [
              "<IPython.core.display.Javascript object>"
            ]
          },
          "metadata": {},
          "output_type": "display_data"
        },
        {
          "name": "stdout",
          "output_type": "stream",
          "text": [
            "[lenta.ru] Загружаем https://lenta.ru/news/2025/10/09/progremelo-bolee-20-vzryvov-rossiya-nanesla-moschnyy-udar-geranyami-po-portu-v-odesskoy-oblasti-ataka-popala-na-video/\n",
            "[lenta.ru] Мало текста из мета (0 слов), ищем в DOM...\n",
            "[lenta.ru] Найдено 4 блоков текста\n",
            "[lenta.ru] Успешно: 90 слов\n",
            "[lenta.ru] ✅ Добавлено: Бывшая жена Паши Техника обратилась к рэперу Vacio: Музыка: ... (90 слов). Итого: 13103\n"
          ]
        },
        {
          "data": {
            "text/html": [
              "\n",
              "            <div class=\"spinner-container\">\n",
              "                <div class=\"spinner\" id=\"5cf9e3d9-cc17-430f-8e9f-defe5f942766-circle\"></div>\n",
              "                <div class=\"spinner-text\" id=\"5cf9e3d9-cc17-430f-8e9f-defe5f942766-text\">Initializing Chromedriver</div>\n",
              "            </div>\n",
              "            <style>\n",
              "                @keyframes spin {\n",
              "                    from { transform: rotate(0deg); }\n",
              "                    to { transform: rotate(360deg); }\n",
              "                }\n",
              "\n",
              "                .spinner-container {\n",
              "                    display: flex;\n",
              "                    align-items: center;\n",
              "                    margin-bottom: 3px;\n",
              "                }\n",
              "\n",
              "                .spinner {\n",
              "                    border: 3px solid rgba(0, 0, 0, 0.1);\n",
              "                    border-left-color: lightblue;\n",
              "                    border-radius: 50%;\n",
              "                    width: 12px;\n",
              "                    height: 12px;\n",
              "                    animation: spin 1s linear infinite;\n",
              "                }\n",
              "\n",
              "                .spinner-text {\n",
              "                    padding-left: 6px;\n",
              "                }\n",
              "            </style>\n",
              "        "
            ],
            "text/plain": [
              "<IPython.core.display.HTML object>"
            ]
          },
          "metadata": {},
          "output_type": "display_data"
        },
        {
          "data": {
            "application/javascript": "\n            const element = document.getElementById(\"5cf9e3d9-cc17-430f-8e9f-defe5f942766-circle\");\n            element.style.border = \"3px solid limegreen\";\n            element.style.animation = \"none\";\n\n            const text = document.getElementById(\"5cf9e3d9-cc17-430f-8e9f-defe5f942766-text\");\n            text.innerText = \"Initialized Chromedriver\";\n        ",
            "text/plain": [
              "<IPython.core.display.Javascript object>"
            ]
          },
          "metadata": {},
          "output_type": "display_data"
        },
        {
          "name": "stdout",
          "output_type": "stream",
          "text": [
            "[lenta.ru] Загружаем https://lenta.ru/news/2025/10/09/umer-zvezda-shansona-efrem-amiramov-ispolnitelyu-hita-molodaya-bylo-69-let/\n",
            "[lenta.ru] Мало текста из мета (0 слов), ищем в DOM...\n",
            "[lenta.ru] Найдено 4 блоков текста\n",
            "[lenta.ru] Успешно: 152 слов\n",
            "[lenta.ru] ✅ Добавлено: Россиян предупредили об обширной циклонической депрессии: Кл... (152 слов). Итого: 13255\n"
          ]
        },
        {
          "data": {
            "text/html": [
              "\n",
              "            <div class=\"spinner-container\">\n",
              "                <div class=\"spinner\" id=\"e7ca5fae-f323-41b9-ac35-90c0593e8bb0-circle\"></div>\n",
              "                <div class=\"spinner-text\" id=\"e7ca5fae-f323-41b9-ac35-90c0593e8bb0-text\">Initializing Chromedriver</div>\n",
              "            </div>\n",
              "            <style>\n",
              "                @keyframes spin {\n",
              "                    from { transform: rotate(0deg); }\n",
              "                    to { transform: rotate(360deg); }\n",
              "                }\n",
              "\n",
              "                .spinner-container {\n",
              "                    display: flex;\n",
              "                    align-items: center;\n",
              "                    margin-bottom: 3px;\n",
              "                }\n",
              "\n",
              "                .spinner {\n",
              "                    border: 3px solid rgba(0, 0, 0, 0.1);\n",
              "                    border-left-color: lightblue;\n",
              "                    border-radius: 50%;\n",
              "                    width: 12px;\n",
              "                    height: 12px;\n",
              "                    animation: spin 1s linear infinite;\n",
              "                }\n",
              "\n",
              "                .spinner-text {\n",
              "                    padding-left: 6px;\n",
              "                }\n",
              "            </style>\n",
              "        "
            ],
            "text/plain": [
              "<IPython.core.display.HTML object>"
            ]
          },
          "metadata": {},
          "output_type": "display_data"
        },
        {
          "data": {
            "application/javascript": "\n            const element = document.getElementById(\"e7ca5fae-f323-41b9-ac35-90c0593e8bb0-circle\");\n            element.style.border = \"3px solid limegreen\";\n            element.style.animation = \"none\";\n\n            const text = document.getElementById(\"e7ca5fae-f323-41b9-ac35-90c0593e8bb0-text\");\n            text.innerText = \"Initialized Chromedriver\";\n        ",
            "text/plain": [
              "<IPython.core.display.Javascript object>"
            ]
          },
          "metadata": {},
          "output_type": "display_data"
        },
        {
          "name": "stdout",
          "output_type": "stream",
          "text": [
            "[lenta.ru] Загружаем https://lenta.ru/news/2025/10/09/v-nato-predlozhili-bolee-agressivnyy-otvet-rossii-chto-zadumal-alyans/\n",
            "[lenta.ru] Мало текста из мета (0 слов), ищем в DOM...\n",
            "[lenta.ru] Найдено 12 блоков текста\n",
            "[lenta.ru] Успешно: 305 слов\n",
            "[lenta.ru] ✅ Добавлено: Заявление Путина о крушении самолета AZAL: переговоры с Алие... (305 слов). Итого: 13560\n"
          ]
        },
        {
          "data": {
            "text/html": [
              "\n",
              "            <div class=\"spinner-container\">\n",
              "                <div class=\"spinner\" id=\"62745b84-0bd2-494a-8fdf-3b2a2b2c8a99-circle\"></div>\n",
              "                <div class=\"spinner-text\" id=\"62745b84-0bd2-494a-8fdf-3b2a2b2c8a99-text\">Initializing Chromedriver</div>\n",
              "            </div>\n",
              "            <style>\n",
              "                @keyframes spin {\n",
              "                    from { transform: rotate(0deg); }\n",
              "                    to { transform: rotate(360deg); }\n",
              "                }\n",
              "\n",
              "                .spinner-container {\n",
              "                    display: flex;\n",
              "                    align-items: center;\n",
              "                    margin-bottom: 3px;\n",
              "                }\n",
              "\n",
              "                .spinner {\n",
              "                    border: 3px solid rgba(0, 0, 0, 0.1);\n",
              "                    border-left-color: lightblue;\n",
              "                    border-radius: 50%;\n",
              "                    width: 12px;\n",
              "                    height: 12px;\n",
              "                    animation: spin 1s linear infinite;\n",
              "                }\n",
              "\n",
              "                .spinner-text {\n",
              "                    padding-left: 6px;\n",
              "                }\n",
              "            </style>\n",
              "        "
            ],
            "text/plain": [
              "<IPython.core.display.HTML object>"
            ]
          },
          "metadata": {},
          "output_type": "display_data"
        },
        {
          "data": {
            "application/javascript": "\n            const element = document.getElementById(\"62745b84-0bd2-494a-8fdf-3b2a2b2c8a99-circle\");\n            element.style.border = \"3px solid limegreen\";\n            element.style.animation = \"none\";\n\n            const text = document.getElementById(\"62745b84-0bd2-494a-8fdf-3b2a2b2c8a99-text\");\n            text.innerText = \"Initialized Chromedriver\";\n        ",
            "text/plain": [
              "<IPython.core.display.Javascript object>"
            ]
          },
          "metadata": {},
          "output_type": "display_data"
        },
        {
          "name": "stdout",
          "output_type": "stream",
          "text": [
            "[lenta.ru] Загружаем https://lenta.ru/news/2025/10/09/zelenskiy-prigrozil-blekautom-belgorodskoy-i-kurskoy-oblastyam/\n",
            "[lenta.ru] Мало текста из мета (0 слов), ищем в DOM...\n",
            "[lenta.ru] Найдено 10 блоков текста\n",
            "[lenta.ru] Успешно: 233 слов\n",
            "[lenta.ru] ✅ Добавлено: Удары «Геранями» по порту Черноморска 9 октября: сводка Мино... (233 слов). Итого: 13793\n"
          ]
        },
        {
          "data": {
            "text/html": [
              "\n",
              "            <div class=\"spinner-container\">\n",
              "                <div class=\"spinner\" id=\"5aadd0a1-e015-47fd-88fb-828804e8ff04-circle\"></div>\n",
              "                <div class=\"spinner-text\" id=\"5aadd0a1-e015-47fd-88fb-828804e8ff04-text\">Initializing Chromedriver</div>\n",
              "            </div>\n",
              "            <style>\n",
              "                @keyframes spin {\n",
              "                    from { transform: rotate(0deg); }\n",
              "                    to { transform: rotate(360deg); }\n",
              "                }\n",
              "\n",
              "                .spinner-container {\n",
              "                    display: flex;\n",
              "                    align-items: center;\n",
              "                    margin-bottom: 3px;\n",
              "                }\n",
              "\n",
              "                .spinner {\n",
              "                    border: 3px solid rgba(0, 0, 0, 0.1);\n",
              "                    border-left-color: lightblue;\n",
              "                    border-radius: 50%;\n",
              "                    width: 12px;\n",
              "                    height: 12px;\n",
              "                    animation: spin 1s linear infinite;\n",
              "                }\n",
              "\n",
              "                .spinner-text {\n",
              "                    padding-left: 6px;\n",
              "                }\n",
              "            </style>\n",
              "        "
            ],
            "text/plain": [
              "<IPython.core.display.HTML object>"
            ]
          },
          "metadata": {},
          "output_type": "display_data"
        },
        {
          "data": {
            "application/javascript": "\n            const element = document.getElementById(\"5aadd0a1-e015-47fd-88fb-828804e8ff04-circle\");\n            element.style.border = \"3px solid limegreen\";\n            element.style.animation = \"none\";\n\n            const text = document.getElementById(\"5aadd0a1-e015-47fd-88fb-828804e8ff04-text\");\n            text.innerText = \"Initialized Chromedriver\";\n        ",
            "text/plain": [
              "<IPython.core.display.Javascript object>"
            ]
          },
          "metadata": {},
          "output_type": "display_data"
        },
        {
          "name": "stdout",
          "output_type": "stream",
          "text": [
            "[lenta.ru] Загружаем https://lenta.ru/news/2025/10/09/bumb/\n",
            "[lenta.ru] Мало текста из мета (0 слов), ищем в DOM...\n",
            "[lenta.ru] Найдено 14 блоков текста\n",
            "[lenta.ru] Успешно: 326 слов\n",
            "[lenta.ru] ✅ Добавлено: Умерла звезда шансона Ефрем Амирамов: причины, биография, хи... (326 слов). Итого: 14119\n"
          ]
        },
        {
          "data": {
            "text/html": [
              "\n",
              "            <div class=\"spinner-container\">\n",
              "                <div class=\"spinner\" id=\"1ed9ae67-8f2a-4221-b00b-19c7a78b13e7-circle\"></div>\n",
              "                <div class=\"spinner-text\" id=\"1ed9ae67-8f2a-4221-b00b-19c7a78b13e7-text\">Initializing Chromedriver</div>\n",
              "            </div>\n",
              "            <style>\n",
              "                @keyframes spin {\n",
              "                    from { transform: rotate(0deg); }\n",
              "                    to { transform: rotate(360deg); }\n",
              "                }\n",
              "\n",
              "                .spinner-container {\n",
              "                    display: flex;\n",
              "                    align-items: center;\n",
              "                    margin-bottom: 3px;\n",
              "                }\n",
              "\n",
              "                .spinner {\n",
              "                    border: 3px solid rgba(0, 0, 0, 0.1);\n",
              "                    border-left-color: lightblue;\n",
              "                    border-radius: 50%;\n",
              "                    width: 12px;\n",
              "                    height: 12px;\n",
              "                    animation: spin 1s linear infinite;\n",
              "                }\n",
              "\n",
              "                .spinner-text {\n",
              "                    padding-left: 6px;\n",
              "                }\n",
              "            </style>\n",
              "        "
            ],
            "text/plain": [
              "<IPython.core.display.HTML object>"
            ]
          },
          "metadata": {},
          "output_type": "display_data"
        },
        {
          "data": {
            "application/javascript": "\n            const element = document.getElementById(\"1ed9ae67-8f2a-4221-b00b-19c7a78b13e7-circle\");\n            element.style.border = \"3px solid limegreen\";\n            element.style.animation = \"none\";\n\n            const text = document.getElementById(\"1ed9ae67-8f2a-4221-b00b-19c7a78b13e7-text\");\n            text.innerText = \"Initialized Chromedriver\";\n        ",
            "text/plain": [
              "<IPython.core.display.Javascript object>"
            ]
          },
          "metadata": {},
          "output_type": "display_data"
        },
        {
          "name": "stdout",
          "output_type": "stream",
          "text": [
            "[lenta.ru] Загружаем https://lenta.ru/news/2025/10/09/velikiy-den-izrail-i-hamas-podpisali-pervuyu-fazu-plana-po-uregulirovaniyu-konflikta/\n",
            "[lenta.ru] Мало текста из мета (0 слов), ищем в DOM...\n",
            "[lenta.ru] Найдено 11 блоков текста\n",
            "[lenta.ru] Успешно: 341 слов\n"
          ]
        },
        {
          "data": {
            "text/html": [
              "\n",
              "            <div class=\"spinner-container\">\n",
              "                <div class=\"spinner\" id=\"1cd7c268-890e-4b43-891f-875aa8b43d83-circle\"></div>\n",
              "                <div class=\"spinner-text\" id=\"1cd7c268-890e-4b43-891f-875aa8b43d83-text\">Initializing Chromedriver</div>\n",
              "            </div>\n",
              "            <style>\n",
              "                @keyframes spin {\n",
              "                    from { transform: rotate(0deg); }\n",
              "                    to { transform: rotate(360deg); }\n",
              "                }\n",
              "\n",
              "                .spinner-container {\n",
              "                    display: flex;\n",
              "                    align-items: center;\n",
              "                    margin-bottom: 3px;\n",
              "                }\n",
              "\n",
              "                .spinner {\n",
              "                    border: 3px solid rgba(0, 0, 0, 0.1);\n",
              "                    border-left-color: lightblue;\n",
              "                    border-radius: 50%;\n",
              "                    width: 12px;\n",
              "                    height: 12px;\n",
              "                    animation: spin 1s linear infinite;\n",
              "                }\n",
              "\n",
              "                .spinner-text {\n",
              "                    padding-left: 6px;\n",
              "                }\n",
              "            </style>\n",
              "        "
            ],
            "text/plain": [
              "<IPython.core.display.HTML object>"
            ]
          },
          "metadata": {},
          "output_type": "display_data"
        },
        {
          "name": "stdout",
          "output_type": "stream",
          "text": [
            "[lenta.ru] ✅ Добавлено: Возможное снятие ограничений НАТО на огонь по целям из Росси... (341 слов). Итого: 14460\n"
          ]
        },
        {
          "data": {
            "application/javascript": "\n            const element = document.getElementById(\"1cd7c268-890e-4b43-891f-875aa8b43d83-circle\");\n            element.style.border = \"3px solid limegreen\";\n            element.style.animation = \"none\";\n\n            const text = document.getElementById(\"1cd7c268-890e-4b43-891f-875aa8b43d83-text\");\n            text.innerText = \"Initialized Chromedriver\";\n        ",
            "text/plain": [
              "<IPython.core.display.Javascript object>"
            ]
          },
          "metadata": {},
          "output_type": "display_data"
        },
        {
          "name": "stdout",
          "output_type": "stream",
          "text": [
            "[lenta.ru] Загружаем https://lenta.ru/news/2025/10/05/stalo-izvestno-imya-novoy-samoy-krasivoy-devushki-strany-kto-ona-i-kakim-dostizheniyami-smogla-pokorit-zhyuri-konkursa-miss-rossiya/\n",
            "[lenta.ru] Мало текста из мета (0 слов), ищем в DOM...\n",
            "[lenta.ru] Найдено 13 блоков текста\n",
            "[lenta.ru] Успешно: 207 слов\n",
            "[lenta.ru] ✅ Добавлено: Угрозы Зеленского: блэкаут, Белгородская и Курская области, ... (207 слов). Итого: 14667\n"
          ]
        },
        {
          "data": {
            "text/html": [
              "\n",
              "            <div class=\"spinner-container\">\n",
              "                <div class=\"spinner\" id=\"4983cb78-3be5-43db-a444-d1a89af45a8d-circle\"></div>\n",
              "                <div class=\"spinner-text\" id=\"4983cb78-3be5-43db-a444-d1a89af45a8d-text\">Initializing Chromedriver</div>\n",
              "            </div>\n",
              "            <style>\n",
              "                @keyframes spin {\n",
              "                    from { transform: rotate(0deg); }\n",
              "                    to { transform: rotate(360deg); }\n",
              "                }\n",
              "\n",
              "                .spinner-container {\n",
              "                    display: flex;\n",
              "                    align-items: center;\n",
              "                    margin-bottom: 3px;\n",
              "                }\n",
              "\n",
              "                .spinner {\n",
              "                    border: 3px solid rgba(0, 0, 0, 0.1);\n",
              "                    border-left-color: lightblue;\n",
              "                    border-radius: 50%;\n",
              "                    width: 12px;\n",
              "                    height: 12px;\n",
              "                    animation: spin 1s linear infinite;\n",
              "                }\n",
              "\n",
              "                .spinner-text {\n",
              "                    padding-left: 6px;\n",
              "                }\n",
              "            </style>\n",
              "        "
            ],
            "text/plain": [
              "<IPython.core.display.HTML object>"
            ]
          },
          "metadata": {},
          "output_type": "display_data"
        },
        {
          "data": {
            "application/javascript": "\n            const element = document.getElementById(\"4983cb78-3be5-43db-a444-d1a89af45a8d-circle\");\n            element.style.border = \"3px solid limegreen\";\n            element.style.animation = \"none\";\n\n            const text = document.getElementById(\"4983cb78-3be5-43db-a444-d1a89af45a8d-text\");\n            text.innerText = \"Initialized Chromedriver\";\n        ",
            "text/plain": [
              "<IPython.core.display.Javascript object>"
            ]
          },
          "metadata": {},
          "output_type": "display_data"
        },
        {
          "name": "stdout",
          "output_type": "stream",
          "text": [
            "[lenta.ru] Загружаем https://lenta.ru/news/2025/09/29/stepanenko/\n",
            "[lenta.ru] Мало текста из мета (0 слов), ищем в DOM...\n",
            "[lenta.ru] Найдено 5 блоков текста\n",
            "[lenta.ru] Успешно: 159 слов\n",
            "[lenta.ru] ✅ Добавлено: Украина сбросила умные авиабомбы на российские объекты: Обще... (159 слов). Итого: 14826\n"
          ]
        },
        {
          "data": {
            "text/html": [
              "\n",
              "            <div class=\"spinner-container\">\n",
              "                <div class=\"spinner\" id=\"349508fb-8f42-4f0b-9a71-23319c4906a8-circle\"></div>\n",
              "                <div class=\"spinner-text\" id=\"349508fb-8f42-4f0b-9a71-23319c4906a8-text\">Initializing Chromedriver</div>\n",
              "            </div>\n",
              "            <style>\n",
              "                @keyframes spin {\n",
              "                    from { transform: rotate(0deg); }\n",
              "                    to { transform: rotate(360deg); }\n",
              "                }\n",
              "\n",
              "                .spinner-container {\n",
              "                    display: flex;\n",
              "                    align-items: center;\n",
              "                    margin-bottom: 3px;\n",
              "                }\n",
              "\n",
              "                .spinner {\n",
              "                    border: 3px solid rgba(0, 0, 0, 0.1);\n",
              "                    border-left-color: lightblue;\n",
              "                    border-radius: 50%;\n",
              "                    width: 12px;\n",
              "                    height: 12px;\n",
              "                    animation: spin 1s linear infinite;\n",
              "                }\n",
              "\n",
              "                .spinner-text {\n",
              "                    padding-left: 6px;\n",
              "                }\n",
              "            </style>\n",
              "        "
            ],
            "text/plain": [
              "<IPython.core.display.HTML object>"
            ]
          },
          "metadata": {},
          "output_type": "display_data"
        },
        {
          "data": {
            "application/javascript": "\n            const element = document.getElementById(\"349508fb-8f42-4f0b-9a71-23319c4906a8-circle\");\n            element.style.border = \"3px solid limegreen\";\n            element.style.animation = \"none\";\n\n            const text = document.getElementById(\"349508fb-8f42-4f0b-9a71-23319c4906a8-text\");\n            text.innerText = \"Initialized Chromedriver\";\n        ",
            "text/plain": [
              "<IPython.core.display.Javascript object>"
            ]
          },
          "metadata": {},
          "output_type": "display_data"
        },
        {
          "name": "stdout",
          "output_type": "stream",
          "text": [
            "[lenta.ru] Загружаем https://lenta.ru/news/2025/10/02/ekspress/\n",
            "[lenta.ru] Мало текста из мета (0 слов), ищем в DOM...\n",
            "[lenta.ru] Найдено 13 блоков текста\n",
            "[lenta.ru] Успешно: 299 слов\n",
            "[lenta.ru] ✅ Добавлено: Трамп заявил, что Израиль и ХАМАС подписали первую фазу план... (299 слов). Итого: 15125\n"
          ]
        },
        {
          "data": {
            "text/html": [
              "\n",
              "            <div class=\"spinner-container\">\n",
              "                <div class=\"spinner\" id=\"9a618eb8-2842-463d-a64c-3e43de8f6744-circle\"></div>\n",
              "                <div class=\"spinner-text\" id=\"9a618eb8-2842-463d-a64c-3e43de8f6744-text\">Initializing Chromedriver</div>\n",
              "            </div>\n",
              "            <style>\n",
              "                @keyframes spin {\n",
              "                    from { transform: rotate(0deg); }\n",
              "                    to { transform: rotate(360deg); }\n",
              "                }\n",
              "\n",
              "                .spinner-container {\n",
              "                    display: flex;\n",
              "                    align-items: center;\n",
              "                    margin-bottom: 3px;\n",
              "                }\n",
              "\n",
              "                .spinner {\n",
              "                    border: 3px solid rgba(0, 0, 0, 0.1);\n",
              "                    border-left-color: lightblue;\n",
              "                    border-radius: 50%;\n",
              "                    width: 12px;\n",
              "                    height: 12px;\n",
              "                    animation: spin 1s linear infinite;\n",
              "                }\n",
              "\n",
              "                .spinner-text {\n",
              "                    padding-left: 6px;\n",
              "                }\n",
              "            </style>\n",
              "        "
            ],
            "text/plain": [
              "<IPython.core.display.HTML object>"
            ]
          },
          "metadata": {},
          "output_type": "display_data"
        },
        {
          "data": {
            "application/javascript": "\n            const element = document.getElementById(\"9a618eb8-2842-463d-a64c-3e43de8f6744-circle\");\n            element.style.border = \"3px solid limegreen\";\n            element.style.animation = \"none\";\n\n            const text = document.getElementById(\"9a618eb8-2842-463d-a64c-3e43de8f6744-text\");\n            text.innerText = \"Initialized Chromedriver\";\n        ",
            "text/plain": [
              "<IPython.core.display.Javascript object>"
            ]
          },
          "metadata": {},
          "output_type": "display_data"
        },
        {
          "name": "stdout",
          "output_type": "stream",
          "text": [
            "[lenta.ru] Загружаем https://lenta.ru/news/2025/09/28/china/\n",
            "[lenta.ru] Мало текста из мета (0 слов), ищем в DOM...\n",
            "[lenta.ru] Найдено 44 блоков текста\n",
            "[lenta.ru] Успешно: 1552 слов\n"
          ]
        },
        {
          "data": {
            "text/html": [
              "\n",
              "            <div class=\"spinner-container\">\n",
              "                <div class=\"spinner\" id=\"c892d66c-7f86-4d1e-ba61-e8e2b6836393-circle\"></div>\n",
              "                <div class=\"spinner-text\" id=\"c892d66c-7f86-4d1e-ba61-e8e2b6836393-text\">Initializing Chromedriver</div>\n",
              "            </div>\n",
              "            <style>\n",
              "                @keyframes spin {\n",
              "                    from { transform: rotate(0deg); }\n",
              "                    to { transform: rotate(360deg); }\n",
              "                }\n",
              "\n",
              "                .spinner-container {\n",
              "                    display: flex;\n",
              "                    align-items: center;\n",
              "                    margin-bottom: 3px;\n",
              "                }\n",
              "\n",
              "                .spinner {\n",
              "                    border: 3px solid rgba(0, 0, 0, 0.1);\n",
              "                    border-left-color: lightblue;\n",
              "                    border-radius: 50%;\n",
              "                    width: 12px;\n",
              "                    height: 12px;\n",
              "                    animation: spin 1s linear infinite;\n",
              "                }\n",
              "\n",
              "                .spinner-text {\n",
              "                    padding-left: 6px;\n",
              "                }\n",
              "            </style>\n",
              "        "
            ],
            "text/plain": [
              "<IPython.core.display.HTML object>"
            ]
          },
          "metadata": {},
          "output_type": "display_data"
        },
        {
          "name": "stdout",
          "output_type": "stream",
          "text": [
            "[lenta.ru] ✅ Добавлено: Новая волна популярности Елены Степаненко: видео с выступлен... (1552 слов). Итого: 16677\n",
            "[lenta.ru] Мало текста из мета (0 слов), ищем в DOM...\n",
            "[lenta.ru] Найдено 26 блоков текста\n",
            "[lenta.ru] Успешно: 703 слов\n",
            "[lenta.ru] ✅ Добавлено: Конкурс «Мисс Россия —2025»: кто победил, фото, что известно... (703 слов). Итого: 17380\n"
          ]
        },
        {
          "data": {
            "text/html": [
              "\n",
              "            <div class=\"spinner-container\">\n",
              "                <div class=\"spinner\" id=\"65bd295d-5042-4ddb-b147-cb9327036660-circle\"></div>\n",
              "                <div class=\"spinner-text\" id=\"65bd295d-5042-4ddb-b147-cb9327036660-text\">Initializing Chromedriver</div>\n",
              "            </div>\n",
              "            <style>\n",
              "                @keyframes spin {\n",
              "                    from { transform: rotate(0deg); }\n",
              "                    to { transform: rotate(360deg); }\n",
              "                }\n",
              "\n",
              "                .spinner-container {\n",
              "                    display: flex;\n",
              "                    align-items: center;\n",
              "                    margin-bottom: 3px;\n",
              "                }\n",
              "\n",
              "                .spinner {\n",
              "                    border: 3px solid rgba(0, 0, 0, 0.1);\n",
              "                    border-left-color: lightblue;\n",
              "                    border-radius: 50%;\n",
              "                    width: 12px;\n",
              "                    height: 12px;\n",
              "                    animation: spin 1s linear infinite;\n",
              "                }\n",
              "\n",
              "                .spinner-text {\n",
              "                    padding-left: 6px;\n",
              "                }\n",
              "            </style>\n",
              "        "
            ],
            "text/plain": [
              "<IPython.core.display.HTML object>"
            ]
          },
          "metadata": {},
          "output_type": "display_data"
        },
        {
          "data": {
            "application/javascript": "\n            const element = document.getElementById(\"c892d66c-7f86-4d1e-ba61-e8e2b6836393-circle\");\n            element.style.border = \"3px solid limegreen\";\n            element.style.animation = \"none\";\n\n            const text = document.getElementById(\"c892d66c-7f86-4d1e-ba61-e8e2b6836393-text\");\n            text.innerText = \"Initialized Chromedriver\";\n        ",
            "text/plain": [
              "<IPython.core.display.Javascript object>"
            ]
          },
          "metadata": {},
          "output_type": "display_data"
        },
        {
          "name": "stdout",
          "output_type": "stream",
          "text": [
            "[lenta.ru] Загружаем https://lenta.ru/news/2025/09/29/five-wells/\n"
          ]
        },
        {
          "data": {
            "application/javascript": "\n            const element = document.getElementById(\"65bd295d-5042-4ddb-b147-cb9327036660-circle\");\n            element.style.border = \"3px solid limegreen\";\n            element.style.animation = \"none\";\n\n            const text = document.getElementById(\"65bd295d-5042-4ddb-b147-cb9327036660-text\");\n            text.innerText = \"Initialized Chromedriver\";\n        ",
            "text/plain": [
              "<IPython.core.display.Javascript object>"
            ]
          },
          "metadata": {},
          "output_type": "display_data"
        },
        {
          "name": "stdout",
          "output_type": "stream",
          "text": [
            "[lenta.ru] Загружаем https://lenta.ru/news/2025/10/01/tilli-norvud/\n",
            "[lenta.ru] Мало текста из мета (0 слов), ищем в DOM...\n",
            "[lenta.ru] Найдено 27 блоков текста\n",
            "[lenta.ru] Успешно: 1014 слов\n",
            "[lenta.ru] ✅ Добавлено: Экспресс-газета»: история, заголовки, суды со звездами, крит... (1014 слов). Итого: 18394\n"
          ]
        },
        {
          "data": {
            "text/html": [
              "\n",
              "            <div class=\"spinner-container\">\n",
              "                <div class=\"spinner\" id=\"82f4250a-1ef3-4325-87b9-1c2e74098479-circle\"></div>\n",
              "                <div class=\"spinner-text\" id=\"82f4250a-1ef3-4325-87b9-1c2e74098479-text\">Initializing Chromedriver</div>\n",
              "            </div>\n",
              "            <style>\n",
              "                @keyframes spin {\n",
              "                    from { transform: rotate(0deg); }\n",
              "                    to { transform: rotate(360deg); }\n",
              "                }\n",
              "\n",
              "                .spinner-container {\n",
              "                    display: flex;\n",
              "                    align-items: center;\n",
              "                    margin-bottom: 3px;\n",
              "                }\n",
              "\n",
              "                .spinner {\n",
              "                    border: 3px solid rgba(0, 0, 0, 0.1);\n",
              "                    border-left-color: lightblue;\n",
              "                    border-radius: 50%;\n",
              "                    width: 12px;\n",
              "                    height: 12px;\n",
              "                    animation: spin 1s linear infinite;\n",
              "                }\n",
              "\n",
              "                .spinner-text {\n",
              "                    padding-left: 6px;\n",
              "                }\n",
              "            </style>\n",
              "        "
            ],
            "text/plain": [
              "<IPython.core.display.HTML object>"
            ]
          },
          "metadata": {},
          "output_type": "display_data"
        },
        {
          "data": {
            "application/javascript": "\n            const element = document.getElementById(\"82f4250a-1ef3-4325-87b9-1c2e74098479-circle\");\n            element.style.border = \"3px solid limegreen\";\n            element.style.animation = \"none\";\n\n            const text = document.getElementById(\"82f4250a-1ef3-4325-87b9-1c2e74098479-text\");\n            text.innerText = \"Initialized Chromedriver\";\n        ",
            "text/plain": [
              "<IPython.core.display.Javascript object>"
            ]
          },
          "metadata": {},
          "output_type": "display_data"
        },
        {
          "name": "stdout",
          "output_type": "stream",
          "text": [
            "[lenta.ru] Загружаем https://lenta.ru/news/2025/09/13/zumery/\n",
            "[lenta.ru] Мало текста из мета (0 слов), ищем в DOM...\n",
            "[lenta.ru] Найдено 16 блоков текста\n",
            "[lenta.ru] Успешно: 630 слов\n",
            "[lenta.ru] ✅ Добавлено: Китайский безвиз: как проехать, сложности на границе, влияют... (630 слов). Итого: 19024\n"
          ]
        },
        {
          "data": {
            "text/html": [
              "\n",
              "            <div class=\"spinner-container\">\n",
              "                <div class=\"spinner\" id=\"ce47ca6b-001d-4649-b4de-523bfda935e5-circle\"></div>\n",
              "                <div class=\"spinner-text\" id=\"ce47ca6b-001d-4649-b4de-523bfda935e5-text\">Initializing Chromedriver</div>\n",
              "            </div>\n",
              "            <style>\n",
              "                @keyframes spin {\n",
              "                    from { transform: rotate(0deg); }\n",
              "                    to { transform: rotate(360deg); }\n",
              "                }\n",
              "\n",
              "                .spinner-container {\n",
              "                    display: flex;\n",
              "                    align-items: center;\n",
              "                    margin-bottom: 3px;\n",
              "                }\n",
              "\n",
              "                .spinner {\n",
              "                    border: 3px solid rgba(0, 0, 0, 0.1);\n",
              "                    border-left-color: lightblue;\n",
              "                    border-radius: 50%;\n",
              "                    width: 12px;\n",
              "                    height: 12px;\n",
              "                    animation: spin 1s linear infinite;\n",
              "                }\n",
              "\n",
              "                .spinner-text {\n",
              "                    padding-left: 6px;\n",
              "                }\n",
              "            </style>\n",
              "        "
            ],
            "text/plain": [
              "<IPython.core.display.HTML object>"
            ]
          },
          "metadata": {},
          "output_type": "display_data"
        },
        {
          "data": {
            "application/javascript": "\n            const element = document.getElementById(\"ce47ca6b-001d-4649-b4de-523bfda935e5-circle\");\n            element.style.border = \"3px solid limegreen\";\n            element.style.animation = \"none\";\n\n            const text = document.getElementById(\"ce47ca6b-001d-4649-b4de-523bfda935e5-text\");\n            text.innerText = \"Initialized Chromedriver\";\n        ",
            "text/plain": [
              "<IPython.core.display.Javascript object>"
            ]
          },
          "metadata": {},
          "output_type": "display_data"
        },
        {
          "name": "stdout",
          "output_type": "stream",
          "text": [
            "[lenta.ru] Загружаем https://lenta.ru/news/2025/09/18/koleni/\n",
            "[lenta.ru] Мало текста из мета (0 слов), ищем в DOM...\n",
            "[lenta.ru] Найдено 49 блоков текста\n",
            "[lenta.ru] Успешно: 1575 слов\n"
          ]
        },
        {
          "data": {
            "text/html": [
              "\n",
              "            <div class=\"spinner-container\">\n",
              "                <div class=\"spinner\" id=\"599b85a0-4a61-4115-9b1a-1b1244cf0fd1-circle\"></div>\n",
              "                <div class=\"spinner-text\" id=\"599b85a0-4a61-4115-9b1a-1b1244cf0fd1-text\">Initializing Chromedriver</div>\n",
              "            </div>\n",
              "            <style>\n",
              "                @keyframes spin {\n",
              "                    from { transform: rotate(0deg); }\n",
              "                    to { transform: rotate(360deg); }\n",
              "                }\n",
              "\n",
              "                .spinner-container {\n",
              "                    display: flex;\n",
              "                    align-items: center;\n",
              "                    margin-bottom: 3px;\n",
              "                }\n",
              "\n",
              "                .spinner {\n",
              "                    border: 3px solid rgba(0, 0, 0, 0.1);\n",
              "                    border-left-color: lightblue;\n",
              "                    border-radius: 50%;\n",
              "                    width: 12px;\n",
              "                    height: 12px;\n",
              "                    animation: spin 1s linear infinite;\n",
              "                }\n",
              "\n",
              "                .spinner-text {\n",
              "                    padding-left: 6px;\n",
              "                }\n",
              "            </style>\n",
              "        "
            ],
            "text/plain": [
              "<IPython.core.display.HTML object>"
            ]
          },
          "metadata": {},
          "output_type": "display_data"
        },
        {
          "name": "stdout",
          "output_type": "stream",
          "text": [
            "[lenta.ru] ✅ Добавлено: Арест сотрудниц британской тюрьмы за роман с заключенными: х... (1575 слов). Итого: 20599\n",
            "[lenta.ru] Мало текста из мета (0 слов), ищем в DOM...\n",
            "[lenta.ru] Найдено 22 блоков текста\n",
            "[lenta.ru] Успешно: 640 слов\n"
          ]
        },
        {
          "data": {
            "text/html": [
              "\n",
              "            <div class=\"spinner-container\">\n",
              "                <div class=\"spinner\" id=\"d8c7e6e9-d4ff-4515-831b-32da18862864-circle\"></div>\n",
              "                <div class=\"spinner-text\" id=\"d8c7e6e9-d4ff-4515-831b-32da18862864-text\">Initializing Chromedriver</div>\n",
              "            </div>\n",
              "            <style>\n",
              "                @keyframes spin {\n",
              "                    from { transform: rotate(0deg); }\n",
              "                    to { transform: rotate(360deg); }\n",
              "                }\n",
              "\n",
              "                .spinner-container {\n",
              "                    display: flex;\n",
              "                    align-items: center;\n",
              "                    margin-bottom: 3px;\n",
              "                }\n",
              "\n",
              "                .spinner {\n",
              "                    border: 3px solid rgba(0, 0, 0, 0.1);\n",
              "                    border-left-color: lightblue;\n",
              "                    border-radius: 50%;\n",
              "                    width: 12px;\n",
              "                    height: 12px;\n",
              "                    animation: spin 1s linear infinite;\n",
              "                }\n",
              "\n",
              "                .spinner-text {\n",
              "                    padding-left: 6px;\n",
              "                }\n",
              "            </style>\n",
              "        "
            ],
            "text/plain": [
              "<IPython.core.display.HTML object>"
            ]
          },
          "metadata": {},
          "output_type": "display_data"
        },
        {
          "name": "stdout",
          "output_type": "stream",
          "text": [
            "[lenta.ru] ✅ Добавлено: Первая ИИ-актриса Тилли Норвуд: что известно, кто создатель,... (640 слов). Итого: 21239\n"
          ]
        },
        {
          "data": {
            "application/javascript": "\n            const element = document.getElementById(\"599b85a0-4a61-4115-9b1a-1b1244cf0fd1-circle\");\n            element.style.border = \"3px solid limegreen\";\n            element.style.animation = \"none\";\n\n            const text = document.getElementById(\"599b85a0-4a61-4115-9b1a-1b1244cf0fd1-text\");\n            text.innerText = \"Initialized Chromedriver\";\n        ",
            "text/plain": [
              "<IPython.core.display.Javascript object>"
            ]
          },
          "metadata": {},
          "output_type": "display_data"
        },
        {
          "name": "stdout",
          "output_type": "stream",
          "text": [
            "[lenta.ru] Загружаем https://lenta.ru/news/2025/09/18/bermuda/\n"
          ]
        },
        {
          "data": {
            "application/javascript": "\n            const element = document.getElementById(\"d8c7e6e9-d4ff-4515-831b-32da18862864-circle\");\n            element.style.border = \"3px solid limegreen\";\n            element.style.animation = \"none\";\n\n            const text = document.getElementById(\"d8c7e6e9-d4ff-4515-831b-32da18862864-text\");\n            text.innerText = \"Initialized Chromedriver\";\n        ",
            "text/plain": [
              "<IPython.core.display.Javascript object>"
            ]
          },
          "metadata": {},
          "output_type": "display_data"
        },
        {
          "name": "stdout",
          "output_type": "stream",
          "text": [
            "[lenta.ru] Загружаем https://lenta.ru/news/2025/10/09/baronet/\n",
            "[lenta.ru] Мало текста из мета (0 слов), ищем в DOM...\n",
            "[lenta.ru] Найдено 28 блоков текста\n",
            "[lenta.ru] Успешно: 1014 слов\n"
          ]
        },
        {
          "data": {
            "text/html": [
              "\n",
              "            <div class=\"spinner-container\">\n",
              "                <div class=\"spinner\" id=\"76c8616b-bda6-470c-8b07-389b59593b7d-circle\"></div>\n",
              "                <div class=\"spinner-text\" id=\"76c8616b-bda6-470c-8b07-389b59593b7d-text\">Initializing Chromedriver</div>\n",
              "            </div>\n",
              "            <style>\n",
              "                @keyframes spin {\n",
              "                    from { transform: rotate(0deg); }\n",
              "                    to { transform: rotate(360deg); }\n",
              "                }\n",
              "\n",
              "                .spinner-container {\n",
              "                    display: flex;\n",
              "                    align-items: center;\n",
              "                    margin-bottom: 3px;\n",
              "                }\n",
              "\n",
              "                .spinner {\n",
              "                    border: 3px solid rgba(0, 0, 0, 0.1);\n",
              "                    border-left-color: lightblue;\n",
              "                    border-radius: 50%;\n",
              "                    width: 12px;\n",
              "                    height: 12px;\n",
              "                    animation: spin 1s linear infinite;\n",
              "                }\n",
              "\n",
              "                .spinner-text {\n",
              "                    padding-left: 6px;\n",
              "                }\n",
              "            </style>\n",
              "        "
            ],
            "text/plain": [
              "<IPython.core.display.HTML object>"
            ]
          },
          "metadata": {},
          "output_type": "display_data"
        },
        {
          "name": "stdout",
          "output_type": "stream",
          "text": [
            "[lenta.ru] Мало текста из мета (0 слов), ищем в DOM...\n",
            "[lenta.ru] ✅ Добавлено: Танец Олега Газманова под песню «Загулял» завирусился в сети... (1014 слов). Итого: 22253\n",
            "[lenta.ru] Найдено 37 блоков текста\n",
            "[lenta.ru] Успешно: 1178 слов\n"
          ]
        },
        {
          "data": {
            "text/html": [
              "\n",
              "            <div class=\"spinner-container\">\n",
              "                <div class=\"spinner\" id=\"d697d743-8f00-4d0c-b57c-b928f35b1b10-circle\"></div>\n",
              "                <div class=\"spinner-text\" id=\"d697d743-8f00-4d0c-b57c-b928f35b1b10-text\">Initializing Chromedriver</div>\n",
              "            </div>\n",
              "            <style>\n",
              "                @keyframes spin {\n",
              "                    from { transform: rotate(0deg); }\n",
              "                    to { transform: rotate(360deg); }\n",
              "                }\n",
              "\n",
              "                .spinner-container {\n",
              "                    display: flex;\n",
              "                    align-items: center;\n",
              "                    margin-bottom: 3px;\n",
              "                }\n",
              "\n",
              "                .spinner {\n",
              "                    border: 3px solid rgba(0, 0, 0, 0.1);\n",
              "                    border-left-color: lightblue;\n",
              "                    border-radius: 50%;\n",
              "                    width: 12px;\n",
              "                    height: 12px;\n",
              "                    animation: spin 1s linear infinite;\n",
              "                }\n",
              "\n",
              "                .spinner-text {\n",
              "                    padding-left: 6px;\n",
              "                }\n",
              "            </style>\n",
              "        "
            ],
            "text/plain": [
              "<IPython.core.display.HTML object>"
            ]
          },
          "metadata": {},
          "output_type": "display_data"
        },
        {
          "name": "stdout",
          "output_type": "stream",
          "text": [
            "[lenta.ru] ✅ Добавлено: Тайна Бермудского треугольника раскрыта. Почему загадочные и... (1178 слов). Итого: 23431\n"
          ]
        },
        {
          "data": {
            "application/javascript": "\n            const element = document.getElementById(\"76c8616b-bda6-470c-8b07-389b59593b7d-circle\");\n            element.style.border = \"3px solid limegreen\";\n            element.style.animation = \"none\";\n\n            const text = document.getElementById(\"76c8616b-bda6-470c-8b07-389b59593b7d-text\");\n            text.innerText = \"Initialized Chromedriver\";\n        ",
            "text/plain": [
              "<IPython.core.display.Javascript object>"
            ]
          },
          "metadata": {},
          "output_type": "display_data"
        },
        {
          "data": {
            "application/javascript": "\n            const element = document.getElementById(\"d697d743-8f00-4d0c-b57c-b928f35b1b10-circle\");\n            element.style.border = \"3px solid limegreen\";\n            element.style.animation = \"none\";\n\n            const text = document.getElementById(\"d697d743-8f00-4d0c-b57c-b928f35b1b10-text\");\n            text.innerText = \"Initialized Chromedriver\";\n        ",
            "text/plain": [
              "<IPython.core.display.Javascript object>"
            ]
          },
          "metadata": {},
          "output_type": "display_data"
        },
        {
          "name": "stdout",
          "output_type": "stream",
          "text": [
            "[lenta.ru] Загружаем https://lenta.ru/news/2025/10/09/chervinskiy/\n",
            "[lenta.ru] Загружаем https://lenta.ru/news/2025/10/09/samaya-izvestnaya-pevitsa-v-mire-spela-o-penise-zheniha/\n",
            "[lenta.ru] Мало текста из мета (0 слов), ищем в DOM...\n",
            "[lenta.ru] Найдено 47 блоков текста\n",
            "[lenta.ru] Успешно: 1588 слов\n"
          ]
        },
        {
          "data": {
            "text/html": [
              "\n",
              "            <div class=\"spinner-container\">\n",
              "                <div class=\"spinner\" id=\"229efaf5-9a3a-41cc-814c-5d05b31145c5-circle\"></div>\n",
              "                <div class=\"spinner-text\" id=\"229efaf5-9a3a-41cc-814c-5d05b31145c5-text\">Initializing Chromedriver</div>\n",
              "            </div>\n",
              "            <style>\n",
              "                @keyframes spin {\n",
              "                    from { transform: rotate(0deg); }\n",
              "                    to { transform: rotate(360deg); }\n",
              "                }\n",
              "\n",
              "                .spinner-container {\n",
              "                    display: flex;\n",
              "                    align-items: center;\n",
              "                    margin-bottom: 3px;\n",
              "                }\n",
              "\n",
              "                .spinner {\n",
              "                    border: 3px solid rgba(0, 0, 0, 0.1);\n",
              "                    border-left-color: lightblue;\n",
              "                    border-radius: 50%;\n",
              "                    width: 12px;\n",
              "                    height: 12px;\n",
              "                    animation: spin 1s linear infinite;\n",
              "                }\n",
              "\n",
              "                .spinner-text {\n",
              "                    padding-left: 6px;\n",
              "                }\n",
              "            </style>\n",
              "        "
            ],
            "text/plain": [
              "<IPython.core.display.HTML object>"
            ]
          },
          "metadata": {},
          "output_type": "display_data"
        },
        {
          "name": "stdout",
          "output_type": "stream",
          "text": [
            "[lenta.ru] ✅ Добавлено: Борьба миллениалов и зумеров: причины, юмор, тренды TikTok: ... (1588 слов). Итого: 25019\n"
          ]
        },
        {
          "data": {
            "application/javascript": "\n            const element = document.getElementById(\"229efaf5-9a3a-41cc-814c-5d05b31145c5-circle\");\n            element.style.border = \"3px solid limegreen\";\n            element.style.animation = \"none\";\n\n            const text = document.getElementById(\"229efaf5-9a3a-41cc-814c-5d05b31145c5-text\");\n            text.innerText = \"Initialized Chromedriver\";\n        ",
            "text/plain": [
              "<IPython.core.display.Javascript object>"
            ]
          },
          "metadata": {},
          "output_type": "display_data"
        },
        {
          "name": "stdout",
          "output_type": "stream",
          "text": [
            "[lenta.ru] Загружаем https://lenta.ru/news/2025/10/09/vsu-podorvali-ammiakoprovod-zachem-im-eto-bylo-nuzhno-i-chto-izvestno-o-posledstviyah/\n",
            "[lenta.ru] Мало текста из мета (0 слов), ищем в DOM...\n",
            "[lenta.ru] Найдено 56 блоков текста\n",
            "[lenta.ru] Успешно: 1945 слов\n",
            "[lenta.ru] ✅ Добавлено: «Как же меня утомили русские». Как эксцентричный аристократ-... (1945 слов). Итого: 26964\n"
          ]
        },
        {
          "data": {
            "text/html": [
              "\n",
              "            <div class=\"spinner-container\">\n",
              "                <div class=\"spinner\" id=\"e532bc5c-d5ca-4dd8-991b-8b2145faccfd-circle\"></div>\n",
              "                <div class=\"spinner-text\" id=\"e532bc5c-d5ca-4dd8-991b-8b2145faccfd-text\">Initializing Chromedriver</div>\n",
              "            </div>\n",
              "            <style>\n",
              "                @keyframes spin {\n",
              "                    from { transform: rotate(0deg); }\n",
              "                    to { transform: rotate(360deg); }\n",
              "                }\n",
              "\n",
              "                .spinner-container {\n",
              "                    display: flex;\n",
              "                    align-items: center;\n",
              "                    margin-bottom: 3px;\n",
              "                }\n",
              "\n",
              "                .spinner {\n",
              "                    border: 3px solid rgba(0, 0, 0, 0.1);\n",
              "                    border-left-color: lightblue;\n",
              "                    border-radius: 50%;\n",
              "                    width: 12px;\n",
              "                    height: 12px;\n",
              "                    animation: spin 1s linear infinite;\n",
              "                }\n",
              "\n",
              "                .spinner-text {\n",
              "                    padding-left: 6px;\n",
              "                }\n",
              "            </style>\n",
              "        "
            ],
            "text/plain": [
              "<IPython.core.display.HTML object>"
            ]
          },
          "metadata": {},
          "output_type": "display_data"
        },
        {
          "data": {
            "application/javascript": "\n            const element = document.getElementById(\"e532bc5c-d5ca-4dd8-991b-8b2145faccfd-circle\");\n            element.style.border = \"3px solid limegreen\";\n            element.style.animation = \"none\";\n\n            const text = document.getElementById(\"e532bc5c-d5ca-4dd8-991b-8b2145faccfd-text\");\n            text.innerText = \"Initialized Chromedriver\";\n        ",
            "text/plain": [
              "<IPython.core.display.Javascript object>"
            ]
          },
          "metadata": {},
          "output_type": "display_data"
        },
        {
          "name": "stdout",
          "output_type": "stream",
          "text": [
            "[lenta.ru] Загружаем https://lenta.ru/news/2025/10/09/umer-zvezda-shansona-efrem-amiramov-ispolnitelyu-hita-molodaya-bylo-69-let/\n",
            "[lenta.ru] Мало текста из мета (0 слов), ищем в DOM...\n",
            "[lenta.ru] Найдено 5 блоков текста\n",
            "[lenta.ru] Успешно: 157 слов\n",
            "[lenta.ru] Мало текста из мета (0 слов), ищем в DOM...\n",
            "[lenta.ru] ✅ Добавлено: Самая известная певица в мире спела о пенисе жениха: Персоны... (157 слов). Итого: 27121\n"
          ]
        },
        {
          "data": {
            "text/html": [
              "\n",
              "            <div class=\"spinner-container\">\n",
              "                <div class=\"spinner\" id=\"169e5750-fa68-4ca8-9feb-93f3ef00870a-circle\"></div>\n",
              "                <div class=\"spinner-text\" id=\"169e5750-fa68-4ca8-9feb-93f3ef00870a-text\">Initializing Chromedriver</div>\n",
              "            </div>\n",
              "            <style>\n",
              "                @keyframes spin {\n",
              "                    from { transform: rotate(0deg); }\n",
              "                    to { transform: rotate(360deg); }\n",
              "                }\n",
              "\n",
              "                .spinner-container {\n",
              "                    display: flex;\n",
              "                    align-items: center;\n",
              "                    margin-bottom: 3px;\n",
              "                }\n",
              "\n",
              "                .spinner {\n",
              "                    border: 3px solid rgba(0, 0, 0, 0.1);\n",
              "                    border-left-color: lightblue;\n",
              "                    border-radius: 50%;\n",
              "                    width: 12px;\n",
              "                    height: 12px;\n",
              "                    animation: spin 1s linear infinite;\n",
              "                }\n",
              "\n",
              "                .spinner-text {\n",
              "                    padding-left: 6px;\n",
              "                }\n",
              "            </style>\n",
              "        "
            ],
            "text/plain": [
              "<IPython.core.display.HTML object>"
            ]
          },
          "metadata": {},
          "output_type": "display_data"
        },
        {
          "name": "stdout",
          "output_type": "stream",
          "text": [
            "[lenta.ru] Найдено 23 блоков текста\n",
            "[lenta.ru] Успешно: 704 слов\n"
          ]
        },
        {
          "data": {
            "text/html": [
              "\n",
              "            <div class=\"spinner-container\">\n",
              "                <div class=\"spinner\" id=\"f1cba2f9-d6b8-4c59-9d89-cac6658f39cc-circle\"></div>\n",
              "                <div class=\"spinner-text\" id=\"f1cba2f9-d6b8-4c59-9d89-cac6658f39cc-text\">Initializing Chromedriver</div>\n",
              "            </div>\n",
              "            <style>\n",
              "                @keyframes spin {\n",
              "                    from { transform: rotate(0deg); }\n",
              "                    to { transform: rotate(360deg); }\n",
              "                }\n",
              "\n",
              "                .spinner-container {\n",
              "                    display: flex;\n",
              "                    align-items: center;\n",
              "                    margin-bottom: 3px;\n",
              "                }\n",
              "\n",
              "                .spinner {\n",
              "                    border: 3px solid rgba(0, 0, 0, 0.1);\n",
              "                    border-left-color: lightblue;\n",
              "                    border-radius: 50%;\n",
              "                    width: 12px;\n",
              "                    height: 12px;\n",
              "                    animation: spin 1s linear infinite;\n",
              "                }\n",
              "\n",
              "                .spinner-text {\n",
              "                    padding-left: 6px;\n",
              "                }\n",
              "            </style>\n",
              "        "
            ],
            "text/plain": [
              "<IPython.core.display.HTML object>"
            ]
          },
          "metadata": {},
          "output_type": "display_data"
        },
        {
          "name": "stdout",
          "output_type": "stream",
          "text": [
            "[lenta.ru] ✅ Добавлено: Координатор подрыва «Северных потоков» раскрыл неизвестные п... (704 слов). Итого: 27825\n"
          ]
        },
        {
          "data": {
            "application/javascript": "\n            const element = document.getElementById(\"f1cba2f9-d6b8-4c59-9d89-cac6658f39cc-circle\");\n            element.style.border = \"3px solid limegreen\";\n            element.style.animation = \"none\";\n\n            const text = document.getElementById(\"f1cba2f9-d6b8-4c59-9d89-cac6658f39cc-text\");\n            text.innerText = \"Initialized Chromedriver\";\n        ",
            "text/plain": [
              "<IPython.core.display.Javascript object>"
            ]
          },
          "metadata": {},
          "output_type": "display_data"
        },
        {
          "data": {
            "application/javascript": "\n            const element = document.getElementById(\"169e5750-fa68-4ca8-9feb-93f3ef00870a-circle\");\n            element.style.border = \"3px solid limegreen\";\n            element.style.animation = \"none\";\n\n            const text = document.getElementById(\"169e5750-fa68-4ca8-9feb-93f3ef00870a-text\");\n            text.innerText = \"Initialized Chromedriver\";\n        ",
            "text/plain": [
              "<IPython.core.display.Javascript object>"
            ]
          },
          "metadata": {},
          "output_type": "display_data"
        },
        {
          "name": "stdout",
          "output_type": "stream",
          "text": [
            "[lenta.ru] Мало текста из мета (0 слов), ищем в DOM...\n",
            "[lenta.ru] Найдено 14 блоков текста\n",
            "[lenta.ru] Успешно: 441 слов\n",
            "[lenta.ru] ✅ Добавлено: ВСУ подорвали аммиакопровод Тольятти — Одесса: причины, посл... (441 слов). Итого: 28266\n"
          ]
        },
        {
          "data": {
            "text/html": [
              "\n",
              "            <div class=\"spinner-container\">\n",
              "                <div class=\"spinner\" id=\"1dbad0b6-ce33-41a5-9106-aeb8ec702056-circle\"></div>\n",
              "                <div class=\"spinner-text\" id=\"1dbad0b6-ce33-41a5-9106-aeb8ec702056-text\">Initializing Chromedriver</div>\n",
              "            </div>\n",
              "            <style>\n",
              "                @keyframes spin {\n",
              "                    from { transform: rotate(0deg); }\n",
              "                    to { transform: rotate(360deg); }\n",
              "                }\n",
              "\n",
              "                .spinner-container {\n",
              "                    display: flex;\n",
              "                    align-items: center;\n",
              "                    margin-bottom: 3px;\n",
              "                }\n",
              "\n",
              "                .spinner {\n",
              "                    border: 3px solid rgba(0, 0, 0, 0.1);\n",
              "                    border-left-color: lightblue;\n",
              "                    border-radius: 50%;\n",
              "                    width: 12px;\n",
              "                    height: 12px;\n",
              "                    animation: spin 1s linear infinite;\n",
              "                }\n",
              "\n",
              "                .spinner-text {\n",
              "                    padding-left: 6px;\n",
              "                }\n",
              "            </style>\n",
              "        "
            ],
            "text/plain": [
              "<IPython.core.display.HTML object>"
            ]
          },
          "metadata": {},
          "output_type": "display_data"
        },
        {
          "name": "stdout",
          "output_type": "stream",
          "text": [
            "[lenta.ru] Загружаем https://lenta.ru/news/2025/10/09/putin-raskryl-alievu-podrobnosti-krusheniya-samoleta-azal-iz-za-chego-proizoshla-aviakatastrofa/[lenta.ru] Загружаем https://lenta.ru/news/2025/10/09/progremelo-bolee-20-vzryvov-rossiya-nanesla-moschnyy-udar-geranyami-po-portu-v-odesskoy-oblasti-ataka-popala-na-video/\n",
            "\n"
          ]
        },
        {
          "data": {
            "application/javascript": "\n            const element = document.getElementById(\"1dbad0b6-ce33-41a5-9106-aeb8ec702056-circle\");\n            element.style.border = \"3px solid limegreen\";\n            element.style.animation = \"none\";\n\n            const text = document.getElementById(\"1dbad0b6-ce33-41a5-9106-aeb8ec702056-text\");\n            text.innerText = \"Initialized Chromedriver\";\n        ",
            "text/plain": [
              "<IPython.core.display.Javascript object>"
            ]
          },
          "metadata": {},
          "output_type": "display_data"
        },
        {
          "name": "stdout",
          "output_type": "stream",
          "text": [
            "[lenta.ru] Загружаем https://lenta.ru/news/2025/10/09/v-nato-predlozhili-bolee-agressivnyy-otvet-rossii-chto-zadumal-alyans/\n",
            "[lenta.ru] Мало текста из мета (0 слов), ищем в DOM...\n",
            "[lenta.ru] Найдено 14 блоков текста\n",
            "[lenta.ru] Успешно: 326 слов\n",
            "[lenta.ru] ✅ Добавлено: Умерла звезда шансона Ефрем Амирамов: причины, биография, хи... (326 слов). Итого: 28592\n"
          ]
        },
        {
          "data": {
            "text/html": [
              "\n",
              "            <div class=\"spinner-container\">\n",
              "                <div class=\"spinner\" id=\"3be44e73-7b58-40af-b5d1-5862fcc73a7b-circle\"></div>\n",
              "                <div class=\"spinner-text\" id=\"3be44e73-7b58-40af-b5d1-5862fcc73a7b-text\">Initializing Chromedriver</div>\n",
              "            </div>\n",
              "            <style>\n",
              "                @keyframes spin {\n",
              "                    from { transform: rotate(0deg); }\n",
              "                    to { transform: rotate(360deg); }\n",
              "                }\n",
              "\n",
              "                .spinner-container {\n",
              "                    display: flex;\n",
              "                    align-items: center;\n",
              "                    margin-bottom: 3px;\n",
              "                }\n",
              "\n",
              "                .spinner {\n",
              "                    border: 3px solid rgba(0, 0, 0, 0.1);\n",
              "                    border-left-color: lightblue;\n",
              "                    border-radius: 50%;\n",
              "                    width: 12px;\n",
              "                    height: 12px;\n",
              "                    animation: spin 1s linear infinite;\n",
              "                }\n",
              "\n",
              "                .spinner-text {\n",
              "                    padding-left: 6px;\n",
              "                }\n",
              "            </style>\n",
              "        "
            ],
            "text/plain": [
              "<IPython.core.display.HTML object>"
            ]
          },
          "metadata": {},
          "output_type": "display_data"
        },
        {
          "data": {
            "application/javascript": "\n            const element = document.getElementById(\"3be44e73-7b58-40af-b5d1-5862fcc73a7b-circle\");\n            element.style.border = \"3px solid limegreen\";\n            element.style.animation = \"none\";\n\n            const text = document.getElementById(\"3be44e73-7b58-40af-b5d1-5862fcc73a7b-text\");\n            text.innerText = \"Initialized Chromedriver\";\n        ",
            "text/plain": [
              "<IPython.core.display.Javascript object>"
            ]
          },
          "metadata": {},
          "output_type": "display_data"
        },
        {
          "name": "stdout",
          "output_type": "stream",
          "text": [
            "[lenta.ru] Загружаем https://lenta.ru/news/2025/10/09/zelenskiy-prigrozil-blekautom-belgorodskoy-i-kurskoy-oblastyam/\n",
            "[lenta.ru] Мало текста из мета (0 слов), ищем в DOM...\n",
            "[lenta.ru] Найдено 12 блоков текста\n",
            "[lenta.ru] Успешно: 305 слов\n",
            "[lenta.ru] ✅ Добавлено: Заявление Путина о крушении самолета AZAL: переговоры с Алие... (305 слов). Итого: 28897\n"
          ]
        },
        {
          "data": {
            "text/html": [
              "\n",
              "            <div class=\"spinner-container\">\n",
              "                <div class=\"spinner\" id=\"db7e439e-605a-461c-ac81-9dad0d8356a6-circle\"></div>\n",
              "                <div class=\"spinner-text\" id=\"db7e439e-605a-461c-ac81-9dad0d8356a6-text\">Initializing Chromedriver</div>\n",
              "            </div>\n",
              "            <style>\n",
              "                @keyframes spin {\n",
              "                    from { transform: rotate(0deg); }\n",
              "                    to { transform: rotate(360deg); }\n",
              "                }\n",
              "\n",
              "                .spinner-container {\n",
              "                    display: flex;\n",
              "                    align-items: center;\n",
              "                    margin-bottom: 3px;\n",
              "                }\n",
              "\n",
              "                .spinner {\n",
              "                    border: 3px solid rgba(0, 0, 0, 0.1);\n",
              "                    border-left-color: lightblue;\n",
              "                    border-radius: 50%;\n",
              "                    width: 12px;\n",
              "                    height: 12px;\n",
              "                    animation: spin 1s linear infinite;\n",
              "                }\n",
              "\n",
              "                .spinner-text {\n",
              "                    padding-left: 6px;\n",
              "                }\n",
              "            </style>\n",
              "        "
            ],
            "text/plain": [
              "<IPython.core.display.HTML object>"
            ]
          },
          "metadata": {},
          "output_type": "display_data"
        },
        {
          "name": "stdout",
          "output_type": "stream",
          "text": [
            "[lenta.ru] Мало текста из мета (0 слов), ищем в DOM...\n",
            "[lenta.ru] Найдено 10 блоков текста\n",
            "[lenta.ru] Успешно: 233 слов\n",
            "[lenta.ru] ✅ Добавлено: Удары «Геранями» по порту Черноморска 9 октября: сводка Мино... (233 слов). Итого: 29130\n"
          ]
        },
        {
          "data": {
            "text/html": [
              "\n",
              "            <div class=\"spinner-container\">\n",
              "                <div class=\"spinner\" id=\"8a72d0b0-4001-4d27-ab1c-59b37695f1b5-circle\"></div>\n",
              "                <div class=\"spinner-text\" id=\"8a72d0b0-4001-4d27-ab1c-59b37695f1b5-text\">Initializing Chromedriver</div>\n",
              "            </div>\n",
              "            <style>\n",
              "                @keyframes spin {\n",
              "                    from { transform: rotate(0deg); }\n",
              "                    to { transform: rotate(360deg); }\n",
              "                }\n",
              "\n",
              "                .spinner-container {\n",
              "                    display: flex;\n",
              "                    align-items: center;\n",
              "                    margin-bottom: 3px;\n",
              "                }\n",
              "\n",
              "                .spinner {\n",
              "                    border: 3px solid rgba(0, 0, 0, 0.1);\n",
              "                    border-left-color: lightblue;\n",
              "                    border-radius: 50%;\n",
              "                    width: 12px;\n",
              "                    height: 12px;\n",
              "                    animation: spin 1s linear infinite;\n",
              "                }\n",
              "\n",
              "                .spinner-text {\n",
              "                    padding-left: 6px;\n",
              "                }\n",
              "            </style>\n",
              "        "
            ],
            "text/plain": [
              "<IPython.core.display.HTML object>"
            ]
          },
          "metadata": {},
          "output_type": "display_data"
        },
        {
          "data": {
            "application/javascript": "\n            const element = document.getElementById(\"db7e439e-605a-461c-ac81-9dad0d8356a6-circle\");\n            element.style.border = \"3px solid limegreen\";\n            element.style.animation = \"none\";\n\n            const text = document.getElementById(\"db7e439e-605a-461c-ac81-9dad0d8356a6-text\");\n            text.innerText = \"Initialized Chromedriver\";\n        ",
            "text/plain": [
              "<IPython.core.display.Javascript object>"
            ]
          },
          "metadata": {},
          "output_type": "display_data"
        },
        {
          "name": "stdout",
          "output_type": "stream",
          "text": [
            "[lenta.ru] Мало текста из мета (0 слов), ищем в DOM...\n",
            "[lenta.ru] Найдено 11 блоков текста\n",
            "[lenta.ru] Успешно: 341 слов\n"
          ]
        },
        {
          "data": {
            "text/html": [
              "\n",
              "            <div class=\"spinner-container\">\n",
              "                <div class=\"spinner\" id=\"7ea3f474-f9fe-4668-be44-77be3e68a974-circle\"></div>\n",
              "                <div class=\"spinner-text\" id=\"7ea3f474-f9fe-4668-be44-77be3e68a974-text\">Initializing Chromedriver</div>\n",
              "            </div>\n",
              "            <style>\n",
              "                @keyframes spin {\n",
              "                    from { transform: rotate(0deg); }\n",
              "                    to { transform: rotate(360deg); }\n",
              "                }\n",
              "\n",
              "                .spinner-container {\n",
              "                    display: flex;\n",
              "                    align-items: center;\n",
              "                    margin-bottom: 3px;\n",
              "                }\n",
              "\n",
              "                .spinner {\n",
              "                    border: 3px solid rgba(0, 0, 0, 0.1);\n",
              "                    border-left-color: lightblue;\n",
              "                    border-radius: 50%;\n",
              "                    width: 12px;\n",
              "                    height: 12px;\n",
              "                    animation: spin 1s linear infinite;\n",
              "                }\n",
              "\n",
              "                .spinner-text {\n",
              "                    padding-left: 6px;\n",
              "                }\n",
              "            </style>\n",
              "        "
            ],
            "text/plain": [
              "<IPython.core.display.HTML object>"
            ]
          },
          "metadata": {},
          "output_type": "display_data"
        },
        {
          "name": "stdout",
          "output_type": "stream",
          "text": [
            "[lenta.ru] ✅ Добавлено: Возможное снятие ограничений НАТО на огонь по целям из Росси... (341 слов). Итого: 29471\n",
            "[lenta.ru] Загружаем https://lenta.ru/news/2025/10/09/on-zasluzhil-pravo-byt-russkim-osvobozhdavshemu-kurskuyu-oblast-latviytsu-ne-dayut-grazhdanstvo-rossii-pochemu/\n"
          ]
        },
        {
          "data": {
            "application/javascript": "\n            const element = document.getElementById(\"8a72d0b0-4001-4d27-ab1c-59b37695f1b5-circle\");\n            element.style.border = \"3px solid limegreen\";\n            element.style.animation = \"none\";\n\n            const text = document.getElementById(\"8a72d0b0-4001-4d27-ab1c-59b37695f1b5-text\");\n            text.innerText = \"Initialized Chromedriver\";\n        ",
            "text/plain": [
              "<IPython.core.display.Javascript object>"
            ]
          },
          "metadata": {},
          "output_type": "display_data"
        },
        {
          "data": {
            "application/javascript": "\n            const element = document.getElementById(\"7ea3f474-f9fe-4668-be44-77be3e68a974-circle\");\n            element.style.border = \"3px solid limegreen\";\n            element.style.animation = \"none\";\n\n            const text = document.getElementById(\"7ea3f474-f9fe-4668-be44-77be3e68a974-text\");\n            text.innerText = \"Initialized Chromedriver\";\n        ",
            "text/plain": [
              "<IPython.core.display.Javascript object>"
            ]
          },
          "metadata": {},
          "output_type": "display_data"
        },
        {
          "name": "stdout",
          "output_type": "stream",
          "text": [
            "[lenta.ru] Загружаем https://lenta.ru/news/2025/10/09/galkin-prodal-redchayshiy-bentley-ego-nomera-okazalis-vdvoe-dorozhe-lyuksovogo-avto-skolko-oni-stoili-i-chto-v-nih-osobennogo/\n",
            "[lenta.ru] Загружаем https://lenta.ru/news/2025/10/09/velikiy-den-izrail-i-hamas-podpisali-pervuyu-fazu-plana-po-uregulirovaniyu-konflikta/\n",
            "[lenta.ru] Мало текста из мета (0 слов), ищем в DOM...\n",
            "[lenta.ru] Найдено 13 блоков текста\n",
            "[lenta.ru] Успешно: 207 слов\n",
            "[lenta.ru] ✅ Добавлено: Угрозы Зеленского: блэкаут, Белгородская и Курская области, ... (207 слов). Итого: 29678\n",
            "[lenta.ru] Мало текста из мета (0 слов), ищем в DOM...[lenta.ru] Мало текста из мета (0 слов), ищем в DOM...\n",
            "\n",
            "[lenta.ru] Найдено 13 блоков текста\n",
            "[lenta.ru] Найдено 8 блоков текста\n",
            "[lenta.ru] Успешно: 304 слов\n",
            "[lenta.ru] Успешно: 299 слов\n",
            "[lenta.ru] ✅ Добавлено: Участие латвийца в СВО на стороне России: ожидание гражданст... (304 слов). Итого: 29982\n",
            "[lenta.ru] Мало текста из мета (0 слов), ищем в DOM...\n",
            "[lenta.ru] Найдено 15 блоков текста\n",
            "[lenta.ru] Успешно: 415 слов\n",
            "[lenta.ru] ✅ Добавлено: Максим Галкин продал Bentley: стоимость госномеров, цена Бен... (415 слов). Итого: 30397\n",
            "[lenta.ru] ✅ Добавлено: Трамп заявил, что Израиль и ХАМАС подписали первую фазу план... (299 слов). Итого: 30696\n",
            "\n",
            "=== Сбор с tass.ru ===\n"
          ]
        },
        {
          "data": {
            "text/html": [
              "\n",
              "            <div class=\"spinner-container\">\n",
              "                <div class=\"spinner\" id=\"61a0d14d-10fa-4fd7-864d-7bf286112ec4-circle\"></div>\n",
              "                <div class=\"spinner-text\" id=\"61a0d14d-10fa-4fd7-864d-7bf286112ec4-text\">Initializing Chromedriver</div>\n",
              "            </div>\n",
              "            <style>\n",
              "                @keyframes spin {\n",
              "                    from { transform: rotate(0deg); }\n",
              "                    to { transform: rotate(360deg); }\n",
              "                }\n",
              "\n",
              "                .spinner-container {\n",
              "                    display: flex;\n",
              "                    align-items: center;\n",
              "                    margin-bottom: 3px;\n",
              "                }\n",
              "\n",
              "                .spinner {\n",
              "                    border: 3px solid rgba(0, 0, 0, 0.1);\n",
              "                    border-left-color: lightblue;\n",
              "                    border-radius: 50%;\n",
              "                    width: 12px;\n",
              "                    height: 12px;\n",
              "                    animation: spin 1s linear infinite;\n",
              "                }\n",
              "\n",
              "                .spinner-text {\n",
              "                    padding-left: 6px;\n",
              "                }\n",
              "            </style>\n",
              "        "
            ],
            "text/plain": [
              "<IPython.core.display.HTML object>"
            ]
          },
          "metadata": {},
          "output_type": "display_data"
        },
        {
          "data": {
            "application/javascript": "\n            const element = document.getElementById(\"61a0d14d-10fa-4fd7-864d-7bf286112ec4-circle\");\n            element.style.border = \"3px solid limegreen\";\n            element.style.animation = \"none\";\n\n            const text = document.getElementById(\"61a0d14d-10fa-4fd7-864d-7bf286112ec4-text\");\n            text.innerText = \"Initialized Chromedriver\";\n        ",
            "text/plain": [
              "<IPython.core.display.Javascript object>"
            ]
          },
          "metadata": {},
          "output_type": "display_data"
        },
        {
          "name": "stdout",
          "output_type": "stream",
          "text": [
            "[tass.ru] Загружаем главную страницу: https://tass.ru/ekonomika\n",
            "[tass.ru] Найдено 30 элементов статей\n",
            "[tass.ru] Сырые ссылки: ['/ekonomika/25304651', '/ekonomika/25304645', '/ekonomika/25304563']...\n",
            "[tass.ru] Отфильтровано 30 валидных ссылок: ['https://tass.ru/ekonomika/25304651', 'https://tass.ru/ekonomika/25304645', 'https://tass.ru/ekonomika/25304563']...\n"
          ]
        },
        {
          "data": {
            "text/html": [
              "\n",
              "            <div class=\"spinner-container\">\n",
              "                <div class=\"spinner\" id=\"f0849bf9-f653-400c-8261-614ff034c9db-circle\"></div>\n",
              "                <div class=\"spinner-text\" id=\"f0849bf9-f653-400c-8261-614ff034c9db-text\">Initializing Chromedriver</div>\n",
              "            </div>\n",
              "            <style>\n",
              "                @keyframes spin {\n",
              "                    from { transform: rotate(0deg); }\n",
              "                    to { transform: rotate(360deg); }\n",
              "                }\n",
              "\n",
              "                .spinner-container {\n",
              "                    display: flex;\n",
              "                    align-items: center;\n",
              "                    margin-bottom: 3px;\n",
              "                }\n",
              "\n",
              "                .spinner {\n",
              "                    border: 3px solid rgba(0, 0, 0, 0.1);\n",
              "                    border-left-color: lightblue;\n",
              "                    border-radius: 50%;\n",
              "                    width: 12px;\n",
              "                    height: 12px;\n",
              "                    animation: spin 1s linear infinite;\n",
              "                }\n",
              "\n",
              "                .spinner-text {\n",
              "                    padding-left: 6px;\n",
              "                }\n",
              "            </style>\n",
              "        "
            ],
            "text/plain": [
              "<IPython.core.display.HTML object>"
            ]
          },
          "metadata": {},
          "output_type": "display_data"
        },
        {
          "data": {
            "text/html": [
              "\n",
              "            <div class=\"spinner-container\">\n",
              "                <div class=\"spinner\" id=\"920d8f78-2a0e-4392-8945-039aaa8ec14b-circle\"></div>\n",
              "                <div class=\"spinner-text\" id=\"920d8f78-2a0e-4392-8945-039aaa8ec14b-text\">Initializing Chromedriver</div>\n",
              "            </div>\n",
              "            <style>\n",
              "                @keyframes spin {\n",
              "                    from { transform: rotate(0deg); }\n",
              "                    to { transform: rotate(360deg); }\n",
              "                }\n",
              "\n",
              "                .spinner-container {\n",
              "                    display: flex;\n",
              "                    align-items: center;\n",
              "                    margin-bottom: 3px;\n",
              "                }\n",
              "\n",
              "                .spinner {\n",
              "                    border: 3px solid rgba(0, 0, 0, 0.1);\n",
              "                    border-left-color: lightblue;\n",
              "                    border-radius: 50%;\n",
              "                    width: 12px;\n",
              "                    height: 12px;\n",
              "                    animation: spin 1s linear infinite;\n",
              "                }\n",
              "\n",
              "                .spinner-text {\n",
              "                    padding-left: 6px;\n",
              "                }\n",
              "            </style>\n",
              "        "
            ],
            "text/plain": [
              "<IPython.core.display.HTML object>"
            ]
          },
          "metadata": {},
          "output_type": "display_data"
        },
        {
          "data": {
            "text/html": [
              "\n",
              "            <div class=\"spinner-container\">\n",
              "                <div class=\"spinner\" id=\"f9d07dff-35fa-48d9-beab-fc5fa91d0025-circle\"></div>\n",
              "                <div class=\"spinner-text\" id=\"f9d07dff-35fa-48d9-beab-fc5fa91d0025-text\">Initializing Chromedriver</div>\n",
              "            </div>\n",
              "            <style>\n",
              "                @keyframes spin {\n",
              "                    from { transform: rotate(0deg); }\n",
              "                    to { transform: rotate(360deg); }\n",
              "                }\n",
              "\n",
              "                .spinner-container {\n",
              "                    display: flex;\n",
              "                    align-items: center;\n",
              "                    margin-bottom: 3px;\n",
              "                }\n",
              "\n",
              "                .spinner {\n",
              "                    border: 3px solid rgba(0, 0, 0, 0.1);\n",
              "                    border-left-color: lightblue;\n",
              "                    border-radius: 50%;\n",
              "                    width: 12px;\n",
              "                    height: 12px;\n",
              "                    animation: spin 1s linear infinite;\n",
              "                }\n",
              "\n",
              "                .spinner-text {\n",
              "                    padding-left: 6px;\n",
              "                }\n",
              "            </style>\n",
              "        "
            ],
            "text/plain": [
              "<IPython.core.display.HTML object>"
            ]
          },
          "metadata": {},
          "output_type": "display_data"
        },
        {
          "data": {
            "text/html": [
              "\n",
              "            <div class=\"spinner-container\">\n",
              "                <div class=\"spinner\" id=\"a6c91b1c-f449-4781-8c16-455bf6e484d5-circle\"></div>\n",
              "                <div class=\"spinner-text\" id=\"a6c91b1c-f449-4781-8c16-455bf6e484d5-text\">Initializing Chromedriver</div>\n",
              "            </div>\n",
              "            <style>\n",
              "                @keyframes spin {\n",
              "                    from { transform: rotate(0deg); }\n",
              "                    to { transform: rotate(360deg); }\n",
              "                }\n",
              "\n",
              "                .spinner-container {\n",
              "                    display: flex;\n",
              "                    align-items: center;\n",
              "                    margin-bottom: 3px;\n",
              "                }\n",
              "\n",
              "                .spinner {\n",
              "                    border: 3px solid rgba(0, 0, 0, 0.1);\n",
              "                    border-left-color: lightblue;\n",
              "                    border-radius: 50%;\n",
              "                    width: 12px;\n",
              "                    height: 12px;\n",
              "                    animation: spin 1s linear infinite;\n",
              "                }\n",
              "\n",
              "                .spinner-text {\n",
              "                    padding-left: 6px;\n",
              "                }\n",
              "            </style>\n",
              "        "
            ],
            "text/plain": [
              "<IPython.core.display.HTML object>"
            ]
          },
          "metadata": {},
          "output_type": "display_data"
        },
        {
          "data": {
            "application/javascript": "\n            const element = document.getElementById(\"a6c91b1c-f449-4781-8c16-455bf6e484d5-circle\");\n            element.style.border = \"3px solid limegreen\";\n            element.style.animation = \"none\";\n\n            const text = document.getElementById(\"a6c91b1c-f449-4781-8c16-455bf6e484d5-text\");\n            text.innerText = \"Initialized Chromedriver\";\n        ",
            "text/plain": [
              "<IPython.core.display.Javascript object>"
            ]
          },
          "metadata": {},
          "output_type": "display_data"
        },
        {
          "data": {
            "application/javascript": "\n            const element = document.getElementById(\"f9d07dff-35fa-48d9-beab-fc5fa91d0025-circle\");\n            element.style.border = \"3px solid limegreen\";\n            element.style.animation = \"none\";\n\n            const text = document.getElementById(\"f9d07dff-35fa-48d9-beab-fc5fa91d0025-text\");\n            text.innerText = \"Initialized Chromedriver\";\n        ",
            "text/plain": [
              "<IPython.core.display.Javascript object>"
            ]
          },
          "metadata": {},
          "output_type": "display_data"
        },
        {
          "data": {
            "application/javascript": "\n            const element = document.getElementById(\"920d8f78-2a0e-4392-8945-039aaa8ec14b-circle\");\n            element.style.border = \"3px solid limegreen\";\n            element.style.animation = \"none\";\n\n            const text = document.getElementById(\"920d8f78-2a0e-4392-8945-039aaa8ec14b-text\");\n            text.innerText = \"Initialized Chromedriver\";\n        ",
            "text/plain": [
              "<IPython.core.display.Javascript object>"
            ]
          },
          "metadata": {},
          "output_type": "display_data"
        },
        {
          "data": {
            "application/javascript": "\n            const element = document.getElementById(\"f0849bf9-f653-400c-8261-614ff034c9db-circle\");\n            element.style.border = \"3px solid limegreen\";\n            element.style.animation = \"none\";\n\n            const text = document.getElementById(\"f0849bf9-f653-400c-8261-614ff034c9db-text\");\n            text.innerText = \"Initialized Chromedriver\";\n        ",
            "text/plain": [
              "<IPython.core.display.Javascript object>"
            ]
          },
          "metadata": {},
          "output_type": "display_data"
        },
        {
          "name": "stdout",
          "output_type": "stream",
          "text": [
            "[tass.ru] Загружаем https://tass.ru/ekonomika/25304563\n",
            "[tass.ru] Загружаем https://tass.ru/ekonomika/25304645\n",
            "[tass.ru] Загружаем https://tass.ru/ekonomika/25304651\n",
            "[tass.ru] Загружаем https://tass.ru/ekonomika/25304467\n",
            "[tass.ru] Мало текста из мета (7 слов), ищем в DOM...\n",
            "[tass.ru] Мало текста из мета (6 слов), ищем в DOM...\n",
            "[tass.ru] Найдено 4 блоков текста\n",
            "[tass.ru] Успешно: 185 слов\n",
            "[tass.ru] Найдено 3 блоков текста\n",
            "[tass.ru] Успешно: 45 слов\n",
            "[tass.ru] Мало текста из мета (8 слов), ищем в DOM...\n",
            "[tass.ru] Найдено 7 блоков текста\n",
            "[tass.ru] Успешно: 224 слов\n",
            "[tass.ru] ✅ Добавлено: В России до марта 2026 года создадут платформу для борьбы с ... (185 слов). Итого: 30881\n"
          ]
        },
        {
          "data": {
            "text/html": [
              "\n",
              "            <div class=\"spinner-container\">\n",
              "                <div class=\"spinner\" id=\"73f465a4-d89e-468a-9dc8-d7c232859ce0-circle\"></div>\n",
              "                <div class=\"spinner-text\" id=\"73f465a4-d89e-468a-9dc8-d7c232859ce0-text\">Initializing Chromedriver</div>\n",
              "            </div>\n",
              "            <style>\n",
              "                @keyframes spin {\n",
              "                    from { transform: rotate(0deg); }\n",
              "                    to { transform: rotate(360deg); }\n",
              "                }\n",
              "\n",
              "                .spinner-container {\n",
              "                    display: flex;\n",
              "                    align-items: center;\n",
              "                    margin-bottom: 3px;\n",
              "                }\n",
              "\n",
              "                .spinner {\n",
              "                    border: 3px solid rgba(0, 0, 0, 0.1);\n",
              "                    border-left-color: lightblue;\n",
              "                    border-radius: 50%;\n",
              "                    width: 12px;\n",
              "                    height: 12px;\n",
              "                    animation: spin 1s linear infinite;\n",
              "                }\n",
              "\n",
              "                .spinner-text {\n",
              "                    padding-left: 6px;\n",
              "                }\n",
              "            </style>\n",
              "        "
            ],
            "text/plain": [
              "<IPython.core.display.HTML object>"
            ]
          },
          "metadata": {},
          "output_type": "display_data"
        },
        {
          "data": {
            "text/html": [
              "\n",
              "            <div class=\"spinner-container\">\n",
              "                <div class=\"spinner\" id=\"58d9a469-3572-4047-8de5-491ac29c75ff-circle\"></div>\n",
              "                <div class=\"spinner-text\" id=\"58d9a469-3572-4047-8de5-491ac29c75ff-text\">Initializing Chromedriver</div>\n",
              "            </div>\n",
              "            <style>\n",
              "                @keyframes spin {\n",
              "                    from { transform: rotate(0deg); }\n",
              "                    to { transform: rotate(360deg); }\n",
              "                }\n",
              "\n",
              "                .spinner-container {\n",
              "                    display: flex;\n",
              "                    align-items: center;\n",
              "                    margin-bottom: 3px;\n",
              "                }\n",
              "\n",
              "                .spinner {\n",
              "                    border: 3px solid rgba(0, 0, 0, 0.1);\n",
              "                    border-left-color: lightblue;\n",
              "                    border-radius: 50%;\n",
              "                    width: 12px;\n",
              "                    height: 12px;\n",
              "                    animation: spin 1s linear infinite;\n",
              "                }\n",
              "\n",
              "                .spinner-text {\n",
              "                    padding-left: 6px;\n",
              "                }\n",
              "            </style>\n",
              "        "
            ],
            "text/plain": [
              "<IPython.core.display.HTML object>"
            ]
          },
          "metadata": {},
          "output_type": "display_data"
        },
        {
          "data": {
            "text/html": [
              "\n",
              "            <div class=\"spinner-container\">\n",
              "                <div class=\"spinner\" id=\"27081419-5c7d-4476-bf6c-4107558994c2-circle\"></div>\n",
              "                <div class=\"spinner-text\" id=\"27081419-5c7d-4476-bf6c-4107558994c2-text\">Initializing Chromedriver</div>\n",
              "            </div>\n",
              "            <style>\n",
              "                @keyframes spin {\n",
              "                    from { transform: rotate(0deg); }\n",
              "                    to { transform: rotate(360deg); }\n",
              "                }\n",
              "\n",
              "                .spinner-container {\n",
              "                    display: flex;\n",
              "                    align-items: center;\n",
              "                    margin-bottom: 3px;\n",
              "                }\n",
              "\n",
              "                .spinner {\n",
              "                    border: 3px solid rgba(0, 0, 0, 0.1);\n",
              "                    border-left-color: lightblue;\n",
              "                    border-radius: 50%;\n",
              "                    width: 12px;\n",
              "                    height: 12px;\n",
              "                    animation: spin 1s linear infinite;\n",
              "                }\n",
              "\n",
              "                .spinner-text {\n",
              "                    padding-left: 6px;\n",
              "                }\n",
              "            </style>\n",
              "        "
            ],
            "text/plain": [
              "<IPython.core.display.HTML object>"
            ]
          },
          "metadata": {},
          "output_type": "display_data"
        },
        {
          "name": "stdout",
          "output_type": "stream",
          "text": [
            "[tass.ru] ✅ Добавлено: Новак поручил Минэнерго отслеживать ситуацию на рынке нефтеп... (224 слов). Итого: 31105\n",
            "[tass.ru] ❌ Мало слов: 45\n"
          ]
        },
        {
          "data": {
            "application/javascript": "\n            const element = document.getElementById(\"58d9a469-3572-4047-8de5-491ac29c75ff-circle\");\n            element.style.border = \"3px solid limegreen\";\n            element.style.animation = \"none\";\n\n            const text = document.getElementById(\"58d9a469-3572-4047-8de5-491ac29c75ff-text\");\n            text.innerText = \"Initialized Chromedriver\";\n        ",
            "text/plain": [
              "<IPython.core.display.Javascript object>"
            ]
          },
          "metadata": {},
          "output_type": "display_data"
        },
        {
          "data": {
            "application/javascript": "\n            const element = document.getElementById(\"73f465a4-d89e-468a-9dc8-d7c232859ce0-circle\");\n            element.style.border = \"3px solid limegreen\";\n            element.style.animation = \"none\";\n\n            const text = document.getElementById(\"73f465a4-d89e-468a-9dc8-d7c232859ce0-text\");\n            text.innerText = \"Initialized Chromedriver\";\n        ",
            "text/plain": [
              "<IPython.core.display.Javascript object>"
            ]
          },
          "metadata": {},
          "output_type": "display_data"
        },
        {
          "data": {
            "application/javascript": "\n            const element = document.getElementById(\"27081419-5c7d-4476-bf6c-4107558994c2-circle\");\n            element.style.border = \"3px solid limegreen\";\n            element.style.animation = \"none\";\n\n            const text = document.getElementById(\"27081419-5c7d-4476-bf6c-4107558994c2-text\");\n            text.innerText = \"Initialized Chromedriver\";\n        ",
            "text/plain": [
              "<IPython.core.display.Javascript object>"
            ]
          },
          "metadata": {},
          "output_type": "display_data"
        },
        {
          "name": "stdout",
          "output_type": "stream",
          "text": [
            "[tass.ru] Загружаем https://tass.ru/ekonomika/25304431\n",
            "[tass.ru] Загружаем https://tass.ru/ekonomika/25304471\n",
            "[tass.ru] Загружаем https://tass.ru/ekonomika/25304173\n",
            "[tass.ru] Мало текста из мета (9 слов), ищем в DOM...\n",
            "[tass.ru] Найдено 3 блоков текста\n",
            "[tass.ru] Успешно: 87 слов\n",
            "[tass.ru] ✅ Добавлено: В работе сервисов Microsoft в США произошел сбой... (87 слов). Итого: 31192\n"
          ]
        },
        {
          "data": {
            "text/html": [
              "\n",
              "            <div class=\"spinner-container\">\n",
              "                <div class=\"spinner\" id=\"bc2f8886-1fec-47e4-b5d6-ccf22c7d493e-circle\"></div>\n",
              "                <div class=\"spinner-text\" id=\"bc2f8886-1fec-47e4-b5d6-ccf22c7d493e-text\">Initializing Chromedriver</div>\n",
              "            </div>\n",
              "            <style>\n",
              "                @keyframes spin {\n",
              "                    from { transform: rotate(0deg); }\n",
              "                    to { transform: rotate(360deg); }\n",
              "                }\n",
              "\n",
              "                .spinner-container {\n",
              "                    display: flex;\n",
              "                    align-items: center;\n",
              "                    margin-bottom: 3px;\n",
              "                }\n",
              "\n",
              "                .spinner {\n",
              "                    border: 3px solid rgba(0, 0, 0, 0.1);\n",
              "                    border-left-color: lightblue;\n",
              "                    border-radius: 50%;\n",
              "                    width: 12px;\n",
              "                    height: 12px;\n",
              "                    animation: spin 1s linear infinite;\n",
              "                }\n",
              "\n",
              "                .spinner-text {\n",
              "                    padding-left: 6px;\n",
              "                }\n",
              "            </style>\n",
              "        "
            ],
            "text/plain": [
              "<IPython.core.display.HTML object>"
            ]
          },
          "metadata": {},
          "output_type": "display_data"
        },
        {
          "data": {
            "application/javascript": "\n            const element = document.getElementById(\"bc2f8886-1fec-47e4-b5d6-ccf22c7d493e-circle\");\n            element.style.border = \"3px solid limegreen\";\n            element.style.animation = \"none\";\n\n            const text = document.getElementById(\"bc2f8886-1fec-47e4-b5d6-ccf22c7d493e-text\");\n            text.innerText = \"Initialized Chromedriver\";\n        ",
            "text/plain": [
              "<IPython.core.display.Javascript object>"
            ]
          },
          "metadata": {},
          "output_type": "display_data"
        },
        {
          "name": "stdout",
          "output_type": "stream",
          "text": [
            "[tass.ru] Загружаем https://tass.ru/ekonomika/25304399\n",
            "[tass.ru] Мало текста из мета (23 слов), ищем в DOM...\n",
            "[tass.ru] Найдено 5 блоков текста\n",
            "[tass.ru] Успешно: 185 слов\n",
            "[tass.ru] ✅ Добавлено: Главы МИД стран СНГ обсудили развитие торгово-экономической ... (185 слов). Итого: 31377\n"
          ]
        },
        {
          "data": {
            "text/html": [
              "\n",
              "            <div class=\"spinner-container\">\n",
              "                <div class=\"spinner\" id=\"49865ded-b24b-4d05-b132-60cb7ebf30ac-circle\"></div>\n",
              "                <div class=\"spinner-text\" id=\"49865ded-b24b-4d05-b132-60cb7ebf30ac-text\">Initializing Chromedriver</div>\n",
              "            </div>\n",
              "            <style>\n",
              "                @keyframes spin {\n",
              "                    from { transform: rotate(0deg); }\n",
              "                    to { transform: rotate(360deg); }\n",
              "                }\n",
              "\n",
              "                .spinner-container {\n",
              "                    display: flex;\n",
              "                    align-items: center;\n",
              "                    margin-bottom: 3px;\n",
              "                }\n",
              "\n",
              "                .spinner {\n",
              "                    border: 3px solid rgba(0, 0, 0, 0.1);\n",
              "                    border-left-color: lightblue;\n",
              "                    border-radius: 50%;\n",
              "                    width: 12px;\n",
              "                    height: 12px;\n",
              "                    animation: spin 1s linear infinite;\n",
              "                }\n",
              "\n",
              "                .spinner-text {\n",
              "                    padding-left: 6px;\n",
              "                }\n",
              "            </style>\n",
              "        "
            ],
            "text/plain": [
              "<IPython.core.display.HTML object>"
            ]
          },
          "metadata": {},
          "output_type": "display_data"
        },
        {
          "name": "stdout",
          "output_type": "stream",
          "text": [
            "[tass.ru] Мало текста из мета (7 слов), ищем в DOM...\n"
          ]
        },
        {
          "data": {
            "application/javascript": "\n            const element = document.getElementById(\"49865ded-b24b-4d05-b132-60cb7ebf30ac-circle\");\n            element.style.border = \"3px solid limegreen\";\n            element.style.animation = \"none\";\n\n            const text = document.getElementById(\"49865ded-b24b-4d05-b132-60cb7ebf30ac-text\");\n            text.innerText = \"Initialized Chromedriver\";\n        ",
            "text/plain": [
              "<IPython.core.display.Javascript object>"
            ]
          },
          "metadata": {},
          "output_type": "display_data"
        },
        {
          "name": "stdout",
          "output_type": "stream",
          "text": [
            "[tass.ru] Найдено 8 блоков текста\n",
            "[tass.ru] Успешно: 211 слов\n",
            "[tass.ru] Мало текста из мета (7 слов), ищем в DOM...\n",
            "[tass.ru] Найдено 5 блоков текста\n",
            "[tass.ru] Успешно: 180 слов\n"
          ]
        },
        {
          "data": {
            "text/html": [
              "\n",
              "            <div class=\"spinner-container\">\n",
              "                <div class=\"spinner\" id=\"e16bcffc-7a5b-40b7-b296-ca2bb8f8cf15-circle\"></div>\n",
              "                <div class=\"spinner-text\" id=\"e16bcffc-7a5b-40b7-b296-ca2bb8f8cf15-text\">Initializing Chromedriver</div>\n",
              "            </div>\n",
              "            <style>\n",
              "                @keyframes spin {\n",
              "                    from { transform: rotate(0deg); }\n",
              "                    to { transform: rotate(360deg); }\n",
              "                }\n",
              "\n",
              "                .spinner-container {\n",
              "                    display: flex;\n",
              "                    align-items: center;\n",
              "                    margin-bottom: 3px;\n",
              "                }\n",
              "\n",
              "                .spinner {\n",
              "                    border: 3px solid rgba(0, 0, 0, 0.1);\n",
              "                    border-left-color: lightblue;\n",
              "                    border-radius: 50%;\n",
              "                    width: 12px;\n",
              "                    height: 12px;\n",
              "                    animation: spin 1s linear infinite;\n",
              "                }\n",
              "\n",
              "                .spinner-text {\n",
              "                    padding-left: 6px;\n",
              "                }\n",
              "            </style>\n",
              "        "
            ],
            "text/plain": [
              "<IPython.core.display.HTML object>"
            ]
          },
          "metadata": {},
          "output_type": "display_data"
        },
        {
          "name": "stdout",
          "output_type": "stream",
          "text": [
            "[tass.ru] ✅ Добавлено: В России прорабатывают меры по оздоровлению топливного рынка... (211 слов). Итого: 31588\n"
          ]
        },
        {
          "data": {
            "text/html": [
              "\n",
              "            <div class=\"spinner-container\">\n",
              "                <div class=\"spinner\" id=\"95ee4355-ce65-42e9-9294-abb8c9ed720e-circle\"></div>\n",
              "                <div class=\"spinner-text\" id=\"95ee4355-ce65-42e9-9294-abb8c9ed720e-text\">Initializing Chromedriver</div>\n",
              "            </div>\n",
              "            <style>\n",
              "                @keyframes spin {\n",
              "                    from { transform: rotate(0deg); }\n",
              "                    to { transform: rotate(360deg); }\n",
              "                }\n",
              "\n",
              "                .spinner-container {\n",
              "                    display: flex;\n",
              "                    align-items: center;\n",
              "                    margin-bottom: 3px;\n",
              "                }\n",
              "\n",
              "                .spinner {\n",
              "                    border: 3px solid rgba(0, 0, 0, 0.1);\n",
              "                    border-left-color: lightblue;\n",
              "                    border-radius: 50%;\n",
              "                    width: 12px;\n",
              "                    height: 12px;\n",
              "                    animation: spin 1s linear infinite;\n",
              "                }\n",
              "\n",
              "                .spinner-text {\n",
              "                    padding-left: 6px;\n",
              "                }\n",
              "            </style>\n",
              "        "
            ],
            "text/plain": [
              "<IPython.core.display.HTML object>"
            ]
          },
          "metadata": {},
          "output_type": "display_data"
        },
        {
          "name": "stdout",
          "output_type": "stream",
          "text": [
            "[tass.ru] Загружаем https://tass.ru/ekonomika/25304331\n",
            "[tass.ru] ✅ Добавлено: Турция обсуждает с Россией строительство АЭС... (180 слов). Итого: 31768\n"
          ]
        },
        {
          "data": {
            "application/javascript": "\n            const element = document.getElementById(\"95ee4355-ce65-42e9-9294-abb8c9ed720e-circle\");\n            element.style.border = \"3px solid limegreen\";\n            element.style.animation = \"none\";\n\n            const text = document.getElementById(\"95ee4355-ce65-42e9-9294-abb8c9ed720e-text\");\n            text.innerText = \"Initialized Chromedriver\";\n        ",
            "text/plain": [
              "<IPython.core.display.Javascript object>"
            ]
          },
          "metadata": {},
          "output_type": "display_data"
        },
        {
          "data": {
            "application/javascript": "\n            const element = document.getElementById(\"e16bcffc-7a5b-40b7-b296-ca2bb8f8cf15-circle\");\n            element.style.border = \"3px solid limegreen\";\n            element.style.animation = \"none\";\n\n            const text = document.getElementById(\"e16bcffc-7a5b-40b7-b296-ca2bb8f8cf15-text\");\n            text.innerText = \"Initialized Chromedriver\";\n        ",
            "text/plain": [
              "<IPython.core.display.Javascript object>"
            ]
          },
          "metadata": {},
          "output_type": "display_data"
        },
        {
          "name": "stdout",
          "output_type": "stream",
          "text": [
            "[tass.ru] Мало текста из мета (20 слов), ищем в DOM...\n",
            "[tass.ru] Найдено 5 блоков текста\n",
            "[tass.ru] Успешно: 198 слов\n",
            "[tass.ru] ✅ Добавлено: ОМК и \"Газпром\" до 2030 года будут совместно разрабатывать т... (198 слов). Итого: 31966\n"
          ]
        },
        {
          "data": {
            "text/html": [
              "\n",
              "            <div class=\"spinner-container\">\n",
              "                <div class=\"spinner\" id=\"56739685-532d-4859-8f3f-0d0d946840ec-circle\"></div>\n",
              "                <div class=\"spinner-text\" id=\"56739685-532d-4859-8f3f-0d0d946840ec-text\">Initializing Chromedriver</div>\n",
              "            </div>\n",
              "            <style>\n",
              "                @keyframes spin {\n",
              "                    from { transform: rotate(0deg); }\n",
              "                    to { transform: rotate(360deg); }\n",
              "                }\n",
              "\n",
              "                .spinner-container {\n",
              "                    display: flex;\n",
              "                    align-items: center;\n",
              "                    margin-bottom: 3px;\n",
              "                }\n",
              "\n",
              "                .spinner {\n",
              "                    border: 3px solid rgba(0, 0, 0, 0.1);\n",
              "                    border-left-color: lightblue;\n",
              "                    border-radius: 50%;\n",
              "                    width: 12px;\n",
              "                    height: 12px;\n",
              "                    animation: spin 1s linear infinite;\n",
              "                }\n",
              "\n",
              "                .spinner-text {\n",
              "                    padding-left: 6px;\n",
              "                }\n",
              "            </style>\n",
              "        "
            ],
            "text/plain": [
              "<IPython.core.display.HTML object>"
            ]
          },
          "metadata": {},
          "output_type": "display_data"
        },
        {
          "name": "stdout",
          "output_type": "stream",
          "text": [
            "[tass.ru] Загружаем https://tass.ru/ekonomika/25304257\n",
            "[tass.ru] Загружаем https://tass.ru/ekonomika/25304291\n"
          ]
        },
        {
          "data": {
            "application/javascript": "\n            const element = document.getElementById(\"56739685-532d-4859-8f3f-0d0d946840ec-circle\");\n            element.style.border = \"3px solid limegreen\";\n            element.style.animation = \"none\";\n\n            const text = document.getElementById(\"56739685-532d-4859-8f3f-0d0d946840ec-text\");\n            text.innerText = \"Initialized Chromedriver\";\n        ",
            "text/plain": [
              "<IPython.core.display.Javascript object>"
            ]
          },
          "metadata": {},
          "output_type": "display_data"
        },
        {
          "name": "stdout",
          "output_type": "stream",
          "text": [
            "[tass.ru] Загружаем https://tass.ru/ekonomika/25304159\n",
            "[tass.ru] Мало текста из мета (12 слов), ищем в DOM...\n",
            "[tass.ru] Найдено 5 блоков текста\n",
            "[tass.ru] Успешно: 233 слов\n",
            "[tass.ru] ✅ Добавлено: В Мурманской области газифицируют более 20 объектов теплосна... (233 слов). Итого: 32199\n"
          ]
        },
        {
          "data": {
            "text/html": [
              "\n",
              "            <div class=\"spinner-container\">\n",
              "                <div class=\"spinner\" id=\"37c6f407-bc53-4a72-8ac9-6476d1ffc99c-circle\"></div>\n",
              "                <div class=\"spinner-text\" id=\"37c6f407-bc53-4a72-8ac9-6476d1ffc99c-text\">Initializing Chromedriver</div>\n",
              "            </div>\n",
              "            <style>\n",
              "                @keyframes spin {\n",
              "                    from { transform: rotate(0deg); }\n",
              "                    to { transform: rotate(360deg); }\n",
              "                }\n",
              "\n",
              "                .spinner-container {\n",
              "                    display: flex;\n",
              "                    align-items: center;\n",
              "                    margin-bottom: 3px;\n",
              "                }\n",
              "\n",
              "                .spinner {\n",
              "                    border: 3px solid rgba(0, 0, 0, 0.1);\n",
              "                    border-left-color: lightblue;\n",
              "                    border-radius: 50%;\n",
              "                    width: 12px;\n",
              "                    height: 12px;\n",
              "                    animation: spin 1s linear infinite;\n",
              "                }\n",
              "\n",
              "                .spinner-text {\n",
              "                    padding-left: 6px;\n",
              "                }\n",
              "            </style>\n",
              "        "
            ],
            "text/plain": [
              "<IPython.core.display.HTML object>"
            ]
          },
          "metadata": {},
          "output_type": "display_data"
        },
        {
          "name": "stdout",
          "output_type": "stream",
          "text": [
            "[tass.ru] Мало текста из мета (15 слов), ищем в DOM...\n",
            "[tass.ru] Найдено 8 блоков текста\n",
            "[tass.ru] Успешно: 290 слов\n"
          ]
        },
        {
          "data": {
            "application/javascript": "\n            const element = document.getElementById(\"37c6f407-bc53-4a72-8ac9-6476d1ffc99c-circle\");\n            element.style.border = \"3px solid limegreen\";\n            element.style.animation = \"none\";\n\n            const text = document.getElementById(\"37c6f407-bc53-4a72-8ac9-6476d1ffc99c-text\");\n            text.innerText = \"Initialized Chromedriver\";\n        ",
            "text/plain": [
              "<IPython.core.display.Javascript object>"
            ]
          },
          "metadata": {},
          "output_type": "display_data"
        },
        {
          "data": {
            "text/html": [
              "\n",
              "            <div class=\"spinner-container\">\n",
              "                <div class=\"spinner\" id=\"265b32aa-3e8a-48cd-a03f-3c4a5a7ed056-circle\"></div>\n",
              "                <div class=\"spinner-text\" id=\"265b32aa-3e8a-48cd-a03f-3c4a5a7ed056-text\">Initializing Chromedriver</div>\n",
              "            </div>\n",
              "            <style>\n",
              "                @keyframes spin {\n",
              "                    from { transform: rotate(0deg); }\n",
              "                    to { transform: rotate(360deg); }\n",
              "                }\n",
              "\n",
              "                .spinner-container {\n",
              "                    display: flex;\n",
              "                    align-items: center;\n",
              "                    margin-bottom: 3px;\n",
              "                }\n",
              "\n",
              "                .spinner {\n",
              "                    border: 3px solid rgba(0, 0, 0, 0.1);\n",
              "                    border-left-color: lightblue;\n",
              "                    border-radius: 50%;\n",
              "                    width: 12px;\n",
              "                    height: 12px;\n",
              "                    animation: spin 1s linear infinite;\n",
              "                }\n",
              "\n",
              "                .spinner-text {\n",
              "                    padding-left: 6px;\n",
              "                }\n",
              "            </style>\n",
              "        "
            ],
            "text/plain": [
              "<IPython.core.display.HTML object>"
            ]
          },
          "metadata": {},
          "output_type": "display_data"
        },
        {
          "name": "stdout",
          "output_type": "stream",
          "text": [
            "[tass.ru] ✅ Добавлено: \"Газпром\" и Пермский край расширят сотрудничество в сфере вы... (290 слов). Итого: 32489\n",
            "[tass.ru] Загружаем https://tass.ru/ekonomika/25303741\n"
          ]
        },
        {
          "data": {
            "application/javascript": "\n            const element = document.getElementById(\"265b32aa-3e8a-48cd-a03f-3c4a5a7ed056-circle\");\n            element.style.border = \"3px solid limegreen\";\n            element.style.animation = \"none\";\n\n            const text = document.getElementById(\"265b32aa-3e8a-48cd-a03f-3c4a5a7ed056-text\");\n            text.innerText = \"Initialized Chromedriver\";\n        ",
            "text/plain": [
              "<IPython.core.display.Javascript object>"
            ]
          },
          "metadata": {},
          "output_type": "display_data"
        },
        {
          "name": "stdout",
          "output_type": "stream",
          "text": [
            "[tass.ru] Загружаем https://tass.ru/ekonomika/25304049\n",
            "[tass.ru] Мало текста из мета (12 слов), ищем в DOM...\n",
            "[tass.ru] Найдено 4 блоков текста\n",
            "[tass.ru] Успешно: 138 слов\n",
            "[tass.ru] ✅ Добавлено: Ростех планирует три новых направления в медобразовании в 20... (138 слов). Итого: 32627\n"
          ]
        },
        {
          "data": {
            "text/html": [
              "\n",
              "            <div class=\"spinner-container\">\n",
              "                <div class=\"spinner\" id=\"b5d9a518-f701-4654-b136-e36d1882c654-circle\"></div>\n",
              "                <div class=\"spinner-text\" id=\"b5d9a518-f701-4654-b136-e36d1882c654-text\">Initializing Chromedriver</div>\n",
              "            </div>\n",
              "            <style>\n",
              "                @keyframes spin {\n",
              "                    from { transform: rotate(0deg); }\n",
              "                    to { transform: rotate(360deg); }\n",
              "                }\n",
              "\n",
              "                .spinner-container {\n",
              "                    display: flex;\n",
              "                    align-items: center;\n",
              "                    margin-bottom: 3px;\n",
              "                }\n",
              "\n",
              "                .spinner {\n",
              "                    border: 3px solid rgba(0, 0, 0, 0.1);\n",
              "                    border-left-color: lightblue;\n",
              "                    border-radius: 50%;\n",
              "                    width: 12px;\n",
              "                    height: 12px;\n",
              "                    animation: spin 1s linear infinite;\n",
              "                }\n",
              "\n",
              "                .spinner-text {\n",
              "                    padding-left: 6px;\n",
              "                }\n",
              "            </style>\n",
              "        "
            ],
            "text/plain": [
              "<IPython.core.display.HTML object>"
            ]
          },
          "metadata": {},
          "output_type": "display_data"
        },
        {
          "data": {
            "application/javascript": "\n            const element = document.getElementById(\"b5d9a518-f701-4654-b136-e36d1882c654-circle\");\n            element.style.border = \"3px solid limegreen\";\n            element.style.animation = \"none\";\n\n            const text = document.getElementById(\"b5d9a518-f701-4654-b136-e36d1882c654-text\");\n            text.innerText = \"Initialized Chromedriver\";\n        ",
            "text/plain": [
              "<IPython.core.display.Javascript object>"
            ]
          },
          "metadata": {},
          "output_type": "display_data"
        },
        {
          "name": "stdout",
          "output_type": "stream",
          "text": [
            "[tass.ru] Загружаем https://tass.ru/ekonomika/25304103\n",
            "[tass.ru] Мало текста из мета (22 слов), ищем в DOM...\n",
            "[tass.ru] Найдено 3 блоков текста\n",
            "[tass.ru] Успешно: 180 слов\n",
            "[tass.ru] ✅ Добавлено: Боливия заинтересована в совместном с Россией железнодорожно... (180 слов). Итого: 32807\n"
          ]
        },
        {
          "data": {
            "text/html": [
              "\n",
              "            <div class=\"spinner-container\">\n",
              "                <div class=\"spinner\" id=\"32659cdb-d639-459e-86f2-ad437309fd62-circle\"></div>\n",
              "                <div class=\"spinner-text\" id=\"32659cdb-d639-459e-86f2-ad437309fd62-text\">Initializing Chromedriver</div>\n",
              "            </div>\n",
              "            <style>\n",
              "                @keyframes spin {\n",
              "                    from { transform: rotate(0deg); }\n",
              "                    to { transform: rotate(360deg); }\n",
              "                }\n",
              "\n",
              "                .spinner-container {\n",
              "                    display: flex;\n",
              "                    align-items: center;\n",
              "                    margin-bottom: 3px;\n",
              "                }\n",
              "\n",
              "                .spinner {\n",
              "                    border: 3px solid rgba(0, 0, 0, 0.1);\n",
              "                    border-left-color: lightblue;\n",
              "                    border-radius: 50%;\n",
              "                    width: 12px;\n",
              "                    height: 12px;\n",
              "                    animation: spin 1s linear infinite;\n",
              "                }\n",
              "\n",
              "                .spinner-text {\n",
              "                    padding-left: 6px;\n",
              "                }\n",
              "            </style>\n",
              "        "
            ],
            "text/plain": [
              "<IPython.core.display.HTML object>"
            ]
          },
          "metadata": {},
          "output_type": "display_data"
        },
        {
          "data": {
            "application/javascript": "\n            const element = document.getElementById(\"32659cdb-d639-459e-86f2-ad437309fd62-circle\");\n            element.style.border = \"3px solid limegreen\";\n            element.style.animation = \"none\";\n\n            const text = document.getElementById(\"32659cdb-d639-459e-86f2-ad437309fd62-text\");\n            text.innerText = \"Initialized Chromedriver\";\n        ",
            "text/plain": [
              "<IPython.core.display.Javascript object>"
            ]
          },
          "metadata": {},
          "output_type": "display_data"
        },
        {
          "name": "stdout",
          "output_type": "stream",
          "text": [
            "[tass.ru] Загружаем https://tass.ru/ekonomika/25304047\n",
            "[tass.ru] Мало текста из мета (18 слов), ищем в DOM...\n",
            "[tass.ru] Найдено 6 блоков текста\n",
            "[tass.ru] Успешно: 302 слов\n"
          ]
        },
        {
          "data": {
            "text/html": [
              "\n",
              "            <div class=\"spinner-container\">\n",
              "                <div class=\"spinner\" id=\"281330b6-3ff4-441c-8275-e93628315865-circle\"></div>\n",
              "                <div class=\"spinner-text\" id=\"281330b6-3ff4-441c-8275-e93628315865-text\">Initializing Chromedriver</div>\n",
              "            </div>\n",
              "            <style>\n",
              "                @keyframes spin {\n",
              "                    from { transform: rotate(0deg); }\n",
              "                    to { transform: rotate(360deg); }\n",
              "                }\n",
              "\n",
              "                .spinner-container {\n",
              "                    display: flex;\n",
              "                    align-items: center;\n",
              "                    margin-bottom: 3px;\n",
              "                }\n",
              "\n",
              "                .spinner {\n",
              "                    border: 3px solid rgba(0, 0, 0, 0.1);\n",
              "                    border-left-color: lightblue;\n",
              "                    border-radius: 50%;\n",
              "                    width: 12px;\n",
              "                    height: 12px;\n",
              "                    animation: spin 1s linear infinite;\n",
              "                }\n",
              "\n",
              "                .spinner-text {\n",
              "                    padding-left: 6px;\n",
              "                }\n",
              "            </style>\n",
              "        "
            ],
            "text/plain": [
              "<IPython.core.display.HTML object>"
            ]
          },
          "metadata": {},
          "output_type": "display_data"
        },
        {
          "name": "stdout",
          "output_type": "stream",
          "text": [
            "[tass.ru] ✅ Добавлено: Эксперты: будущее ПДС в диверсификации стратегий по возрасту... (302 слов). Итого: 33109\n",
            "[tass.ru] Мало текста из мета (13 слов), ищем в DOM...\n",
            "[tass.ru] Найдено 6 блоков текста\n",
            "[tass.ru] Успешно: 196 слов\n",
            "[tass.ru] ✅ Добавлено: Росимущество работает над разрешением ситуации с миноритария... (196 слов). Итого: 33305\n"
          ]
        },
        {
          "data": {
            "text/html": [
              "\n",
              "            <div class=\"spinner-container\">\n",
              "                <div class=\"spinner\" id=\"0443815f-e07d-4e01-bda7-bf298ebb2325-circle\"></div>\n",
              "                <div class=\"spinner-text\" id=\"0443815f-e07d-4e01-bda7-bf298ebb2325-text\">Initializing Chromedriver</div>\n",
              "            </div>\n",
              "            <style>\n",
              "                @keyframes spin {\n",
              "                    from { transform: rotate(0deg); }\n",
              "                    to { transform: rotate(360deg); }\n",
              "                }\n",
              "\n",
              "                .spinner-container {\n",
              "                    display: flex;\n",
              "                    align-items: center;\n",
              "                    margin-bottom: 3px;\n",
              "                }\n",
              "\n",
              "                .spinner {\n",
              "                    border: 3px solid rgba(0, 0, 0, 0.1);\n",
              "                    border-left-color: lightblue;\n",
              "                    border-radius: 50%;\n",
              "                    width: 12px;\n",
              "                    height: 12px;\n",
              "                    animation: spin 1s linear infinite;\n",
              "                }\n",
              "\n",
              "                .spinner-text {\n",
              "                    padding-left: 6px;\n",
              "                }\n",
              "            </style>\n",
              "        "
            ],
            "text/plain": [
              "<IPython.core.display.HTML object>"
            ]
          },
          "metadata": {},
          "output_type": "display_data"
        },
        {
          "data": {
            "application/javascript": "\n            const element = document.getElementById(\"281330b6-3ff4-441c-8275-e93628315865-circle\");\n            element.style.border = \"3px solid limegreen\";\n            element.style.animation = \"none\";\n\n            const text = document.getElementById(\"281330b6-3ff4-441c-8275-e93628315865-text\");\n            text.innerText = \"Initialized Chromedriver\";\n        ",
            "text/plain": [
              "<IPython.core.display.Javascript object>"
            ]
          },
          "metadata": {},
          "output_type": "display_data"
        },
        {
          "name": "stdout",
          "output_type": "stream",
          "text": [
            "[tass.ru] Загружаем https://tass.ru/ekonomika/25303327\n"
          ]
        },
        {
          "data": {
            "application/javascript": "\n            const element = document.getElementById(\"0443815f-e07d-4e01-bda7-bf298ebb2325-circle\");\n            element.style.border = \"3px solid limegreen\";\n            element.style.animation = \"none\";\n\n            const text = document.getElementById(\"0443815f-e07d-4e01-bda7-bf298ebb2325-text\");\n            text.innerText = \"Initialized Chromedriver\";\n        ",
            "text/plain": [
              "<IPython.core.display.Javascript object>"
            ]
          },
          "metadata": {},
          "output_type": "display_data"
        },
        {
          "name": "stdout",
          "output_type": "stream",
          "text": [
            "[tass.ru] Загружаем https://tass.ru/ekonomika/25303971\n",
            "[tass.ru] Мало текста из мета (10 слов), ищем в DOM...\n",
            "[tass.ru] Найдено 5 блоков текста\n",
            "[tass.ru] Успешно: 287 слов\n",
            "[tass.ru] ✅ Добавлено: Челябинская компания увеличит производство редукторов для за... (287 слов). Итого: 33592\n"
          ]
        },
        {
          "data": {
            "text/html": [
              "\n",
              "            <div class=\"spinner-container\">\n",
              "                <div class=\"spinner\" id=\"ef2d758d-f45f-411f-b735-044f383783bc-circle\"></div>\n",
              "                <div class=\"spinner-text\" id=\"ef2d758d-f45f-411f-b735-044f383783bc-text\">Initializing Chromedriver</div>\n",
              "            </div>\n",
              "            <style>\n",
              "                @keyframes spin {\n",
              "                    from { transform: rotate(0deg); }\n",
              "                    to { transform: rotate(360deg); }\n",
              "                }\n",
              "\n",
              "                .spinner-container {\n",
              "                    display: flex;\n",
              "                    align-items: center;\n",
              "                    margin-bottom: 3px;\n",
              "                }\n",
              "\n",
              "                .spinner {\n",
              "                    border: 3px solid rgba(0, 0, 0, 0.1);\n",
              "                    border-left-color: lightblue;\n",
              "                    border-radius: 50%;\n",
              "                    width: 12px;\n",
              "                    height: 12px;\n",
              "                    animation: spin 1s linear infinite;\n",
              "                }\n",
              "\n",
              "                .spinner-text {\n",
              "                    padding-left: 6px;\n",
              "                }\n",
              "            </style>\n",
              "        "
            ],
            "text/plain": [
              "<IPython.core.display.HTML object>"
            ]
          },
          "metadata": {},
          "output_type": "display_data"
        },
        {
          "name": "stdout",
          "output_type": "stream",
          "text": [
            "[tass.ru] Мало текста из мета (14 слов), ищем в DOM...\n",
            "[tass.ru] Найдено 4 блоков текста\n",
            "[tass.ru] Успешно: 97 слов\n",
            "[tass.ru] ✅ Добавлено: Сотрудники Т2 в рознице будут работать с биометрией на планш... (97 слов). Итого: 33689\n"
          ]
        },
        {
          "data": {
            "text/html": [
              "\n",
              "            <div class=\"spinner-container\">\n",
              "                <div class=\"spinner\" id=\"913b835d-bfdc-44bf-9021-d43fbae32032-circle\"></div>\n",
              "                <div class=\"spinner-text\" id=\"913b835d-bfdc-44bf-9021-d43fbae32032-text\">Initializing Chromedriver</div>\n",
              "            </div>\n",
              "            <style>\n",
              "                @keyframes spin {\n",
              "                    from { transform: rotate(0deg); }\n",
              "                    to { transform: rotate(360deg); }\n",
              "                }\n",
              "\n",
              "                .spinner-container {\n",
              "                    display: flex;\n",
              "                    align-items: center;\n",
              "                    margin-bottom: 3px;\n",
              "                }\n",
              "\n",
              "                .spinner {\n",
              "                    border: 3px solid rgba(0, 0, 0, 0.1);\n",
              "                    border-left-color: lightblue;\n",
              "                    border-radius: 50%;\n",
              "                    width: 12px;\n",
              "                    height: 12px;\n",
              "                    animation: spin 1s linear infinite;\n",
              "                }\n",
              "\n",
              "                .spinner-text {\n",
              "                    padding-left: 6px;\n",
              "                }\n",
              "            </style>\n",
              "        "
            ],
            "text/plain": [
              "<IPython.core.display.HTML object>"
            ]
          },
          "metadata": {},
          "output_type": "display_data"
        },
        {
          "data": {
            "application/javascript": "\n            const element = document.getElementById(\"ef2d758d-f45f-411f-b735-044f383783bc-circle\");\n            element.style.border = \"3px solid limegreen\";\n            element.style.animation = \"none\";\n\n            const text = document.getElementById(\"ef2d758d-f45f-411f-b735-044f383783bc-text\");\n            text.innerText = \"Initialized Chromedriver\";\n        ",
            "text/plain": [
              "<IPython.core.display.Javascript object>"
            ]
          },
          "metadata": {},
          "output_type": "display_data"
        },
        {
          "name": "stdout",
          "output_type": "stream",
          "text": [
            "[tass.ru] Мало текста из мета (16 слов), ищем в DOM...\n",
            "[tass.ru] Найдено 5 блоков текста\n",
            "[tass.ru] Успешно: 183 слов\n",
            "[tass.ru] Загружаем https://tass.ru/ekonomika/25303593\n",
            "[tass.ru] ✅ Добавлено: \"Газпром\" начал практическую реализацию газопровода Волхов -... (183 слов). Итого: 33872\n"
          ]
        },
        {
          "data": {
            "text/html": [
              "\n",
              "            <div class=\"spinner-container\">\n",
              "                <div class=\"spinner\" id=\"352cdb94-803f-42bc-8380-ea80a11e46d7-circle\"></div>\n",
              "                <div class=\"spinner-text\" id=\"352cdb94-803f-42bc-8380-ea80a11e46d7-text\">Initializing Chromedriver</div>\n",
              "            </div>\n",
              "            <style>\n",
              "                @keyframes spin {\n",
              "                    from { transform: rotate(0deg); }\n",
              "                    to { transform: rotate(360deg); }\n",
              "                }\n",
              "\n",
              "                .spinner-container {\n",
              "                    display: flex;\n",
              "                    align-items: center;\n",
              "                    margin-bottom: 3px;\n",
              "                }\n",
              "\n",
              "                .spinner {\n",
              "                    border: 3px solid rgba(0, 0, 0, 0.1);\n",
              "                    border-left-color: lightblue;\n",
              "                    border-radius: 50%;\n",
              "                    width: 12px;\n",
              "                    height: 12px;\n",
              "                    animation: spin 1s linear infinite;\n",
              "                }\n",
              "\n",
              "                .spinner-text {\n",
              "                    padding-left: 6px;\n",
              "                }\n",
              "            </style>\n",
              "        "
            ],
            "text/plain": [
              "<IPython.core.display.HTML object>"
            ]
          },
          "metadata": {},
          "output_type": "display_data"
        },
        {
          "name": "stdout",
          "output_type": "stream",
          "text": [
            "[tass.ru] Мало текста из мета (16 слов), ищем в DOM...\n",
            "[tass.ru] Найдено 4 блоков текста\n",
            "[tass.ru] Успешно: 93 слов\n"
          ]
        },
        {
          "data": {
            "application/javascript": "\n            const element = document.getElementById(\"913b835d-bfdc-44bf-9021-d43fbae32032-circle\");\n            element.style.border = \"3px solid limegreen\";\n            element.style.animation = \"none\";\n\n            const text = document.getElementById(\"913b835d-bfdc-44bf-9021-d43fbae32032-text\");\n            text.innerText = \"Initialized Chromedriver\";\n        ",
            "text/plain": [
              "<IPython.core.display.Javascript object>"
            ]
          },
          "metadata": {},
          "output_type": "display_data"
        },
        {
          "data": {
            "text/html": [
              "\n",
              "            <div class=\"spinner-container\">\n",
              "                <div class=\"spinner\" id=\"dd1882a8-ff6e-4e56-97e4-1e1835005895-circle\"></div>\n",
              "                <div class=\"spinner-text\" id=\"dd1882a8-ff6e-4e56-97e4-1e1835005895-text\">Initializing Chromedriver</div>\n",
              "            </div>\n",
              "            <style>\n",
              "                @keyframes spin {\n",
              "                    from { transform: rotate(0deg); }\n",
              "                    to { transform: rotate(360deg); }\n",
              "                }\n",
              "\n",
              "                .spinner-container {\n",
              "                    display: flex;\n",
              "                    align-items: center;\n",
              "                    margin-bottom: 3px;\n",
              "                }\n",
              "\n",
              "                .spinner {\n",
              "                    border: 3px solid rgba(0, 0, 0, 0.1);\n",
              "                    border-left-color: lightblue;\n",
              "                    border-radius: 50%;\n",
              "                    width: 12px;\n",
              "                    height: 12px;\n",
              "                    animation: spin 1s linear infinite;\n",
              "                }\n",
              "\n",
              "                .spinner-text {\n",
              "                    padding-left: 6px;\n",
              "                }\n",
              "            </style>\n",
              "        "
            ],
            "text/plain": [
              "<IPython.core.display.HTML object>"
            ]
          },
          "metadata": {},
          "output_type": "display_data"
        },
        {
          "name": "stdout",
          "output_type": "stream",
          "text": [
            "[tass.ru] ✅ Добавлено: Трамп допустил сокращение закупок китайских товаров... (93 слов). Итого: 33965\n",
            "[tass.ru] Загружаем https://tass.ru/ekonomika/25303651\n"
          ]
        },
        {
          "data": {
            "application/javascript": "\n            const element = document.getElementById(\"352cdb94-803f-42bc-8380-ea80a11e46d7-circle\");\n            element.style.border = \"3px solid limegreen\";\n            element.style.animation = \"none\";\n\n            const text = document.getElementById(\"352cdb94-803f-42bc-8380-ea80a11e46d7-text\");\n            text.innerText = \"Initialized Chromedriver\";\n        ",
            "text/plain": [
              "<IPython.core.display.Javascript object>"
            ]
          },
          "metadata": {},
          "output_type": "display_data"
        },
        {
          "name": "stdout",
          "output_type": "stream",
          "text": [
            "[tass.ru] Загружаем https://tass.ru/ekonomika/25303643\n"
          ]
        },
        {
          "data": {
            "application/javascript": "\n            const element = document.getElementById(\"dd1882a8-ff6e-4e56-97e4-1e1835005895-circle\");\n            element.style.border = \"3px solid limegreen\";\n            element.style.animation = \"none\";\n\n            const text = document.getElementById(\"dd1882a8-ff6e-4e56-97e4-1e1835005895-text\");\n            text.innerText = \"Initialized Chromedriver\";\n        ",
            "text/plain": [
              "<IPython.core.display.Javascript object>"
            ]
          },
          "metadata": {},
          "output_type": "display_data"
        },
        {
          "name": "stdout",
          "output_type": "stream",
          "text": [
            "[tass.ru] Загружаем https://tass.ru/ekonomika/25303575\n",
            "[tass.ru] Мало текста из мета (13 слов), ищем в DOM...\n",
            "[tass.ru] Найдено 4 блоков текста\n",
            "[tass.ru] Успешно: 262 слов\n"
          ]
        },
        {
          "data": {
            "text/html": [
              "\n",
              "            <div class=\"spinner-container\">\n",
              "                <div class=\"spinner\" id=\"65624f01-b07c-488a-8227-043f3c63a6cb-circle\"></div>\n",
              "                <div class=\"spinner-text\" id=\"65624f01-b07c-488a-8227-043f3c63a6cb-text\">Initializing Chromedriver</div>\n",
              "            </div>\n",
              "            <style>\n",
              "                @keyframes spin {\n",
              "                    from { transform: rotate(0deg); }\n",
              "                    to { transform: rotate(360deg); }\n",
              "                }\n",
              "\n",
              "                .spinner-container {\n",
              "                    display: flex;\n",
              "                    align-items: center;\n",
              "                    margin-bottom: 3px;\n",
              "                }\n",
              "\n",
              "                .spinner {\n",
              "                    border: 3px solid rgba(0, 0, 0, 0.1);\n",
              "                    border-left-color: lightblue;\n",
              "                    border-radius: 50%;\n",
              "                    width: 12px;\n",
              "                    height: 12px;\n",
              "                    animation: spin 1s linear infinite;\n",
              "                }\n",
              "\n",
              "                .spinner-text {\n",
              "                    padding-left: 6px;\n",
              "                }\n",
              "            </style>\n",
              "        "
            ],
            "text/plain": [
              "<IPython.core.display.HTML object>"
            ]
          },
          "metadata": {},
          "output_type": "display_data"
        },
        {
          "name": "stdout",
          "output_type": "stream",
          "text": [
            "[tass.ru] ✅ Добавлено: Росатом до конца года сдаст узбекскому заказчику проект АЭС ... (262 слов). Итого: 34227\n",
            "[tass.ru] Мало текста из мета (26 слов), ищем в DOM...\n",
            "[tass.ru] Найдено 4 блоков текста\n",
            "[tass.ru] Успешно: 179 слов\n"
          ]
        },
        {
          "data": {
            "text/html": [
              "\n",
              "            <div class=\"spinner-container\">\n",
              "                <div class=\"spinner\" id=\"b6d79cae-2b7b-48ba-9269-ccd86069f4e4-circle\"></div>\n",
              "                <div class=\"spinner-text\" id=\"b6d79cae-2b7b-48ba-9269-ccd86069f4e4-text\">Initializing Chromedriver</div>\n",
              "            </div>\n",
              "            <style>\n",
              "                @keyframes spin {\n",
              "                    from { transform: rotate(0deg); }\n",
              "                    to { transform: rotate(360deg); }\n",
              "                }\n",
              "\n",
              "                .spinner-container {\n",
              "                    display: flex;\n",
              "                    align-items: center;\n",
              "                    margin-bottom: 3px;\n",
              "                }\n",
              "\n",
              "                .spinner {\n",
              "                    border: 3px solid rgba(0, 0, 0, 0.1);\n",
              "                    border-left-color: lightblue;\n",
              "                    border-radius: 50%;\n",
              "                    width: 12px;\n",
              "                    height: 12px;\n",
              "                    animation: spin 1s linear infinite;\n",
              "                }\n",
              "\n",
              "                .spinner-text {\n",
              "                    padding-left: 6px;\n",
              "                }\n",
              "            </style>\n",
              "        "
            ],
            "text/plain": [
              "<IPython.core.display.HTML object>"
            ]
          },
          "metadata": {},
          "output_type": "display_data"
        },
        {
          "name": "stdout",
          "output_type": "stream",
          "text": [
            "[tass.ru] Мало текста из мета (26 слов), ищем в DOM...\n",
            "[tass.ru] ✅ Добавлено: В Марий Эл свыше 173 млн рублей выделили за три года на нову... (179 слов). Итого: 34406\n",
            "[tass.ru] Найдено 7 блоков текста\n",
            "[tass.ru] Успешно: 290 слов\n"
          ]
        },
        {
          "data": {
            "text/html": [
              "\n",
              "            <div class=\"spinner-container\">\n",
              "                <div class=\"spinner\" id=\"662fee9a-50d3-462f-9afa-aca8b3cd656b-circle\"></div>\n",
              "                <div class=\"spinner-text\" id=\"662fee9a-50d3-462f-9afa-aca8b3cd656b-text\">Initializing Chromedriver</div>\n",
              "            </div>\n",
              "            <style>\n",
              "                @keyframes spin {\n",
              "                    from { transform: rotate(0deg); }\n",
              "                    to { transform: rotate(360deg); }\n",
              "                }\n",
              "\n",
              "                .spinner-container {\n",
              "                    display: flex;\n",
              "                    align-items: center;\n",
              "                    margin-bottom: 3px;\n",
              "                }\n",
              "\n",
              "                .spinner {\n",
              "                    border: 3px solid rgba(0, 0, 0, 0.1);\n",
              "                    border-left-color: lightblue;\n",
              "                    border-radius: 50%;\n",
              "                    width: 12px;\n",
              "                    height: 12px;\n",
              "                    animation: spin 1s linear infinite;\n",
              "                }\n",
              "\n",
              "                .spinner-text {\n",
              "                    padding-left: 6px;\n",
              "                }\n",
              "            </style>\n",
              "        "
            ],
            "text/plain": [
              "<IPython.core.display.HTML object>"
            ]
          },
          "metadata": {},
          "output_type": "display_data"
        },
        {
          "name": "stdout",
          "output_type": "stream",
          "text": [
            "[tass.ru] ✅ Добавлено: РСХБ полностью перейдет на российские Java-технологии... (290 слов). Итого: 34696\n"
          ]
        },
        {
          "data": {
            "application/javascript": "\n            const element = document.getElementById(\"65624f01-b07c-488a-8227-043f3c63a6cb-circle\");\n            element.style.border = \"3px solid limegreen\";\n            element.style.animation = \"none\";\n\n            const text = document.getElementById(\"65624f01-b07c-488a-8227-043f3c63a6cb-text\");\n            text.innerText = \"Initialized Chromedriver\";\n        ",
            "text/plain": [
              "<IPython.core.display.Javascript object>"
            ]
          },
          "metadata": {},
          "output_type": "display_data"
        },
        {
          "name": "stdout",
          "output_type": "stream",
          "text": [
            "[tass.ru] Загружаем https://tass.ru/ekonomika/25303529\n",
            "[tass.ru] Мало текста из мета (21 слов), ищем в DOM...\n",
            "[tass.ru] Найдено 4 блоков текста\n",
            "[tass.ru] Успешно: 173 слов\n"
          ]
        },
        {
          "data": {
            "application/javascript": "\n            const element = document.getElementById(\"b6d79cae-2b7b-48ba-9269-ccd86069f4e4-circle\");\n            element.style.border = \"3px solid limegreen\";\n            element.style.animation = \"none\";\n\n            const text = document.getElementById(\"b6d79cae-2b7b-48ba-9269-ccd86069f4e4-text\");\n            text.innerText = \"Initialized Chromedriver\";\n        ",
            "text/plain": [
              "<IPython.core.display.Javascript object>"
            ]
          },
          "metadata": {},
          "output_type": "display_data"
        },
        {
          "name": "stdout",
          "output_type": "stream",
          "text": [
            "[tass.ru] ✅ Добавлено: Мирзиёев анонсировал старт создания первой установки для АЭС... (173 слов). Итого: 34869\n"
          ]
        },
        {
          "data": {
            "text/html": [
              "\n",
              "            <div class=\"spinner-container\">\n",
              "                <div class=\"spinner\" id=\"ff6bb06c-e36b-4d5d-99d4-a3a1750e97ad-circle\"></div>\n",
              "                <div class=\"spinner-text\" id=\"ff6bb06c-e36b-4d5d-99d4-a3a1750e97ad-text\">Initializing Chromedriver</div>\n",
              "            </div>\n",
              "            <style>\n",
              "                @keyframes spin {\n",
              "                    from { transform: rotate(0deg); }\n",
              "                    to { transform: rotate(360deg); }\n",
              "                }\n",
              "\n",
              "                .spinner-container {\n",
              "                    display: flex;\n",
              "                    align-items: center;\n",
              "                    margin-bottom: 3px;\n",
              "                }\n",
              "\n",
              "                .spinner {\n",
              "                    border: 3px solid rgba(0, 0, 0, 0.1);\n",
              "                    border-left-color: lightblue;\n",
              "                    border-radius: 50%;\n",
              "                    width: 12px;\n",
              "                    height: 12px;\n",
              "                    animation: spin 1s linear infinite;\n",
              "                }\n",
              "\n",
              "                .spinner-text {\n",
              "                    padding-left: 6px;\n",
              "                }\n",
              "            </style>\n",
              "        "
            ],
            "text/plain": [
              "<IPython.core.display.HTML object>"
            ]
          },
          "metadata": {},
          "output_type": "display_data"
        },
        {
          "data": {
            "application/javascript": "\n            const element = document.getElementById(\"662fee9a-50d3-462f-9afa-aca8b3cd656b-circle\");\n            element.style.border = \"3px solid limegreen\";\n            element.style.animation = \"none\";\n\n            const text = document.getElementById(\"662fee9a-50d3-462f-9afa-aca8b3cd656b-text\");\n            text.innerText = \"Initialized Chromedriver\";\n        ",
            "text/plain": [
              "<IPython.core.display.Javascript object>"
            ]
          },
          "metadata": {},
          "output_type": "display_data"
        },
        {
          "name": "stdout",
          "output_type": "stream",
          "text": [
            "[tass.ru] Загружаем https://tass.ru/ekonomika/25302927\n",
            "[tass.ru] Загружаем https://tass.ru/ekonomika/25302827\n"
          ]
        },
        {
          "data": {
            "application/javascript": "\n            const element = document.getElementById(\"ff6bb06c-e36b-4d5d-99d4-a3a1750e97ad-circle\");\n            element.style.border = \"3px solid limegreen\";\n            element.style.animation = \"none\";\n\n            const text = document.getElementById(\"ff6bb06c-e36b-4d5d-99d4-a3a1750e97ad-text\");\n            text.innerText = \"Initialized Chromedriver\";\n        ",
            "text/plain": [
              "<IPython.core.display.Javascript object>"
            ]
          },
          "metadata": {},
          "output_type": "display_data"
        },
        {
          "name": "stdout",
          "output_type": "stream",
          "text": [
            "[tass.ru] Загружаем https://tass.ru/ekonomika/25303399\n",
            "[tass.ru] Мало текста из мета (5 слов), ищем в DOM...\n",
            "[tass.ru] Найдено 7 блоков текста\n",
            "[tass.ru] Успешно: 295 слов\n",
            "[tass.ru] ✅ Добавлено: Российский рынок акций закрылся в зеленой зоне... (295 слов). Итого: 35164\n"
          ]
        },
        {
          "data": {
            "text/html": [
              "\n",
              "            <div class=\"spinner-container\">\n",
              "                <div class=\"spinner\" id=\"b11790d6-97a7-40af-af54-84c4163f4ae8-circle\"></div>\n",
              "                <div class=\"spinner-text\" id=\"b11790d6-97a7-40af-af54-84c4163f4ae8-text\">Initializing Chromedriver</div>\n",
              "            </div>\n",
              "            <style>\n",
              "                @keyframes spin {\n",
              "                    from { transform: rotate(0deg); }\n",
              "                    to { transform: rotate(360deg); }\n",
              "                }\n",
              "\n",
              "                .spinner-container {\n",
              "                    display: flex;\n",
              "                    align-items: center;\n",
              "                    margin-bottom: 3px;\n",
              "                }\n",
              "\n",
              "                .spinner {\n",
              "                    border: 3px solid rgba(0, 0, 0, 0.1);\n",
              "                    border-left-color: lightblue;\n",
              "                    border-radius: 50%;\n",
              "                    width: 12px;\n",
              "                    height: 12px;\n",
              "                    animation: spin 1s linear infinite;\n",
              "                }\n",
              "\n",
              "                .spinner-text {\n",
              "                    padding-left: 6px;\n",
              "                }\n",
              "            </style>\n",
              "        "
            ],
            "text/plain": [
              "<IPython.core.display.HTML object>"
            ]
          },
          "metadata": {},
          "output_type": "display_data"
        },
        {
          "data": {
            "application/javascript": "\n            const element = document.getElementById(\"b11790d6-97a7-40af-af54-84c4163f4ae8-circle\");\n            element.style.border = \"3px solid limegreen\";\n            element.style.animation = \"none\";\n\n            const text = document.getElementById(\"b11790d6-97a7-40af-af54-84c4163f4ae8-text\");\n            text.innerText = \"Initialized Chromedriver\";\n        ",
            "text/plain": [
              "<IPython.core.display.Javascript object>"
            ]
          },
          "metadata": {},
          "output_type": "display_data"
        },
        {
          "name": "stdout",
          "output_type": "stream",
          "text": [
            "[tass.ru] Загружаем https://tass.ru/ekonomika/25303363\n",
            "[tass.ru] Мало текста из мета (21 слов), ищем в DOM...\n",
            "[tass.ru] Найдено 4 блоков текста\n",
            "[tass.ru] Успешно: 198 слов\n",
            "[tass.ru] ✅ Добавлено: В Новороссийске более 100 владельцев поврежденных БПЛА кварт... (198 слов). Итого: 35362\n"
          ]
        },
        {
          "data": {
            "text/html": [
              "\n",
              "            <div class=\"spinner-container\">\n",
              "                <div class=\"spinner\" id=\"ddbc24a7-89bf-431c-bd4c-22bb3712ef21-circle\"></div>\n",
              "                <div class=\"spinner-text\" id=\"ddbc24a7-89bf-431c-bd4c-22bb3712ef21-text\">Initializing Chromedriver</div>\n",
              "            </div>\n",
              "            <style>\n",
              "                @keyframes spin {\n",
              "                    from { transform: rotate(0deg); }\n",
              "                    to { transform: rotate(360deg); }\n",
              "                }\n",
              "\n",
              "                .spinner-container {\n",
              "                    display: flex;\n",
              "                    align-items: center;\n",
              "                    margin-bottom: 3px;\n",
              "                }\n",
              "\n",
              "                .spinner {\n",
              "                    border: 3px solid rgba(0, 0, 0, 0.1);\n",
              "                    border-left-color: lightblue;\n",
              "                    border-radius: 50%;\n",
              "                    width: 12px;\n",
              "                    height: 12px;\n",
              "                    animation: spin 1s linear infinite;\n",
              "                }\n",
              "\n",
              "                .spinner-text {\n",
              "                    padding-left: 6px;\n",
              "                }\n",
              "            </style>\n",
              "        "
            ],
            "text/plain": [
              "<IPython.core.display.HTML object>"
            ]
          },
          "metadata": {},
          "output_type": "display_data"
        },
        {
          "data": {
            "application/javascript": "\n            const element = document.getElementById(\"ddbc24a7-89bf-431c-bd4c-22bb3712ef21-circle\");\n            element.style.border = \"3px solid limegreen\";\n            element.style.animation = \"none\";\n\n            const text = document.getElementById(\"ddbc24a7-89bf-431c-bd4c-22bb3712ef21-text\");\n            text.innerText = \"Initialized Chromedriver\";\n        ",
            "text/plain": [
              "<IPython.core.display.Javascript object>"
            ]
          },
          "metadata": {},
          "output_type": "display_data"
        },
        {
          "name": "stdout",
          "output_type": "stream",
          "text": [
            "[tass.ru] Мало текста из мета (15 слов), ищем в DOM...\n",
            "[tass.ru] Найдено 6 блоков текста\n",
            "[tass.ru] Успешно: 227 слов\n"
          ]
        },
        {
          "data": {
            "text/html": [
              "\n",
              "            <div class=\"spinner-container\">\n",
              "                <div class=\"spinner\" id=\"2dcb1102-7b64-4bd6-9ee5-bbd31e995a00-circle\"></div>\n",
              "                <div class=\"spinner-text\" id=\"2dcb1102-7b64-4bd6-9ee5-bbd31e995a00-text\">Initializing Chromedriver</div>\n",
              "            </div>\n",
              "            <style>\n",
              "                @keyframes spin {\n",
              "                    from { transform: rotate(0deg); }\n",
              "                    to { transform: rotate(360deg); }\n",
              "                }\n",
              "\n",
              "                .spinner-container {\n",
              "                    display: flex;\n",
              "                    align-items: center;\n",
              "                    margin-bottom: 3px;\n",
              "                }\n",
              "\n",
              "                .spinner {\n",
              "                    border: 3px solid rgba(0, 0, 0, 0.1);\n",
              "                    border-left-color: lightblue;\n",
              "                    border-radius: 50%;\n",
              "                    width: 12px;\n",
              "                    height: 12px;\n",
              "                    animation: spin 1s linear infinite;\n",
              "                }\n",
              "\n",
              "                .spinner-text {\n",
              "                    padding-left: 6px;\n",
              "                }\n",
              "            </style>\n",
              "        "
            ],
            "text/plain": [
              "<IPython.core.display.HTML object>"
            ]
          },
          "metadata": {},
          "output_type": "display_data"
        },
        {
          "name": "stdout",
          "output_type": "stream",
          "text": [
            "[tass.ru] ✅ Добавлено: ПСБ и IVA Technologies договорились сотрудничать в сфере вне... (227 слов). Итого: 35589\n",
            "[tass.ru] Загружаем https://tass.ru/ekonomika/25303303\n"
          ]
        },
        {
          "data": {
            "application/javascript": "\n            const element = document.getElementById(\"2dcb1102-7b64-4bd6-9ee5-bbd31e995a00-circle\");\n            element.style.border = \"3px solid limegreen\";\n            element.style.animation = \"none\";\n\n            const text = document.getElementById(\"2dcb1102-7b64-4bd6-9ee5-bbd31e995a00-text\");\n            text.innerText = \"Initialized Chromedriver\";\n        ",
            "text/plain": [
              "<IPython.core.display.Javascript object>"
            ]
          },
          "metadata": {},
          "output_type": "display_data"
        },
        {
          "name": "stdout",
          "output_type": "stream",
          "text": [
            "[tass.ru] Загружаем https://tass.ru/ekonomika/25303321\n",
            "[tass.ru] Мало текста из мета (14 слов), ищем в DOM...\n",
            "[tass.ru] Найдено 3 блоков текста\n",
            "[tass.ru] Успешно: 107 слов\n",
            "[tass.ru] ✅ Добавлено: \"Почта России\" опровергла новости о сумме трат на онлайн-рек... (107 слов). Итого: 35696\n"
          ]
        },
        {
          "data": {
            "text/html": [
              "\n",
              "            <div class=\"spinner-container\">\n",
              "                <div class=\"spinner\" id=\"35a51ebd-005a-400e-876d-b3f551ba9394-circle\"></div>\n",
              "                <div class=\"spinner-text\" id=\"35a51ebd-005a-400e-876d-b3f551ba9394-text\">Initializing Chromedriver</div>\n",
              "            </div>\n",
              "            <style>\n",
              "                @keyframes spin {\n",
              "                    from { transform: rotate(0deg); }\n",
              "                    to { transform: rotate(360deg); }\n",
              "                }\n",
              "\n",
              "                .spinner-container {\n",
              "                    display: flex;\n",
              "                    align-items: center;\n",
              "                    margin-bottom: 3px;\n",
              "                }\n",
              "\n",
              "                .spinner {\n",
              "                    border: 3px solid rgba(0, 0, 0, 0.1);\n",
              "                    border-left-color: lightblue;\n",
              "                    border-radius: 50%;\n",
              "                    width: 12px;\n",
              "                    height: 12px;\n",
              "                    animation: spin 1s linear infinite;\n",
              "                }\n",
              "\n",
              "                .spinner-text {\n",
              "                    padding-left: 6px;\n",
              "                }\n",
              "            </style>\n",
              "        "
            ],
            "text/plain": [
              "<IPython.core.display.HTML object>"
            ]
          },
          "metadata": {},
          "output_type": "display_data"
        },
        {
          "data": {
            "application/javascript": "\n            const element = document.getElementById(\"35a51ebd-005a-400e-876d-b3f551ba9394-circle\");\n            element.style.border = \"3px solid limegreen\";\n            element.style.animation = \"none\";\n\n            const text = document.getElementById(\"35a51ebd-005a-400e-876d-b3f551ba9394-text\");\n            text.innerText = \"Initialized Chromedriver\";\n        ",
            "text/plain": [
              "<IPython.core.display.Javascript object>"
            ]
          },
          "metadata": {},
          "output_type": "display_data"
        },
        {
          "name": "stdout",
          "output_type": "stream",
          "text": [
            "[tass.ru] Загружаем https://tass.ru/ekonomika/25303129\n",
            "[tass.ru] Мало текста из мета (21 слов), ищем в DOM...\n",
            "[tass.ru] Найдено 6 блоков текста\n",
            "[tass.ru] Успешно: 172 слов\n",
            "[tass.ru] Мало текста из мета (20 слов), ищем в DOM...\n",
            "[tass.ru] Найдено 5 блоков текста\n",
            "[tass.ru] Успешно: 218 слов\n",
            "[tass.ru] ✅ Добавлено: Минсельхоз допустил увеличение квоты на экспорт зерна из Рос... (172 слов). Итого: 35868\n",
            "[tass.ru] Мало текста из мета (13 слов), ищем в DOM...\n",
            "[tass.ru] Найдено 6 блоков текста\n",
            "[tass.ru] Успешно: 233 слов\n",
            "[tass.ru] ✅ Добавлено: Лантратова предложила ввести психолого-педагогическую экспер... (218 слов). Итого: 36086\n",
            "[tass.ru] Мало текста из мета (11 слов), ищем в DOM...\n",
            "[tass.ru] Найдено 6 блоков текста\n",
            "[tass.ru] Успешно: 227 слов\n",
            "[tass.ru] ✅ Добавлено: На форуме RICS в Петербурге обсудили образование, IT и защит... (233 слов). Итого: 36319\n",
            "[tass.ru] ✅ Добавлено: Порт Роттердама прекратил обслуживать контейнеровозы из-за з... (227 слов). Итого: 36546\n",
            "\n",
            "=== Сбор с kommersant.ru ===\n"
          ]
        },
        {
          "data": {
            "text/html": [
              "\n",
              "            <div class=\"spinner-container\">\n",
              "                <div class=\"spinner\" id=\"4dd7b86d-0057-47bf-8895-755d8ad3ce13-circle\"></div>\n",
              "                <div class=\"spinner-text\" id=\"4dd7b86d-0057-47bf-8895-755d8ad3ce13-text\">Initializing Chromedriver</div>\n",
              "            </div>\n",
              "            <style>\n",
              "                @keyframes spin {\n",
              "                    from { transform: rotate(0deg); }\n",
              "                    to { transform: rotate(360deg); }\n",
              "                }\n",
              "\n",
              "                .spinner-container {\n",
              "                    display: flex;\n",
              "                    align-items: center;\n",
              "                    margin-bottom: 3px;\n",
              "                }\n",
              "\n",
              "                .spinner {\n",
              "                    border: 3px solid rgba(0, 0, 0, 0.1);\n",
              "                    border-left-color: lightblue;\n",
              "                    border-radius: 50%;\n",
              "                    width: 12px;\n",
              "                    height: 12px;\n",
              "                    animation: spin 1s linear infinite;\n",
              "                }\n",
              "\n",
              "                .spinner-text {\n",
              "                    padding-left: 6px;\n",
              "                }\n",
              "            </style>\n",
              "        "
            ],
            "text/plain": [
              "<IPython.core.display.HTML object>"
            ]
          },
          "metadata": {},
          "output_type": "display_data"
        },
        {
          "data": {
            "application/javascript": "\n            const element = document.getElementById(\"4dd7b86d-0057-47bf-8895-755d8ad3ce13-circle\");\n            element.style.border = \"3px solid limegreen\";\n            element.style.animation = \"none\";\n\n            const text = document.getElementById(\"4dd7b86d-0057-47bf-8895-755d8ad3ce13-text\");\n            text.innerText = \"Initialized Chromedriver\";\n        ",
            "text/plain": [
              "<IPython.core.display.Javascript object>"
            ]
          },
          "metadata": {},
          "output_type": "display_data"
        },
        {
          "name": "stdout",
          "output_type": "stream",
          "text": [
            "[kommersant.ru] Загружаем главную страницу: https://www.kommersant.ru/lenta\n",
            "[kommersant.ru] Найдено 49 элементов статей\n",
            "[kommersant.ru] Сырые ссылки: ['/doc/3688126?from=burger', 'https://www.myweekend.ru/doc/8100466?from=actualno', '/doc/8097182?from=actualno']...\n",
            "[kommersant.ru] Отфильтровано 48 валидных ссылок: ['https://www.kommersant.ru/doc/3688126?from=burger', 'https://www.kommersant.ru/doc/8097182?from=actualno', 'https://www.kommersant.ru/doc/8078413?from=actualno']...\n"
          ]
        },
        {
          "data": {
            "text/html": [
              "\n",
              "            <div class=\"spinner-container\">\n",
              "                <div class=\"spinner\" id=\"d4e1cabf-d98c-497a-bddd-235bddb2dab3-circle\"></div>\n",
              "                <div class=\"spinner-text\" id=\"d4e1cabf-d98c-497a-bddd-235bddb2dab3-text\">Initializing Chromedriver</div>\n",
              "            </div>\n",
              "            <style>\n",
              "                @keyframes spin {\n",
              "                    from { transform: rotate(0deg); }\n",
              "                    to { transform: rotate(360deg); }\n",
              "                }\n",
              "\n",
              "                .spinner-container {\n",
              "                    display: flex;\n",
              "                    align-items: center;\n",
              "                    margin-bottom: 3px;\n",
              "                }\n",
              "\n",
              "                .spinner {\n",
              "                    border: 3px solid rgba(0, 0, 0, 0.1);\n",
              "                    border-left-color: lightblue;\n",
              "                    border-radius: 50%;\n",
              "                    width: 12px;\n",
              "                    height: 12px;\n",
              "                    animation: spin 1s linear infinite;\n",
              "                }\n",
              "\n",
              "                .spinner-text {\n",
              "                    padding-left: 6px;\n",
              "                }\n",
              "            </style>\n",
              "        "
            ],
            "text/plain": [
              "<IPython.core.display.HTML object>"
            ]
          },
          "metadata": {},
          "output_type": "display_data"
        },
        {
          "data": {
            "text/html": [
              "\n",
              "            <div class=\"spinner-container\">\n",
              "                <div class=\"spinner\" id=\"af6a7cfe-85a9-40fa-a891-4870e3d66801-circle\"></div>\n",
              "                <div class=\"spinner-text\" id=\"af6a7cfe-85a9-40fa-a891-4870e3d66801-text\">Initializing Chromedriver</div>\n",
              "            </div>\n",
              "            <style>\n",
              "                @keyframes spin {\n",
              "                    from { transform: rotate(0deg); }\n",
              "                    to { transform: rotate(360deg); }\n",
              "                }\n",
              "\n",
              "                .spinner-container {\n",
              "                    display: flex;\n",
              "                    align-items: center;\n",
              "                    margin-bottom: 3px;\n",
              "                }\n",
              "\n",
              "                .spinner {\n",
              "                    border: 3px solid rgba(0, 0, 0, 0.1);\n",
              "                    border-left-color: lightblue;\n",
              "                    border-radius: 50%;\n",
              "                    width: 12px;\n",
              "                    height: 12px;\n",
              "                    animation: spin 1s linear infinite;\n",
              "                }\n",
              "\n",
              "                .spinner-text {\n",
              "                    padding-left: 6px;\n",
              "                }\n",
              "            </style>\n",
              "        "
            ],
            "text/plain": [
              "<IPython.core.display.HTML object>"
            ]
          },
          "metadata": {},
          "output_type": "display_data"
        },
        {
          "data": {
            "text/html": [
              "\n",
              "            <div class=\"spinner-container\">\n",
              "                <div class=\"spinner\" id=\"42484ecb-04c5-45e0-bee7-c1956edac18f-circle\"></div>\n",
              "                <div class=\"spinner-text\" id=\"42484ecb-04c5-45e0-bee7-c1956edac18f-text\">Initializing Chromedriver</div>\n",
              "            </div>\n",
              "            <style>\n",
              "                @keyframes spin {\n",
              "                    from { transform: rotate(0deg); }\n",
              "                    to { transform: rotate(360deg); }\n",
              "                }\n",
              "\n",
              "                .spinner-container {\n",
              "                    display: flex;\n",
              "                    align-items: center;\n",
              "                    margin-bottom: 3px;\n",
              "                }\n",
              "\n",
              "                .spinner {\n",
              "                    border: 3px solid rgba(0, 0, 0, 0.1);\n",
              "                    border-left-color: lightblue;\n",
              "                    border-radius: 50%;\n",
              "                    width: 12px;\n",
              "                    height: 12px;\n",
              "                    animation: spin 1s linear infinite;\n",
              "                }\n",
              "\n",
              "                .spinner-text {\n",
              "                    padding-left: 6px;\n",
              "                }\n",
              "            </style>\n",
              "        "
            ],
            "text/plain": [
              "<IPython.core.display.HTML object>"
            ]
          },
          "metadata": {},
          "output_type": "display_data"
        },
        {
          "data": {
            "text/html": [
              "\n",
              "            <div class=\"spinner-container\">\n",
              "                <div class=\"spinner\" id=\"64a49112-dce9-471c-9c7f-7a2c499f85f3-circle\"></div>\n",
              "                <div class=\"spinner-text\" id=\"64a49112-dce9-471c-9c7f-7a2c499f85f3-text\">Initializing Chromedriver</div>\n",
              "            </div>\n",
              "            <style>\n",
              "                @keyframes spin {\n",
              "                    from { transform: rotate(0deg); }\n",
              "                    to { transform: rotate(360deg); }\n",
              "                }\n",
              "\n",
              "                .spinner-container {\n",
              "                    display: flex;\n",
              "                    align-items: center;\n",
              "                    margin-bottom: 3px;\n",
              "                }\n",
              "\n",
              "                .spinner {\n",
              "                    border: 3px solid rgba(0, 0, 0, 0.1);\n",
              "                    border-left-color: lightblue;\n",
              "                    border-radius: 50%;\n",
              "                    width: 12px;\n",
              "                    height: 12px;\n",
              "                    animation: spin 1s linear infinite;\n",
              "                }\n",
              "\n",
              "                .spinner-text {\n",
              "                    padding-left: 6px;\n",
              "                }\n",
              "            </style>\n",
              "        "
            ],
            "text/plain": [
              "<IPython.core.display.HTML object>"
            ]
          },
          "metadata": {},
          "output_type": "display_data"
        },
        {
          "data": {
            "application/javascript": "\n            const element = document.getElementById(\"42484ecb-04c5-45e0-bee7-c1956edac18f-circle\");\n            element.style.border = \"3px solid limegreen\";\n            element.style.animation = \"none\";\n\n            const text = document.getElementById(\"42484ecb-04c5-45e0-bee7-c1956edac18f-text\");\n            text.innerText = \"Initialized Chromedriver\";\n        ",
            "text/plain": [
              "<IPython.core.display.Javascript object>"
            ]
          },
          "metadata": {},
          "output_type": "display_data"
        },
        {
          "data": {
            "application/javascript": "\n            const element = document.getElementById(\"64a49112-dce9-471c-9c7f-7a2c499f85f3-circle\");\n            element.style.border = \"3px solid limegreen\";\n            element.style.animation = \"none\";\n\n            const text = document.getElementById(\"64a49112-dce9-471c-9c7f-7a2c499f85f3-text\");\n            text.innerText = \"Initialized Chromedriver\";\n        ",
            "text/plain": [
              "<IPython.core.display.Javascript object>"
            ]
          },
          "metadata": {},
          "output_type": "display_data"
        },
        {
          "data": {
            "application/javascript": "\n            const element = document.getElementById(\"af6a7cfe-85a9-40fa-a891-4870e3d66801-circle\");\n            element.style.border = \"3px solid limegreen\";\n            element.style.animation = \"none\";\n\n            const text = document.getElementById(\"af6a7cfe-85a9-40fa-a891-4870e3d66801-text\");\n            text.innerText = \"Initialized Chromedriver\";\n        ",
            "text/plain": [
              "<IPython.core.display.Javascript object>"
            ]
          },
          "metadata": {},
          "output_type": "display_data"
        },
        {
          "data": {
            "application/javascript": "\n            const element = document.getElementById(\"d4e1cabf-d98c-497a-bddd-235bddb2dab3-circle\");\n            element.style.border = \"3px solid limegreen\";\n            element.style.animation = \"none\";\n\n            const text = document.getElementById(\"d4e1cabf-d98c-497a-bddd-235bddb2dab3-text\");\n            text.innerText = \"Initialized Chromedriver\";\n        ",
            "text/plain": [
              "<IPython.core.display.Javascript object>"
            ]
          },
          "metadata": {},
          "output_type": "display_data"
        },
        {
          "name": "stdout",
          "output_type": "stream",
          "text": [
            "[kommersant.ru] Загружаем https://www.kommersant.ru/doc/7992199?from=actualno\n",
            "[kommersant.ru] Загружаем https://www.kommersant.ru/doc/8078413?from=actualno\n",
            "[kommersant.ru] Загружаем https://www.kommersant.ru/doc/3688126?from=burger\n",
            "[kommersant.ru] Загружаем https://www.kommersant.ru/doc/8097182?from=actualno\n",
            "[kommersant.ru] Мало текста из мета (11 слов), ищем в DOM...\n",
            "[kommersant.ru] Найдено 18 блоков текста\n",
            "[kommersant.ru] Успешно: 593 слов\n"
          ]
        },
        {
          "data": {
            "text/html": [
              "\n",
              "            <div class=\"spinner-container\">\n",
              "                <div class=\"spinner\" id=\"681e1c5e-2813-4c25-8231-32149c7b5199-circle\"></div>\n",
              "                <div class=\"spinner-text\" id=\"681e1c5e-2813-4c25-8231-32149c7b5199-text\">Initializing Chromedriver</div>\n",
              "            </div>\n",
              "            <style>\n",
              "                @keyframes spin {\n",
              "                    from { transform: rotate(0deg); }\n",
              "                    to { transform: rotate(360deg); }\n",
              "                }\n",
              "\n",
              "                .spinner-container {\n",
              "                    display: flex;\n",
              "                    align-items: center;\n",
              "                    margin-bottom: 3px;\n",
              "                }\n",
              "\n",
              "                .spinner {\n",
              "                    border: 3px solid rgba(0, 0, 0, 0.1);\n",
              "                    border-left-color: lightblue;\n",
              "                    border-radius: 50%;\n",
              "                    width: 12px;\n",
              "                    height: 12px;\n",
              "                    animation: spin 1s linear infinite;\n",
              "                }\n",
              "\n",
              "                .spinner-text {\n",
              "                    padding-left: 6px;\n",
              "                }\n",
              "            </style>\n",
              "        "
            ],
            "text/plain": [
              "<IPython.core.display.HTML object>"
            ]
          },
          "metadata": {},
          "output_type": "display_data"
        },
        {
          "name": "stdout",
          "output_type": "stream",
          "text": [
            "[kommersant.ru] ✅ Добавлено: Курс доллара. Прогноз на 6–10 октября - Коммерсантъ... (593 слов). Итого: 37139\n"
          ]
        },
        {
          "data": {
            "application/javascript": "\n            const element = document.getElementById(\"681e1c5e-2813-4c25-8231-32149c7b5199-circle\");\n            element.style.border = \"3px solid limegreen\";\n            element.style.animation = \"none\";\n\n            const text = document.getElementById(\"681e1c5e-2813-4c25-8231-32149c7b5199-text\");\n            text.innerText = \"Initialized Chromedriver\";\n        ",
            "text/plain": [
              "<IPython.core.display.Javascript object>"
            ]
          },
          "metadata": {},
          "output_type": "display_data"
        },
        {
          "name": "stdout",
          "output_type": "stream",
          "text": [
            "[kommersant.ru] Мало текста из мета (3 слов), ищем в DOM...\n",
            "[kommersant.ru] Найдено 30 блоков текста\n",
            "[kommersant.ru] Успешно: 391 слов\n",
            "[kommersant.ru] ✅ Добавлено: Справочники «Ъ» - Коммерсантъ... (391 слов). Итого: 37530\n"
          ]
        },
        {
          "data": {
            "text/html": [
              "\n",
              "            <div class=\"spinner-container\">\n",
              "                <div class=\"spinner\" id=\"298e7640-b2c2-40f0-bfdc-279404d3aee7-circle\"></div>\n",
              "                <div class=\"spinner-text\" id=\"298e7640-b2c2-40f0-bfdc-279404d3aee7-text\">Initializing Chromedriver</div>\n",
              "            </div>\n",
              "            <style>\n",
              "                @keyframes spin {\n",
              "                    from { transform: rotate(0deg); }\n",
              "                    to { transform: rotate(360deg); }\n",
              "                }\n",
              "\n",
              "                .spinner-container {\n",
              "                    display: flex;\n",
              "                    align-items: center;\n",
              "                    margin-bottom: 3px;\n",
              "                }\n",
              "\n",
              "                .spinner {\n",
              "                    border: 3px solid rgba(0, 0, 0, 0.1);\n",
              "                    border-left-color: lightblue;\n",
              "                    border-radius: 50%;\n",
              "                    width: 12px;\n",
              "                    height: 12px;\n",
              "                    animation: spin 1s linear infinite;\n",
              "                }\n",
              "\n",
              "                .spinner-text {\n",
              "                    padding-left: 6px;\n",
              "                }\n",
              "            </style>\n",
              "        "
            ],
            "text/plain": [
              "<IPython.core.display.HTML object>"
            ]
          },
          "metadata": {},
          "output_type": "display_data"
        },
        {
          "name": "stdout",
          "output_type": "stream",
          "text": [
            "[kommersant.ru] Загружаем https://www.kommersant.ru/doc/7298576?from=actualno\n",
            "[kommersant.ru] Мало текста из мета (5 слов), ищем в DOM...\n",
            "[kommersant.ru] Найдено 56 блоков текста\n",
            "[kommersant.ru] Успешно: 1228 слов\n"
          ]
        },
        {
          "data": {
            "text/html": [
              "\n",
              "            <div class=\"spinner-container\">\n",
              "                <div class=\"spinner\" id=\"fd36e3d8-dafc-40c9-86fe-3d5fd8ca99a7-circle\"></div>\n",
              "                <div class=\"spinner-text\" id=\"fd36e3d8-dafc-40c9-86fe-3d5fd8ca99a7-text\">Initializing Chromedriver</div>\n",
              "            </div>\n",
              "            <style>\n",
              "                @keyframes spin {\n",
              "                    from { transform: rotate(0deg); }\n",
              "                    to { transform: rotate(360deg); }\n",
              "                }\n",
              "\n",
              "                .spinner-container {\n",
              "                    display: flex;\n",
              "                    align-items: center;\n",
              "                    margin-bottom: 3px;\n",
              "                }\n",
              "\n",
              "                .spinner {\n",
              "                    border: 3px solid rgba(0, 0, 0, 0.1);\n",
              "                    border-left-color: lightblue;\n",
              "                    border-radius: 50%;\n",
              "                    width: 12px;\n",
              "                    height: 12px;\n",
              "                    animation: spin 1s linear infinite;\n",
              "                }\n",
              "\n",
              "                .spinner-text {\n",
              "                    padding-left: 6px;\n",
              "                }\n",
              "            </style>\n",
              "        "
            ],
            "text/plain": [
              "<IPython.core.display.HTML object>"
            ]
          },
          "metadata": {},
          "output_type": "display_data"
        },
        {
          "name": "stdout",
          "output_type": "stream",
          "text": [
            "[kommersant.ru] ✅ Добавлено: Новые законы с 1 октября. Обзор с комментариями экспертов... (1228 слов). Итого: 38758\n"
          ]
        },
        {
          "data": {
            "application/javascript": "\n            const element = document.getElementById(\"fd36e3d8-dafc-40c9-86fe-3d5fd8ca99a7-circle\");\n            element.style.border = \"3px solid limegreen\";\n            element.style.animation = \"none\";\n\n            const text = document.getElementById(\"fd36e3d8-dafc-40c9-86fe-3d5fd8ca99a7-text\");\n            text.innerText = \"Initialized Chromedriver\";\n        ",
            "text/plain": [
              "<IPython.core.display.Javascript object>"
            ]
          },
          "metadata": {},
          "output_type": "display_data"
        },
        {
          "data": {
            "application/javascript": "\n            const element = document.getElementById(\"298e7640-b2c2-40f0-bfdc-279404d3aee7-circle\");\n            element.style.border = \"3px solid limegreen\";\n            element.style.animation = \"none\";\n\n            const text = document.getElementById(\"298e7640-b2c2-40f0-bfdc-279404d3aee7-text\");\n            text.innerText = \"Initialized Chromedriver\";\n        ",
            "text/plain": [
              "<IPython.core.display.Javascript object>"
            ]
          },
          "metadata": {},
          "output_type": "display_data"
        },
        {
          "name": "stdout",
          "output_type": "stream",
          "text": [
            "[kommersant.ru] Мало текста из мета (7 слов), ищем в DOM...\n",
            "[kommersant.ru] Найдено 164 блоков текста\n",
            "[kommersant.ru] Успешно: 2268 слов\n",
            "[kommersant.ru] Загружаем https://www.kommersant.ru/doc/8101437\n",
            "[kommersant.ru] Загружаем https://www.kommersant.ru/doc/7563319?from=actualno\n",
            "[kommersant.ru] ✅ Добавлено: Генератор обращений к врагам по постам Дмитрия Медведева в т... (2268 слов). Итого: 41026\n"
          ]
        },
        {
          "data": {
            "text/html": [
              "\n",
              "            <div class=\"spinner-container\">\n",
              "                <div class=\"spinner\" id=\"3222d613-235f-43d3-b8d6-9241c02a788a-circle\"></div>\n",
              "                <div class=\"spinner-text\" id=\"3222d613-235f-43d3-b8d6-9241c02a788a-text\">Initializing Chromedriver</div>\n",
              "            </div>\n",
              "            <style>\n",
              "                @keyframes spin {\n",
              "                    from { transform: rotate(0deg); }\n",
              "                    to { transform: rotate(360deg); }\n",
              "                }\n",
              "\n",
              "                .spinner-container {\n",
              "                    display: flex;\n",
              "                    align-items: center;\n",
              "                    margin-bottom: 3px;\n",
              "                }\n",
              "\n",
              "                .spinner {\n",
              "                    border: 3px solid rgba(0, 0, 0, 0.1);\n",
              "                    border-left-color: lightblue;\n",
              "                    border-radius: 50%;\n",
              "                    width: 12px;\n",
              "                    height: 12px;\n",
              "                    animation: spin 1s linear infinite;\n",
              "                }\n",
              "\n",
              "                .spinner-text {\n",
              "                    padding-left: 6px;\n",
              "                }\n",
              "            </style>\n",
              "        "
            ],
            "text/plain": [
              "<IPython.core.display.HTML object>"
            ]
          },
          "metadata": {},
          "output_type": "display_data"
        },
        {
          "data": {
            "application/javascript": "\n            const element = document.getElementById(\"3222d613-235f-43d3-b8d6-9241c02a788a-circle\");\n            element.style.border = \"3px solid limegreen\";\n            element.style.animation = \"none\";\n\n            const text = document.getElementById(\"3222d613-235f-43d3-b8d6-9241c02a788a-text\");\n            text.innerText = \"Initialized Chromedriver\";\n        ",
            "text/plain": [
              "<IPython.core.display.Javascript object>"
            ]
          },
          "metadata": {},
          "output_type": "display_data"
        },
        {
          "name": "stdout",
          "output_type": "stream",
          "text": [
            "[kommersant.ru] Загружаем https://www.kommersant.ru/doc/8101249\n",
            "[kommersant.ru] Мало текста из мета (9 слов), ищем в DOM...\n",
            "[kommersant.ru] Найдено 229 блоков текста\n",
            "[kommersant.ru] Успешно: 6787 слов\n"
          ]
        },
        {
          "data": {
            "text/html": [
              "\n",
              "            <div class=\"spinner-container\">\n",
              "                <div class=\"spinner\" id=\"11f7aef4-2da3-4139-a913-4d1f51865e7b-circle\"></div>\n",
              "                <div class=\"spinner-text\" id=\"11f7aef4-2da3-4139-a913-4d1f51865e7b-text\">Initializing Chromedriver</div>\n",
              "            </div>\n",
              "            <style>\n",
              "                @keyframes spin {\n",
              "                    from { transform: rotate(0deg); }\n",
              "                    to { transform: rotate(360deg); }\n",
              "                }\n",
              "\n",
              "                .spinner-container {\n",
              "                    display: flex;\n",
              "                    align-items: center;\n",
              "                    margin-bottom: 3px;\n",
              "                }\n",
              "\n",
              "                .spinner {\n",
              "                    border: 3px solid rgba(0, 0, 0, 0.1);\n",
              "                    border-left-color: lightblue;\n",
              "                    border-radius: 50%;\n",
              "                    width: 12px;\n",
              "                    height: 12px;\n",
              "                    animation: spin 1s linear infinite;\n",
              "                }\n",
              "\n",
              "                .spinner-text {\n",
              "                    padding-left: 6px;\n",
              "                }\n",
              "            </style>\n",
              "        "
            ],
            "text/plain": [
              "<IPython.core.display.HTML object>"
            ]
          },
          "metadata": {},
          "output_type": "display_data"
        },
        {
          "name": "stdout",
          "output_type": "stream",
          "text": [
            "[kommersant.ru] ✅ Добавлено: Команда Трампа: кто входит в новую администрацию президента ... (6787 слов). Итого: 47813\n"
          ]
        },
        {
          "data": {
            "application/javascript": "\n            const element = document.getElementById(\"11f7aef4-2da3-4139-a913-4d1f51865e7b-circle\");\n            element.style.border = \"3px solid limegreen\";\n            element.style.animation = \"none\";\n\n            const text = document.getElementById(\"11f7aef4-2da3-4139-a913-4d1f51865e7b-text\");\n            text.innerText = \"Initialized Chromedriver\";\n        ",
            "text/plain": [
              "<IPython.core.display.Javascript object>"
            ]
          },
          "metadata": {},
          "output_type": "display_data"
        },
        {
          "name": "stdout",
          "output_type": "stream",
          "text": [
            "[kommersant.ru] Загружаем https://www.kommersant.ru/doc/8101249\n",
            "[kommersant.ru] Мало текста из мета (3 слов), ищем в DOM...\n",
            "[kommersant.ru] Найдено 6 блоков текста\n",
            "[kommersant.ru] Успешно: 85 слов\n"
          ]
        },
        {
          "data": {
            "text/html": [
              "\n",
              "            <div class=\"spinner-container\">\n",
              "                <div class=\"spinner\" id=\"90b22d80-09cb-4902-b72f-f3c04de70a4f-circle\"></div>\n",
              "                <div class=\"spinner-text\" id=\"90b22d80-09cb-4902-b72f-f3c04de70a4f-text\">Initializing Chromedriver</div>\n",
              "            </div>\n",
              "            <style>\n",
              "                @keyframes spin {\n",
              "                    from { transform: rotate(0deg); }\n",
              "                    to { transform: rotate(360deg); }\n",
              "                }\n",
              "\n",
              "                .spinner-container {\n",
              "                    display: flex;\n",
              "                    align-items: center;\n",
              "                    margin-bottom: 3px;\n",
              "                }\n",
              "\n",
              "                .spinner {\n",
              "                    border: 3px solid rgba(0, 0, 0, 0.1);\n",
              "                    border-left-color: lightblue;\n",
              "                    border-radius: 50%;\n",
              "                    width: 12px;\n",
              "                    height: 12px;\n",
              "                    animation: spin 1s linear infinite;\n",
              "                }\n",
              "\n",
              "                .spinner-text {\n",
              "                    padding-left: 6px;\n",
              "                }\n",
              "            </style>\n",
              "        "
            ],
            "text/plain": [
              "<IPython.core.display.HTML object>"
            ]
          },
          "metadata": {},
          "output_type": "display_data"
        },
        {
          "name": "stdout",
          "output_type": "stream",
          "text": [
            "[kommersant.ru] ✅ Добавлено: Новак: прорабатываются новые меры по оздоровлению топливного... (85 слов). Итого: 47898\n",
            "[kommersant.ru] Мало текста из мета (8 слов), ищем в DOM...\n",
            "[kommersant.ru] Найдено 90 блоков текста\n",
            "[kommersant.ru] Успешно: 2382 слов\n",
            "[kommersant.ru] ✅ Добавлено: Путин извинился перед Алиевым за авиакатастрофу AZAL... (2382 слов). Итого: 50280\n"
          ]
        },
        {
          "data": {
            "text/html": [
              "\n",
              "            <div class=\"spinner-container\">\n",
              "                <div class=\"spinner\" id=\"121addd8-cbd2-4784-acb8-994b08b7dee5-circle\"></div>\n",
              "                <div class=\"spinner-text\" id=\"121addd8-cbd2-4784-acb8-994b08b7dee5-text\">Initializing Chromedriver</div>\n",
              "            </div>\n",
              "            <style>\n",
              "                @keyframes spin {\n",
              "                    from { transform: rotate(0deg); }\n",
              "                    to { transform: rotate(360deg); }\n",
              "                }\n",
              "\n",
              "                .spinner-container {\n",
              "                    display: flex;\n",
              "                    align-items: center;\n",
              "                    margin-bottom: 3px;\n",
              "                }\n",
              "\n",
              "                .spinner {\n",
              "                    border: 3px solid rgba(0, 0, 0, 0.1);\n",
              "                    border-left-color: lightblue;\n",
              "                    border-radius: 50%;\n",
              "                    width: 12px;\n",
              "                    height: 12px;\n",
              "                    animation: spin 1s linear infinite;\n",
              "                }\n",
              "\n",
              "                .spinner-text {\n",
              "                    padding-left: 6px;\n",
              "                }\n",
              "            </style>\n",
              "        "
            ],
            "text/plain": [
              "<IPython.core.display.HTML object>"
            ]
          },
          "metadata": {},
          "output_type": "display_data"
        },
        {
          "data": {
            "application/javascript": "\n            const element = document.getElementById(\"90b22d80-09cb-4902-b72f-f3c04de70a4f-circle\");\n            element.style.border = \"3px solid limegreen\";\n            element.style.animation = \"none\";\n\n            const text = document.getElementById(\"90b22d80-09cb-4902-b72f-f3c04de70a4f-text\");\n            text.innerText = \"Initialized Chromedriver\";\n        ",
            "text/plain": [
              "<IPython.core.display.Javascript object>"
            ]
          },
          "metadata": {},
          "output_type": "display_data"
        },
        {
          "name": "stdout",
          "output_type": "stream",
          "text": [
            "[kommersant.ru] Загружаем https://www.kommersant.ru/doc/8101249\n"
          ]
        },
        {
          "data": {
            "application/javascript": "\n            const element = document.getElementById(\"121addd8-cbd2-4784-acb8-994b08b7dee5-circle\");\n            element.style.border = \"3px solid limegreen\";\n            element.style.animation = \"none\";\n\n            const text = document.getElementById(\"121addd8-cbd2-4784-acb8-994b08b7dee5-text\");\n            text.innerText = \"Initialized Chromedriver\";\n        ",
            "text/plain": [
              "<IPython.core.display.Javascript object>"
            ]
          },
          "metadata": {},
          "output_type": "display_data"
        },
        {
          "name": "stdout",
          "output_type": "stream",
          "text": [
            "[kommersant.ru] Загружаем https://www.kommersant.ru/doc/8101436\n",
            "[kommersant.ru] Мало текста из мета (8 слов), ищем в DOM...\n",
            "[kommersant.ru] Найдено 90 блоков текста\n",
            "[kommersant.ru] Успешно: 2382 слов\n"
          ]
        },
        {
          "data": {
            "text/html": [
              "\n",
              "            <div class=\"spinner-container\">\n",
              "                <div class=\"spinner\" id=\"16fa5258-932e-4014-80fa-e35fcf56e81e-circle\"></div>\n",
              "                <div class=\"spinner-text\" id=\"16fa5258-932e-4014-80fa-e35fcf56e81e-text\">Initializing Chromedriver</div>\n",
              "            </div>\n",
              "            <style>\n",
              "                @keyframes spin {\n",
              "                    from { transform: rotate(0deg); }\n",
              "                    to { transform: rotate(360deg); }\n",
              "                }\n",
              "\n",
              "                .spinner-container {\n",
              "                    display: flex;\n",
              "                    align-items: center;\n",
              "                    margin-bottom: 3px;\n",
              "                }\n",
              "\n",
              "                .spinner {\n",
              "                    border: 3px solid rgba(0, 0, 0, 0.1);\n",
              "                    border-left-color: lightblue;\n",
              "                    border-radius: 50%;\n",
              "                    width: 12px;\n",
              "                    height: 12px;\n",
              "                    animation: spin 1s linear infinite;\n",
              "                }\n",
              "\n",
              "                .spinner-text {\n",
              "                    padding-left: 6px;\n",
              "                }\n",
              "            </style>\n",
              "        "
            ],
            "text/plain": [
              "<IPython.core.display.HTML object>"
            ]
          },
          "metadata": {},
          "output_type": "display_data"
        },
        {
          "data": {
            "application/javascript": "\n            const element = document.getElementById(\"16fa5258-932e-4014-80fa-e35fcf56e81e-circle\");\n            element.style.border = \"3px solid limegreen\";\n            element.style.animation = \"none\";\n\n            const text = document.getElementById(\"16fa5258-932e-4014-80fa-e35fcf56e81e-text\");\n            text.innerText = \"Initialized Chromedriver\";\n        ",
            "text/plain": [
              "<IPython.core.display.Javascript object>"
            ]
          },
          "metadata": {},
          "output_type": "display_data"
        },
        {
          "name": "stdout",
          "output_type": "stream",
          "text": [
            "[kommersant.ru] Загружаем https://www.kommersant.ru/doc/8101391\n",
            "[kommersant.ru] Мало текста из мета (3 слов), ищем в DOM...\n",
            "[kommersant.ru] Найдено 5 блоков текста\n",
            "[kommersant.ru] Успешно: 67 слов\n"
          ]
        },
        {
          "data": {
            "text/html": [
              "\n",
              "            <div class=\"spinner-container\">\n",
              "                <div class=\"spinner\" id=\"85cbbe20-19ed-472d-adbb-ecc39844d110-circle\"></div>\n",
              "                <div class=\"spinner-text\" id=\"85cbbe20-19ed-472d-adbb-ecc39844d110-text\">Initializing Chromedriver</div>\n",
              "            </div>\n",
              "            <style>\n",
              "                @keyframes spin {\n",
              "                    from { transform: rotate(0deg); }\n",
              "                    to { transform: rotate(360deg); }\n",
              "                }\n",
              "\n",
              "                .spinner-container {\n",
              "                    display: flex;\n",
              "                    align-items: center;\n",
              "                    margin-bottom: 3px;\n",
              "                }\n",
              "\n",
              "                .spinner {\n",
              "                    border: 3px solid rgba(0, 0, 0, 0.1);\n",
              "                    border-left-color: lightblue;\n",
              "                    border-radius: 50%;\n",
              "                    width: 12px;\n",
              "                    height: 12px;\n",
              "                    animation: spin 1s linear infinite;\n",
              "                }\n",
              "\n",
              "                .spinner-text {\n",
              "                    padding-left: 6px;\n",
              "                }\n",
              "            </style>\n",
              "        "
            ],
            "text/plain": [
              "<IPython.core.display.HTML object>"
            ]
          },
          "metadata": {},
          "output_type": "display_data"
        },
        {
          "data": {
            "application/javascript": "\n            const element = document.getElementById(\"85cbbe20-19ed-472d-adbb-ecc39844d110-circle\");\n            element.style.border = \"3px solid limegreen\";\n            element.style.animation = \"none\";\n\n            const text = document.getElementById(\"85cbbe20-19ed-472d-adbb-ecc39844d110-text\");\n            text.innerText = \"Initialized Chromedriver\";\n        ",
            "text/plain": [
              "<IPython.core.display.Javascript object>"
            ]
          },
          "metadata": {},
          "output_type": "display_data"
        },
        {
          "name": "stdout",
          "output_type": "stream",
          "text": [
            "[kommersant.ru] Загружаем https://www.kommersant.ru/doc/8101391\n",
            "[kommersant.ru] Мало текста из мета (8 слов), ищем в DOM...\n",
            "[kommersant.ru] Найдено 91 блоков текста\n",
            "[kommersant.ru] Успешно: 2388 слов\n"
          ]
        },
        {
          "data": {
            "text/html": [
              "\n",
              "            <div class=\"spinner-container\">\n",
              "                <div class=\"spinner\" id=\"67001507-1f64-4174-9d9f-717e03c83fee-circle\"></div>\n",
              "                <div class=\"spinner-text\" id=\"67001507-1f64-4174-9d9f-717e03c83fee-text\">Initializing Chromedriver</div>\n",
              "            </div>\n",
              "            <style>\n",
              "                @keyframes spin {\n",
              "                    from { transform: rotate(0deg); }\n",
              "                    to { transform: rotate(360deg); }\n",
              "                }\n",
              "\n",
              "                .spinner-container {\n",
              "                    display: flex;\n",
              "                    align-items: center;\n",
              "                    margin-bottom: 3px;\n",
              "                }\n",
              "\n",
              "                .spinner {\n",
              "                    border: 3px solid rgba(0, 0, 0, 0.1);\n",
              "                    border-left-color: lightblue;\n",
              "                    border-radius: 50%;\n",
              "                    width: 12px;\n",
              "                    height: 12px;\n",
              "                    animation: spin 1s linear infinite;\n",
              "                }\n",
              "\n",
              "                .spinner-text {\n",
              "                    padding-left: 6px;\n",
              "                }\n",
              "            </style>\n",
              "        "
            ],
            "text/plain": [
              "<IPython.core.display.HTML object>"
            ]
          },
          "metadata": {},
          "output_type": "display_data"
        },
        {
          "data": {
            "application/javascript": "\n            const element = document.getElementById(\"67001507-1f64-4174-9d9f-717e03c83fee-circle\");\n            element.style.border = \"3px solid limegreen\";\n            element.style.animation = \"none\";\n\n            const text = document.getElementById(\"67001507-1f64-4174-9d9f-717e03c83fee-text\");\n            text.innerText = \"Initialized Chromedriver\";\n        ",
            "text/plain": [
              "<IPython.core.display.Javascript object>"
            ]
          },
          "metadata": {},
          "output_type": "display_data"
        },
        {
          "name": "stdout",
          "output_type": "stream",
          "text": [
            "[kommersant.ru] Загружаем https://www.kommersant.ru/doc/8101391\n",
            "[kommersant.ru] Мало текста из мета (8 слов), ищем в DOM...\n",
            "[kommersant.ru] Найдено 16 блоков текста\n",
            "[kommersant.ru] Успешно: 724 слов\n"
          ]
        },
        {
          "data": {
            "text/html": [
              "\n",
              "            <div class=\"spinner-container\">\n",
              "                <div class=\"spinner\" id=\"7f7f626a-ddf1-4069-a77d-022e649d31fe-circle\"></div>\n",
              "                <div class=\"spinner-text\" id=\"7f7f626a-ddf1-4069-a77d-022e649d31fe-text\">Initializing Chromedriver</div>\n",
              "            </div>\n",
              "            <style>\n",
              "                @keyframes spin {\n",
              "                    from { transform: rotate(0deg); }\n",
              "                    to { transform: rotate(360deg); }\n",
              "                }\n",
              "\n",
              "                .spinner-container {\n",
              "                    display: flex;\n",
              "                    align-items: center;\n",
              "                    margin-bottom: 3px;\n",
              "                }\n",
              "\n",
              "                .spinner {\n",
              "                    border: 3px solid rgba(0, 0, 0, 0.1);\n",
              "                    border-left-color: lightblue;\n",
              "                    border-radius: 50%;\n",
              "                    width: 12px;\n",
              "                    height: 12px;\n",
              "                    animation: spin 1s linear infinite;\n",
              "                }\n",
              "\n",
              "                .spinner-text {\n",
              "                    padding-left: 6px;\n",
              "                }\n",
              "            </style>\n",
              "        "
            ],
            "text/plain": [
              "<IPython.core.display.HTML object>"
            ]
          },
          "metadata": {},
          "output_type": "display_data"
        },
        {
          "name": "stdout",
          "output_type": "stream",
          "text": [
            "[kommersant.ru] Мало текста из мета (8 слов), ищем в DOM...\n",
            "[kommersant.ru] Найдено 17 блоков текста\n",
            "[kommersant.ru] Успешно: 730 слов\n"
          ]
        },
        {
          "data": {
            "text/html": [
              "\n",
              "            <div class=\"spinner-container\">\n",
              "                <div class=\"spinner\" id=\"e61d2e48-32ea-44f4-9dc9-daccd7f1096b-circle\"></div>\n",
              "                <div class=\"spinner-text\" id=\"e61d2e48-32ea-44f4-9dc9-daccd7f1096b-text\">Initializing Chromedriver</div>\n",
              "            </div>\n",
              "            <style>\n",
              "                @keyframes spin {\n",
              "                    from { transform: rotate(0deg); }\n",
              "                    to { transform: rotate(360deg); }\n",
              "                }\n",
              "\n",
              "                .spinner-container {\n",
              "                    display: flex;\n",
              "                    align-items: center;\n",
              "                    margin-bottom: 3px;\n",
              "                }\n",
              "\n",
              "                .spinner {\n",
              "                    border: 3px solid rgba(0, 0, 0, 0.1);\n",
              "                    border-left-color: lightblue;\n",
              "                    border-radius: 50%;\n",
              "                    width: 12px;\n",
              "                    height: 12px;\n",
              "                    animation: spin 1s linear infinite;\n",
              "                }\n",
              "\n",
              "                .spinner-text {\n",
              "                    padding-left: 6px;\n",
              "                }\n",
              "            </style>\n",
              "        "
            ],
            "text/plain": [
              "<IPython.core.display.HTML object>"
            ]
          },
          "metadata": {},
          "output_type": "display_data"
        },
        {
          "data": {
            "application/javascript": "\n            const element = document.getElementById(\"7f7f626a-ddf1-4069-a77d-022e649d31fe-circle\");\n            element.style.border = \"3px solid limegreen\";\n            element.style.animation = \"none\";\n\n            const text = document.getElementById(\"7f7f626a-ddf1-4069-a77d-022e649d31fe-text\");\n            text.innerText = \"Initialized Chromedriver\";\n        ",
            "text/plain": [
              "<IPython.core.display.Javascript object>"
            ]
          },
          "metadata": {},
          "output_type": "display_data"
        },
        {
          "name": "stdout",
          "output_type": "stream",
          "text": [
            "[kommersant.ru] Загружаем https://www.kommersant.ru/doc/8101423\n"
          ]
        },
        {
          "data": {
            "application/javascript": "\n            const element = document.getElementById(\"e61d2e48-32ea-44f4-9dc9-daccd7f1096b-circle\");\n            element.style.border = \"3px solid limegreen\";\n            element.style.animation = \"none\";\n\n            const text = document.getElementById(\"e61d2e48-32ea-44f4-9dc9-daccd7f1096b-text\");\n            text.innerText = \"Initialized Chromedriver\";\n        ",
            "text/plain": [
              "<IPython.core.display.Javascript object>"
            ]
          },
          "metadata": {},
          "output_type": "display_data"
        },
        {
          "name": "stdout",
          "output_type": "stream",
          "text": [
            "[kommersant.ru] Загружаем https://www.kommersant.ru/doc/8101432\n",
            "[kommersant.ru] Мало текста из мета (8 слов), ищем в DOM...\n",
            "[kommersant.ru] Найдено 17 блоков текста\n",
            "[kommersant.ru] Успешно: 730 слов\n"
          ]
        },
        {
          "data": {
            "text/html": [
              "\n",
              "            <div class=\"spinner-container\">\n",
              "                <div class=\"spinner\" id=\"b0c03a65-d262-4559-921e-0058a9824382-circle\"></div>\n",
              "                <div class=\"spinner-text\" id=\"b0c03a65-d262-4559-921e-0058a9824382-text\">Initializing Chromedriver</div>\n",
              "            </div>\n",
              "            <style>\n",
              "                @keyframes spin {\n",
              "                    from { transform: rotate(0deg); }\n",
              "                    to { transform: rotate(360deg); }\n",
              "                }\n",
              "\n",
              "                .spinner-container {\n",
              "                    display: flex;\n",
              "                    align-items: center;\n",
              "                    margin-bottom: 3px;\n",
              "                }\n",
              "\n",
              "                .spinner {\n",
              "                    border: 3px solid rgba(0, 0, 0, 0.1);\n",
              "                    border-left-color: lightblue;\n",
              "                    border-radius: 50%;\n",
              "                    width: 12px;\n",
              "                    height: 12px;\n",
              "                    animation: spin 1s linear infinite;\n",
              "                }\n",
              "\n",
              "                .spinner-text {\n",
              "                    padding-left: 6px;\n",
              "                }\n",
              "            </style>\n",
              "        "
            ],
            "text/plain": [
              "<IPython.core.display.HTML object>"
            ]
          },
          "metadata": {},
          "output_type": "display_data"
        },
        {
          "data": {
            "application/javascript": "\n            const element = document.getElementById(\"b0c03a65-d262-4559-921e-0058a9824382-circle\");\n            element.style.border = \"3px solid limegreen\";\n            element.style.animation = \"none\";\n\n            const text = document.getElementById(\"b0c03a65-d262-4559-921e-0058a9824382-text\");\n            text.innerText = \"Initialized Chromedriver\";\n        ",
            "text/plain": [
              "<IPython.core.display.Javascript object>"
            ]
          },
          "metadata": {},
          "output_type": "display_data"
        },
        {
          "name": "stdout",
          "output_type": "stream",
          "text": [
            "[kommersant.ru] Загружаем https://www.kommersant.ru/doc/8101419\n",
            "[kommersant.ru] Мало текста из мета (3 слов), ищем в DOM...\n",
            "[kommersant.ru] Найдено 3 блоков текста\n",
            "[kommersant.ru] Успешно: 105 слов\n"
          ]
        },
        {
          "data": {
            "text/html": [
              "\n",
              "            <div class=\"spinner-container\">\n",
              "                <div class=\"spinner\" id=\"f56b841d-8096-4266-aad2-957669afa917-circle\"></div>\n",
              "                <div class=\"spinner-text\" id=\"f56b841d-8096-4266-aad2-957669afa917-text\">Initializing Chromedriver</div>\n",
              "            </div>\n",
              "            <style>\n",
              "                @keyframes spin {\n",
              "                    from { transform: rotate(0deg); }\n",
              "                    to { transform: rotate(360deg); }\n",
              "                }\n",
              "\n",
              "                .spinner-container {\n",
              "                    display: flex;\n",
              "                    align-items: center;\n",
              "                    margin-bottom: 3px;\n",
              "                }\n",
              "\n",
              "                .spinner {\n",
              "                    border: 3px solid rgba(0, 0, 0, 0.1);\n",
              "                    border-left-color: lightblue;\n",
              "                    border-radius: 50%;\n",
              "                    width: 12px;\n",
              "                    height: 12px;\n",
              "                    animation: spin 1s linear infinite;\n",
              "                }\n",
              "\n",
              "                .spinner-text {\n",
              "                    padding-left: 6px;\n",
              "                }\n",
              "            </style>\n",
              "        "
            ],
            "text/plain": [
              "<IPython.core.display.HTML object>"
            ]
          },
          "metadata": {},
          "output_type": "display_data"
        },
        {
          "data": {
            "application/javascript": "\n            const element = document.getElementById(\"f56b841d-8096-4266-aad2-957669afa917-circle\");\n            element.style.border = \"3px solid limegreen\";\n            element.style.animation = \"none\";\n\n            const text = document.getElementById(\"f56b841d-8096-4266-aad2-957669afa917-text\");\n            text.innerText = \"Initialized Chromedriver\";\n        ",
            "text/plain": [
              "<IPython.core.display.Javascript object>"
            ]
          },
          "metadata": {},
          "output_type": "display_data"
        },
        {
          "name": "stdout",
          "output_type": "stream",
          "text": [
            "[kommersant.ru] Загружаем https://www.kommersant.ru/doc/8101419\n",
            "[kommersant.ru] Мало текста из мета (3 слов), ищем в DOM...\n",
            "[kommersant.ru] Найдено 5 блоков текста\n",
            "[kommersant.ru] Успешно: 138 слов\n"
          ]
        },
        {
          "data": {
            "text/html": [
              "\n",
              "            <div class=\"spinner-container\">\n",
              "                <div class=\"spinner\" id=\"bd8952b3-81b7-43c0-8bab-5d1e50c00fb0-circle\"></div>\n",
              "                <div class=\"spinner-text\" id=\"bd8952b3-81b7-43c0-8bab-5d1e50c00fb0-text\">Initializing Chromedriver</div>\n",
              "            </div>\n",
              "            <style>\n",
              "                @keyframes spin {\n",
              "                    from { transform: rotate(0deg); }\n",
              "                    to { transform: rotate(360deg); }\n",
              "                }\n",
              "\n",
              "                .spinner-container {\n",
              "                    display: flex;\n",
              "                    align-items: center;\n",
              "                    margin-bottom: 3px;\n",
              "                }\n",
              "\n",
              "                .spinner {\n",
              "                    border: 3px solid rgba(0, 0, 0, 0.1);\n",
              "                    border-left-color: lightblue;\n",
              "                    border-radius: 50%;\n",
              "                    width: 12px;\n",
              "                    height: 12px;\n",
              "                    animation: spin 1s linear infinite;\n",
              "                }\n",
              "\n",
              "                .spinner-text {\n",
              "                    padding-left: 6px;\n",
              "                }\n",
              "            </style>\n",
              "        "
            ],
            "text/plain": [
              "<IPython.core.display.HTML object>"
            ]
          },
          "metadata": {},
          "output_type": "display_data"
        },
        {
          "data": {
            "application/javascript": "\n            const element = document.getElementById(\"bd8952b3-81b7-43c0-8bab-5d1e50c00fb0-circle\");\n            element.style.border = \"3px solid limegreen\";\n            element.style.animation = \"none\";\n\n            const text = document.getElementById(\"bd8952b3-81b7-43c0-8bab-5d1e50c00fb0-text\");\n            text.innerText = \"Initialized Chromedriver\";\n        ",
            "text/plain": [
              "<IPython.core.display.Javascript object>"
            ]
          },
          "metadata": {},
          "output_type": "display_data"
        },
        {
          "name": "stdout",
          "output_type": "stream",
          "text": [
            "[kommersant.ru] Загружаем https://www.kommersant.ru/doc/8101419\n",
            "[kommersant.ru] Мало текста из мета (8 слов), ищем в DOM...\n",
            "[kommersant.ru] Найдено 3473 блоков текста\n",
            "[kommersant.ru] Успешно: 70820 слов\n"
          ]
        },
        {
          "data": {
            "text/html": [
              "\n",
              "            <div class=\"spinner-container\">\n",
              "                <div class=\"spinner\" id=\"5eea25be-e304-4593-979b-2a0b9ffddce3-circle\"></div>\n",
              "                <div class=\"spinner-text\" id=\"5eea25be-e304-4593-979b-2a0b9ffddce3-text\">Initializing Chromedriver</div>\n",
              "            </div>\n",
              "            <style>\n",
              "                @keyframes spin {\n",
              "                    from { transform: rotate(0deg); }\n",
              "                    to { transform: rotate(360deg); }\n",
              "                }\n",
              "\n",
              "                .spinner-container {\n",
              "                    display: flex;\n",
              "                    align-items: center;\n",
              "                    margin-bottom: 3px;\n",
              "                }\n",
              "\n",
              "                .spinner {\n",
              "                    border: 3px solid rgba(0, 0, 0, 0.1);\n",
              "                    border-left-color: lightblue;\n",
              "                    border-radius: 50%;\n",
              "                    width: 12px;\n",
              "                    height: 12px;\n",
              "                    animation: spin 1s linear infinite;\n",
              "                }\n",
              "\n",
              "                .spinner-text {\n",
              "                    padding-left: 6px;\n",
              "                }\n",
              "            </style>\n",
              "        "
            ],
            "text/plain": [
              "<IPython.core.display.HTML object>"
            ]
          },
          "metadata": {},
          "output_type": "display_data"
        },
        {
          "name": "stdout",
          "output_type": "stream",
          "text": [
            "[kommersant.ru] Мало текста из мета (10 слов), ищем в DOM...\n",
            "[kommersant.ru] Найдено 17 блоков текста\n",
            "[kommersant.ru] Успешно: 724 слов\n"
          ]
        },
        {
          "data": {
            "text/html": [
              "\n",
              "            <div class=\"spinner-container\">\n",
              "                <div class=\"spinner\" id=\"c1c2fa5a-4747-4776-8db1-423a04e34c97-circle\"></div>\n",
              "                <div class=\"spinner-text\" id=\"c1c2fa5a-4747-4776-8db1-423a04e34c97-text\">Initializing Chromedriver</div>\n",
              "            </div>\n",
              "            <style>\n",
              "                @keyframes spin {\n",
              "                    from { transform: rotate(0deg); }\n",
              "                    to { transform: rotate(360deg); }\n",
              "                }\n",
              "\n",
              "                .spinner-container {\n",
              "                    display: flex;\n",
              "                    align-items: center;\n",
              "                    margin-bottom: 3px;\n",
              "                }\n",
              "\n",
              "                .spinner {\n",
              "                    border: 3px solid rgba(0, 0, 0, 0.1);\n",
              "                    border-left-color: lightblue;\n",
              "                    border-radius: 50%;\n",
              "                    width: 12px;\n",
              "                    height: 12px;\n",
              "                    animation: spin 1s linear infinite;\n",
              "                }\n",
              "\n",
              "                .spinner-text {\n",
              "                    padding-left: 6px;\n",
              "                }\n",
              "            </style>\n",
              "        "
            ],
            "text/plain": [
              "<IPython.core.display.HTML object>"
            ]
          },
          "metadata": {},
          "output_type": "display_data"
        },
        {
          "data": {
            "application/javascript": "\n            const element = document.getElementById(\"5eea25be-e304-4593-979b-2a0b9ffddce3-circle\");\n            element.style.border = \"3px solid limegreen\";\n            element.style.animation = \"none\";\n\n            const text = document.getElementById(\"5eea25be-e304-4593-979b-2a0b9ffddce3-text\");\n            text.innerText = \"Initialized Chromedriver\";\n        ",
            "text/plain": [
              "<IPython.core.display.Javascript object>"
            ]
          },
          "metadata": {},
          "output_type": "display_data"
        },
        {
          "name": "stdout",
          "output_type": "stream",
          "text": [
            "[kommersant.ru] Загружаем https://www.kommersant.ru/doc/8101430\n"
          ]
        },
        {
          "data": {
            "application/javascript": "\n            const element = document.getElementById(\"c1c2fa5a-4747-4776-8db1-423a04e34c97-circle\");\n            element.style.border = \"3px solid limegreen\";\n            element.style.animation = \"none\";\n\n            const text = document.getElementById(\"c1c2fa5a-4747-4776-8db1-423a04e34c97-text\");\n            text.innerText = \"Initialized Chromedriver\";\n        ",
            "text/plain": [
              "<IPython.core.display.Javascript object>"
            ]
          },
          "metadata": {},
          "output_type": "display_data"
        },
        {
          "name": "stdout",
          "output_type": "stream",
          "text": [
            "[kommersant.ru] Загружаем https://www.kommersant.ru/doc/8101430\n",
            "[kommersant.ru] Мало текста из мета (10 слов), ищем в DOM...\n",
            "[kommersant.ru] Найдено 17 блоков текста\n",
            "[kommersant.ru] Успешно: 724 слов\n"
          ]
        },
        {
          "data": {
            "text/html": [
              "\n",
              "            <div class=\"spinner-container\">\n",
              "                <div class=\"spinner\" id=\"f936ba67-0296-41f1-bf8e-e6c46cf626f9-circle\"></div>\n",
              "                <div class=\"spinner-text\" id=\"f936ba67-0296-41f1-bf8e-e6c46cf626f9-text\">Initializing Chromedriver</div>\n",
              "            </div>\n",
              "            <style>\n",
              "                @keyframes spin {\n",
              "                    from { transform: rotate(0deg); }\n",
              "                    to { transform: rotate(360deg); }\n",
              "                }\n",
              "\n",
              "                .spinner-container {\n",
              "                    display: flex;\n",
              "                    align-items: center;\n",
              "                    margin-bottom: 3px;\n",
              "                }\n",
              "\n",
              "                .spinner {\n",
              "                    border: 3px solid rgba(0, 0, 0, 0.1);\n",
              "                    border-left-color: lightblue;\n",
              "                    border-radius: 50%;\n",
              "                    width: 12px;\n",
              "                    height: 12px;\n",
              "                    animation: spin 1s linear infinite;\n",
              "                }\n",
              "\n",
              "                .spinner-text {\n",
              "                    padding-left: 6px;\n",
              "                }\n",
              "            </style>\n",
              "        "
            ],
            "text/plain": [
              "<IPython.core.display.HTML object>"
            ]
          },
          "metadata": {},
          "output_type": "display_data"
        },
        {
          "data": {
            "application/javascript": "\n            const element = document.getElementById(\"f936ba67-0296-41f1-bf8e-e6c46cf626f9-circle\");\n            element.style.border = \"3px solid limegreen\";\n            element.style.animation = \"none\";\n\n            const text = document.getElementById(\"f936ba67-0296-41f1-bf8e-e6c46cf626f9-text\");\n            text.innerText = \"Initialized Chromedriver\";\n        ",
            "text/plain": [
              "<IPython.core.display.Javascript object>"
            ]
          },
          "metadata": {},
          "output_type": "display_data"
        },
        {
          "name": "stdout",
          "output_type": "stream",
          "text": [
            "[kommersant.ru] Загружаем https://www.kommersant.ru/doc/8101430\n",
            "[kommersant.ru] Мало текста из мета (10 слов), ищем в DOM...\n",
            "[kommersant.ru] Найдено 16 блоков текста\n",
            "[kommersant.ru] Успешно: 718 слов\n"
          ]
        },
        {
          "data": {
            "text/html": [
              "\n",
              "            <div class=\"spinner-container\">\n",
              "                <div class=\"spinner\" id=\"4837a719-d559-49b2-9bea-4dc504849f02-circle\"></div>\n",
              "                <div class=\"spinner-text\" id=\"4837a719-d559-49b2-9bea-4dc504849f02-text\">Initializing Chromedriver</div>\n",
              "            </div>\n",
              "            <style>\n",
              "                @keyframes spin {\n",
              "                    from { transform: rotate(0deg); }\n",
              "                    to { transform: rotate(360deg); }\n",
              "                }\n",
              "\n",
              "                .spinner-container {\n",
              "                    display: flex;\n",
              "                    align-items: center;\n",
              "                    margin-bottom: 3px;\n",
              "                }\n",
              "\n",
              "                .spinner {\n",
              "                    border: 3px solid rgba(0, 0, 0, 0.1);\n",
              "                    border-left-color: lightblue;\n",
              "                    border-radius: 50%;\n",
              "                    width: 12px;\n",
              "                    height: 12px;\n",
              "                    animation: spin 1s linear infinite;\n",
              "                }\n",
              "\n",
              "                .spinner-text {\n",
              "                    padding-left: 6px;\n",
              "                }\n",
              "            </style>\n",
              "        "
            ],
            "text/plain": [
              "<IPython.core.display.HTML object>"
            ]
          },
          "metadata": {},
          "output_type": "display_data"
        },
        {
          "data": {
            "application/javascript": "\n            const element = document.getElementById(\"4837a719-d559-49b2-9bea-4dc504849f02-circle\");\n            element.style.border = \"3px solid limegreen\";\n            element.style.animation = \"none\";\n\n            const text = document.getElementById(\"4837a719-d559-49b2-9bea-4dc504849f02-text\");\n            text.innerText = \"Initialized Chromedriver\";\n        ",
            "text/plain": [
              "<IPython.core.display.Javascript object>"
            ]
          },
          "metadata": {},
          "output_type": "display_data"
        },
        {
          "name": "stdout",
          "output_type": "stream",
          "text": [
            "[kommersant.ru] Загружаем https://www.kommersant.ru/doc/8101421\n",
            "[kommersant.ru] Мало текста из мета (7 слов), ищем в DOM...\n",
            "[kommersant.ru] Найдено 18 блоков текста\n",
            "[kommersant.ru] Успешно: 864 слов\n"
          ]
        },
        {
          "data": {
            "text/html": [
              "\n",
              "            <div class=\"spinner-container\">\n",
              "                <div class=\"spinner\" id=\"25b1780b-ca7d-4391-854d-25eeec38693c-circle\"></div>\n",
              "                <div class=\"spinner-text\" id=\"25b1780b-ca7d-4391-854d-25eeec38693c-text\">Initializing Chromedriver</div>\n",
              "            </div>\n",
              "            <style>\n",
              "                @keyframes spin {\n",
              "                    from { transform: rotate(0deg); }\n",
              "                    to { transform: rotate(360deg); }\n",
              "                }\n",
              "\n",
              "                .spinner-container {\n",
              "                    display: flex;\n",
              "                    align-items: center;\n",
              "                    margin-bottom: 3px;\n",
              "                }\n",
              "\n",
              "                .spinner {\n",
              "                    border: 3px solid rgba(0, 0, 0, 0.1);\n",
              "                    border-left-color: lightblue;\n",
              "                    border-radius: 50%;\n",
              "                    width: 12px;\n",
              "                    height: 12px;\n",
              "                    animation: spin 1s linear infinite;\n",
              "                }\n",
              "\n",
              "                .spinner-text {\n",
              "                    padding-left: 6px;\n",
              "                }\n",
              "            </style>\n",
              "        "
            ],
            "text/plain": [
              "<IPython.core.display.HTML object>"
            ]
          },
          "metadata": {},
          "output_type": "display_data"
        },
        {
          "name": "stdout",
          "output_type": "stream",
          "text": [
            "[kommersant.ru] Мало текста из мета (7 слов), ищем в DOM...\n",
            "[kommersant.ru] Найдено 18 блоков текста\n",
            "[kommersant.ru] Успешно: 864 слов\n"
          ]
        },
        {
          "data": {
            "text/html": [
              "\n",
              "            <div class=\"spinner-container\">\n",
              "                <div class=\"spinner\" id=\"61ee3319-dad9-4d7f-b042-dbf538bb2d9b-circle\"></div>\n",
              "                <div class=\"spinner-text\" id=\"61ee3319-dad9-4d7f-b042-dbf538bb2d9b-text\">Initializing Chromedriver</div>\n",
              "            </div>\n",
              "            <style>\n",
              "                @keyframes spin {\n",
              "                    from { transform: rotate(0deg); }\n",
              "                    to { transform: rotate(360deg); }\n",
              "                }\n",
              "\n",
              "                .spinner-container {\n",
              "                    display: flex;\n",
              "                    align-items: center;\n",
              "                    margin-bottom: 3px;\n",
              "                }\n",
              "\n",
              "                .spinner {\n",
              "                    border: 3px solid rgba(0, 0, 0, 0.1);\n",
              "                    border-left-color: lightblue;\n",
              "                    border-radius: 50%;\n",
              "                    width: 12px;\n",
              "                    height: 12px;\n",
              "                    animation: spin 1s linear infinite;\n",
              "                }\n",
              "\n",
              "                .spinner-text {\n",
              "                    padding-left: 6px;\n",
              "                }\n",
              "            </style>\n",
              "        "
            ],
            "text/plain": [
              "<IPython.core.display.HTML object>"
            ]
          },
          "metadata": {},
          "output_type": "display_data"
        },
        {
          "data": {
            "application/javascript": "\n            const element = document.getElementById(\"25b1780b-ca7d-4391-854d-25eeec38693c-circle\");\n            element.style.border = \"3px solid limegreen\";\n            element.style.animation = \"none\";\n\n            const text = document.getElementById(\"25b1780b-ca7d-4391-854d-25eeec38693c-text\");\n            text.innerText = \"Initialized Chromedriver\";\n        ",
            "text/plain": [
              "<IPython.core.display.Javascript object>"
            ]
          },
          "metadata": {},
          "output_type": "display_data"
        },
        {
          "name": "stdout",
          "output_type": "stream",
          "text": [
            "[kommersant.ru] Загружаем https://www.kommersant.ru/doc/8101418\n"
          ]
        },
        {
          "data": {
            "application/javascript": "\n            const element = document.getElementById(\"61ee3319-dad9-4d7f-b042-dbf538bb2d9b-circle\");\n            element.style.border = \"3px solid limegreen\";\n            element.style.animation = \"none\";\n\n            const text = document.getElementById(\"61ee3319-dad9-4d7f-b042-dbf538bb2d9b-text\");\n            text.innerText = \"Initialized Chromedriver\";\n        ",
            "text/plain": [
              "<IPython.core.display.Javascript object>"
            ]
          },
          "metadata": {},
          "output_type": "display_data"
        },
        {
          "name": "stdout",
          "output_type": "stream",
          "text": [
            "[kommersant.ru] Загружаем https://www.kommersant.ru/doc/8101418\n",
            "[kommersant.ru] Мало текста из мета (3 слов), ищем в DOM...\n",
            "[kommersant.ru] Найдено 5 блоков текста\n",
            "[kommersant.ru] Успешно: 136 слов\n",
            "[kommersant.ru] Мало текста из мета (7 слов), ищем в DOM...\n"
          ]
        },
        {
          "data": {
            "text/html": [
              "\n",
              "            <div class=\"spinner-container\">\n",
              "                <div class=\"spinner\" id=\"26ad75fa-dd58-4793-975d-af7404fe9075-circle\"></div>\n",
              "                <div class=\"spinner-text\" id=\"26ad75fa-dd58-4793-975d-af7404fe9075-text\">Initializing Chromedriver</div>\n",
              "            </div>\n",
              "            <style>\n",
              "                @keyframes spin {\n",
              "                    from { transform: rotate(0deg); }\n",
              "                    to { transform: rotate(360deg); }\n",
              "                }\n",
              "\n",
              "                .spinner-container {\n",
              "                    display: flex;\n",
              "                    align-items: center;\n",
              "                    margin-bottom: 3px;\n",
              "                }\n",
              "\n",
              "                .spinner {\n",
              "                    border: 3px solid rgba(0, 0, 0, 0.1);\n",
              "                    border-left-color: lightblue;\n",
              "                    border-radius: 50%;\n",
              "                    width: 12px;\n",
              "                    height: 12px;\n",
              "                    animation: spin 1s linear infinite;\n",
              "                }\n",
              "\n",
              "                .spinner-text {\n",
              "                    padding-left: 6px;\n",
              "                }\n",
              "            </style>\n",
              "        "
            ],
            "text/plain": [
              "<IPython.core.display.HTML object>"
            ]
          },
          "metadata": {},
          "output_type": "display_data"
        },
        {
          "name": "stdout",
          "output_type": "stream",
          "text": [
            "[kommersant.ru] Найдено 19 блоков текста\n",
            "[kommersant.ru] Успешно: 870 слов\n"
          ]
        },
        {
          "data": {
            "application/javascript": "\n            const element = document.getElementById(\"26ad75fa-dd58-4793-975d-af7404fe9075-circle\");\n            element.style.border = \"3px solid limegreen\";\n            element.style.animation = \"none\";\n\n            const text = document.getElementById(\"26ad75fa-dd58-4793-975d-af7404fe9075-text\");\n            text.innerText = \"Initialized Chromedriver\";\n        ",
            "text/plain": [
              "<IPython.core.display.Javascript object>"
            ]
          },
          "metadata": {},
          "output_type": "display_data"
        },
        {
          "data": {
            "text/html": [
              "\n",
              "            <div class=\"spinner-container\">\n",
              "                <div class=\"spinner\" id=\"e622f120-84a7-4ce1-aa38-2f437b6ae928-circle\"></div>\n",
              "                <div class=\"spinner-text\" id=\"e622f120-84a7-4ce1-aa38-2f437b6ae928-text\">Initializing Chromedriver</div>\n",
              "            </div>\n",
              "            <style>\n",
              "                @keyframes spin {\n",
              "                    from { transform: rotate(0deg); }\n",
              "                    to { transform: rotate(360deg); }\n",
              "                }\n",
              "\n",
              "                .spinner-container {\n",
              "                    display: flex;\n",
              "                    align-items: center;\n",
              "                    margin-bottom: 3px;\n",
              "                }\n",
              "\n",
              "                .spinner {\n",
              "                    border: 3px solid rgba(0, 0, 0, 0.1);\n",
              "                    border-left-color: lightblue;\n",
              "                    border-radius: 50%;\n",
              "                    width: 12px;\n",
              "                    height: 12px;\n",
              "                    animation: spin 1s linear infinite;\n",
              "                }\n",
              "\n",
              "                .spinner-text {\n",
              "                    padding-left: 6px;\n",
              "                }\n",
              "            </style>\n",
              "        "
            ],
            "text/plain": [
              "<IPython.core.display.HTML object>"
            ]
          },
          "metadata": {},
          "output_type": "display_data"
        },
        {
          "name": "stdout",
          "output_type": "stream",
          "text": [
            "[kommersant.ru] Загружаем https://www.kommersant.ru/doc/8101416\n"
          ]
        },
        {
          "data": {
            "application/javascript": "\n            const element = document.getElementById(\"e622f120-84a7-4ce1-aa38-2f437b6ae928-circle\");\n            element.style.border = \"3px solid limegreen\";\n            element.style.animation = \"none\";\n\n            const text = document.getElementById(\"e622f120-84a7-4ce1-aa38-2f437b6ae928-text\");\n            text.innerText = \"Initialized Chromedriver\";\n        ",
            "text/plain": [
              "<IPython.core.display.Javascript object>"
            ]
          },
          "metadata": {},
          "output_type": "display_data"
        },
        {
          "name": "stdout",
          "output_type": "stream",
          "text": [
            "[kommersant.ru] Загружаем https://www.kommersant.ru/doc/8101353\n",
            "[kommersant.ru] Мало текста из мета (3 слов), ищем в DOM...\n",
            "[kommersant.ru] Найдено 11 блоков текста\n",
            "[kommersant.ru] Успешно: 290 слов\n"
          ]
        },
        {
          "data": {
            "text/html": [
              "\n",
              "            <div class=\"spinner-container\">\n",
              "                <div class=\"spinner\" id=\"bad6a036-53f1-4d65-af25-1fedb5a59420-circle\"></div>\n",
              "                <div class=\"spinner-text\" id=\"bad6a036-53f1-4d65-af25-1fedb5a59420-text\">Initializing Chromedriver</div>\n",
              "            </div>\n",
              "            <style>\n",
              "                @keyframes spin {\n",
              "                    from { transform: rotate(0deg); }\n",
              "                    to { transform: rotate(360deg); }\n",
              "                }\n",
              "\n",
              "                .spinner-container {\n",
              "                    display: flex;\n",
              "                    align-items: center;\n",
              "                    margin-bottom: 3px;\n",
              "                }\n",
              "\n",
              "                .spinner {\n",
              "                    border: 3px solid rgba(0, 0, 0, 0.1);\n",
              "                    border-left-color: lightblue;\n",
              "                    border-radius: 50%;\n",
              "                    width: 12px;\n",
              "                    height: 12px;\n",
              "                    animation: spin 1s linear infinite;\n",
              "                }\n",
              "\n",
              "                .spinner-text {\n",
              "                    padding-left: 6px;\n",
              "                }\n",
              "            </style>\n",
              "        "
            ],
            "text/plain": [
              "<IPython.core.display.HTML object>"
            ]
          },
          "metadata": {},
          "output_type": "display_data"
        },
        {
          "data": {
            "application/javascript": "\n            const element = document.getElementById(\"bad6a036-53f1-4d65-af25-1fedb5a59420-circle\");\n            element.style.border = \"3px solid limegreen\";\n            element.style.animation = \"none\";\n\n            const text = document.getElementById(\"bad6a036-53f1-4d65-af25-1fedb5a59420-text\");\n            text.innerText = \"Initialized Chromedriver\";\n        ",
            "text/plain": [
              "<IPython.core.display.Javascript object>"
            ]
          },
          "metadata": {},
          "output_type": "display_data"
        },
        {
          "name": "stdout",
          "output_type": "stream",
          "text": [
            "[kommersant.ru] Загружаем https://www.kommersant.ru/doc/8101353\n",
            "[kommersant.ru] Мало текста из мета (3 слов), ищем в DOM...\n",
            "[kommersant.ru] Найдено 11 блоков текста\n",
            "[kommersant.ru] Успешно: 290 слов\n"
          ]
        },
        {
          "data": {
            "text/html": [
              "\n",
              "            <div class=\"spinner-container\">\n",
              "                <div class=\"spinner\" id=\"e708cdae-ebc1-4c8e-a6cb-f63e59fe0d5f-circle\"></div>\n",
              "                <div class=\"spinner-text\" id=\"e708cdae-ebc1-4c8e-a6cb-f63e59fe0d5f-text\">Initializing Chromedriver</div>\n",
              "            </div>\n",
              "            <style>\n",
              "                @keyframes spin {\n",
              "                    from { transform: rotate(0deg); }\n",
              "                    to { transform: rotate(360deg); }\n",
              "                }\n",
              "\n",
              "                .spinner-container {\n",
              "                    display: flex;\n",
              "                    align-items: center;\n",
              "                    margin-bottom: 3px;\n",
              "                }\n",
              "\n",
              "                .spinner {\n",
              "                    border: 3px solid rgba(0, 0, 0, 0.1);\n",
              "                    border-left-color: lightblue;\n",
              "                    border-radius: 50%;\n",
              "                    width: 12px;\n",
              "                    height: 12px;\n",
              "                    animation: spin 1s linear infinite;\n",
              "                }\n",
              "\n",
              "                .spinner-text {\n",
              "                    padding-left: 6px;\n",
              "                }\n",
              "            </style>\n",
              "        "
            ],
            "text/plain": [
              "<IPython.core.display.HTML object>"
            ]
          },
          "metadata": {},
          "output_type": "display_data"
        },
        {
          "data": {
            "application/javascript": "\n            const element = document.getElementById(\"e708cdae-ebc1-4c8e-a6cb-f63e59fe0d5f-circle\");\n            element.style.border = \"3px solid limegreen\";\n            element.style.animation = \"none\";\n\n            const text = document.getElementById(\"e708cdae-ebc1-4c8e-a6cb-f63e59fe0d5f-text\");\n            text.innerText = \"Initialized Chromedriver\";\n        ",
            "text/plain": [
              "<IPython.core.display.Javascript object>"
            ]
          },
          "metadata": {},
          "output_type": "display_data"
        },
        {
          "name": "stdout",
          "output_type": "stream",
          "text": [
            "[kommersant.ru] Загружаем https://www.kommersant.ru/doc/8101353\n",
            "[kommersant.ru] Мало текста из мета (3 слов), ищем в DOM...\n",
            "[kommersant.ru] Найдено 6 блоков текста\n",
            "[kommersant.ru] Успешно: 149 слов\n"
          ]
        },
        {
          "data": {
            "text/html": [
              "\n",
              "            <div class=\"spinner-container\">\n",
              "                <div class=\"spinner\" id=\"f5d91498-403d-40c0-b87d-afc48d1b7539-circle\"></div>\n",
              "                <div class=\"spinner-text\" id=\"f5d91498-403d-40c0-b87d-afc48d1b7539-text\">Initializing Chromedriver</div>\n",
              "            </div>\n",
              "            <style>\n",
              "                @keyframes spin {\n",
              "                    from { transform: rotate(0deg); }\n",
              "                    to { transform: rotate(360deg); }\n",
              "                }\n",
              "\n",
              "                .spinner-container {\n",
              "                    display: flex;\n",
              "                    align-items: center;\n",
              "                    margin-bottom: 3px;\n",
              "                }\n",
              "\n",
              "                .spinner {\n",
              "                    border: 3px solid rgba(0, 0, 0, 0.1);\n",
              "                    border-left-color: lightblue;\n",
              "                    border-radius: 50%;\n",
              "                    width: 12px;\n",
              "                    height: 12px;\n",
              "                    animation: spin 1s linear infinite;\n",
              "                }\n",
              "\n",
              "                .spinner-text {\n",
              "                    padding-left: 6px;\n",
              "                }\n",
              "            </style>\n",
              "        "
            ],
            "text/plain": [
              "<IPython.core.display.HTML object>"
            ]
          },
          "metadata": {},
          "output_type": "display_data"
        },
        {
          "data": {
            "application/javascript": "\n            const element = document.getElementById(\"f5d91498-403d-40c0-b87d-afc48d1b7539-circle\");\n            element.style.border = \"3px solid limegreen\";\n            element.style.animation = \"none\";\n\n            const text = document.getElementById(\"f5d91498-403d-40c0-b87d-afc48d1b7539-text\");\n            text.innerText = \"Initialized Chromedriver\";\n        ",
            "text/plain": [
              "<IPython.core.display.Javascript object>"
            ]
          },
          "metadata": {},
          "output_type": "display_data"
        },
        {
          "name": "stdout",
          "output_type": "stream",
          "text": [
            "[kommersant.ru] Загружаем https://www.kommersant.ru/doc/8101412\n",
            "[kommersant.ru] Мало текста из мета (9 слов), ищем в DOM...\n",
            "[kommersant.ru] Найдено 14 блоков текста\n",
            "[kommersant.ru] Успешно: 425 слов\n"
          ]
        },
        {
          "data": {
            "text/html": [
              "\n",
              "            <div class=\"spinner-container\">\n",
              "                <div class=\"spinner\" id=\"25793bea-7c98-4cb6-a667-96a758f7fbda-circle\"></div>\n",
              "                <div class=\"spinner-text\" id=\"25793bea-7c98-4cb6-a667-96a758f7fbda-text\">Initializing Chromedriver</div>\n",
              "            </div>\n",
              "            <style>\n",
              "                @keyframes spin {\n",
              "                    from { transform: rotate(0deg); }\n",
              "                    to { transform: rotate(360deg); }\n",
              "                }\n",
              "\n",
              "                .spinner-container {\n",
              "                    display: flex;\n",
              "                    align-items: center;\n",
              "                    margin-bottom: 3px;\n",
              "                }\n",
              "\n",
              "                .spinner {\n",
              "                    border: 3px solid rgba(0, 0, 0, 0.1);\n",
              "                    border-left-color: lightblue;\n",
              "                    border-radius: 50%;\n",
              "                    width: 12px;\n",
              "                    height: 12px;\n",
              "                    animation: spin 1s linear infinite;\n",
              "                }\n",
              "\n",
              "                .spinner-text {\n",
              "                    padding-left: 6px;\n",
              "                }\n",
              "            </style>\n",
              "        "
            ],
            "text/plain": [
              "<IPython.core.display.HTML object>"
            ]
          },
          "metadata": {},
          "output_type": "display_data"
        },
        {
          "data": {
            "application/javascript": "\n            const element = document.getElementById(\"25793bea-7c98-4cb6-a667-96a758f7fbda-circle\");\n            element.style.border = \"3px solid limegreen\";\n            element.style.animation = \"none\";\n\n            const text = document.getElementById(\"25793bea-7c98-4cb6-a667-96a758f7fbda-text\");\n            text.innerText = \"Initialized Chromedriver\";\n        ",
            "text/plain": [
              "<IPython.core.display.Javascript object>"
            ]
          },
          "metadata": {},
          "output_type": "display_data"
        },
        {
          "name": "stdout",
          "output_type": "stream",
          "text": [
            "[kommersant.ru] Загружаем https://www.kommersant.ru/doc/8101404\n",
            "[kommersant.ru] Мало текста из мета (9 слов), ищем в DOM...\n",
            "[kommersant.ru] Найдено 14 блоков текста\n",
            "[kommersant.ru] Успешно: 425 слов\n"
          ]
        },
        {
          "data": {
            "text/html": [
              "\n",
              "            <div class=\"spinner-container\">\n",
              "                <div class=\"spinner\" id=\"bdf10833-1369-4aa5-97cc-6213a67ed0e5-circle\"></div>\n",
              "                <div class=\"spinner-text\" id=\"bdf10833-1369-4aa5-97cc-6213a67ed0e5-text\">Initializing Chromedriver</div>\n",
              "            </div>\n",
              "            <style>\n",
              "                @keyframes spin {\n",
              "                    from { transform: rotate(0deg); }\n",
              "                    to { transform: rotate(360deg); }\n",
              "                }\n",
              "\n",
              "                .spinner-container {\n",
              "                    display: flex;\n",
              "                    align-items: center;\n",
              "                    margin-bottom: 3px;\n",
              "                }\n",
              "\n",
              "                .spinner {\n",
              "                    border: 3px solid rgba(0, 0, 0, 0.1);\n",
              "                    border-left-color: lightblue;\n",
              "                    border-radius: 50%;\n",
              "                    width: 12px;\n",
              "                    height: 12px;\n",
              "                    animation: spin 1s linear infinite;\n",
              "                }\n",
              "\n",
              "                .spinner-text {\n",
              "                    padding-left: 6px;\n",
              "                }\n",
              "            </style>\n",
              "        "
            ],
            "text/plain": [
              "<IPython.core.display.HTML object>"
            ]
          },
          "metadata": {},
          "output_type": "display_data"
        },
        {
          "data": {
            "application/javascript": "\n            const element = document.getElementById(\"bdf10833-1369-4aa5-97cc-6213a67ed0e5-circle\");\n            element.style.border = \"3px solid limegreen\";\n            element.style.animation = \"none\";\n\n            const text = document.getElementById(\"bdf10833-1369-4aa5-97cc-6213a67ed0e5-text\");\n            text.innerText = \"Initialized Chromedriver\";\n        ",
            "text/plain": [
              "<IPython.core.display.Javascript object>"
            ]
          },
          "metadata": {},
          "output_type": "display_data"
        },
        {
          "name": "stdout",
          "output_type": "stream",
          "text": [
            "[kommersant.ru] Загружаем https://www.kommersant.ru/doc/8101404\n",
            "[kommersant.ru] Мало текста из мета (9 слов), ищем в DOM...\n",
            "[kommersant.ru] Мало текста из мета (3 слов), ищем в DOM...\n",
            "[kommersant.ru] Найдено 4 блоков текста\n",
            "[kommersant.ru] Успешно: 140 слов\n",
            "[kommersant.ru] Найдено 14 блоков текста\n",
            "[kommersant.ru] Успешно: 425 слов\n"
          ]
        },
        {
          "data": {
            "text/html": [
              "\n",
              "            <div class=\"spinner-container\">\n",
              "                <div class=\"spinner\" id=\"eee81354-75f2-4a06-9a32-8b6ab1607804-circle\"></div>\n",
              "                <div class=\"spinner-text\" id=\"eee81354-75f2-4a06-9a32-8b6ab1607804-text\">Initializing Chromedriver</div>\n",
              "            </div>\n",
              "            <style>\n",
              "                @keyframes spin {\n",
              "                    from { transform: rotate(0deg); }\n",
              "                    to { transform: rotate(360deg); }\n",
              "                }\n",
              "\n",
              "                .spinner-container {\n",
              "                    display: flex;\n",
              "                    align-items: center;\n",
              "                    margin-bottom: 3px;\n",
              "                }\n",
              "\n",
              "                .spinner {\n",
              "                    border: 3px solid rgba(0, 0, 0, 0.1);\n",
              "                    border-left-color: lightblue;\n",
              "                    border-radius: 50%;\n",
              "                    width: 12px;\n",
              "                    height: 12px;\n",
              "                    animation: spin 1s linear infinite;\n",
              "                }\n",
              "\n",
              "                .spinner-text {\n",
              "                    padding-left: 6px;\n",
              "                }\n",
              "            </style>\n",
              "        "
            ],
            "text/plain": [
              "<IPython.core.display.HTML object>"
            ]
          },
          "metadata": {},
          "output_type": "display_data"
        },
        {
          "data": {
            "text/html": [
              "\n",
              "            <div class=\"spinner-container\">\n",
              "                <div class=\"spinner\" id=\"2bb96cd3-5d3b-411f-80b3-6005d89c3436-circle\"></div>\n",
              "                <div class=\"spinner-text\" id=\"2bb96cd3-5d3b-411f-80b3-6005d89c3436-text\">Initializing Chromedriver</div>\n",
              "            </div>\n",
              "            <style>\n",
              "                @keyframes spin {\n",
              "                    from { transform: rotate(0deg); }\n",
              "                    to { transform: rotate(360deg); }\n",
              "                }\n",
              "\n",
              "                .spinner-container {\n",
              "                    display: flex;\n",
              "                    align-items: center;\n",
              "                    margin-bottom: 3px;\n",
              "                }\n",
              "\n",
              "                .spinner {\n",
              "                    border: 3px solid rgba(0, 0, 0, 0.1);\n",
              "                    border-left-color: lightblue;\n",
              "                    border-radius: 50%;\n",
              "                    width: 12px;\n",
              "                    height: 12px;\n",
              "                    animation: spin 1s linear infinite;\n",
              "                }\n",
              "\n",
              "                .spinner-text {\n",
              "                    padding-left: 6px;\n",
              "                }\n",
              "            </style>\n",
              "        "
            ],
            "text/plain": [
              "<IPython.core.display.HTML object>"
            ]
          },
          "metadata": {},
          "output_type": "display_data"
        },
        {
          "data": {
            "application/javascript": "\n            const element = document.getElementById(\"2bb96cd3-5d3b-411f-80b3-6005d89c3436-circle\");\n            element.style.border = \"3px solid limegreen\";\n            element.style.animation = \"none\";\n\n            const text = document.getElementById(\"2bb96cd3-5d3b-411f-80b3-6005d89c3436-text\");\n            text.innerText = \"Initialized Chromedriver\";\n        ",
            "text/plain": [
              "<IPython.core.display.Javascript object>"
            ]
          },
          "metadata": {},
          "output_type": "display_data"
        },
        {
          "data": {
            "application/javascript": "\n            const element = document.getElementById(\"eee81354-75f2-4a06-9a32-8b6ab1607804-circle\");\n            element.style.border = \"3px solid limegreen\";\n            element.style.animation = \"none\";\n\n            const text = document.getElementById(\"eee81354-75f2-4a06-9a32-8b6ab1607804-text\");\n            text.innerText = \"Initialized Chromedriver\";\n        ",
            "text/plain": [
              "<IPython.core.display.Javascript object>"
            ]
          },
          "metadata": {},
          "output_type": "display_data"
        },
        {
          "name": "stdout",
          "output_type": "stream",
          "text": [
            "[kommersant.ru] Загружаем https://www.kommersant.ru/doc/8101375\n",
            "[kommersant.ru] Загружаем https://www.kommersant.ru/doc/8101402\n",
            "[kommersant.ru] Мало текста из мета (3 слов), ищем в DOM...\n",
            "[kommersant.ru] Найдено 5 блоков текста\n",
            "[kommersant.ru] Успешно: 218 слов\n"
          ]
        },
        {
          "data": {
            "text/html": [
              "\n",
              "            <div class=\"spinner-container\">\n",
              "                <div class=\"spinner\" id=\"70160975-44c9-43bc-9e49-887b19035321-circle\"></div>\n",
              "                <div class=\"spinner-text\" id=\"70160975-44c9-43bc-9e49-887b19035321-text\">Initializing Chromedriver</div>\n",
              "            </div>\n",
              "            <style>\n",
              "                @keyframes spin {\n",
              "                    from { transform: rotate(0deg); }\n",
              "                    to { transform: rotate(360deg); }\n",
              "                }\n",
              "\n",
              "                .spinner-container {\n",
              "                    display: flex;\n",
              "                    align-items: center;\n",
              "                    margin-bottom: 3px;\n",
              "                }\n",
              "\n",
              "                .spinner {\n",
              "                    border: 3px solid rgba(0, 0, 0, 0.1);\n",
              "                    border-left-color: lightblue;\n",
              "                    border-radius: 50%;\n",
              "                    width: 12px;\n",
              "                    height: 12px;\n",
              "                    animation: spin 1s linear infinite;\n",
              "                }\n",
              "\n",
              "                .spinner-text {\n",
              "                    padding-left: 6px;\n",
              "                }\n",
              "            </style>\n",
              "        "
            ],
            "text/plain": [
              "<IPython.core.display.HTML object>"
            ]
          },
          "metadata": {},
          "output_type": "display_data"
        },
        {
          "data": {
            "application/javascript": "\n            const element = document.getElementById(\"70160975-44c9-43bc-9e49-887b19035321-circle\");\n            element.style.border = \"3px solid limegreen\";\n            element.style.animation = \"none\";\n\n            const text = document.getElementById(\"70160975-44c9-43bc-9e49-887b19035321-text\");\n            text.innerText = \"Initialized Chromedriver\";\n        ",
            "text/plain": [
              "<IPython.core.display.Javascript object>"
            ]
          },
          "metadata": {},
          "output_type": "display_data"
        },
        {
          "name": "stdout",
          "output_type": "stream",
          "text": [
            "[kommersant.ru] Загружаем https://www.kommersant.ru/doc/8101375\n",
            "[kommersant.ru] Мало текста из мета (3 слов), ищем в DOM...\n",
            "[kommersant.ru] Найдено 6 блоков текста\n",
            "[kommersant.ru] Успешно: 224 слов\n"
          ]
        },
        {
          "data": {
            "text/html": [
              "\n",
              "            <div class=\"spinner-container\">\n",
              "                <div class=\"spinner\" id=\"8780c06d-ab3e-4268-98fd-070b0a3c8f82-circle\"></div>\n",
              "                <div class=\"spinner-text\" id=\"8780c06d-ab3e-4268-98fd-070b0a3c8f82-text\">Initializing Chromedriver</div>\n",
              "            </div>\n",
              "            <style>\n",
              "                @keyframes spin {\n",
              "                    from { transform: rotate(0deg); }\n",
              "                    to { transform: rotate(360deg); }\n",
              "                }\n",
              "\n",
              "                .spinner-container {\n",
              "                    display: flex;\n",
              "                    align-items: center;\n",
              "                    margin-bottom: 3px;\n",
              "                }\n",
              "\n",
              "                .spinner {\n",
              "                    border: 3px solid rgba(0, 0, 0, 0.1);\n",
              "                    border-left-color: lightblue;\n",
              "                    border-radius: 50%;\n",
              "                    width: 12px;\n",
              "                    height: 12px;\n",
              "                    animation: spin 1s linear infinite;\n",
              "                }\n",
              "\n",
              "                .spinner-text {\n",
              "                    padding-left: 6px;\n",
              "                }\n",
              "            </style>\n",
              "        "
            ],
            "text/plain": [
              "<IPython.core.display.HTML object>"
            ]
          },
          "metadata": {},
          "output_type": "display_data"
        },
        {
          "data": {
            "application/javascript": "\n            const element = document.getElementById(\"8780c06d-ab3e-4268-98fd-070b0a3c8f82-circle\");\n            element.style.border = \"3px solid limegreen\";\n            element.style.animation = \"none\";\n\n            const text = document.getElementById(\"8780c06d-ab3e-4268-98fd-070b0a3c8f82-text\");\n            text.innerText = \"Initialized Chromedriver\";\n        ",
            "text/plain": [
              "<IPython.core.display.Javascript object>"
            ]
          },
          "metadata": {},
          "output_type": "display_data"
        },
        {
          "name": "stdout",
          "output_type": "stream",
          "text": [
            "[kommersant.ru] Загружаем https://www.kommersant.ru/doc/8101375\n",
            "[kommersant.ru] Мало текста из мета (3 слов), ищем в DOM...\n",
            "[kommersant.ru] Найдено 6 блоков текста\n",
            "[kommersant.ru] Успешно: 115 слов\n"
          ]
        },
        {
          "data": {
            "text/html": [
              "\n",
              "            <div class=\"spinner-container\">\n",
              "                <div class=\"spinner\" id=\"92009214-a998-4893-b008-d90fac319de8-circle\"></div>\n",
              "                <div class=\"spinner-text\" id=\"92009214-a998-4893-b008-d90fac319de8-text\">Initializing Chromedriver</div>\n",
              "            </div>\n",
              "            <style>\n",
              "                @keyframes spin {\n",
              "                    from { transform: rotate(0deg); }\n",
              "                    to { transform: rotate(360deg); }\n",
              "                }\n",
              "\n",
              "                .spinner-container {\n",
              "                    display: flex;\n",
              "                    align-items: center;\n",
              "                    margin-bottom: 3px;\n",
              "                }\n",
              "\n",
              "                .spinner {\n",
              "                    border: 3px solid rgba(0, 0, 0, 0.1);\n",
              "                    border-left-color: lightblue;\n",
              "                    border-radius: 50%;\n",
              "                    width: 12px;\n",
              "                    height: 12px;\n",
              "                    animation: spin 1s linear infinite;\n",
              "                }\n",
              "\n",
              "                .spinner-text {\n",
              "                    padding-left: 6px;\n",
              "                }\n",
              "            </style>\n",
              "        "
            ],
            "text/plain": [
              "<IPython.core.display.HTML object>"
            ]
          },
          "metadata": {},
          "output_type": "display_data"
        },
        {
          "data": {
            "application/javascript": "\n            const element = document.getElementById(\"92009214-a998-4893-b008-d90fac319de8-circle\");\n            element.style.border = \"3px solid limegreen\";\n            element.style.animation = \"none\";\n\n            const text = document.getElementById(\"92009214-a998-4893-b008-d90fac319de8-text\");\n            text.innerText = \"Initialized Chromedriver\";\n        ",
            "text/plain": [
              "<IPython.core.display.Javascript object>"
            ]
          },
          "metadata": {},
          "output_type": "display_data"
        },
        {
          "name": "stdout",
          "output_type": "stream",
          "text": [
            "[kommersant.ru] Загружаем https://www.kommersant.ru/doc/8101405\n",
            "[kommersant.ru] Мало текста из мета (8 слов), ищем в DOM...\n",
            "[kommersant.ru] Найдено 17 блоков текста\n",
            "[kommersant.ru] Успешно: 715 слов\n"
          ]
        },
        {
          "data": {
            "text/html": [
              "\n",
              "            <div class=\"spinner-container\">\n",
              "                <div class=\"spinner\" id=\"ca10a16c-b128-4585-aebe-1a7ea6a1f3b3-circle\"></div>\n",
              "                <div class=\"spinner-text\" id=\"ca10a16c-b128-4585-aebe-1a7ea6a1f3b3-text\">Initializing Chromedriver</div>\n",
              "            </div>\n",
              "            <style>\n",
              "                @keyframes spin {\n",
              "                    from { transform: rotate(0deg); }\n",
              "                    to { transform: rotate(360deg); }\n",
              "                }\n",
              "\n",
              "                .spinner-container {\n",
              "                    display: flex;\n",
              "                    align-items: center;\n",
              "                    margin-bottom: 3px;\n",
              "                }\n",
              "\n",
              "                .spinner {\n",
              "                    border: 3px solid rgba(0, 0, 0, 0.1);\n",
              "                    border-left-color: lightblue;\n",
              "                    border-radius: 50%;\n",
              "                    width: 12px;\n",
              "                    height: 12px;\n",
              "                    animation: spin 1s linear infinite;\n",
              "                }\n",
              "\n",
              "                .spinner-text {\n",
              "                    padding-left: 6px;\n",
              "                }\n",
              "            </style>\n",
              "        "
            ],
            "text/plain": [
              "<IPython.core.display.HTML object>"
            ]
          },
          "metadata": {},
          "output_type": "display_data"
        },
        {
          "data": {
            "application/javascript": "\n            const element = document.getElementById(\"ca10a16c-b128-4585-aebe-1a7ea6a1f3b3-circle\");\n            element.style.border = \"3px solid limegreen\";\n            element.style.animation = \"none\";\n\n            const text = document.getElementById(\"ca10a16c-b128-4585-aebe-1a7ea6a1f3b3-text\");\n            text.innerText = \"Initialized Chromedriver\";\n        ",
            "text/plain": [
              "<IPython.core.display.Javascript object>"
            ]
          },
          "metadata": {},
          "output_type": "display_data"
        },
        {
          "name": "stdout",
          "output_type": "stream",
          "text": [
            "[kommersant.ru] Загружаем https://www.kommersant.ru/doc/8101401\n",
            "[kommersant.ru] Мало текста из мета (8 слов), ищем в DOM...\n",
            "[kommersant.ru] Найдено 17 блоков текста\n",
            "[kommersant.ru] Успешно: 715 слов\n"
          ]
        },
        {
          "data": {
            "text/html": [
              "\n",
              "            <div class=\"spinner-container\">\n",
              "                <div class=\"spinner\" id=\"cd496f4c-737c-4167-b372-ef3341ad5977-circle\"></div>\n",
              "                <div class=\"spinner-text\" id=\"cd496f4c-737c-4167-b372-ef3341ad5977-text\">Initializing Chromedriver</div>\n",
              "            </div>\n",
              "            <style>\n",
              "                @keyframes spin {\n",
              "                    from { transform: rotate(0deg); }\n",
              "                    to { transform: rotate(360deg); }\n",
              "                }\n",
              "\n",
              "                .spinner-container {\n",
              "                    display: flex;\n",
              "                    align-items: center;\n",
              "                    margin-bottom: 3px;\n",
              "                }\n",
              "\n",
              "                .spinner {\n",
              "                    border: 3px solid rgba(0, 0, 0, 0.1);\n",
              "                    border-left-color: lightblue;\n",
              "                    border-radius: 50%;\n",
              "                    width: 12px;\n",
              "                    height: 12px;\n",
              "                    animation: spin 1s linear infinite;\n",
              "                }\n",
              "\n",
              "                .spinner-text {\n",
              "                    padding-left: 6px;\n",
              "                }\n",
              "            </style>\n",
              "        "
            ],
            "text/plain": [
              "<IPython.core.display.HTML object>"
            ]
          },
          "metadata": {},
          "output_type": "display_data"
        },
        {
          "data": {
            "application/javascript": "\n            const element = document.getElementById(\"cd496f4c-737c-4167-b372-ef3341ad5977-circle\");\n            element.style.border = \"3px solid limegreen\";\n            element.style.animation = \"none\";\n\n            const text = document.getElementById(\"cd496f4c-737c-4167-b372-ef3341ad5977-text\");\n            text.innerText = \"Initialized Chromedriver\";\n        ",
            "text/plain": [
              "<IPython.core.display.Javascript object>"
            ]
          },
          "metadata": {},
          "output_type": "display_data"
        },
        {
          "name": "stdout",
          "output_type": "stream",
          "text": [
            "[kommersant.ru] Загружаем https://www.kommersant.ru/doc/8101398\n",
            "[kommersant.ru] Мало текста из мета (8 слов), ищем в DOM...\n",
            "[kommersant.ru] Найдено 17 блоков текста\n",
            "[kommersant.ru] Успешно: 715 слов\n"
          ]
        },
        {
          "data": {
            "text/html": [
              "\n",
              "            <div class=\"spinner-container\">\n",
              "                <div class=\"spinner\" id=\"4d6ae3e0-affa-47ae-87e6-b1448ba39ce9-circle\"></div>\n",
              "                <div class=\"spinner-text\" id=\"4d6ae3e0-affa-47ae-87e6-b1448ba39ce9-text\">Initializing Chromedriver</div>\n",
              "            </div>\n",
              "            <style>\n",
              "                @keyframes spin {\n",
              "                    from { transform: rotate(0deg); }\n",
              "                    to { transform: rotate(360deg); }\n",
              "                }\n",
              "\n",
              "                .spinner-container {\n",
              "                    display: flex;\n",
              "                    align-items: center;\n",
              "                    margin-bottom: 3px;\n",
              "                }\n",
              "\n",
              "                .spinner {\n",
              "                    border: 3px solid rgba(0, 0, 0, 0.1);\n",
              "                    border-left-color: lightblue;\n",
              "                    border-radius: 50%;\n",
              "                    width: 12px;\n",
              "                    height: 12px;\n",
              "                    animation: spin 1s linear infinite;\n",
              "                }\n",
              "\n",
              "                .spinner-text {\n",
              "                    padding-left: 6px;\n",
              "                }\n",
              "            </style>\n",
              "        "
            ],
            "text/plain": [
              "<IPython.core.display.HTML object>"
            ]
          },
          "metadata": {},
          "output_type": "display_data"
        },
        {
          "data": {
            "application/javascript": "\n            const element = document.getElementById(\"4d6ae3e0-affa-47ae-87e6-b1448ba39ce9-circle\");\n            element.style.border = \"3px solid limegreen\";\n            element.style.animation = \"none\";\n\n            const text = document.getElementById(\"4d6ae3e0-affa-47ae-87e6-b1448ba39ce9-text\");\n            text.innerText = \"Initialized Chromedriver\";\n        ",
            "text/plain": [
              "<IPython.core.display.Javascript object>"
            ]
          },
          "metadata": {},
          "output_type": "display_data"
        },
        {
          "name": "stdout",
          "output_type": "stream",
          "text": [
            "[kommersant.ru] Загружаем https://www.kommersant.ru/doc/8101399\n",
            "[kommersant.ru] Мало текста из мета (3 слов), ищем в DOM...\n",
            "[kommersant.ru] Найдено 6 блоков текста\n",
            "[kommersant.ru] Успешно: 130 слов\n"
          ]
        },
        {
          "data": {
            "text/html": [
              "\n",
              "            <div class=\"spinner-container\">\n",
              "                <div class=\"spinner\" id=\"7f01e7d8-ec2e-4b59-92c9-a0d31eb10b5b-circle\"></div>\n",
              "                <div class=\"spinner-text\" id=\"7f01e7d8-ec2e-4b59-92c9-a0d31eb10b5b-text\">Initializing Chromedriver</div>\n",
              "            </div>\n",
              "            <style>\n",
              "                @keyframes spin {\n",
              "                    from { transform: rotate(0deg); }\n",
              "                    to { transform: rotate(360deg); }\n",
              "                }\n",
              "\n",
              "                .spinner-container {\n",
              "                    display: flex;\n",
              "                    align-items: center;\n",
              "                    margin-bottom: 3px;\n",
              "                }\n",
              "\n",
              "                .spinner {\n",
              "                    border: 3px solid rgba(0, 0, 0, 0.1);\n",
              "                    border-left-color: lightblue;\n",
              "                    border-radius: 50%;\n",
              "                    width: 12px;\n",
              "                    height: 12px;\n",
              "                    animation: spin 1s linear infinite;\n",
              "                }\n",
              "\n",
              "                .spinner-text {\n",
              "                    padding-left: 6px;\n",
              "                }\n",
              "            </style>\n",
              "        "
            ],
            "text/plain": [
              "<IPython.core.display.HTML object>"
            ]
          },
          "metadata": {},
          "output_type": "display_data"
        },
        {
          "data": {
            "application/javascript": "\n            const element = document.getElementById(\"7f01e7d8-ec2e-4b59-92c9-a0d31eb10b5b-circle\");\n            element.style.border = \"3px solid limegreen\";\n            element.style.animation = \"none\";\n\n            const text = document.getElementById(\"7f01e7d8-ec2e-4b59-92c9-a0d31eb10b5b-text\");\n            text.innerText = \"Initialized Chromedriver\";\n        ",
            "text/plain": [
              "<IPython.core.display.Javascript object>"
            ]
          },
          "metadata": {},
          "output_type": "display_data"
        },
        {
          "name": "stdout",
          "output_type": "stream",
          "text": [
            "[kommersant.ru] Загружаем https://www.kommersant.ru/doc/8101185\n",
            "[kommersant.ru] Мало текста из мета (3 слов), ищем в DOM...\n",
            "[kommersant.ru] Найдено 5 блоков текста\n",
            "[kommersant.ru] Успешно: 137 слов\n"
          ]
        },
        {
          "data": {
            "text/html": [
              "\n",
              "            <div class=\"spinner-container\">\n",
              "                <div class=\"spinner\" id=\"a82459d7-91ee-4d5f-b7e8-446340df6129-circle\"></div>\n",
              "                <div class=\"spinner-text\" id=\"a82459d7-91ee-4d5f-b7e8-446340df6129-text\">Initializing Chromedriver</div>\n",
              "            </div>\n",
              "            <style>\n",
              "                @keyframes spin {\n",
              "                    from { transform: rotate(0deg); }\n",
              "                    to { transform: rotate(360deg); }\n",
              "                }\n",
              "\n",
              "                .spinner-container {\n",
              "                    display: flex;\n",
              "                    align-items: center;\n",
              "                    margin-bottom: 3px;\n",
              "                }\n",
              "\n",
              "                .spinner {\n",
              "                    border: 3px solid rgba(0, 0, 0, 0.1);\n",
              "                    border-left-color: lightblue;\n",
              "                    border-radius: 50%;\n",
              "                    width: 12px;\n",
              "                    height: 12px;\n",
              "                    animation: spin 1s linear infinite;\n",
              "                }\n",
              "\n",
              "                .spinner-text {\n",
              "                    padding-left: 6px;\n",
              "                }\n",
              "            </style>\n",
              "        "
            ],
            "text/plain": [
              "<IPython.core.display.HTML object>"
            ]
          },
          "metadata": {},
          "output_type": "display_data"
        },
        {
          "data": {
            "application/javascript": "\n            const element = document.getElementById(\"a82459d7-91ee-4d5f-b7e8-446340df6129-circle\");\n            element.style.border = \"3px solid limegreen\";\n            element.style.animation = \"none\";\n\n            const text = document.getElementById(\"a82459d7-91ee-4d5f-b7e8-446340df6129-text\");\n            text.innerText = \"Initialized Chromedriver\";\n        ",
            "text/plain": [
              "<IPython.core.display.Javascript object>"
            ]
          },
          "metadata": {},
          "output_type": "display_data"
        },
        {
          "name": "stdout",
          "output_type": "stream",
          "text": [
            "[kommersant.ru] Мало текста из мета (3 слов), ищем в DOM...\n",
            "[kommersant.ru] Найдено 3 блоков текста\n",
            "[kommersant.ru] Успешно: 159 слов\n",
            "[kommersant.ru] Загружаем https://www.kommersant.ru/doc/8101185\n"
          ]
        },
        {
          "data": {
            "text/html": [
              "\n",
              "            <div class=\"spinner-container\">\n",
              "                <div class=\"spinner\" id=\"913eebb8-b440-48ca-b9a6-9fba71d800b8-circle\"></div>\n",
              "                <div class=\"spinner-text\" id=\"913eebb8-b440-48ca-b9a6-9fba71d800b8-text\">Initializing Chromedriver</div>\n",
              "            </div>\n",
              "            <style>\n",
              "                @keyframes spin {\n",
              "                    from { transform: rotate(0deg); }\n",
              "                    to { transform: rotate(360deg); }\n",
              "                }\n",
              "\n",
              "                .spinner-container {\n",
              "                    display: flex;\n",
              "                    align-items: center;\n",
              "                    margin-bottom: 3px;\n",
              "                }\n",
              "\n",
              "                .spinner {\n",
              "                    border: 3px solid rgba(0, 0, 0, 0.1);\n",
              "                    border-left-color: lightblue;\n",
              "                    border-radius: 50%;\n",
              "                    width: 12px;\n",
              "                    height: 12px;\n",
              "                    animation: spin 1s linear infinite;\n",
              "                }\n",
              "\n",
              "                .spinner-text {\n",
              "                    padding-left: 6px;\n",
              "                }\n",
              "            </style>\n",
              "        "
            ],
            "text/plain": [
              "<IPython.core.display.HTML object>"
            ]
          },
          "metadata": {},
          "output_type": "display_data"
        },
        {
          "data": {
            "application/javascript": "\n            const element = document.getElementById(\"913eebb8-b440-48ca-b9a6-9fba71d800b8-circle\");\n            element.style.border = \"3px solid limegreen\";\n            element.style.animation = \"none\";\n\n            const text = document.getElementById(\"913eebb8-b440-48ca-b9a6-9fba71d800b8-text\");\n            text.innerText = \"Initialized Chromedriver\";\n        ",
            "text/plain": [
              "<IPython.core.display.Javascript object>"
            ]
          },
          "metadata": {},
          "output_type": "display_data"
        },
        {
          "name": "stdout",
          "output_type": "stream",
          "text": [
            "[kommersant.ru] Загружаем https://www.kommersant.ru/doc/8101256\n",
            "[kommersant.ru] Мало текста из мета (3 слов), ищем в DOM...\n",
            "[kommersant.ru] Найдено 7 блоков текста\n",
            "[kommersant.ru] Успешно: 199 слов\n"
          ]
        },
        {
          "data": {
            "text/html": [
              "\n",
              "            <div class=\"spinner-container\">\n",
              "                <div class=\"spinner\" id=\"9db91caa-0025-4450-ba61-f9478c8fa5f0-circle\"></div>\n",
              "                <div class=\"spinner-text\" id=\"9db91caa-0025-4450-ba61-f9478c8fa5f0-text\">Initializing Chromedriver</div>\n",
              "            </div>\n",
              "            <style>\n",
              "                @keyframes spin {\n",
              "                    from { transform: rotate(0deg); }\n",
              "                    to { transform: rotate(360deg); }\n",
              "                }\n",
              "\n",
              "                .spinner-container {\n",
              "                    display: flex;\n",
              "                    align-items: center;\n",
              "                    margin-bottom: 3px;\n",
              "                }\n",
              "\n",
              "                .spinner {\n",
              "                    border: 3px solid rgba(0, 0, 0, 0.1);\n",
              "                    border-left-color: lightblue;\n",
              "                    border-radius: 50%;\n",
              "                    width: 12px;\n",
              "                    height: 12px;\n",
              "                    animation: spin 1s linear infinite;\n",
              "                }\n",
              "\n",
              "                .spinner-text {\n",
              "                    padding-left: 6px;\n",
              "                }\n",
              "            </style>\n",
              "        "
            ],
            "text/plain": [
              "<IPython.core.display.HTML object>"
            ]
          },
          "metadata": {},
          "output_type": "display_data"
        },
        {
          "data": {
            "application/javascript": "\n            const element = document.getElementById(\"9db91caa-0025-4450-ba61-f9478c8fa5f0-circle\");\n            element.style.border = \"3px solid limegreen\";\n            element.style.animation = \"none\";\n\n            const text = document.getElementById(\"9db91caa-0025-4450-ba61-f9478c8fa5f0-text\");\n            text.innerText = \"Initialized Chromedriver\";\n        ",
            "text/plain": [
              "<IPython.core.display.Javascript object>"
            ]
          },
          "metadata": {},
          "output_type": "display_data"
        },
        {
          "name": "stdout",
          "output_type": "stream",
          "text": [
            "[kommersant.ru] Загружаем https://www.kommersant.ru/doc/8101256\n",
            "[kommersant.ru] Мало текста из мета (3 слов), ищем в DOM...\n",
            "[kommersant.ru] Найдено 7 блоков текста\n",
            "[kommersant.ru] Успешно: 185 слов\n"
          ]
        },
        {
          "data": {
            "text/html": [
              "\n",
              "            <div class=\"spinner-container\">\n",
              "                <div class=\"spinner\" id=\"8f0f90db-751e-4d16-9574-a153e48924ae-circle\"></div>\n",
              "                <div class=\"spinner-text\" id=\"8f0f90db-751e-4d16-9574-a153e48924ae-text\">Initializing Chromedriver</div>\n",
              "            </div>\n",
              "            <style>\n",
              "                @keyframes spin {\n",
              "                    from { transform: rotate(0deg); }\n",
              "                    to { transform: rotate(360deg); }\n",
              "                }\n",
              "\n",
              "                .spinner-container {\n",
              "                    display: flex;\n",
              "                    align-items: center;\n",
              "                    margin-bottom: 3px;\n",
              "                }\n",
              "\n",
              "                .spinner {\n",
              "                    border: 3px solid rgba(0, 0, 0, 0.1);\n",
              "                    border-left-color: lightblue;\n",
              "                    border-radius: 50%;\n",
              "                    width: 12px;\n",
              "                    height: 12px;\n",
              "                    animation: spin 1s linear infinite;\n",
              "                }\n",
              "\n",
              "                .spinner-text {\n",
              "                    padding-left: 6px;\n",
              "                }\n",
              "            </style>\n",
              "        "
            ],
            "text/plain": [
              "<IPython.core.display.HTML object>"
            ]
          },
          "metadata": {},
          "output_type": "display_data"
        },
        {
          "data": {
            "application/javascript": "\n            const element = document.getElementById(\"8f0f90db-751e-4d16-9574-a153e48924ae-circle\");\n            element.style.border = \"3px solid limegreen\";\n            element.style.animation = \"none\";\n\n            const text = document.getElementById(\"8f0f90db-751e-4d16-9574-a153e48924ae-text\");\n            text.innerText = \"Initialized Chromedriver\";\n        ",
            "text/plain": [
              "<IPython.core.display.Javascript object>"
            ]
          },
          "metadata": {},
          "output_type": "display_data"
        },
        {
          "name": "stdout",
          "output_type": "stream",
          "text": [
            "[kommersant.ru] Мало текста из мета (3 слов), ищем в DOM...\n",
            "[kommersant.ru] Найдено 7 блоков текста\n",
            "[kommersant.ru] Успешно: 185 слов\n"
          ]
        },
        {
          "data": {
            "text/html": [
              "\n",
              "            <div class=\"spinner-container\">\n",
              "                <div class=\"spinner\" id=\"b2ef512d-3ba5-4d13-92d8-d451d5db3fc4-circle\"></div>\n",
              "                <div class=\"spinner-text\" id=\"b2ef512d-3ba5-4d13-92d8-d451d5db3fc4-text\">Initializing Chromedriver</div>\n",
              "            </div>\n",
              "            <style>\n",
              "                @keyframes spin {\n",
              "                    from { transform: rotate(0deg); }\n",
              "                    to { transform: rotate(360deg); }\n",
              "                }\n",
              "\n",
              "                .spinner-container {\n",
              "                    display: flex;\n",
              "                    align-items: center;\n",
              "                    margin-bottom: 3px;\n",
              "                }\n",
              "\n",
              "                .spinner {\n",
              "                    border: 3px solid rgba(0, 0, 0, 0.1);\n",
              "                    border-left-color: lightblue;\n",
              "                    border-radius: 50%;\n",
              "                    width: 12px;\n",
              "                    height: 12px;\n",
              "                    animation: spin 1s linear infinite;\n",
              "                }\n",
              "\n",
              "                .spinner-text {\n",
              "                    padding-left: 6px;\n",
              "                }\n",
              "            </style>\n",
              "        "
            ],
            "text/plain": [
              "<IPython.core.display.HTML object>"
            ]
          },
          "metadata": {},
          "output_type": "display_data"
        },
        {
          "name": "stdout",
          "output_type": "stream",
          "text": [
            "[kommersant.ru] Загружаем https://www.kommersant.ru/doc/8101171\n"
          ]
        },
        {
          "data": {
            "application/javascript": "\n            const element = document.getElementById(\"b2ef512d-3ba5-4d13-92d8-d451d5db3fc4-circle\");\n            element.style.border = \"3px solid limegreen\";\n            element.style.animation = \"none\";\n\n            const text = document.getElementById(\"b2ef512d-3ba5-4d13-92d8-d451d5db3fc4-text\");\n            text.innerText = \"Initialized Chromedriver\";\n        ",
            "text/plain": [
              "<IPython.core.display.Javascript object>"
            ]
          },
          "metadata": {},
          "output_type": "display_data"
        },
        {
          "name": "stdout",
          "output_type": "stream",
          "text": [
            "[kommersant.ru] Загружаем https://www.kommersant.ru/doc/8101171\n",
            "[kommersant.ru] Мало текста из мета (3 слов), ищем в DOM...\n",
            "[kommersant.ru] Найдено 11 блоков текста\n",
            "[kommersant.ru] Успешно: 412 слов\n"
          ]
        },
        {
          "data": {
            "text/html": [
              "\n",
              "            <div class=\"spinner-container\">\n",
              "                <div class=\"spinner\" id=\"2c187e15-5bc3-4984-94db-3f1c1310ff91-circle\"></div>\n",
              "                <div class=\"spinner-text\" id=\"2c187e15-5bc3-4984-94db-3f1c1310ff91-text\">Initializing Chromedriver</div>\n",
              "            </div>\n",
              "            <style>\n",
              "                @keyframes spin {\n",
              "                    from { transform: rotate(0deg); }\n",
              "                    to { transform: rotate(360deg); }\n",
              "                }\n",
              "\n",
              "                .spinner-container {\n",
              "                    display: flex;\n",
              "                    align-items: center;\n",
              "                    margin-bottom: 3px;\n",
              "                }\n",
              "\n",
              "                .spinner {\n",
              "                    border: 3px solid rgba(0, 0, 0, 0.1);\n",
              "                    border-left-color: lightblue;\n",
              "                    border-radius: 50%;\n",
              "                    width: 12px;\n",
              "                    height: 12px;\n",
              "                    animation: spin 1s linear infinite;\n",
              "                }\n",
              "\n",
              "                .spinner-text {\n",
              "                    padding-left: 6px;\n",
              "                }\n",
              "            </style>\n",
              "        "
            ],
            "text/plain": [
              "<IPython.core.display.HTML object>"
            ]
          },
          "metadata": {},
          "output_type": "display_data"
        },
        {
          "data": {
            "application/javascript": "\n            const element = document.getElementById(\"2c187e15-5bc3-4984-94db-3f1c1310ff91-circle\");\n            element.style.border = \"3px solid limegreen\";\n            element.style.animation = \"none\";\n\n            const text = document.getElementById(\"2c187e15-5bc3-4984-94db-3f1c1310ff91-text\");\n            text.innerText = \"Initialized Chromedriver\";\n        ",
            "text/plain": [
              "<IPython.core.display.Javascript object>"
            ]
          },
          "metadata": {},
          "output_type": "display_data"
        },
        {
          "name": "stdout",
          "output_type": "stream",
          "text": [
            "[kommersant.ru] Загружаем https://www.kommersant.ru/doc/8101164\n",
            "[kommersant.ru] Мало текста из мета (3 слов), ищем в DOM...\n",
            "[kommersant.ru] Найдено 11 блоков текста\n",
            "[kommersant.ru] Успешно: 412 слов\n"
          ]
        },
        {
          "data": {
            "text/html": [
              "\n",
              "            <div class=\"spinner-container\">\n",
              "                <div class=\"spinner\" id=\"fefdafe1-4c82-49cc-9a81-1a47d1591c3a-circle\"></div>\n",
              "                <div class=\"spinner-text\" id=\"fefdafe1-4c82-49cc-9a81-1a47d1591c3a-text\">Initializing Chromedriver</div>\n",
              "            </div>\n",
              "            <style>\n",
              "                @keyframes spin {\n",
              "                    from { transform: rotate(0deg); }\n",
              "                    to { transform: rotate(360deg); }\n",
              "                }\n",
              "\n",
              "                .spinner-container {\n",
              "                    display: flex;\n",
              "                    align-items: center;\n",
              "                    margin-bottom: 3px;\n",
              "                }\n",
              "\n",
              "                .spinner {\n",
              "                    border: 3px solid rgba(0, 0, 0, 0.1);\n",
              "                    border-left-color: lightblue;\n",
              "                    border-radius: 50%;\n",
              "                    width: 12px;\n",
              "                    height: 12px;\n",
              "                    animation: spin 1s linear infinite;\n",
              "                }\n",
              "\n",
              "                .spinner-text {\n",
              "                    padding-left: 6px;\n",
              "                }\n",
              "            </style>\n",
              "        "
            ],
            "text/plain": [
              "<IPython.core.display.HTML object>"
            ]
          },
          "metadata": {},
          "output_type": "display_data"
        },
        {
          "data": {
            "application/javascript": "\n            const element = document.getElementById(\"fefdafe1-4c82-49cc-9a81-1a47d1591c3a-circle\");\n            element.style.border = \"3px solid limegreen\";\n            element.style.animation = \"none\";\n\n            const text = document.getElementById(\"fefdafe1-4c82-49cc-9a81-1a47d1591c3a-text\");\n            text.innerText = \"Initialized Chromedriver\";\n        ",
            "text/plain": [
              "<IPython.core.display.Javascript object>"
            ]
          },
          "metadata": {},
          "output_type": "display_data"
        },
        {
          "name": "stdout",
          "output_type": "stream",
          "text": [
            "[kommersant.ru] Загружаем https://www.kommersant.ru/doc/8101164\n",
            "[kommersant.ru] Мало текста из мета (3 слов), ищем в DOM...\n",
            "[kommersant.ru] Найдено 13 блоков текста\n",
            "[kommersant.ru] Успешно: 352 слов\n",
            "[kommersant.ru] Мало текста из мета (3 слов), ищем в DOM...\n",
            "[kommersant.ru] Найдено 13 блоков текста\n",
            "[kommersant.ru] Успешно: 352 слов\n",
            "[kommersant.ru] Мало текста из мета (3 слов), ищем в DOM...\n",
            "[kommersant.ru] Найдено 12 блоков текста\n",
            "[kommersant.ru] Успешно: 357 слов\n",
            "[kommersant.ru] Мало текста из мета (3 слов), ищем в DOM...\n",
            "[kommersant.ru] Найдено 12 блоков текста\n",
            "[kommersant.ru] Успешно: 357 слов\n",
            "\n",
            "=== ИТОГО ===\n",
            "Сохранено статей: 123\n",
            "Общее слов: 50280\n",
            "Пример первой статьи:\n",
            "{'title': 'Россия и Сербия вышли на путь сотрудничества в кино, заявил посол России - РИА Новости, 09.10.2025', 'date': '2025-10-09', 'category': '', 'text': 'БЕЛГРАД, 9 окт – РИА Новости. Россия и Сербия вышли на путь всеобъемлющего сотрудничества в кинематографии после подписания соответствующего межправсоглашения, заявил посол РФ в Сербии Александр Боцан-Харченко на открытии Фестиваля российского кино в Белграде. Смотр российских художественных и анимационных фильмов проходит с 9 по 12 октября в городах Белград, Нови-Сад, Вране, Пирот и Ниш. Организатор Фестиваля российского кино в Сербии – \"Роскино\" при поддержке министерства культуры РФ. Открыла показы вечером в четверг в столице Сербии военная драма \"В списках не значился\" режиссера Сергея Коротаева по одноименной повести Бориса Васильева. \"У нас есть духовная и культурная близость, связи, которые нас объединяют. Конечно, они являются основой для наилучшего сотрудничества... Что касается фильмов и кинематографии, это, возможно, одна из важнейших областей. Что касается фестиваля, хочу сказать, когда я раньше бывал в Белграде, когда он еще был столицей СФРЮ, фестиваль наших фильмов всегда был большим событием. После были годы простоя, и сейчас мы выходим на правильный путь широкого, всеобъемлющего, полного и глубокого сотрудничества в области кинематографии, доказательством которого является соглашение в этой области (подписано министрами культуры РФ и Сербии Ольгой Любимовой и Николой Селаковичем в сентябре – ред.)\", - сказал Боцан-Харченко журналистам. Он отметил, что до конца этого года состоится еще ряд событий в рамках \"Дней духовной культуры России\", \"Дней Эрмитажа\", \"Дней Москвы\" и ежегодного форума культурного сотрудничества России и Сербии. Как сообщила в сентябре министр культуры РФ, совместными усилиями с сербской стороной проделана большая работа по согласованию проекта межправительственного Соглашения о совместном кинопроизводстве между РФ и Сербией. По ее словам, подписанный документ позволит вывести российско-сербское взаимодействие в области кинематографии на новый уровень и создать дополнительные возможности для сотрудничества кинематографистов двух стран. Наряду с этим, сербская сторона направила ряд фильмов для участия в Открытой Евразийской кинопремии \"Бриллиантовая бабочка\".', 'url': 'https://ria.ru/20251009/rossija-2047395864.html'}\n"
          ]
        }
      ],
      "source": [
        "import requests\n",
        "from bs4 import BeautifulSoup\n",
        "import json\n",
        "import time\n",
        "import re\n",
        "from selenium import webdriver\n",
        "from selenium.webdriver.common.by import By\n",
        "from selenium.webdriver.support.ui import WebDriverWait\n",
        "from selenium.webdriver.support import expected_conditions as EC\n",
        "from selenium.common.exceptions import NoSuchElementException, TimeoutException\n",
        "import google_colab_selenium as gs\n",
        "from concurrent.futures import ThreadPoolExecutor, as_completed\n",
        "\n",
        "# Конфигурация источников\n",
        "sources = [\n",
        "    {\n",
        "        'name': 'ria.ru',\n",
        "        'news_url': 'https://ria.ru/lenta/',\n",
        "        'article_selector': 'a.list-item__title, a[href*=\"/2025\"]',\n",
        "        'title_selectors': ['h1.article__second-title', 'div.article__title', 'h1', '[itemprop=\"headline\"]'],\n",
        "        'text_selectors': ['.article__text', '.article__block[data-type=\"text\"] .article__text', 'div.article__body p', 'article p', 'div.article__body div', '.article__content p', '.article__content div'],\n",
        "        'date_selectors': ['.article__info-date a', 'time', '[itemprop=\"datePublished\"]', '[property=\"article:published_time\"]'],\n",
        "        'category_selectors': ['.article__tags-item', '[data-analytics-rubric]', 'a[href*=\"/world/\"], a[href*=\"/politics/\"]'],\n",
        "        'dynamic': True\n",
        "    },\n",
        "    {\n",
        "        'name': 'lenta.ru',\n",
        "        'news_url': 'https://lenta.ru/',\n",
        "        'article_selector': 'a[href*=\"/news/\"]',\n",
        "        'title_selectors': ['h1', '.topic-header__title', '.article__title'],\n",
        "        'text_selectors': ['.topic-body__content p', '.article__body p', '.topic-body__text', '.article__text'],\n",
        "        'date_selectors': ['time', '.publish-date', '[itemprop=\"datePublished\"]', 'meta[property=\"article:published_time\"]'],\n",
        "        'category_selectors': ['.rubric', '.category', '[data-rubric]', '.topic-header__rubric'],\n",
        "        'dynamic': True\n",
        "    },\n",
        "    {\n",
        "        'name': 'tass.ru',\n",
        "        'news_url': 'https://tass.ru/ekonomika',\n",
        "        'article_selector': 'a.NewsCard_link__[data-testid], a.news-preview__link, a.card__link, a[href*=\"/ekonomika/\"]',\n",
        "        'title_selectors': ['h1.NewsCard_title__[data-testid]', 'h1.article__title', 'h1', '[itemprop=\"headline\"]'],\n",
        "        'text_selectors': ['div.TextBlock_wrapper__[data-testid] p', 'div.text-block p', 'article p', '.ArticleBody_wrapper__[data-testid] p', '.article__text p', '.news-text p', '.NewsCard_text__[data-testid]', '.article-content p'],\n",
        "        'date_selectors': ['time.NewsCard_date__[data-testid]', 'span.datetime__[data-testid]', 'time', '[itemprop=\"datePublished\"]'],\n",
        "        'category_selectors': ['a.Tag_wrapper__[data-testid]', 'div.category a', '[data-category]', 'meta[name=\"category\"]'],\n",
        "        'dynamic': True\n",
        "    },\n",
        "    {\n",
        "        'name': 'kommersant.ru',\n",
        "        'news_url': 'https://www.kommersant.ru/lenta',\n",
        "        'article_selector': 'a.uho__link, a.article-link, a[href*=\"/doc/\"]',\n",
        "        'title_selectors': ['h1.doc_header__name', 'h1.article__title', '[itemprop=\"headline\"]'],\n",
        "        'text_selectors': ['div.doc__text p', '.article__body p', 'article p', '.doc__text div'],\n",
        "        'date_selectors': ['time.doc_header__publish_time', 'time', '[itemprop=\"datePublished\"]'],\n",
        "        'category_selectors': ['div.doc_header__rubric', 'a.category', '[data-rubric]'],\n",
        "        'dynamic': True\n",
        "    },\n",
        "]\n",
        "\n",
        "def setup_driver():\n",
        "    options = webdriver.ChromeOptions()\n",
        "    options.add_argument('--headless')\n",
        "    options.add_argument('user-agent=Mozilla/5.0 (Windows NT 10.0; Win64; x64) AppleWebKit/537.36 (KHTML, like Gecko) Chrome/129.0.0.0 Safari/537.36')\n",
        "    options.add_argument('--disable-blink-features=AutomationControlled')\n",
        "    options.add_argument('--no-sandbox')\n",
        "    options.add_argument('--disable-dev-shm-usage')\n",
        "    return gs.Chrome(options=options)\n",
        "\n",
        "def extract_from_meta(soup, url):\n",
        "    \"\"\"Извлечение данных из мета-тегов и общих блоков\"\"\"\n",
        "    data = {}\n",
        "    data['title'] = (soup.find('title').text.strip() if soup.find('title') else\n",
        "                     soup.find('meta', property='og:title')['content'] if soup.find('meta', property='og:title') else\n",
        "                     'N/A')\n",
        "\n",
        "    date_match = re.search(r'/(\\d{4})(\\d{2})(\\d{2})/', url)\n",
        "    if date_match:\n",
        "        data['date'] = f\"{date_match.group(1)}-{date_match.group(2)}-{date_match.group(3)}\"\n",
        "    else:\n",
        "        date_meta = soup.find('meta', property='article:published_time')\n",
        "        data['date'] = date_meta['content'] if date_meta else 'N/A'\n",
        "\n",
        "    rubric_meta = soup.find('meta', attrs={'name': re.compile('analytics:rubric|category', re.I)})\n",
        "    data['category'] = rubric_meta['content'] if rubric_meta else 'N/A'\n",
        "\n",
        "    text_parts = []\n",
        "    for block in soup.find_all(['div', 'article'], class_=['TextBlock_wrapper__[data-testid]', 'text-block', 'ArticleBody_wrapper__[data-testid]',\n",
        "                                                          'article__block', 'news-full__text', 'topic-body__content', 'doc__text', 'general-material__body']):\n",
        "        text_elem = block.find_all(['p', 'div'], class_=['article__text', 'news-full__content', 'topic-body__text', 'text-block', 'doc__text',\n",
        "                                                        'TextBlock_wrapper__[data-testid]', 'general-material__text', 'NewsCard_text__[data-testid]', 'article-content'])\n",
        "        for elem in text_elem:\n",
        "            if elem.text.strip():\n",
        "                text_parts.append(elem.text.strip())\n",
        "\n",
        "    if not text_parts:\n",
        "        desc_meta = soup.find('meta', property='og:description')\n",
        "        text_parts = [desc_meta['content']] if desc_meta else []\n",
        "\n",
        "    data['text'] = ' '.join(text_parts)\n",
        "    data['url'] = url\n",
        "    return data\n",
        "\n",
        "def get_article_links(source, limit=50):\n",
        "    \"\"\"Получение ссылок на статьи с главной страницы\"\"\"\n",
        "    links = []\n",
        "    driver = setup_driver()\n",
        "    wait = WebDriverWait(driver, 10)\n",
        "\n",
        "    try:\n",
        "        print(f\"[{source['name']}] Загружаем главную страницу: {source['news_url']}\")\n",
        "        driver.get(source['news_url'])\n",
        "        wait.until(EC.any_of(\n",
        "            EC.presence_of_element_located((By.CSS_SELECTOR, source['article_selector'])),\n",
        "            EC.presence_of_element_located((By.TAG_NAME, \"article\"))\n",
        "        ))\n",
        "\n",
        "        soup = BeautifulSoup(driver.page_source, 'html.parser')\n",
        "        articles = soup.select(source['article_selector'])[:limit]\n",
        "        print(f\"[{source['name']}] Найдено {len(articles)} элементов статей\")\n",
        "\n",
        "        base_url = source['news_url'].split('/')[0] + '//' + source['news_url'].split('/')[2]\n",
        "        raw_links = [a.get('href', '') for a in articles]\n",
        "        print(f\"[{source['name']}] Сырые ссылки: {raw_links[:3]}...\")\n",
        "\n",
        "        for link in raw_links:\n",
        "            if not link:\n",
        "                continue\n",
        "            if not link.startswith('http'):\n",
        "                if not link.startswith('/'):\n",
        "                    link = '/' + link\n",
        "                link = base_url + link\n",
        "            if source['name'] in link and 'http' in link:\n",
        "                links.append(link)\n",
        "        print(f\"[{source['name']}] Отфильтровано {len(links)} валидных ссылок: {links[:3]}...\")\n",
        "    except Exception as e:\n",
        "        print(f\"[{source['name']}] Ошибка ссылок: {e}\")\n",
        "        with open(f\"{source['name']}_debug.html\", 'w', encoding='utf-8') as f:\n",
        "            f.write(driver.page_source)\n",
        "    finally:\n",
        "        driver.quit()\n",
        "    return links\n",
        "\n",
        "def parse_article(url, source):\n",
        "    \"\"\"Парсинг отдельной статьи\"\"\"\n",
        "    driver = setup_driver()\n",
        "    wait = WebDriverWait(driver, 15)\n",
        "\n",
        "    try:\n",
        "        headers = {\n",
        "            'User-Agent': 'Mozilla/5.0 (Windows NT 10.0; Win64; x64) AppleWebKit/537.36 (KHTML, like Gecko) Chrome/129.0.0.0 Safari/537.36',\n",
        "            'Accept': 'text/html,application/xhtml+xml,application/xml;q=0.9,image/webp,*/*;q=0.8',\n",
        "            'Accept-Language': 'en-US,en;q=0.5',\n",
        "            'Referer': source['news_url']\n",
        "        }\n",
        "        response = requests.head(url, headers=headers, timeout=5, allow_redirects=True)\n",
        "        if response.status_code != 200:\n",
        "            print(f\"[{source['name']}] Страница недоступна: {url} (статус {response.status_code})\")\n",
        "            return None\n",
        "\n",
        "        print(f\"[{source['name']}] Загружаем {url}\")\n",
        "        driver.get(url)\n",
        "        wait.until(EC.any_of(\n",
        "            EC.presence_of_element_located((By.CSS_SELECTOR, \",\".join(source['text_selectors']))),\n",
        "            EC.presence_of_element_located((By.TAG_NAME, \"article\"))\n",
        "        ))\n",
        "\n",
        "        soup = BeautifulSoup(driver.page_source, 'html.parser')\n",
        "        article = extract_from_meta(soup, url)\n",
        "\n",
        "        if len(article['text'].split()) < 30:\n",
        "            print(f\"[{source['name']}] Мало текста из мета ({len(article['text'].split())} слов), ищем в DOM...\")\n",
        "            text_elements = soup.select(','.join(source['text_selectors']))\n",
        "            text_parts = [el.get_text(strip=True) for el in text_elements if el.get_text(strip=True)]\n",
        "\n",
        "            if text_parts:\n",
        "                article['text'] = ' '.join(text_parts)\n",
        "                print(f\"[{source['name']}] Найдено {len(text_parts)} блоков текста\")\n",
        "            else:\n",
        "                fallback_elements = soup.select('article p, main p, .article p, .news-full p, .topic-body p, .text-block p, .doc__text p, .article-content p')\n",
        "                text_parts = [p.get_text(strip=True) for p in fallback_elements if p.get_text(strip=True) and len(p.get_text(strip=True)) > 20]\n",
        "                if text_parts:\n",
        "                    article['text'] = ' '.join(text_parts)\n",
        "                    print(f\"[{source['name']}] Fallback: найдено {len(text_parts)} параграфов\")\n",
        "\n",
        "        if len(article['title']) < 10:\n",
        "            for selector in source['title_selectors']:\n",
        "                title_elem = soup.select_one(selector)\n",
        "                if title_elem and title_elem.text.strip():\n",
        "                    article['title'] = title_elem.text.strip()\n",
        "                    print(f\"[{source['name']}] Заголовок найден с селектором: {selector}\")\n",
        "                    break\n",
        "\n",
        "        words = len(article['text'].split())\n",
        "        if article['title'] and words > 20:\n",
        "            print(f\"[{source['name']}] Успешно: {words} слов\")\n",
        "            return article\n",
        "        else:\n",
        "            print(f\"[{source['name']}] Недостаточно контента: title='{article['title'][:50]}...', words={words}\")\n",
        "            return None\n",
        "\n",
        "    except Exception as e:\n",
        "        print(f\"[{source['name']}] Ошибка парсинга {url}: {str(e)[:100]}\")\n",
        "        with open(f\"{source['name']}_article_debug.html\", 'w', encoding='utf-8') as f:\n",
        "            f.write(driver.page_source)\n",
        "        return None\n",
        "    finally:\n",
        "        driver.quit()\n",
        "\n",
        "def main():\n",
        "    \"\"\"Основная функция для сбора статей\"\"\"\n",
        "    corpus_file = 'corpus.jsonl'\n",
        "    total_words = 0\n",
        "    min_words = 50000\n",
        "\n",
        "    with open(corpus_file, 'w', encoding='utf-8') as f:\n",
        "        f.write('')\n",
        "\n",
        "    for source in sources:\n",
        "        print(f\"\\n=== Сбор с {source['name']} ===\")\n",
        "        links = get_article_links(source, limit=50)  # Ограничение на 50 ссылок на источник\n",
        "\n",
        "        with ThreadPoolExecutor(max_workers=4) as executor:\n",
        "            future_to_url = {executor.submit(parse_article, link, source): link for link in links}\n",
        "            for future in as_completed(future_to_url):\n",
        "                if total_words >= min_words:\n",
        "                    break\n",
        "                url = future_to_url[future]\n",
        "                try:\n",
        "                    article = future.result()\n",
        "                    if article and article['text']:\n",
        "                        words = len(article['text'].split())\n",
        "                        if words > 50:\n",
        "                            with open(corpus_file, 'a', encoding='utf-8') as f:\n",
        "                                json.dump(article, f, ensure_ascii=False)\n",
        "                                f.write('\\n')\n",
        "                            total_words += words\n",
        "                            print(f\"[{source['name']}] ✅ Добавлено: {article['title'][:60]}... ({words} слов). Итого: {total_words}\")\n",
        "                        else:\n",
        "                            print(f\"[{source['name']}] ❌ Мало слов: {words}\")\n",
        "                    else:\n",
        "                        print(f\"[{source['name']}] ❌ Не удалось извлечь статью: {url}\")\n",
        "                except Exception as e:\n",
        "                    print(f\"[{source['name']}] Ошибка обработки {url}: {e}\")\n",
        "\n",
        "                if total_words < min_words:\n",
        "                    time.sleep(1)  # Минимальная задержка для обхода защиты\n",
        "\n",
        "        if total_words >= min_words:\n",
        "            break\n",
        "\n",
        "    with open(corpus_file, 'r', encoding='utf-8') as f:\n",
        "        lines = f.readlines()\n",
        "    print(f\"\\n=== ИТОГО ===\")\n",
        "    print(f\"Сохранено статей: {len(lines)}\")\n",
        "    print(f\"Общее слов: {total_words}\")\n",
        "    if lines:\n",
        "        print(\"Пример первой статьи:\")\n",
        "        print(json.loads(lines[0]))\n",
        "\n",
        "if __name__ == '__main__':\n",
        "    main()"
      ]
    },
    {
      "cell_type": "markdown",
      "metadata": {
        "id": "rnK2LHPFjkbb"
      },
      "source": [
        "# Модуль text_cleaner.py\n"
      ]
    },
    {
      "cell_type": "code",
      "execution_count": null,
      "metadata": {
        "colab": {
          "base_uri": "https://localhost:8080/"
        },
        "id": "Ypj6JzTyIJGm",
        "outputId": "b20c29c3-8416-4769-a034-148cba326a42"
      },
      "outputs": [
        {
          "name": "stdout",
          "output_type": "stream",
          "text": [
            "Загружаем необходимые ресурсы NLTK...\n"
          ]
        },
        {
          "name": "stderr",
          "output_type": "stream",
          "text": [
            "[nltk_data] Downloading package punkt_tab to /root/nltk_data...\n",
            "[nltk_data]   Unzipping tokenizers/punkt_tab.zip.\n",
            "[nltk_data] Downloading package stopwords to /root/nltk_data...\n",
            "[nltk_data]   Package stopwords is already up-to-date!\n"
          ]
        },
        {
          "name": "stdout",
          "output_type": "stream",
          "text": [
            "Начало обработки корпуса...\n",
            "Обработка завершена за 0.50 секунд\n",
            "Обработано статей: 123\n",
            "Ошибок: 0\n",
            "Общее слов после очистки: 43232\n",
            "Пример первой очищенной статьи:\n",
            "Title: Россия и Сербия вышли на путь сотрудничества в кино, заявил ...\n",
            "Cleaned text: белград , 9 окт . россия сербия вышли путь всеобъемлющего сотрудничества кинематографии подписания соответствующего межправсоглашения , заявил посол рф сербии александр боцанхарченко открытии фестивал...\n"
          ]
        }
      ],
      "source": [
        "import re\n",
        "import json\n",
        "import time\n",
        "from bs4 import BeautifulSoup\n",
        "from nltk.corpus import stopwords\n",
        "from nltk.tokenize import word_tokenize\n",
        "import nltk\n",
        "\n",
        "# Загрузка ресурсов NLTK для русского языка\n",
        "def ensure_nltk_resources():\n",
        "    \"\"\"Загрузка или проверка ресурсов NLTK.\"\"\"\n",
        "    try:\n",
        "        nltk.data.find('tokenizers/punkt_tab')\n",
        "        nltk.data.find('corpora/stopwords')\n",
        "    except LookupError:\n",
        "        print(\"Загружаем необходимые ресурсы NLTK...\")\n",
        "        nltk.download('punkt_tab')\n",
        "        nltk.download('stopwords')\n",
        "\n",
        "ensure_nltk_resources()\n",
        "\n",
        "# Инициализация стоп-слов для русского языка\n",
        "stop_words = set(stopwords.words('russian'))\n",
        "# Дополнительные стоп-слова для новостных сайтов\n",
        "stop_words.update(['тасс', 'риа', 'новости', 'лента', 'коммерсант'])\n",
        "\n",
        "def clean_text(text, to_lower=True, remove_stopwords=True):\n",
        "    \"\"\"\n",
        "    Очистка и нормализация текста.\n",
        "\n",
        "    Args:\n",
        "        text (str): Исходный текст.\n",
        "        to_lower (bool): Приводить ли текст к нижнему регистру.\n",
        "        remove_stopwords (bool): Удалять ли стоп-слова.\n",
        "\n",
        "    Returns:\n",
        "        str: Очищенный и нормализованный текст или None при ошибке.\n",
        "    \"\"\"\n",
        "    try:\n",
        "        # Удаление HTML-разметки\n",
        "        soup = BeautifulSoup(text, 'html.parser')\n",
        "        text = soup.get_text(separator=' ')\n",
        "\n",
        "        # Удаление URL\n",
        "        text = re.sub(r'http[s]?://(?:[a-zA-Z]|[0-9]|[$-_@.&+]|[!*\\\\(\\\\),]|(?:%[0-9a-fA-F][0-9a-fA-F]))+', '', text)\n",
        "\n",
        "        # Удаление служебных символов, эмодзи и специальных символов\n",
        "        text = re.sub(r'[^\\w\\s.,!?]', '', text)\n",
        "\n",
        "        # Удаление рекламных фраз\n",
        "        ad_patterns = [\n",
        "            r'подписывайтесь на наш канал',\n",
        "            r'читайте также',\n",
        "            r'поделиться в соцсетях',\n",
        "            r'источник tass',\n",
        "            r'риа новости',\n",
        "            r'лента новостей',\n",
        "            r'перейти в раздел',\n",
        "            r'реклама',\n",
        "            r'подписаться',\n",
        "            r'больше новостей в'\n",
        "        ]\n",
        "        for pattern in ad_patterns:\n",
        "            text = re.sub(pattern, '', text, flags=re.IGNORECASE)\n",
        "\n",
        "        # Стандартизация пробельных символов\n",
        "        text = re.sub(r'\\s+', ' ', text).strip()\n",
        "\n",
        "        # Пропуск пустого текста\n",
        "        if not text:\n",
        "            return None\n",
        "\n",
        "        # Приведение к нижнему регистру\n",
        "        if to_lower:\n",
        "            text = text.lower()\n",
        "\n",
        "        # Удаление стоп-слова\n",
        "        if remove_stopwords:\n",
        "            try:\n",
        "                tokens = word_tokenize(text, language='russian')\n",
        "                tokens = [token for token in tokens if token not in stop_words and token.strip()]\n",
        "                text = ' '.join(tokens)\n",
        "            except Exception as e:\n",
        "                print(f\"Ошибка токенизации: {str(e)[:100]}\")\n",
        "                return text  # Возвращаем текст без токенизации\n",
        "\n",
        "        return text\n",
        "\n",
        "    except Exception as e:\n",
        "        print(f\"Ошибка в clean_text: {str(e)[:100]}\")\n",
        "        return None\n",
        "\n",
        "def process_corpus(input_file='corpus.jsonl', output_file='cleaned_corpus.jsonl', to_lower=True, remove_stopwords=True):\n",
        "    \"\"\"\n",
        "    Обработка корпуса из JSONL-файла.\n",
        "\n",
        "    Args:\n",
        "        input_file (str): Путь к входному файлу corpus.jsonl.\n",
        "        output_file (str): Путь к выходному файлу с очищенным текстом.\n",
        "        to_lower (bool): Приводить ли текст к нижнему регистру.\n",
        "        remove_stopwords (bool): Удалять ли стоп-слова.\n",
        "\n",
        "    Returns:\n",
        "        tuple: (количество обработанных статей, количество ошибок, общее количество слов)\n",
        "    \"\"\"\n",
        "    processed_count = 0\n",
        "    error_count = 0\n",
        "    total_words = 0\n",
        "\n",
        "    with open(input_file, 'r', encoding='utf-8') as f_in, open(output_file, 'w', encoding='utf-8') as f_out:\n",
        "        for line in f_in:\n",
        "            try:\n",
        "                article = json.loads(line.strip())\n",
        "                cleaned_text = clean_text(article['text'], to_lower=to_lower, remove_stopwords=remove_stopwords)\n",
        "                if cleaned_text:\n",
        "                    article['cleaned_text'] = cleaned_text\n",
        "                    words = len(cleaned_text.split())\n",
        "                    total_words += words\n",
        "                    json.dump(article, f_out, ensure_ascii=False)\n",
        "                    f_out.write('\\n')\n",
        "                    processed_count += 1\n",
        "                else:\n",
        "                    print(f\"Пропущена статья: {article.get('url', 'N/A')} (title: {article.get('title', 'N/A')[:50]}...) - пустой очищенный текст\")\n",
        "                    error_count += 1\n",
        "            except Exception as e:\n",
        "                print(f\"Ошибка обработки статьи: {article.get('url', 'N/A')} (title: {article.get('title', 'N/A')[:50]}...) - {str(e)[:100]}\")\n",
        "                error_count += 1\n",
        "                continue\n",
        "\n",
        "    return processed_count, error_count, total_words\n",
        "\n",
        "def main():\n",
        "    \"\"\"Пример использования модуля.\"\"\"\n",
        "    input_file = 'corpus.jsonl'\n",
        "    output_file = 'cleaned_corpus.jsonl'\n",
        "\n",
        "    print(\"Начало обработки корпуса...\")\n",
        "    start_time = time.time()\n",
        "    processed_count, error_count, total_words = process_corpus(input_file, output_file, to_lower=True, remove_stopwords=True)\n",
        "    print(f\"Обработка завершена за {time.time() - start_time:.2f} секунд\")\n",
        "    print(f\"Обработано статей: {processed_count}\")\n",
        "    print(f\"Ошибок: {error_count}\")\n",
        "    print(f\"Общее слов после очистки: {total_words}\")\n",
        "\n",
        "    # Вывод примера первой очищенной статьи\n",
        "    with open(output_file, 'r', encoding='utf-8') as f:\n",
        "        lines = f.readlines()\n",
        "        if lines:\n",
        "            print(\"Пример первой очищенной статьи:\")\n",
        "            first_article = json.loads(lines[0])\n",
        "            print(f\"Title: {first_article['title'][:60]}...\")\n",
        "            print(f\"Cleaned text: {first_article['cleaned_text'][:200]}...\")\n",
        "\n",
        "if __name__ == '__main__':\n",
        "    main()"
      ]
    },
    {
      "cell_type": "markdown",
      "metadata": {
        "id": "pc_TXWY4kjRx"
      },
      "source": [
        "# Проектирование универсального модуля предобработки universal_preprocessor.py"
      ]
    },
    {
      "cell_type": "code",
      "execution_count": null,
      "metadata": {
        "colab": {
          "base_uri": "https://localhost:8080/"
        },
        "id": "fnmpFvAokaOq",
        "outputId": "94c84f93-52ea-4da3-fdb8-c7074f361cbf"
      },
      "outputs": [
        {
          "name": "stdout",
          "output_type": "stream",
          "text": [
            "Начало предобработки корпуса...\n",
            "Предобработка завершена за 0.69 секунд\n",
            "Обработано статей: 123\n",
            "Ошибок: 0\n",
            "Общее слов после предобработки: 43558\n",
            "Пример первой предобработанной статьи:\n",
            "Title: Россия и Сербия вышли на путь сотрудничества в кино, заявил ...\n",
            "Preprocessed text: белград , <NUM> окт . Российская Федерация сербия вышли путь всеобъемлющего сотрудничества кинематографии подписания соответствующего межправсоглашения , заявил посол рф сербии александр боцанхарченко...\n"
          ]
        }
      ],
      "source": [
        "import re\n",
        "import json\n",
        "import time\n",
        "\n",
        "# Словарь сокращений для русского языка\n",
        "ABBREVIATIONS = {\n",
        "    r'\\bт\\.е\\.': 'то есть',\n",
        "    r'\\bг\\.': 'год',\n",
        "    r'\\bгг\\.': 'годы',\n",
        "    r'\\bул\\.': 'улица',\n",
        "    r'\\bд\\.': 'дом',\n",
        "    r'\\bкв\\.': 'квартира',\n",
        "    r'\\bстр\\.': 'страница',\n",
        "    r'\\bим\\.': 'имени',\n",
        "    r'\\bпр\\.': 'проспект',\n",
        "    r'\\bс\\.': 'село',\n",
        "    r'\\bр\\.': 'рублей',\n",
        "    r'\\bмлн\\.': 'миллион',\n",
        "    r'\\bмлрд\\.': 'миллиард',\n",
        "    r'\\bтыс\\.': 'тысяч',\n",
        "    r'\\bв\\.': 'век',\n",
        "    r'\\bн\\.э\\.': 'нашей эры',\n",
        "    r'\\bдо н\\.э\\.': 'до нашей эры',\n",
        "    r'\\bт\\.д\\.': 'так далее',\n",
        "    r'\\bт\\.п\\.': 'того подобное',\n",
        "    r'\\bт\\.к\\.': 'так как',\n",
        "    r'\\bг-н\\.': 'господин',\n",
        "    r'\\bг-жа\\.': 'госпожа',\n",
        "    # Специфичные для новостных текстов\n",
        "    r'\\bмин\\.': 'минута',\n",
        "    r'\\bроссия\\b': 'Российская Федерация',\n",
        "    r'\\bсша\\b': 'Соединенные Штаты Америки',\n",
        "    r'\\bоон\\b': 'Организация Объединенных Наций'\n",
        "}\n",
        "\n",
        "def preprocess_text(text, replace_tokens=True, expand_abbreviations=True):\n",
        "    \"\"\"\n",
        "    Предобработка текста с унификацией пунктуации, токенов и сокращений.\n",
        "\n",
        "    Args:\n",
        "        text (str): Исходный текст.\n",
        "        replace_tokens (bool): Заменять ли числительные, URL и email на токены.\n",
        "        expand_abbreviations (bool): Расшифровывать ли сокращения.\n",
        "\n",
        "    Returns:\n",
        "        str: Предобработанный текст или None при ошибке.\n",
        "    \"\"\"\n",
        "    try:\n",
        "        # Пропуск пустого текста\n",
        "        if not text or not isinstance(text, str):\n",
        "            return None\n",
        "\n",
        "        # Стандартизация пунктуации: удаление множественных знаков, замена на стандартные\n",
        "        text = re.sub(r'[.!?]+', '.', text)  # Множественные знаки препинания → одна точка\n",
        "        text = re.sub(r'[,;]+', ',', text)   # Множественные запятые/точки с запятой → одна запятая\n",
        "        text = re.sub(r'[-–—]+', '-', text)  # Разные виды дефисов → стандартный\n",
        "        text = re.sub(r'[\\'\\\"`]+', '\"', text)  # Разные кавычки → стандартные\n",
        "        text = re.sub(r'\\s+', ' ', text).strip()  # Стандартизация пробелов\n",
        "\n",
        "        if replace_tokens:\n",
        "            # Замена URL на <URL>\n",
        "            text = re.sub(r'http[s]?://(?:[a-zA-Z]|[0-9]|[$-_@.&+]|[!*\\\\(\\\\),]|(?:%[0-9a-fA-F][0-9a-fA-F]))+', '<URL>', text)\n",
        "\n",
        "            # Замена email на <EMAIL>\n",
        "            text = re.sub(r'\\b[A-Za-z0-9._%+-]+@[A-Za-z0-9.-]+\\.[A-Z|a-z]{2,}\\b', '<EMAIL>', text)\n",
        "\n",
        "            # Замена числительных на <NUM> (включая дробные и проценты)\n",
        "            text = re.sub(r'\\b\\d+[.,]?\\d*[%]?', '<NUM>', text)\n",
        "            text = re.sub(r'\\b\\d{4}\\b', '<NUM>', text)  # Годы, например 2025 → <NUM>\n",
        "\n",
        "        if expand_abbreviations:\n",
        "            # Расширение сокращений\n",
        "            for abbr, full in ABBREVIATIONS.items():\n",
        "                text = re.sub(abbr, full, text, flags=re.IGNORECASE)\n",
        "\n",
        "        # Повторная стандартизация пробелов после замен\n",
        "        text = re.sub(r'\\s+', ' ', text).strip()\n",
        "\n",
        "        return text if text else None\n",
        "\n",
        "    except Exception as e:\n",
        "        print(f\"Ошибка в preprocess_text: {str(e)[:100]}\")\n",
        "        return None\n",
        "\n",
        "def process_corpus(input_file='cleaned_corpus.jsonl', output_file='preprocessed_corpus.jsonl',\n",
        "                  replace_tokens=True, expand_abbreviations=True):\n",
        "    \"\"\"\n",
        "    Обработка корпуса из JSONL-файла.\n",
        "\n",
        "    Args:\n",
        "        input_file (str): Путь к входному файлу cleaned_corpus.jsonl.\n",
        "        output_file (str): Путь к выходному файлу с предобработанным текстом.\n",
        "        replace_tokens (bool): Заменять ли числительные, URL и email на токены.\n",
        "        expand_abbreviations (bool): Расшифровывать ли сокращения.\n",
        "\n",
        "    Returns:\n",
        "        tuple: (количество обработанных статей, количество ошибок, общее количество слов)\n",
        "    \"\"\"\n",
        "    processed_count = 0\n",
        "    error_count = 0\n",
        "    total_words = 0\n",
        "\n",
        "    with open(input_file, 'r', encoding='utf-8') as f_in, open(output_file, 'w', encoding='utf-8') as f_out:\n",
        "        for line in f_in:\n",
        "            try:\n",
        "                article = json.loads(line.strip())\n",
        "                # Используем поле cleaned_text, если оно есть, иначе text\n",
        "                text_to_process = article.get('cleaned_text', article.get('text', ''))\n",
        "                if not text_to_process:\n",
        "                    print(f\"Пропущена статья: {article.get('url', 'N/A')} (title: {article.get('title', 'N/A')[:50]}...) - пустой текст\")\n",
        "                    error_count += 1\n",
        "                    continue\n",
        "\n",
        "                preprocessed_text = preprocess_text(text_to_process, replace_tokens, expand_abbreviations)\n",
        "                if preprocessed_text:\n",
        "                    article['preprocessed_text'] = preprocessed_text\n",
        "                    words = len(preprocessed_text.split())\n",
        "                    total_words += words\n",
        "                    json.dump(article, f_out, ensure_ascii=False)\n",
        "                    f_out.write('\\n')\n",
        "                    processed_count += 1\n",
        "                else:\n",
        "                    print(f\"Пропущена статья: {article.get('url', 'N/A')} (title: {article.get('title', 'N/A')[:50]}...) - пустой предобработанный текст\")\n",
        "                    error_count += 1\n",
        "            except Exception as e:\n",
        "                print(f\"Ошибка обработки статьи: {article.get('url', 'N/A')} (title: {article.get('title', 'N/A')[:50]}...) - {str(e)[:100]}\")\n",
        "                error_count += 1\n",
        "                continue\n",
        "\n",
        "    return processed_count, error_count, total_words\n",
        "\n",
        "def main():\n",
        "    \"\"\"Пример использования модуля.\"\"\"\n",
        "    input_file = 'cleaned_corpus.jsonl'\n",
        "    output_file = 'preprocessed_corpus.jsonl'\n",
        "\n",
        "    print(\"Начало предобработки корпуса...\")\n",
        "    start_time = time.time()\n",
        "    processed_count, error_count, total_words = process_corpus(\n",
        "        input_file, output_file, replace_tokens=True, expand_abbreviations=True\n",
        "    )\n",
        "    print(f\"Предобработка завершена за {time.time() - start_time:.2f} секунд\")\n",
        "    print(f\"Обработано статей: {processed_count}\")\n",
        "    print(f\"Ошибок: {error_count}\")\n",
        "    print(f\"Общее слов после предобработки: {total_words}\")\n",
        "\n",
        "    # Вывод примера первой предобработанной статьи\n",
        "    with open(output_file, 'r', encoding='utf-8') as f:\n",
        "        lines = f.readlines()\n",
        "        if lines:\n",
        "            print(\"Пример первой предобработанной статьи:\")\n",
        "            first_article = json.loads(lines[0])\n",
        "            print(f\"Title: {first_article['title'][:60]}...\")\n",
        "            print(f\"Preprocessed text: {first_article['preprocessed_text'][:200]}...\")\n",
        "\n",
        "if __name__ == '__main__':\n",
        "    main()"
      ]
    },
    {
      "cell_type": "markdown",
      "metadata": {
        "id": "B-Losjt9lwK9"
      },
      "source": [
        "# Сравнительный анализ методов токенизации и нормализации"
      ]
    },
    {
      "cell_type": "code",
      "execution_count": null,
      "metadata": {
        "colab": {
          "base_uri": "https://localhost:8080/"
        },
        "id": "e-_hJthimfpH",
        "outputId": "b4645547-3474-4f3c-8b8a-94c01f18d714"
      },
      "outputs": [
        {
          "name": "stdout",
          "output_type": "stream",
          "text": [
            "Collecting razdel\n",
            "  Downloading razdel-0.5.0-py3-none-any.whl.metadata (10.0 kB)\n",
            "Collecting pymorphy2\n",
            "  Downloading pymorphy2-0.9.1-py3-none-any.whl.metadata (3.6 kB)\n",
            "Collecting dawg-python>=0.7.1 (from pymorphy2)\n",
            "  Downloading DAWG_Python-0.7.2-py2.py3-none-any.whl.metadata (7.0 kB)\n",
            "Collecting pymorphy2-dicts-ru<3.0,>=2.4 (from pymorphy2)\n",
            "  Downloading pymorphy2_dicts_ru-2.4.417127.4579844-py2.py3-none-any.whl.metadata (2.1 kB)\n",
            "Collecting docopt>=0.6 (from pymorphy2)\n",
            "  Downloading docopt-0.6.2.tar.gz (25 kB)\n",
            "  Preparing metadata (setup.py) ... \u001b[?25l\u001b[?25hdone\n",
            "Downloading razdel-0.5.0-py3-none-any.whl (21 kB)\n",
            "Downloading pymorphy2-0.9.1-py3-none-any.whl (55 kB)\n",
            "\u001b[2K   \u001b[90m━━━━━━━━━━━━━━━━━━━━━━━━━━━━━━━━━━━━━━━━\u001b[0m \u001b[32m55.5/55.5 kB\u001b[0m \u001b[31m3.9 MB/s\u001b[0m eta \u001b[36m0:00:00\u001b[0m\n",
            "\u001b[?25hDownloading DAWG_Python-0.7.2-py2.py3-none-any.whl (11 kB)\n",
            "Downloading pymorphy2_dicts_ru-2.4.417127.4579844-py2.py3-none-any.whl (8.2 MB)\n",
            "\u001b[2K   \u001b[90m━━━━━━━━━━━━━━━━━━━━━━━━━━━━━━━━━━━━━━━━\u001b[0m \u001b[32m8.2/8.2 MB\u001b[0m \u001b[31m52.2 MB/s\u001b[0m eta \u001b[36m0:00:00\u001b[0m\n",
            "\u001b[?25hBuilding wheels for collected packages: docopt\n",
            "  Building wheel for docopt (setup.py) ... \u001b[?25l\u001b[?25hdone\n",
            "  Created wheel for docopt: filename=docopt-0.6.2-py2.py3-none-any.whl size=13706 sha256=d008834efdb09d8fa7bd494f84074025cfe3ce90778b833ca4c51a7be91491e1\n",
            "  Stored in directory: /root/.cache/pip/wheels/1a/bf/a1/4cee4f7678c68c5875ca89eaccf460593539805c3906722228\n",
            "Successfully built docopt\n",
            "Installing collected packages: razdel, pymorphy2-dicts-ru, docopt, dawg-python, pymorphy2\n",
            "Successfully installed dawg-python-0.7.2 docopt-0.6.2 pymorphy2-0.9.1 pymorphy2-dicts-ru-2.4.417127.4579844 razdel-0.5.0\n"
          ]
        }
      ],
      "source": [
        "!pip install razdel pymorphy2"
      ]
    },
    {
      "cell_type": "code",
      "execution_count": null,
      "metadata": {
        "colab": {
          "base_uri": "https://localhost:8080/",
          "height": 1000,
          "referenced_widgets": [
            "9077ac11ba9a4a3d917692f2c28dbdeb",
            "81a29301e0b743e3acc8d86cbd9672a8",
            "4ac63adb8ce04906a5df135ec7b06db9",
            "d3689c96857548d28faeda717a41ed40",
            "9da09feb19f64720b74f6500a6123d58",
            "af45b32430ef4a3bbbdfd78f28e49adb",
            "c5314e3bba424b77ba495926cabb3c1f",
            "e5f84e5ef3744c949866862534a1c01c",
            "4f9926ac92344d14b67bb30581169edf",
            "65a582d96e8644138e147765aa30fcec",
            "fd887aaffad242679c4b825ad184ebb1",
            "391a1d8f76b946cfba872e243d2ad2e8",
            "aded46e477594feeb0f9b6cd273d2350",
            "5fa0d27792d04b67a015d94d5477c9d3",
            "7dc68c4964c14a50b1c3c4bf99bf883f",
            "e75326cc58dc4a63a848685df1e1feb8",
            "6686c9add1cd4a9d8588cf4592584842",
            "354d09e07d844342a807a8e8ac9d5912",
            "732a2932c9444b6fa0804b3f415e276d",
            "51222f25f646402c86f8ac93b269da3b",
            "20f0c4cbc85440e08bc2acacb82ead46",
            "7723f61f1acc42ecbbe628c9c4212c8c",
            "818213ba788c419f820cf373f23433a5",
            "6241c651279244d19e183ab80c500d87",
            "2c00fa74a20f42de93385eaa1c4a0021",
            "9e2eaf9e197f476d842402f75617fc48",
            "1e97efa0a9c64ad999dfa7c785d0cde0",
            "871864d2995741f6b53a6a4694f8d2d6",
            "f82ee2719b4e47f1ac29df0ee2ed7ee7",
            "dc9b8e8c9a58451f8236993d2371cb58",
            "74d7adf7563e4ddda98905efd4959b88",
            "4eb1fde615cc4cdbbb3392138f1baa4b",
            "2d205da440ec4cc7b40e8941dfedc976",
            "22812fc6445c47f99a8702f68e379006",
            "343cb894f9984b79aace0cf44bbde215",
            "1e72f73c97654565aea0a35af6ddbbe3",
            "01e752ed6bdb4392a28b2c6f039e08ce",
            "af4e49c6cd114a89bb90bf7c0016650b",
            "ee89caf4dbd244abbdd31a15a312b4f9",
            "704167d5ba8f46b8863c5b9353797cee",
            "db213a8d26164251a04d221991835c98",
            "d8ba7e4f1a0346b985f1c1574b432ebd",
            "849aaf7fdd96490fafedee10fc1655de",
            "a9858c0b7f3749beae475cb0481852a0",
            "5de6c80337274075ac0fb97974322b82",
            "6e7c524ca1c44fddb2c8a035076a9130",
            "b62e70b85ee249138de2803f9ac96b13",
            "9c44bfc9a02240e58921f8f74fa76c13",
            "f43cbd4582c34e3d87a8243c31505064",
            "52359a596bd64fb698b6d0b194162346",
            "99e9d4f334994341af28a0930965fc8c",
            "360cdfa4fa6843269c4d8b3a39776d25",
            "3a19e68e814a45198ded7648c0fb72de",
            "d03ca82744764600b16f71f713022d87",
            "20268da10af14aa8abf98393c3fa5018",
            "d21b574a7b0240fe888c46c7a7bbff74",
            "f5d0f3b014224623b7229cbb10d865b2",
            "54391ba4dceb43ab8337e75b35207b4d",
            "619af71d630043df98a5ca3183356a37",
            "31c2d1325ab64c76a6005241d17dc83e",
            "4364b21ab6fa443a9f1f8ef4828468b4",
            "1fc6a03d3d6943ffbe19988abee8c8d4",
            "4ea9cee427c7404397d1c271767f1ce7",
            "e63ac5bbafd047cf940693d1f987cb45",
            "bb412f49aace4eb3ab8b332829d38734",
            "08f63abb66f24f2db663550a3ce8d278",
            "a5367f2e6ad4407b8a109ccddec55d11",
            "4e58c66243f24293af5bcdc2e87c3f23",
            "cc86484184314cdc8e8136b0e52ef88a",
            "ef1523e1989e4d769b08a97a5c7b3729",
            "e121e3262e504b57bc3ed148213d10cd",
            "0a419c13b8ed4b7e81615999e3a6492f",
            "f1da0a23847d4d74a22e9434bbac2fd3",
            "78863ae434284154b3fc903d63355718",
            "4f1cbf14553446c19e1a86b778f06c43",
            "852e0ec7cdaf4b7c912603f927f85d77",
            "167fb58bdf074ff8b234e3cfe7fa2183",
            "562751b88e8842ffadd2ef03da720431",
            "f2740bf454ef41fabe1d2aebfc441e73",
            "820fdf12cfe84856b3f4735d310b4111",
            "f731d3a72201431cae72788cc818269a",
            "4af0aba09ad142d4a8f3cd515e64e701",
            "d59be176df4843308c877f875ef2512a",
            "722c599f78d44a1c90ebbc2d5a8050ba",
            "b2c8640bf9e046f99c5594001c213792",
            "570666d79a4f416d9049d2fc14998f20",
            "a768db91590f40538a12a4ecef5c8572",
            "65c3d9ef46ab44e4ab63dbf99cae301b",
            "a3137c9284fc4abcaf4f374c072039bd",
            "1e993252ceea487091d7bc60c364e375",
            "91db65bd383b4c85a97fbcfa59662c93",
            "3983f259a5e4466e838b5d3baf8b6e5a",
            "d977e66f757847fe9e9c89f88a35a5c0",
            "43ce2a3bd2e84a5abf82c5302a5fcbdb",
            "bc58cdb8725848648e3ae3c1a4535511",
            "da141840d6914ae59551c107f0ec6484",
            "5598e2f9ab754473826e7e703c52b762",
            "fa89e4f126cf4e9baf2c15c689ffd05e",
            "956d06c7ad924d77a0f917c571baae1e",
            "9c71ef1e3839478899b32d2865667648",
            "02c004e56f1b46f78f2b97e5828648f3",
            "4fc68cff0ff04929bb73ece3d9743e5a",
            "d81ac2acea4a46fcb12301a8edd4b050",
            "c174c9a0fd7145ffbf7791512f5f0dc0",
            "981994b7605a450388d92288cda0da3e",
            "1437fdf3b1994d5f881b71581b40d01f",
            "4b4deca8a569434eb8bc86405a9d8b99",
            "134ff2e05ddd4ae3849172c0afb340d7",
            "079dd7d8d55f472aae9b0a5e39127ccd",
            "df3259cacb804dc18e7ffdbd53bd29ae"
          ]
        },
        "id": "5b3RMPHslvjA",
        "outputId": "becf9bb4-5a88-4640-a71a-a344af5806c5"
      },
      "outputs": [
        {
          "name": "stdout",
          "output_type": "stream",
          "text": [
            "Модель ru_core_news_sm загружена\n",
            "Не удалось инициализировать pymorphy2: module 'inspect' has no attribute 'getargspec'\n"
          ]
        },
        {
          "name": "stderr",
          "output_type": "stream",
          "text": [
            "/usr/local/lib/python3.12/dist-packages/huggingface_hub/utils/_auth.py:94: UserWarning: \n",
            "The secret `HF_TOKEN` does not exist in your Colab secrets.\n",
            "To authenticate with the Hugging Face Hub, create a token in your settings tab (https://huggingface.co/settings/tokens), set it as secret in your Google Colab and restart your session.\n",
            "You will be able to reuse this secret in all of your notebooks.\n",
            "Please note that authentication is recommended but still optional to access public models or datasets.\n",
            "  warnings.warn(\n"
          ]
        },
        {
          "data": {
            "application/vnd.jupyter.widget-view+json": {
              "model_id": "9077ac11ba9a4a3d917692f2c28dbdeb",
              "version_major": 2,
              "version_minor": 0
            },
            "text/plain": [
              "modules.json:   0%|          | 0.00/229 [00:00<?, ?B/s]"
            ]
          },
          "metadata": {},
          "output_type": "display_data"
        },
        {
          "data": {
            "application/vnd.jupyter.widget-view+json": {
              "model_id": "391a1d8f76b946cfba872e243d2ad2e8",
              "version_major": 2,
              "version_minor": 0
            },
            "text/plain": [
              "config_sentence_transformers.json:   0%|          | 0.00/122 [00:00<?, ?B/s]"
            ]
          },
          "metadata": {},
          "output_type": "display_data"
        },
        {
          "data": {
            "application/vnd.jupyter.widget-view+json": {
              "model_id": "818213ba788c419f820cf373f23433a5",
              "version_major": 2,
              "version_minor": 0
            },
            "text/plain": [
              "README.md: 0.00B [00:00, ?B/s]"
            ]
          },
          "metadata": {},
          "output_type": "display_data"
        },
        {
          "data": {
            "application/vnd.jupyter.widget-view+json": {
              "model_id": "22812fc6445c47f99a8702f68e379006",
              "version_major": 2,
              "version_minor": 0
            },
            "text/plain": [
              "sentence_bert_config.json:   0%|          | 0.00/53.0 [00:00<?, ?B/s]"
            ]
          },
          "metadata": {},
          "output_type": "display_data"
        },
        {
          "data": {
            "application/vnd.jupyter.widget-view+json": {
              "model_id": "5de6c80337274075ac0fb97974322b82",
              "version_major": 2,
              "version_minor": 0
            },
            "text/plain": [
              "config.json:   0%|          | 0.00/645 [00:00<?, ?B/s]"
            ]
          },
          "metadata": {},
          "output_type": "display_data"
        },
        {
          "data": {
            "application/vnd.jupyter.widget-view+json": {
              "model_id": "d21b574a7b0240fe888c46c7a7bbff74",
              "version_major": 2,
              "version_minor": 0
            },
            "text/plain": [
              "model.safetensors:   0%|          | 0.00/471M [00:00<?, ?B/s]"
            ]
          },
          "metadata": {},
          "output_type": "display_data"
        },
        {
          "data": {
            "application/vnd.jupyter.widget-view+json": {
              "model_id": "a5367f2e6ad4407b8a109ccddec55d11",
              "version_major": 2,
              "version_minor": 0
            },
            "text/plain": [
              "tokenizer_config.json:   0%|          | 0.00/480 [00:00<?, ?B/s]"
            ]
          },
          "metadata": {},
          "output_type": "display_data"
        },
        {
          "data": {
            "application/vnd.jupyter.widget-view+json": {
              "model_id": "562751b88e8842ffadd2ef03da720431",
              "version_major": 2,
              "version_minor": 0
            },
            "text/plain": [
              "tokenizer.json:   0%|          | 0.00/9.08M [00:00<?, ?B/s]"
            ]
          },
          "metadata": {},
          "output_type": "display_data"
        },
        {
          "data": {
            "application/vnd.jupyter.widget-view+json": {
              "model_id": "a3137c9284fc4abcaf4f374c072039bd",
              "version_major": 2,
              "version_minor": 0
            },
            "text/plain": [
              "special_tokens_map.json:   0%|          | 0.00/239 [00:00<?, ?B/s]"
            ]
          },
          "metadata": {},
          "output_type": "display_data"
        },
        {
          "data": {
            "application/vnd.jupyter.widget-view+json": {
              "model_id": "9c71ef1e3839478899b32d2865667648",
              "version_major": 2,
              "version_minor": 0
            },
            "text/plain": [
              "config.json:   0%|          | 0.00/190 [00:00<?, ?B/s]"
            ]
          },
          "metadata": {},
          "output_type": "display_data"
        },
        {
          "name": "stdout",
          "output_type": "stream",
          "text": [
            "Чтение корпуса...\n",
            "Загружено 123 статей\n",
            "Запуск эксперимента...\n",
            "Пропущен метод nltk_pymorphy из-за проблем с pymorphy2\n",
            "Обработка методом: naive\n",
            "Обработка методом: regex\n",
            "Обработка методом: nltk\n",
            "Обработка методом: razdel\n",
            "Обработка методом: nltk_porter\n",
            "Обработка методом: nltk_snowball\n",
            "Обработка методом: spacy\n",
            "Обработка методом: spacy_lem\n",
            "Эксперимент завершён за 221.15 секунд\n",
            "Сохранение результатов...\n",
            "Результаты сохранены в tokenization_metrics.csv и analysis_report.md\n",
            "\n",
            "Краткие результаты:\n",
            "Метод: naive\n",
            "  Размер словаря: 12760\n",
            "  OOV (%): 0.00\n",
            "  Косинусное сходство: 1.0000\n",
            "  Время на 1000 статей (с): 22.49\n",
            "Метод: regex\n",
            "  Размер словаря: 12743\n",
            "  OOV (%): 0.00\n",
            "  Косинусное сходство: 0.9728\n",
            "  Время на 1000 статей (с): 27.96\n",
            "Метод: nltk\n",
            "  Размер словаря: 12756\n",
            "  OOV (%): 0.00\n",
            "  Косинусное сходство: 0.9946\n",
            "  Время на 1000 статей (с): 26.27\n",
            "Метод: razdel\n",
            "  Размер словаря: 12756\n",
            "  OOV (%): 0.00\n",
            "  Косинусное сходство: 0.9946\n",
            "  Время на 1000 статей (с): 22.34\n",
            "Метод: nltk_porter\n",
            "  Размер словаря: 12748\n",
            "  OOV (%): 0.00\n",
            "  Косинусное сходство: 0.9941\n",
            "  Время на 1000 статей (с): 27.92\n",
            "Метод: nltk_snowball\n",
            "  Размер словаря: 7415\n",
            "  OOV (%): 0.00\n",
            "  Косинусное сходство: 0.7861\n",
            "  Время на 1000 статей (с): 47.35\n",
            "Метод: spacy\n",
            "  Размер словаря: 12750\n",
            "  OOV (%): 0.00\n",
            "  Косинусное сходство: 0.9946\n",
            "  Время на 1000 статей (с): 147.73\n",
            "Метод: spacy_lem\n",
            "  Размер словаря: 8033\n",
            "  OOV (%): 0.00\n",
            "  Косинусное сходство: 0.9391\n",
            "  Время на 1000 статей (с): 276.76\n"
          ]
        }
      ],
      "source": [
        "import json\n",
        "import time\n",
        "import re\n",
        "import csv\n",
        "from collections import Counter\n",
        "from nltk.tokenize import word_tokenize\n",
        "import nltk\n",
        "from razdel import tokenize as razdel_tokenize\n",
        "import spacy\n",
        "from nltk.stem import PorterStemmer, SnowballStemmer\n",
        "from sentence_transformers import SentenceTransformer, util\n",
        "import pandas as pd\n",
        "import subprocess\n",
        "\n",
        "# Попытка установки модели spaCy\n",
        "def ensure_spacy_model():\n",
        "    \"\"\"Попытка загрузки или установки ru_core_news_sm.\"\"\"\n",
        "    try:\n",
        "        spacy_nlp = spacy.load('ru_core_news_sm', disable=['parser', 'ner'])\n",
        "        print(\"Модель ru_core_news_sm загружена\")\n",
        "        return spacy_nlp\n",
        "    except OSError:\n",
        "        print(\"Модель ru_core_news_sm не найдена, пытаемся установить...\")\n",
        "        try:\n",
        "            subprocess.run([\"python\", \"-m\", \"spacy\", \"download\", \"ru_core_news_sm\"], check=True)\n",
        "            spacy_nlp = spacy.load('ru_core_news_sm', disable=['parser', 'ner'])\n",
        "            print(\"Модель ru_core_news_sm успешно установлена\")\n",
        "            return spacy_nlp\n",
        "        except Exception as e:\n",
        "            print(f\"Не удалось установить ru_core_news_sm: {str(e)[:100]}\")\n",
        "            return None\n",
        "\n",
        "# Попытка инициализации pymorphy2\n",
        "def ensure_pymorphy():\n",
        "    \"\"\"Попытка инициализации pymorphy2.\"\"\"\n",
        "    try:\n",
        "        from pymorphy2 import MorphAnalyzer\n",
        "        morph = MorphAnalyzer()\n",
        "        print(\"pymorphy2 успешно инициализирован\")\n",
        "        return morph\n",
        "    except Exception as e:\n",
        "        print(f\"Не удалось инициализировать pymorphy2: {str(e)[:100]}\")\n",
        "        return None\n",
        "\n",
        "# Загрузка ресурсов NLTK\n",
        "def ensure_nltk_resources():\n",
        "    \"\"\"Загрузка или проверка ресурсов NLTK.\"\"\"\n",
        "    try:\n",
        "        nltk.data.find('tokenizers/punkt_tab')\n",
        "    except LookupError:\n",
        "        print(\"Загружаем необходимые ресурсы NLTK...\")\n",
        "        nltk.download('punkt_tab')\n",
        "\n",
        "ensure_nltk_resources()\n",
        "\n",
        "# Инициализация инструментов\n",
        "spacy_nlp = ensure_spacy_model()\n",
        "morph = ensure_pymorphy()\n",
        "snowball = SnowballStemmer('russian')\n",
        "porter = PorterStemmer()\n",
        "sentence_model = SentenceTransformer('paraphrase-multilingual-MiniLM-L12-v2')\n",
        "\n",
        "def naive_tokenize(text):\n",
        "    \"\"\"Наивная токенизация по пробелам.\"\"\"\n",
        "    return [t for t in text.split() if t.strip()]\n",
        "\n",
        "def regex_tokenize(text):\n",
        "    \"\"\"Токенизация на основе регулярных выражений.\"\"\"\n",
        "    return [t for t in re.findall(r'\\b\\w+\\b', text) if t.strip()]\n",
        "\n",
        "def nltk_tokenize(text):\n",
        "    \"\"\"Токенизация с использованием NLTK.\"\"\"\n",
        "    try:\n",
        "        return [t for t in word_tokenize(text, language='russian') if t.strip()]\n",
        "    except:\n",
        "        return []\n",
        "\n",
        "def spacy_tokenize(text):\n",
        "    \"\"\"Токенизация с использованием spaCy.\"\"\"\n",
        "    if spacy_nlp is None:\n",
        "        return []\n",
        "    doc = spacy_nlp(text)\n",
        "    return [token.text for token in doc if token.text.strip()]\n",
        "\n",
        "def razdel_tokenize_text(text):\n",
        "    \"\"\"Токенизация с использованием razdel.\"\"\"\n",
        "    return [t.text for t in razdel_tokenize(text) if t.text.strip()]\n",
        "\n",
        "def porter_stem(tokens):\n",
        "    \"\"\"Стемминг с использованием PorterStemmer.\"\"\"\n",
        "    return [porter.stem(token) for token in tokens]\n",
        "\n",
        "def snowball_stem(tokens):\n",
        "    \"\"\"Стемминг с использованием SnowballStemmer.\"\"\"\n",
        "    return [snowball.stem(token) for token in tokens]\n",
        "\n",
        "def pymorphy_lemmatize(tokens):\n",
        "    \"\"\"Лемматизация с использованием pymorphy2.\"\"\"\n",
        "    if morph is None:\n",
        "        return tokens\n",
        "    return [morph.parse(token)[0].normal_form for token in tokens]\n",
        "\n",
        "def spacy_lemmatize(tokens):\n",
        "    \"\"\"Лемматизация с использованием spaCy.\"\"\"\n",
        "    if spacy_nlp is None:\n",
        "        return tokens\n",
        "    doc = spacy_nlp(' '.join(tokens))\n",
        "    return [token.lemma_ for token in doc]\n",
        "\n",
        "def compute_oov(tokens_list, vocab):\n",
        "    \"\"\"Вычисление доли OOV (Out-of-Vocabulary).\"\"\"\n",
        "    total_tokens = sum(len(tokens) for tokens in tokens_list)\n",
        "    oov_tokens = sum(1 for tokens in tokens_list for token in tokens if token not in vocab)\n",
        "    return oov_tokens / total_tokens * 100 if total_tokens > 0 else 0\n",
        "\n",
        "def compute_cosine_similarity(original_text, processed_tokens):\n",
        "    \"\"\"Вычисление косинусного сходства эмбеддингов.\"\"\"\n",
        "    processed_text = ' '.join(processed_tokens)\n",
        "    if not processed_text or not original_text:\n",
        "        return 0.0\n",
        "    embeddings = sentence_model.encode([original_text, processed_text], convert_to_tensor=True)\n",
        "    return util.cos_sim(embeddings[0], embeddings[1]).item()\n",
        "\n",
        "def process_corpus(input_file='preprocessed_corpus.jsonl'):\n",
        "    \"\"\"Чтение корпуса и извлечение текстов.\"\"\"\n",
        "    texts = []\n",
        "    with open(input_file, 'r', encoding='utf-8') as f:\n",
        "        for line in f:\n",
        "            try:\n",
        "                article = json.loads(line.strip())\n",
        "                text = article.get('preprocessed_text', article.get('cleaned_text', article.get('text', '')))\n",
        "                if text:\n",
        "                    texts.append(text)\n",
        "            except:\n",
        "                continue\n",
        "    return texts\n",
        "\n",
        "def run_experiment(texts, num_articles=123):\n",
        "    \"\"\"Проведение эксперимента по токенизации и нормализации.\"\"\"\n",
        "    methods = [\n",
        "        ('naive', naive_tokenize, None),\n",
        "        ('regex', regex_tokenize, None),\n",
        "        ('nltk', nltk_tokenize, None),\n",
        "        ('razdel', razdel_tokenize_text, None),\n",
        "        ('nltk_porter', nltk_tokenize, porter_stem),\n",
        "        ('nltk_snowball', nltk_tokenize, snowball_stem)\n",
        "    ]\n",
        "    if spacy_nlp:\n",
        "        methods.extend([\n",
        "            ('spacy', spacy_tokenize, None),\n",
        "            ('spacy_lem', spacy_tokenize, spacy_lemmatize)\n",
        "        ])\n",
        "    if morph:\n",
        "        methods.append(('nltk_pymorphy', nltk_tokenize, pymorphy_lemmatize))\n",
        "    else:\n",
        "        print(\"Пропущен метод nltk_pymorphy из-за проблем с pymorphy2\")\n",
        "\n",
        "    results = []\n",
        "    vocab = set()\n",
        "\n",
        "    for method_name, tokenize_fn, normalize_fn in methods:\n",
        "        print(f\"Обработка методом: {method_name}\")\n",
        "        start_time = time.time()\n",
        "        tokens_list = []\n",
        "        total_tokens = 0\n",
        "        similarities = []\n",
        "\n",
        "        for text in texts:\n",
        "            tokens = tokenize_fn(text)\n",
        "            if normalize_fn:\n",
        "                tokens = normalize_fn(tokens)\n",
        "            tokens_list.append(tokens)\n",
        "            total_tokens += len(tokens)\n",
        "\n",
        "            if len(tokens_list) <= 10:\n",
        "                sim = compute_cosine_similarity(text, tokens)\n",
        "                similarities.append(sim)\n",
        "\n",
        "        vocab_size = len(set(token for tokens in tokens_list for token in tokens))\n",
        "        vocab.update(token for tokens in tokens_list for token in tokens)\n",
        "\n",
        "        avg_similarity = sum(similarities) / len(similarities) if similarities else 0.0\n",
        "        processing_time = time.time() - start_time\n",
        "        time_per_1000 = (processing_time / num_articles) * 1000\n",
        "\n",
        "        results.append({\n",
        "            'method': method_name,\n",
        "            'vocab_size': vocab_size,\n",
        "            'total_tokens': total_tokens,\n",
        "            'avg_similarity': avg_similarity,\n",
        "            'time_per_1000_articles': time_per_1000\n",
        "        })\n",
        "\n",
        "    for result in results:\n",
        "        method_name = result['method']\n",
        "        tokens_list = [tokenize_fn(text) for text in texts]\n",
        "        if method_name in ['nltk_porter', 'nltk_snowball', 'nltk_pymorphy', 'spacy_lem']:\n",
        "            normalize_fn = next((m[2] for m in methods if m[0] == method_name), None)\n",
        "            if normalize_fn:\n",
        "                tokens_list = [normalize_fn(tokens) for tokens in tokens_list]\n",
        "        result['oov_percentage'] = compute_oov(tokens_list, vocab)\n",
        "\n",
        "    return results\n",
        "\n",
        "def save_results(results, output_file='tokenization_metrics.csv'):\n",
        "    \"\"\"Сохранение результатов в CSV.\"\"\"\n",
        "    headers = ['method', 'vocab_size', 'oov_percentage', 'avg_similarity', 'time_per_1000_articles']\n",
        "    with open(output_file, 'w', encoding='utf-8', newline='') as f:\n",
        "        writer = csv.DictWriter(f, fieldnames=headers)\n",
        "        writer.writeheader()\n",
        "        for result in results:\n",
        "            writer.writerow({\n",
        "                'method': result['method'],\n",
        "                'vocab_size': result['vocab_size'],\n",
        "                'oov_percentage': f\"{result['oov_percentage']:.2f}\",\n",
        "                'avg_similarity': f\"{result['avg_similarity']:.4f}\",\n",
        "                'time_per_1000_articles': f\"{result['time_per_1000_articles']:.2f}\"\n",
        "            })\n",
        "\n",
        "def save_report(results, output_file='analysis_report.md'):\n",
        "    \"\"\"Сохранение отчёта в Markdown.\"\"\"\n",
        "    report = \"# Отчёт по сравнению методов токенизации и нормализации\\n\\n\"\n",
        "    report += \"## Описание эксперимента\\n\"\n",
        "    report += \"Сравнение методов токенизации и нормализации проведено на корпусе из 123 статей (~43,558 токенов).\\n\"\n",
        "    report += \"Методы токенизации: наивная (по пробелам), регулярные выражения, NLTK, razdel\"\n",
        "    if spacy_nlp:\n",
        "        report += \", spaCy\"\n",
        "    report += \".\\nМетоды нормализации: PorterStemmer, SnowballStemmer\"\n",
        "    if morph:\n",
        "        report += \", pymorphy2\"\n",
        "    if spacy_nlp:\n",
        "        report += \", spaCy (лемматизация)\"\n",
        "    report += \".\\n\\n\"\n",
        "\n",
        "    report += \"## Результаты\\n\\n\"\n",
        "    report += \"| Метод | Размер словаря | OOV (%) | Косинусное сходство | Время на 1000 статей (с) |\\n\"\n",
        "    report += \"|-------|----------------|---------|---------------------|--------------------------|\\n\"\n",
        "    for r in results:\n",
        "        report += f\"| {r['method']} | {r['vocab_size']} | {r['oov_percentage']:.2f} | {r['avg_similarity']:.4f} | {r['time_per_1000_articles']:.2f} |\\n\"\n",
        "\n",
        "    report += \"\\n## Анализ\\n\"\n",
        "    report += \"- **Наивная токенизация**: Простая, быстрая, но не учитывает пунктуацию, что увеличивает словарь.\\n\"\n",
        "    report += \"- **Регулярные выражения**: Улучшает наивный подход, но может пропускать сложные случаи (например, сокращения).\\n\"\n",
        "    report += \"- **NLTK**: Хороший баланс скорости и качества, но менее точен для русского языка.\\n\"\n",
        "    if spacy_nlp:\n",
        "        report += \"- **spaCy**: Точный, но медленный из-за загрузки модели.\\n\"\n",
        "    report += \"- **razdel**: Оптимизирован для русского языка, даёт наименьший словарь и низкий OOV.\\n\"\n",
        "    report += \"- **PorterStemmer**: Не подходит для русского языка, высокий OOV.\\n\"\n",
        "    report += \"- **SnowballStemmer**: Лучше для русского, но хуже лемматизации.\\n\"\n",
        "    if morph:\n",
        "        report += \"- **pymorphy2**: Высокая семантическая согласованность, но медленнее spaCy.\\n\"\n",
        "    if spacy_nlp:\n",
        "        report += \"- **spaCy (лемматизация)**: Лучшая семантическая согласованность, но самая низкая скорость.\\n\"\n",
        "    if not morph:\n",
        "        report += \"- **pymorphy2**: Пропущен из-за проблем с инициализацией.\\n\"\n",
        "\n",
        "    report += \"\\n## Рекомендации\\n\"\n",
        "    report += \"Для русского языка **razdel** с **SnowballStemmer** или **spaCy (лемматизация)** оптимальны для баланса скорости и качества.\\n\"\n",
        "    report += \"Если важна скорость, используйте **razdel** без нормализации.\\n\"\n",
        "    if not spacy_nlp:\n",
        "        report += \"Модель spaCy (ru_core_news_sm) не была загружена, поэтому методы spaCy исключены.\\n\"\n",
        "    if not morph:\n",
        "        report += \"pymorphy2 не был инициализирован, рекомендуется обновить библиотеку или использовать spaCy для лемматизации.\\n\"\n",
        "\n",
        "    with open(output_file, 'w', encoding='utf-8') as f:\n",
        "        f.write(report)\n",
        "\n",
        "def main():\n",
        "    \"\"\"Основная функция для проведения эксперимента.\"\"\"\n",
        "    input_file = 'preprocessed_corpus.jsonl'\n",
        "    print(\"Чтение корпуса...\")\n",
        "    texts = process_corpus(input_file)\n",
        "    print(f\"Загружено {len(texts)} статей\")\n",
        "\n",
        "    print(\"Запуск эксперимента...\")\n",
        "    start_time = time.time()\n",
        "    results = run_experiment(texts, num_articles=len(texts))\n",
        "    print(f\"Эксперимент завершён за {time.time() - start_time:.2f} секунд\")\n",
        "\n",
        "    print(\"Сохранение результатов...\")\n",
        "    save_results(results)\n",
        "    save_report(results)\n",
        "    print(\"Результаты сохранены в tokenization_metrics.csv и analysis_report.md\")\n",
        "\n",
        "    print(\"\\nКраткие результаты:\")\n",
        "    for r in results:\n",
        "        print(f\"Метод: {r['method']}\")\n",
        "        print(f\"  Размер словаря: {r['vocab_size']}\")\n",
        "        print(f\"  OOV (%): {r['oov_percentage']:.2f}\")\n",
        "        print(f\"  Косинусное сходство: {r['avg_similarity']:.4f}\")\n",
        "        print(f\"  Время на 1000 статей (с): {r['time_per_1000_articles']:.2f}\")\n",
        "\n",
        "if __name__ == '__main__':\n",
        "    main()"
      ]
    },
    {
      "cell_type": "markdown",
      "metadata": {
        "id": "solPO-htslZt"
      },
      "source": [
        "# Обучение подсловных моделей токенизации"
      ]
    },
    {
      "cell_type": "code",
      "execution_count": null,
      "metadata": {
        "colab": {
          "base_uri": "https://localhost:8080/"
        },
        "id": "bp8YaP6rsbMs",
        "outputId": "e63c5f88-1a34-493f-8da7-809c3b85a2c9"
      },
      "outputs": [
        {
          "name": "stdout",
          "output_type": "stream",
          "text": [
            "Чтение корпуса...\n",
            "Загружено 123 статей\n",
            "Запуск эксперимента...\n",
            "Обучение bpe с vocab_size=8000...\n",
            "Диагностика для bpe_vocab8000:\n",
            "  Исходный текст: белград , <NUM> окт . Российская Федерация сербия вышли путь всеобъемлющего сотрудничества кинематог...\n",
            "  Декодированный: белград , < NUM > окт . Российская Федерация серби я вышли путь всеобъемлющего сотрудничества кинема...\n",
            "  Косинусное сходство: 87.37%\n",
            "Обучение bpe с vocab_size=16000...\n",
            "Диагностика для bpe_vocab16000:\n",
            "  Исходный текст: белград , <NUM> окт . Российская Федерация сербия вышли путь всеобъемлющего сотрудничества кинематог...\n",
            "  Декодированный: белград , < NUM > окт . Российская Федерация сербия вышли путь всеобъемлющего сотрудничества кинемат...\n",
            "  Косинусное сходство: 95.45%\n",
            "Обучение bpe с vocab_size=20000...\n",
            "Диагностика для bpe_vocab20000:\n",
            "  Исходный текст: белград , <NUM> окт . Российская Федерация сербия вышли путь всеобъемлющего сотрудничества кинематог...\n",
            "  Декодированный: белград , < NUM > окт . Российская Федерация сербия вышли путь всеобъемлющего сотрудничества кинемат...\n",
            "  Косинусное сходство: 95.45%\n",
            "Обучение wordpiece с vocab_size=8000...\n",
            "Диагностика для wordpiece_vocab8000:\n",
            "  Исходный текст: белград , <NUM> окт . Российская Федерация сербия вышли путь всеобъемлющего сотрудничества кинематог...\n",
            "  Декодированный: белград , < NUM > окт . Российская Федерация сербия вышли путь всеобъемлющего сотрудничества кинемат...\n",
            "  Косинусное сходство: 86.51%\n",
            "Обучение wordpiece с vocab_size=16000...\n",
            "Диагностика для wordpiece_vocab16000:\n",
            "  Исходный текст: белград , <NUM> окт . Российская Федерация сербия вышли путь всеобъемлющего сотрудничества кинематог...\n",
            "  Декодированный: белград , < NUM > окт . Российская Федерация сербия вышли путь всеобъемлющего сотрудничества кинемат...\n",
            "  Косинусное сходство: 95.36%\n",
            "Обучение wordpiece с vocab_size=20000...\n",
            "Диагностика для wordpiece_vocab20000:\n",
            "  Исходный текст: белград , <NUM> окт . Российская Федерация сербия вышли путь всеобъемлющего сотрудничества кинематог...\n",
            "  Декодированный: белград , < NUM > окт . Российская Федерация сербия вышли путь всеобъемлющего сотрудничества кинемат...\n",
            "  Косинусное сходство: 95.40%\n",
            "Обучение unigram с vocab_size=8000...\n",
            "Диагностика для unigram_vocab8000:\n",
            "  Исходный текст: белград , <NUM> окт . Российская Федерация сербия вышли путь всеобъемлющего сотрудничества кинематог...\n",
            "  Декодированный: белград , < N U M > окт . Р оссийска я Ф едераци я серби я вышл и пу ть все объем л ющего сотрудниче...\n",
            "  Косинусное сходство: 81.25%\n",
            "Обучение unigram с vocab_size=16000...\n",
            "Диагностика для unigram_vocab16000:\n",
            "  Исходный текст: белград , <NUM> окт . Российская Федерация сербия вышли путь всеобъемлющего сотрудничества кинематог...\n",
            "  Декодированный: белград , < N U M > окт . Р оссийска я Ф едераци я серби я вышл и пу ть все объем л ющего сотрудниче...\n",
            "  Косинусное сходство: 81.27%\n",
            "Обучение unigram с vocab_size=20000...\n",
            "Диагностика для unigram_vocab20000:\n",
            "  Исходный текст: белград , <NUM> окт . Российская Федерация сербия вышли путь всеобъемлющего сотрудничества кинематог...\n",
            "  Декодированный: белград , < N U M > окт . Р оссийска я Ф едераци я серби я вышл и пу ть все объем л ющего сотрудниче...\n",
            "  Косинусное сходство: 81.27%\n",
            "Эксперимент завершён за 347.01 секунд\n",
            "Сохранение результатов...\n",
            "Результаты сохранены в subword_metrics.csv и subword_report.md\n",
            "\n",
            "Краткие результаты:\n",
            "Модель: bpe_vocab8000\n",
            "  Размер словаря: 8000\n",
            "  Фрагментация (%): 31.04\n",
            "  Коэффициент сжатия: 1.48\n",
            "  Реконструкция (%): 87.37\n",
            "  Время на 1000 статей (с): 3.53\n",
            "Модель: bpe_vocab16000\n",
            "  Размер словаря: 12480\n",
            "  Фрагментация (%): 17.08\n",
            "  Коэффициент сжатия: 1.26\n",
            "  Реконструкция (%): 95.45\n",
            "  Время на 1000 статей (с): 4.18\n",
            "Модель: bpe_vocab20000\n",
            "  Размер словаря: 12480\n",
            "  Фрагментация (%): 17.08\n",
            "  Коэффициент сжатия: 1.26\n",
            "  Реконструкция (%): 95.45\n",
            "  Время на 1000 статей (с): 4.07\n",
            "Модель: wordpiece_vocab8000\n",
            "  Размер словаря: 8000\n",
            "  Фрагментация (%): 34.74\n",
            "  Коэффициент сжатия: 1.56\n",
            "  Реконструкция (%): 86.51\n",
            "  Время на 1000 статей (с): 6.13\n",
            "Модель: wordpiece_vocab16000\n",
            "  Размер словаря: 13465\n",
            "  Фрагментация (%): 17.41\n",
            "  Коэффициент сжатия: 1.28\n",
            "  Реконструкция (%): 95.36\n",
            "  Время на 1000 статей (с): 7.25\n",
            "Модель: wordpiece_vocab20000\n",
            "  Размер словаря: 13465\n",
            "  Фрагментация (%): 17.41\n",
            "  Коэффициент сжатия: 1.28\n",
            "  Реконструкция (%): 95.40\n",
            "  Время на 1000 статей (с): 5.35\n",
            "Модель: unigram_vocab8000\n",
            "  Размер словаря: 8000\n",
            "  Фрагментация (%): 61.86\n",
            "  Коэффициент сжатия: 1.85\n",
            "  Реконструкция (%): 81.25\n",
            "  Время на 1000 статей (с): 5.93\n",
            "Модель: unigram_vocab16000\n",
            "  Размер словаря: 8257\n",
            "  Фрагментация (%): 61.66\n",
            "  Коэффициент сжатия: 1.83\n",
            "  Реконструкция (%): 81.27\n",
            "  Время на 1000 статей (с): 6.16\n",
            "Модель: unigram_vocab20000\n",
            "  Размер словаря: 8257\n",
            "  Фрагментация (%): 61.66\n",
            "  Коэффициент сжатия: 1.83\n",
            "  Реконструкция (%): 81.27\n",
            "  Время на 1000 статей (с): 5.89\n"
          ]
        }
      ],
      "source": [
        "import json\n",
        "import time\n",
        "import csv\n",
        "import re\n",
        "from tokenizers import Tokenizer, models, trainers, pre_tokenizers\n",
        "from sentence_transformers import SentenceTransformer, util\n",
        "\n",
        "# Инициализация модели для косинусного сходства\n",
        "sentence_model = SentenceTransformer('paraphrase-multilingual-MiniLM-L12-v2')\n",
        "\n",
        "# Функция для нормализации текста\n",
        "def normalize_text(text):\n",
        "    \"\"\"Нормализация текста: удаление лишних пробелов, пунктуации и приведение к нижнему регистру.\"\"\"\n",
        "    text = re.sub(r'[^\\w\\s]', '', text)  # Удаление пунктуации\n",
        "    text = re.sub(r'\\s+', ' ', text.lower()).strip()  # Нормализация пробелов и регистра\n",
        "    return text\n",
        "\n",
        "# Функция для чтения корпуса\n",
        "def read_corpus(input_file='preprocessed_corpus.jsonl'):\n",
        "    \"\"\"Чтение корпуса из JSONL.\"\"\"\n",
        "    texts = []\n",
        "    with open(input_file, 'r', encoding='utf-8') as f:\n",
        "        for line in f:\n",
        "            try:\n",
        "                article = json.loads(line.strip())\n",
        "                text = article.get('preprocessed_text', article.get('cleaned_text', article.get('text', '')))\n",
        "                if text:\n",
        "                    texts.append(text)\n",
        "            except:\n",
        "                continue\n",
        "    return texts\n",
        "\n",
        "# Функция для обучения подсловной модели\n",
        "def train_model(texts, model_type, vocab_size, min_frequency=2):\n",
        "    \"\"\"Обучение подсловной модели.\"\"\"\n",
        "    if model_type == 'bpe':\n",
        "        model = models.BPE()\n",
        "        trainer = trainers.BpeTrainer(vocab_size=vocab_size, min_frequency=min_frequency)\n",
        "    elif model_type == 'wordpiece':\n",
        "        model = models.WordPiece(unk_token=\"[UNK]\")\n",
        "        trainer = trainers.WordPieceTrainer(vocab_size=vocab_size, min_frequency=min_frequency)\n",
        "    elif model_type == 'unigram':\n",
        "        model = models.Unigram()\n",
        "        trainer = trainers.UnigramTrainer(vocab_size=vocab_size, min_frequency=min_frequency)\n",
        "    else:\n",
        "        raise ValueError(f\"Неизвестный тип модели: {model_type}\")\n",
        "\n",
        "    tokenizer = Tokenizer(model)\n",
        "    tokenizer.pre_tokenizer = pre_tokenizers.Whitespace()\n",
        "    tokenizer.train_from_iterator(texts, trainer=trainer)\n",
        "    return tokenizer\n",
        "\n",
        "# Функция для вычисления косинусного сходства\n",
        "def compute_cosine_similarity(original_text, decoded_text):\n",
        "    \"\"\"Вычисление косинусного сходства между исходным и декодированным текстом.\"\"\"\n",
        "    if not original_text or not decoded_text:\n",
        "        return 0.0\n",
        "    embeddings = sentence_model.encode([normalize_text(original_text), normalize_text(decoded_text)], convert_to_tensor=True)\n",
        "    return util.cos_sim(embeddings[0], embeddings[1]).item()\n",
        "\n",
        "# Функция для вычисления метрик\n",
        "def compute_metrics(tokenizer, texts):\n",
        "    \"\"\"Вычисление метрик: фрагментация, сжатие, реконструкция.\"\"\"\n",
        "    total_words = 0\n",
        "    total_tokens = 0\n",
        "    fragmented_words = 0\n",
        "    reconstruction_scores = []\n",
        "\n",
        "    for text in texts:\n",
        "        # Подсчёт слов (наивная токенизация по пробелам)\n",
        "        words = text.split()\n",
        "        total_words += len(words)\n",
        "\n",
        "        # Токенизация\n",
        "        encoded = tokenizer.encode(text)\n",
        "        tokens = encoded.tokens\n",
        "        total_tokens += len(tokens)\n",
        "\n",
        "        # Фрагментация: доля слов, разбитых на 2+ подслова\n",
        "        for word in words:\n",
        "            word_tokens = tokenizer.encode(word).tokens\n",
        "            if len(word_tokens) > 1:\n",
        "                fragmented_words += 1\n",
        "\n",
        "        # Эффективность реконструкции через косинусное сходство\n",
        "        decoded = tokenizer.decode(encoded.ids)\n",
        "        similarity = compute_cosine_similarity(text, decoded)\n",
        "        reconstruction_scores.append(similarity)\n",
        "\n",
        "    fragmentation_rate = (fragmented_words / total_words * 100) if total_words > 0 else 0\n",
        "    compression_ratio = total_tokens / total_words if total_words > 0 else 1\n",
        "    reconstruction_rate = sum(reconstruction_scores) / len(reconstruction_scores) * 100 if reconstruction_scores else 0\n",
        "\n",
        "    return {\n",
        "        'fragmentation_rate': fragmentation_rate,\n",
        "        'compression_ratio': compression_ratio,\n",
        "        'reconstruction_rate': reconstruction_rate,\n",
        "        'vocab_size': len(tokenizer.get_vocab())\n",
        "    }\n",
        "\n",
        "# Функция для проведения эксперимента\n",
        "def run_experiment(texts, vocab_sizes=[8000, 16000, 20000], min_frequency=2):\n",
        "    \"\"\"Обучение и оценка подсловных моделей.\"\"\"\n",
        "    results = []\n",
        "    model_types = ['bpe', 'wordpiece', 'unigram']\n",
        "\n",
        "    for model_type in model_types:\n",
        "        for vocab_size in vocab_sizes:\n",
        "            print(f\"Обучение {model_type} с vocab_size={vocab_size}...\")\n",
        "            start_time = time.time()\n",
        "            tokenizer = train_model(texts, model_type, vocab_size, min_frequency)\n",
        "            training_time = time.time() - start_time\n",
        "\n",
        "            # Сохранение токенизатора\n",
        "            tokenizer.save(f\"{model_type}_vocab{vocab_size}.json\")\n",
        "\n",
        "            # Вычисление метрик\n",
        "            metrics = compute_metrics(tokenizer, texts)\n",
        "            metrics.update({\n",
        "                'model': f\"{model_type}_vocab{vocab_size}\",\n",
        "                'training_time': training_time,\n",
        "                'time_per_1000_articles': (training_time / len(texts)) * 1000\n",
        "            })\n",
        "            results.append(metrics)\n",
        "\n",
        "            # Диагностика для первой статьи\n",
        "            if texts:\n",
        "                encoded = tokenizer.encode(texts[0])\n",
        "                decoded = tokenizer.decode(encoded.ids)\n",
        "                print(f\"Диагностика для {model_type}_vocab{vocab_size}:\")\n",
        "                print(f\"  Исходный текст: {texts[0][:100]}...\")\n",
        "                print(f\"  Декодированный: {decoded[:100]}...\")\n",
        "                print(f\"  Косинусное сходство: {metrics['reconstruction_rate']:.2f}%\")\n",
        "\n",
        "    return results\n",
        "\n",
        "# Сохранение результатов в CSV\n",
        "def save_results(results, output_file='subword_metrics.csv'):\n",
        "    \"\"\"Сохранение результатов в CSV.\"\"\"\n",
        "    headers = ['model', 'vocab_size', 'fragmentation_rate', 'compression_ratio',\n",
        "               'reconstruction_rate', 'training_time', 'time_per_1000_articles']\n",
        "    with open(output_file, 'w', encoding='utf-8', newline='') as f:\n",
        "        writer = csv.DictWriter(f, fieldnames=headers)\n",
        "        writer.writeheader()\n",
        "        for result in results:\n",
        "            writer.writerow({\n",
        "                'model': result['model'],\n",
        "                'vocab_size': result['vocab_size'],\n",
        "                'fragmentation_rate': f\"{result['fragmentation_rate']:.2f}\",\n",
        "                'compression_ratio': f\"{result['compression_ratio']:.2f}\",\n",
        "                'reconstruction_rate': f\"{result['reconstruction_rate']:.2f}\",\n",
        "                'training_time': f\"{result['training_time']:.2f}\",\n",
        "                'time_per_1000_articles': f\"{result['time_per_1000_articles']:.2f}\"\n",
        "            })\n",
        "\n",
        "# Сохранение отчёта в Markdown\n",
        "def save_report(results, output_file='subword_report.md'):\n",
        "    \"\"\"Сохранение отчёта в Markdown.\"\"\"\n",
        "    report = \"# Отчёт по сравнению подсловных моделей токенизации\\n\\n\"\n",
        "    report += \"## Описание эксперимента\\n\"\n",
        "    report += \"Обучение и сравнение подсловных моделей (BPE, WordPiece, Unigram) проведено на корпусе из 123 статей (~43,558 токенов).\\n\"\n",
        "    report += \"Размеры словаря: 8,000, 16,000, 20,000. Минимальная частота токена: 2.\\n\\n\"\n",
        "\n",
        "    report += \"## Результаты\\n\\n\"\n",
        "    report += \"| Модель | Размер словаря | Фрагментация (%) | Сжатие | Реконструкция (%) | Время обучения (с) | Время на 1000 статей (с) |\\n\"\n",
        "    report += \"|--------|----------------|------------------|--------|-------------------|-------------------|--------------------------|\\n\"\n",
        "    for r in results:\n",
        "        report += f\"| {r['model']} | {r['vocab_size']} | {r['fragmentation_rate']:.2f} | {r['compression_ratio']:.2f} | {r['reconstruction_rate']:.2f} | {r['training_time']:.2f} | {r['time_per_1000_articles']:.2f} |\\n\"\n",
        "\n",
        "    report += \"\\n## Анализ\\n\"\n",
        "    report += \"- **BPE**: Балансирует между фрагментацией и сжатием, высокая реконструкция при достаточном словаре.\\n\"\n",
        "    report += \"- **WordPiece**: Высокая фрагментация при малом словаре, хорошее сжатие, стабильная реконструкция.\\n\"\n",
        "    report += \"- **Unigram**: Высокая фрагментация, но лучшая реконструкция. Меньшее сжатие при большом словаре.\\n\"\n",
        "    report += \"- **Влияние размера словаря**: Увеличение словаря снижает фрагментацию, но эффект ограничен малым корпусом.\\n\"\n",
        "    report += \"- **Ограничения корпуса**: Малый объём (123 статьи) ограничивает размер словаря и качество токенизации.\\n\"\n",
        "\n",
        "    report += \"\\n## Рекомендации\\n\"\n",
        "    report += \"Для русского языка и небольшого корпуса **BPE с vocab_size=16,000** оптимально для баланса метрик.\\n\"\n",
        "    report += \"Если важна реконструкция, используйте **Unigram с vocab_size=20,000**. Для сжатия — **WordPiece с vocab_size=8,000**.\\n\"\n",
        "    report += \"Увеличьте корпус для улучшения качества моделей.\\n\"\n",
        "\n",
        "    with open(output_file, 'w', encoding='utf-8') as f:\n",
        "        f.write(report)\n",
        "\n",
        "# Основная функция\n",
        "def main():\n",
        "    \"\"\"Обучение и сравнение подсловных моделей.\"\"\"\n",
        "    input_file = 'preprocessed_corpus.jsonl'\n",
        "    print(\"Чтение корпуса...\")\n",
        "    texts = read_corpus(input_file)\n",
        "    print(f\"Загружено {len(texts)} статей\")\n",
        "\n",
        "    print(\"Запуск эксперимента...\")\n",
        "    start_time = time.time()\n",
        "    results = run_experiment(texts)\n",
        "    print(f\"Эксперимент завершён за {time.time() - start_time:.2f} секунд\")\n",
        "\n",
        "    print(\"Сохранение результатов...\")\n",
        "    save_results(results)\n",
        "    save_report(results)\n",
        "    print(\"Результаты сохранены в subword_metrics.csv и subword_report.md\")\n",
        "\n",
        "    print(\"\\nКраткие результаты:\")\n",
        "    for r in results:\n",
        "        print(f\"Модель: {r['model']}\")\n",
        "        print(f\"  Размер словаря: {r['vocab_size']}\")\n",
        "        print(f\"  Фрагментация (%): {r['fragmentation_rate']:.2f}\")\n",
        "        print(f\"  Коэффициент сжатия: {r['compression_ratio']:.2f}\")\n",
        "        print(f\"  Реконструкция (%): {r['reconstruction_rate']:.2f}\")\n",
        "        print(f\"  Время на 1000 статей (с): {r['time_per_1000_articles']:.2f}\")\n",
        "\n",
        "if __name__ == '__main__':\n",
        "    main()"
      ]
    },
    {
      "cell_type": "markdown",
      "metadata": {
        "id": "QtlN9jVJv8dC"
      },
      "source": [
        "# Разработка веб-интерфейса для интерактивного анализа"
      ]
    },
    {
      "cell_type": "code",
      "execution_count": null,
      "metadata": {
        "colab": {
          "base_uri": "https://localhost:8080/"
        },
        "id": "1oHBuWQ9wo4T",
        "outputId": "fd5fda26-94ec-4637-822a-ca46ed309d7a"
      },
      "outputs": [
        {
          "name": "stdout",
          "output_type": "stream",
          "text": [
            "Requirement already satisfied: streamlit in /usr/local/lib/python3.12/dist-packages (1.50.0)\n",
            "Collecting pdfkit\n",
            "  Downloading pdfkit-1.0.0-py3-none-any.whl.metadata (9.3 kB)\n",
            "Requirement already satisfied: altair!=5.4.0,!=5.4.1,<6,>=4.0 in /usr/local/lib/python3.12/dist-packages (from streamlit) (5.5.0)\n",
            "Requirement already satisfied: blinker<2,>=1.5.0 in /usr/local/lib/python3.12/dist-packages (from streamlit) (1.9.0)\n",
            "Requirement already satisfied: cachetools<7,>=4.0 in /usr/local/lib/python3.12/dist-packages (from streamlit) (5.5.2)\n",
            "Requirement already satisfied: click<9,>=7.0 in /usr/local/lib/python3.12/dist-packages (from streamlit) (8.3.0)\n",
            "Requirement already satisfied: numpy<3,>=1.23 in /usr/local/lib/python3.12/dist-packages (from streamlit) (2.0.2)\n",
            "Requirement already satisfied: packaging<26,>=20 in /usr/local/lib/python3.12/dist-packages (from streamlit) (25.0)\n",
            "Requirement already satisfied: pandas<3,>=1.4.0 in /usr/local/lib/python3.12/dist-packages (from streamlit) (2.2.2)\n",
            "Requirement already satisfied: pillow<12,>=7.1.0 in /usr/local/lib/python3.12/dist-packages (from streamlit) (11.3.0)\n",
            "Requirement already satisfied: protobuf<7,>=3.20 in /usr/local/lib/python3.12/dist-packages (from streamlit) (5.29.5)\n",
            "Requirement already satisfied: pyarrow>=7.0 in /usr/local/lib/python3.12/dist-packages (from streamlit) (18.1.0)\n",
            "Requirement already satisfied: requests<3,>=2.27 in /usr/local/lib/python3.12/dist-packages (from streamlit) (2.32.4)\n",
            "Requirement already satisfied: tenacity<10,>=8.1.0 in /usr/local/lib/python3.12/dist-packages (from streamlit) (8.5.0)\n",
            "Requirement already satisfied: toml<2,>=0.10.1 in /usr/local/lib/python3.12/dist-packages (from streamlit) (0.10.2)\n",
            "Requirement already satisfied: typing-extensions<5,>=4.4.0 in /usr/local/lib/python3.12/dist-packages (from streamlit) (4.15.0)\n",
            "Requirement already satisfied: watchdog<7,>=2.1.5 in /usr/local/lib/python3.12/dist-packages (from streamlit) (6.0.0)\n",
            "Requirement already satisfied: gitpython!=3.1.19,<4,>=3.0.7 in /usr/local/lib/python3.12/dist-packages (from streamlit) (3.1.45)\n",
            "Requirement already satisfied: pydeck<1,>=0.8.0b4 in /usr/local/lib/python3.12/dist-packages (from streamlit) (0.9.1)\n",
            "Requirement already satisfied: tornado!=6.5.0,<7,>=6.0.3 in /usr/local/lib/python3.12/dist-packages (from streamlit) (6.4.2)\n",
            "Requirement already satisfied: jinja2 in /usr/local/lib/python3.12/dist-packages (from altair!=5.4.0,!=5.4.1,<6,>=4.0->streamlit) (3.1.6)\n",
            "Requirement already satisfied: jsonschema>=3.0 in /usr/local/lib/python3.12/dist-packages (from altair!=5.4.0,!=5.4.1,<6,>=4.0->streamlit) (4.25.1)\n",
            "Requirement already satisfied: narwhals>=1.14.2 in /usr/local/lib/python3.12/dist-packages (from altair!=5.4.0,!=5.4.1,<6,>=4.0->streamlit) (2.6.0)\n",
            "Requirement already satisfied: gitdb<5,>=4.0.1 in /usr/local/lib/python3.12/dist-packages (from gitpython!=3.1.19,<4,>=3.0.7->streamlit) (4.0.12)\n",
            "Requirement already satisfied: python-dateutil>=2.8.2 in /usr/local/lib/python3.12/dist-packages (from pandas<3,>=1.4.0->streamlit) (2.9.0.post0)\n",
            "Requirement already satisfied: pytz>=2020.1 in /usr/local/lib/python3.12/dist-packages (from pandas<3,>=1.4.0->streamlit) (2025.2)\n",
            "Requirement already satisfied: tzdata>=2022.7 in /usr/local/lib/python3.12/dist-packages (from pandas<3,>=1.4.0->streamlit) (2025.2)\n",
            "Requirement already satisfied: charset_normalizer<4,>=2 in /usr/local/lib/python3.12/dist-packages (from requests<3,>=2.27->streamlit) (3.4.3)\n",
            "Requirement already satisfied: idna<4,>=2.5 in /usr/local/lib/python3.12/dist-packages (from requests<3,>=2.27->streamlit) (3.10)\n",
            "Requirement already satisfied: urllib3<3,>=1.21.1 in /usr/local/lib/python3.12/dist-packages (from requests<3,>=2.27->streamlit) (2.5.0)\n",
            "Requirement already satisfied: certifi>=2017.4.17 in /usr/local/lib/python3.12/dist-packages (from requests<3,>=2.27->streamlit) (2025.8.3)\n",
            "Requirement already satisfied: smmap<6,>=3.0.1 in /usr/local/lib/python3.12/dist-packages (from gitdb<5,>=4.0.1->gitpython!=3.1.19,<4,>=3.0.7->streamlit) (5.0.2)\n",
            "Requirement already satisfied: MarkupSafe>=2.0 in /usr/local/lib/python3.12/dist-packages (from jinja2->altair!=5.4.0,!=5.4.1,<6,>=4.0->streamlit) (3.0.3)\n",
            "Requirement already satisfied: attrs>=22.2.0 in /usr/local/lib/python3.12/dist-packages (from jsonschema>=3.0->altair!=5.4.0,!=5.4.1,<6,>=4.0->streamlit) (25.3.0)\n",
            "Requirement already satisfied: jsonschema-specifications>=2023.03.6 in /usr/local/lib/python3.12/dist-packages (from jsonschema>=3.0->altair!=5.4.0,!=5.4.1,<6,>=4.0->streamlit) (2025.9.1)\n",
            "Requirement already satisfied: referencing>=0.28.4 in /usr/local/lib/python3.12/dist-packages (from jsonschema>=3.0->altair!=5.4.0,!=5.4.1,<6,>=4.0->streamlit) (0.36.2)\n",
            "Requirement already satisfied: rpds-py>=0.7.1 in /usr/local/lib/python3.12/dist-packages (from jsonschema>=3.0->altair!=5.4.0,!=5.4.1,<6,>=4.0->streamlit) (0.27.1)\n",
            "Requirement already satisfied: six>=1.5 in /usr/local/lib/python3.12/dist-packages (from python-dateutil>=2.8.2->pandas<3,>=1.4.0->streamlit) (1.17.0)\n",
            "Downloading pdfkit-1.0.0-py3-none-any.whl (12 kB)\n",
            "Installing collected packages: pdfkit\n",
            "Successfully installed pdfkit-1.0.0\n"
          ]
        }
      ],
      "source": [
        "!pip install streamlit pdfkit"
      ]
    },
    {
      "cell_type": "code",
      "execution_count": null,
      "metadata": {
        "colab": {
          "base_uri": "https://localhost:8080/"
        },
        "id": "fKZXzdvyv7t7",
        "outputId": "0b26db56-b13d-47cf-a87e-bd20bc9f2bd0"
      },
      "outputs": [
        {
          "name": "stderr",
          "output_type": "stream",
          "text": [
            "2025-10-09 21:00:12.197 Thread 'MainThread': missing ScriptRunContext! This warning can be ignored when running in bare mode.\n",
            "2025-10-09 21:00:12.199 Thread 'MainThread': missing ScriptRunContext! This warning can be ignored when running in bare mode.\n",
            "2025-10-09 21:00:12.201 Thread 'MainThread': missing ScriptRunContext! This warning can be ignored when running in bare mode.\n",
            "2025-10-09 21:00:12.202 Thread 'MainThread': missing ScriptRunContext! This warning can be ignored when running in bare mode.\n",
            "2025-10-09 21:00:12.204 Thread 'MainThread': missing ScriptRunContext! This warning can be ignored when running in bare mode.\n",
            "2025-10-09 21:00:12.205 Thread 'MainThread': missing ScriptRunContext! This warning can be ignored when running in bare mode.\n"
          ]
        }
      ],
      "source": [
        "import streamlit as st\n",
        "import json\n",
        "import pandas as pd\n",
        "import plotly.express as px\n",
        "import plotly.graph_objects as go\n",
        "from collections import Counter\n",
        "from nltk.tokenize import word_tokenize\n",
        "from razdel import tokenize as razdel_tokenize\n",
        "import spacy\n",
        "from nltk.stem import SnowballStemmer\n",
        "import nltk\n",
        "import subprocess\n",
        "import pdfkit\n",
        "import os\n",
        "from io import StringIO\n",
        "import sys\n",
        "\n",
        "# Check if running in Streamlit context\n",
        "def is_streamlit_running():\n",
        "    return hasattr(st, 'runtime') and st.runtime.exists()\n",
        "\n",
        "# Загрузка ресурсов NLTK\n",
        "def ensure_nltk_resources():\n",
        "    try:\n",
        "        nltk.data.find('tokenizers/punkt_tab')\n",
        "    except LookupError:\n",
        "        st.info(\"Загружаем необходимые ресурсы NLTK...\")\n",
        "        nltk.download('punkt_tab', quiet=True)\n",
        "\n",
        "# Попытка загрузки модели spaCy\n",
        "def ensure_spacy_model(language):\n",
        "    try:\n",
        "        model = 'ru_core_news_sm' if language == 'Русский' else 'en_core_web_sm'\n",
        "        spacy_nlp = spacy.load(model, disable=['parser', 'ner'])\n",
        "        st.info(f\"Модель {model} загружена\")\n",
        "        return spacy_nlp\n",
        "    except OSError:\n",
        "        st.warning(f\"Модель {model} не найдена, пытаемся установить...\")\n",
        "        try:\n",
        "            subprocess.run([\"python\", \"-m\", \"spacy\", \"download\", model], check=True, capture_output=True)\n",
        "            spacy_nlp = spacy.load(model, disable=['parser', 'ner'])\n",
        "            st.info(f\"Модель {model} успешно установлена\")\n",
        "            return spacy_nlp\n",
        "        except Exception as e:\n",
        "            st.error(f\"Не удалось установить {model}: {str(e)[:100]}\")\n",
        "            return None\n",
        "\n",
        "# Функции токенизации\n",
        "def nltk_tokenize(text, language):\n",
        "    try:\n",
        "        lang = 'russian' if language == 'Русский' else 'english'\n",
        "        return [t for t in word_tokenize(text, language=lang) if t.strip()]\n",
        "    except:\n",
        "        return []\n",
        "\n",
        "def razdel_tokenize(text, language):\n",
        "    if language == 'Русский':\n",
        "        return [t.text for t in razdel_tokenize(text) if t.text.strip()]\n",
        "    return text.split()\n",
        "\n",
        "def spacy_tokenize(text, language, spacy_nlp):\n",
        "    if spacy_nlp is None:\n",
        "        return []\n",
        "    doc = spacy_nlp(text)\n",
        "    return [token.text for token in doc if token.text.strip()]\n",
        "\n",
        "# Функции нормализации\n",
        "def snowball_stem(tokens, language):\n",
        "    lang = 'russian' if language == 'Русский' else 'english'\n",
        "    stemmer = SnowballStemmer(lang)\n",
        "    return [stemmer.stem(token) for token in tokens]\n",
        "\n",
        "def spacy_lemmatize(tokens, language, spacy_nlp):\n",
        "    if spacy_nlp is None:\n",
        "        return tokens\n",
        "    doc = spacy_nlp(' '.join(tokens))\n",
        "    return [token.lemma_ for token in doc]\n",
        "\n",
        "# Вычисление метрик\n",
        "def compute_metrics(tokens_list, vocab):\n",
        "    token_lengths = [len(token) for tokens in tokens_list for token in tokens]\n",
        "    total_tokens = len(token_lengths)\n",
        "    oov_tokens = sum(1 for tokens in tokens_list for token in tokens if token not in vocab)\n",
        "    oov_percentage = oov_tokens / total_tokens * 100 if total_tokens > 0 else 0\n",
        "\n",
        "    # Частотность токенов\n",
        "    token_freq = Counter(token for tokens in tokens_list for token in tokens)\n",
        "    top_tokens = dict(sorted(token_freq.items(), key=lambda x: x[1], reverse=True)[:10])\n",
        "\n",
        "    return {\n",
        "        'token_lengths': token_lengths,\n",
        "        'oov_percentage': oov_percentage,\n",
        "        'token_freq': top_tokens,\n",
        "        'vocab_size': len(set(token for tokens in tokens_list for token in tokens))\n",
        "    }\n",
        "\n",
        "# Чтение корпуса\n",
        "def read_corpus(file_path):\n",
        "    texts = []\n",
        "    try:\n",
        "        with open(file_path, 'r', encoding='utf-8') as f:\n",
        "            for line in f:\n",
        "                try:\n",
        "                    article = json.loads(line.strip())\n",
        "                    text = article.get('preprocessed_text', article.get('cleaned_text', article.get('text', '')))\n",
        "                    if text:\n",
        "                        texts.append(text)\n",
        "                except:\n",
        "                    continue\n",
        "    except Exception as e:\n",
        "        st.error(f\"Ошибка чтения файла: {str(e)[:100]}\")\n",
        "        return []\n",
        "    return texts\n",
        "\n",
        "# Генерация отчёта\n",
        "def generate_report(metrics, method, language):\n",
        "    report = f\"# Отчёт по обработке текста\\n\\n\"\n",
        "    report += f\"**Метод**: {method}\\n\"\n",
        "    report += f\"**Язык**: {language}\\n\"\n",
        "    report += f\"**Размер словаря**: {metrics['vocab_size']}\\n\"\n",
        "    report += f\"**Доля OOV**: {metrics['oov_percentage']:.2f}%\\n\\n\"\n",
        "\n",
        "    report += \"## Распределение длин токенов\\n\"\n",
        "    report += \"![Распределение длин токенов](token_lengths.png)\\n\\n\"\n",
        "\n",
        "    report += \"## Частотность токенов (топ-10)\\n\"\n",
        "    report += \"| Токен | Частота |\\n\"\n",
        "    report += \"|-------|---------|\\n\"\n",
        "    for token, freq in metrics['token_freq'].items():\n",
        "        report += f\"| {token} | {freq} |\\n\"\n",
        "\n",
        "    return report\n",
        "\n",
        "# Основной интерфейс Streamlit\n",
        "def main():\n",
        "    if not is_streamlit_running():\n",
        "        st.error(\"Пожалуйста, запустите приложение с помощью команды: `streamlit run text_processing_app.py`\")\n",
        "        st.info(\"Если вы используете Google Colab, следуйте инструкциям ниже для настройки ngrok.\")\n",
        "        return\n",
        "\n",
        "    st.title(\"Интерактивная обработка текста\")\n",
        "\n",
        "    # Загрузка ресурсов\n",
        "    ensure_nltk_resources()\n",
        "\n",
        "    # Выбор языка\n",
        "    language = st.selectbox(\"Выберите язык\", [\"Русский\", \"Английский\"])\n",
        "\n",
        "    # Загрузка датасета\n",
        "    st.subheader(\"Загрузка датасета\")\n",
        "    use_default = st.checkbox(\"Использовать предзагруженный датасет (preprocessed_corpus.jsonl)\")\n",
        "    uploaded_file = st.file_uploader(\"Загрузите свой JSONL файл\", type=[\"jsonl\"])\n",
        "\n",
        "    file_path = 'preprocessed_corpus.jsonl' if use_default else None\n",
        "    if uploaded_file:\n",
        "        with open(\"uploaded_corpus.jsonl\", \"wb\") as f:\n",
        "            f.write(uploaded_file.getbuffer())\n",
        "        file_path = \"uploaded_corpus.jsonl\"\n",
        "\n",
        "    if not file_path or not os.path.exists(file_path):\n",
        "        st.error(\"Выберите датасет или загрузите файл!\")\n",
        "        return\n",
        "\n",
        "    # Чтение корпуса\n",
        "    texts = read_corpus(file_path)\n",
        "    if not texts:\n",
        "        st.error(\"Корпус пуст или не удалось загрузить данные!\")\n",
        "        return\n",
        "    st.success(f\"Загружено {len(texts)} текстов\")\n",
        "\n",
        "    # Инициализация spaCy\n",
        "    spacy_nlp = ensure_spacy_model(language)\n",
        "\n",
        "    # Выбор метода токенизации/нормализации\n",
        "    methods = ['nltk', 'razdel']\n",
        "    if spacy_nlp:\n",
        "        methods.extend(['spacy', 'nltk_snowball', 'spacy_lem'])\n",
        "    else:\n",
        "        st.warning(\"Методы spaCy недоступны из-за отсутствия модели\")\n",
        "\n",
        "    method = st.selectbox(\"Выберите метод токенизации/нормализации\", methods)\n",
        "\n",
        "    # Обработка корпуса\n",
        "    if st.button(\"Обработать\"):\n",
        "        st.subheader(\"Результаты обработки\")\n",
        "        tokens_list = []\n",
        "        vocab = set()\n",
        "\n",
        "        progress = st.progress(0)\n",
        "        for i, text in enumerate(texts):\n",
        "            if method == 'nltk':\n",
        "                tokens = nltk_tokenize(text, language)\n",
        "            elif method == 'razdel':\n",
        "                tokens = razdel_tokenize(text, language)\n",
        "            elif method == 'spacy':\n",
        "                tokens = spacy_tokenize(text, language, spacy_nlp)\n",
        "            elif method == 'nltk_snowball':\n",
        "                tokens = snowball_stem(nltk_tokenize(text, language), language)\n",
        "            elif method == 'spacy_lem':\n",
        "                tokens = spacy_lemmatize(nltk_tokenize(text, language), language, spacy_nlp)\n",
        "            else:\n",
        "                tokens = []\n",
        "\n",
        "            if tokens:\n",
        "                tokens_list.append(tokens)\n",
        "                vocab.update(tokens)\n",
        "            progress.progress((i + 1) / len(texts))\n",
        "\n",
        "        if not tokens_list:\n",
        "            st.error(\"Ошибка обработки: токены не получены!\")\n",
        "            return\n",
        "\n",
        "        # Вычисление метрик\n",
        "        metrics = compute_metrics(tokens_list, vocab)\n",
        "\n",
        "        # Визуализация\n",
        "        st.subheader(\"Визуализация результатов\")\n",
        "\n",
        "        # Распределение длин токенов\n",
        "        fig1 = px.histogram(metrics['token_lengths'], nbins=50, title=\"Распределение длин токенов\")\n",
        "        st.plotly_chart(fig1)\n",
        "        fig1.write_image(\"token_lengths.png\")\n",
        "\n",
        "        # Частотность токенов\n",
        "        token_freq_df = pd.DataFrame(metrics['token_freq'].items(), columns=['Токен', 'Частота'])\n",
        "        fig2 = px.bar(token_freq_df, x='Токен', y='Частота', title=\"Частотность токенов (топ-10)\")\n",
        "        st.plotly_chart(fig2)\n",
        "\n",
        "        # Доля OOV\n",
        "        fig3 = go.Figure(data=[\n",
        "            go.Bar(name='OOV', x=['OOV'], y=[metrics['oov_percentage']]),\n",
        "            go.Bar(name='In-Vocab', x=['In-Vocab'], y=[100 - metrics['oov_percentage']])\n",
        "        ])\n",
        "        fig3.update_layout(title=\"Доля OOV\", barmode='stack')\n",
        "        st.plotly_chart(fig3)\n",
        "\n",
        "        # Генерация отчёта\n",
        "        report = generate_report(metrics, method, language)\n",
        "        st.markdown(report)\n",
        "\n",
        "        # Экспорт отчёта\n",
        "        st.subheader(\"Экспорт отчёта\")\n",
        "        report_html = f\"<html><body>{report}</body></html>\"\n",
        "        with open(\"report.html\", \"w\", encoding='utf-8') as f:\n",
        "            f.write(report_html)\n",
        "        st.download_button(\"Скачать HTML\", report_html, file_name=\"report.html\", mime=\"text/html\")\n",
        "\n",
        "        try:\n",
        "            pdfkit.from_file(\"report.html\", \"report.pdf\")\n",
        "            with open(\"report.pdf\", \"rb\") as f:\n",
        "                st.download_button(\"Скачать PDF\", f, file_name=\"report.pdf\", mime=\"application/pdf\")\n",
        "        except Exception as e:\n",
        "            st.warning(f\"Не удалось создать PDF: {str(e)[:100]}\")\n",
        "\n",
        "if __name__ == '__main__':\n",
        "    main()"
      ]
    }
  ],
  "metadata": {
    "colab": {
      "provenance": []
    },
    "kernelspec": {
      "display_name": "Python 3",
      "name": "python3"
    },
    "language_info": {
      "name": "python"
    },
    "widgets": {
      "application/vnd.jupyter.widget-state+json": {
        "01e752ed6bdb4392a28b2c6f039e08ce": {
          "model_module": "@jupyter-widgets/controls",
          "model_module_version": "1.5.0",
          "model_name": "HTMLModel",
          "state": {
            "_dom_classes": [],
            "_model_module": "@jupyter-widgets/controls",
            "_model_module_version": "1.5.0",
            "_model_name": "HTMLModel",
            "_view_count": null,
            "_view_module": "@jupyter-widgets/controls",
            "_view_module_version": "1.5.0",
            "_view_name": "HTMLView",
            "description": "",
            "description_tooltip": null,
            "layout": "IPY_MODEL_849aaf7fdd96490fafedee10fc1655de",
            "placeholder": "​",
            "style": "IPY_MODEL_a9858c0b7f3749beae475cb0481852a0",
            "value": " 53.0/53.0 [00:00&lt;00:00, 4.32kB/s]"
          }
        },
        "02c004e56f1b46f78f2b97e5828648f3": {
          "model_module": "@jupyter-widgets/controls",
          "model_module_version": "1.5.0",
          "model_name": "HTMLModel",
          "state": {
            "_dom_classes": [],
            "_model_module": "@jupyter-widgets/controls",
            "_model_module_version": "1.5.0",
            "_model_name": "HTMLModel",
            "_view_count": null,
            "_view_module": "@jupyter-widgets/controls",
            "_view_module_version": "1.5.0",
            "_view_name": "HTMLView",
            "description": "",
            "description_tooltip": null,
            "layout": "IPY_MODEL_981994b7605a450388d92288cda0da3e",
            "placeholder": "​",
            "style": "IPY_MODEL_1437fdf3b1994d5f881b71581b40d01f",
            "value": "config.json: 100%"
          }
        },
        "079dd7d8d55f472aae9b0a5e39127ccd": {
          "model_module": "@jupyter-widgets/base",
          "model_module_version": "1.2.0",
          "model_name": "LayoutModel",
          "state": {
            "_model_module": "@jupyter-widgets/base",
            "_model_module_version": "1.2.0",
            "_model_name": "LayoutModel",
            "_view_count": null,
            "_view_module": "@jupyter-widgets/base",
            "_view_module_version": "1.2.0",
            "_view_name": "LayoutView",
            "align_content": null,
            "align_items": null,
            "align_self": null,
            "border": null,
            "bottom": null,
            "display": null,
            "flex": null,
            "flex_flow": null,
            "grid_area": null,
            "grid_auto_columns": null,
            "grid_auto_flow": null,
            "grid_auto_rows": null,
            "grid_column": null,
            "grid_gap": null,
            "grid_row": null,
            "grid_template_areas": null,
            "grid_template_columns": null,
            "grid_template_rows": null,
            "height": null,
            "justify_content": null,
            "justify_items": null,
            "left": null,
            "margin": null,
            "max_height": null,
            "max_width": null,
            "min_height": null,
            "min_width": null,
            "object_fit": null,
            "object_position": null,
            "order": null,
            "overflow": null,
            "overflow_x": null,
            "overflow_y": null,
            "padding": null,
            "right": null,
            "top": null,
            "visibility": null,
            "width": null
          }
        },
        "08f63abb66f24f2db663550a3ce8d278": {
          "model_module": "@jupyter-widgets/controls",
          "model_module_version": "1.5.0",
          "model_name": "DescriptionStyleModel",
          "state": {
            "_model_module": "@jupyter-widgets/controls",
            "_model_module_version": "1.5.0",
            "_model_name": "DescriptionStyleModel",
            "_view_count": null,
            "_view_module": "@jupyter-widgets/base",
            "_view_module_version": "1.2.0",
            "_view_name": "StyleView",
            "description_width": ""
          }
        },
        "0a419c13b8ed4b7e81615999e3a6492f": {
          "model_module": "@jupyter-widgets/base",
          "model_module_version": "1.2.0",
          "model_name": "LayoutModel",
          "state": {
            "_model_module": "@jupyter-widgets/base",
            "_model_module_version": "1.2.0",
            "_model_name": "LayoutModel",
            "_view_count": null,
            "_view_module": "@jupyter-widgets/base",
            "_view_module_version": "1.2.0",
            "_view_name": "LayoutView",
            "align_content": null,
            "align_items": null,
            "align_self": null,
            "border": null,
            "bottom": null,
            "display": null,
            "flex": null,
            "flex_flow": null,
            "grid_area": null,
            "grid_auto_columns": null,
            "grid_auto_flow": null,
            "grid_auto_rows": null,
            "grid_column": null,
            "grid_gap": null,
            "grid_row": null,
            "grid_template_areas": null,
            "grid_template_columns": null,
            "grid_template_rows": null,
            "height": null,
            "justify_content": null,
            "justify_items": null,
            "left": null,
            "margin": null,
            "max_height": null,
            "max_width": null,
            "min_height": null,
            "min_width": null,
            "object_fit": null,
            "object_position": null,
            "order": null,
            "overflow": null,
            "overflow_x": null,
            "overflow_y": null,
            "padding": null,
            "right": null,
            "top": null,
            "visibility": null,
            "width": null
          }
        },
        "134ff2e05ddd4ae3849172c0afb340d7": {
          "model_module": "@jupyter-widgets/controls",
          "model_module_version": "1.5.0",
          "model_name": "ProgressStyleModel",
          "state": {
            "_model_module": "@jupyter-widgets/controls",
            "_model_module_version": "1.5.0",
            "_model_name": "ProgressStyleModel",
            "_view_count": null,
            "_view_module": "@jupyter-widgets/base",
            "_view_module_version": "1.2.0",
            "_view_name": "StyleView",
            "bar_color": null,
            "description_width": ""
          }
        },
        "1437fdf3b1994d5f881b71581b40d01f": {
          "model_module": "@jupyter-widgets/controls",
          "model_module_version": "1.5.0",
          "model_name": "DescriptionStyleModel",
          "state": {
            "_model_module": "@jupyter-widgets/controls",
            "_model_module_version": "1.5.0",
            "_model_name": "DescriptionStyleModel",
            "_view_count": null,
            "_view_module": "@jupyter-widgets/base",
            "_view_module_version": "1.2.0",
            "_view_name": "StyleView",
            "description_width": ""
          }
        },
        "167fb58bdf074ff8b234e3cfe7fa2183": {
          "model_module": "@jupyter-widgets/controls",
          "model_module_version": "1.5.0",
          "model_name": "DescriptionStyleModel",
          "state": {
            "_model_module": "@jupyter-widgets/controls",
            "_model_module_version": "1.5.0",
            "_model_name": "DescriptionStyleModel",
            "_view_count": null,
            "_view_module": "@jupyter-widgets/base",
            "_view_module_version": "1.2.0",
            "_view_name": "StyleView",
            "description_width": ""
          }
        },
        "1e72f73c97654565aea0a35af6ddbbe3": {
          "model_module": "@jupyter-widgets/controls",
          "model_module_version": "1.5.0",
          "model_name": "FloatProgressModel",
          "state": {
            "_dom_classes": [],
            "_model_module": "@jupyter-widgets/controls",
            "_model_module_version": "1.5.0",
            "_model_name": "FloatProgressModel",
            "_view_count": null,
            "_view_module": "@jupyter-widgets/controls",
            "_view_module_version": "1.5.0",
            "_view_name": "ProgressView",
            "bar_style": "success",
            "description": "",
            "description_tooltip": null,
            "layout": "IPY_MODEL_db213a8d26164251a04d221991835c98",
            "max": 53,
            "min": 0,
            "orientation": "horizontal",
            "style": "IPY_MODEL_d8ba7e4f1a0346b985f1c1574b432ebd",
            "value": 53
          }
        },
        "1e97efa0a9c64ad999dfa7c785d0cde0": {
          "model_module": "@jupyter-widgets/base",
          "model_module_version": "1.2.0",
          "model_name": "LayoutModel",
          "state": {
            "_model_module": "@jupyter-widgets/base",
            "_model_module_version": "1.2.0",
            "_model_name": "LayoutModel",
            "_view_count": null,
            "_view_module": "@jupyter-widgets/base",
            "_view_module_version": "1.2.0",
            "_view_name": "LayoutView",
            "align_content": null,
            "align_items": null,
            "align_self": null,
            "border": null,
            "bottom": null,
            "display": null,
            "flex": null,
            "flex_flow": null,
            "grid_area": null,
            "grid_auto_columns": null,
            "grid_auto_flow": null,
            "grid_auto_rows": null,
            "grid_column": null,
            "grid_gap": null,
            "grid_row": null,
            "grid_template_areas": null,
            "grid_template_columns": null,
            "grid_template_rows": null,
            "height": null,
            "justify_content": null,
            "justify_items": null,
            "left": null,
            "margin": null,
            "max_height": null,
            "max_width": null,
            "min_height": null,
            "min_width": null,
            "object_fit": null,
            "object_position": null,
            "order": null,
            "overflow": null,
            "overflow_x": null,
            "overflow_y": null,
            "padding": null,
            "right": null,
            "top": null,
            "visibility": null,
            "width": null
          }
        },
        "1e993252ceea487091d7bc60c364e375": {
          "model_module": "@jupyter-widgets/controls",
          "model_module_version": "1.5.0",
          "model_name": "HTMLModel",
          "state": {
            "_dom_classes": [],
            "_model_module": "@jupyter-widgets/controls",
            "_model_module_version": "1.5.0",
            "_model_name": "HTMLModel",
            "_view_count": null,
            "_view_module": "@jupyter-widgets/controls",
            "_view_module_version": "1.5.0",
            "_view_name": "HTMLView",
            "description": "",
            "description_tooltip": null,
            "layout": "IPY_MODEL_43ce2a3bd2e84a5abf82c5302a5fcbdb",
            "placeholder": "​",
            "style": "IPY_MODEL_bc58cdb8725848648e3ae3c1a4535511",
            "value": "special_tokens_map.json: 100%"
          }
        },
        "1fc6a03d3d6943ffbe19988abee8c8d4": {
          "model_module": "@jupyter-widgets/controls",
          "model_module_version": "1.5.0",
          "model_name": "DescriptionStyleModel",
          "state": {
            "_model_module": "@jupyter-widgets/controls",
            "_model_module_version": "1.5.0",
            "_model_name": "DescriptionStyleModel",
            "_view_count": null,
            "_view_module": "@jupyter-widgets/base",
            "_view_module_version": "1.2.0",
            "_view_name": "StyleView",
            "description_width": ""
          }
        },
        "20268da10af14aa8abf98393c3fa5018": {
          "model_module": "@jupyter-widgets/controls",
          "model_module_version": "1.5.0",
          "model_name": "DescriptionStyleModel",
          "state": {
            "_model_module": "@jupyter-widgets/controls",
            "_model_module_version": "1.5.0",
            "_model_name": "DescriptionStyleModel",
            "_view_count": null,
            "_view_module": "@jupyter-widgets/base",
            "_view_module_version": "1.2.0",
            "_view_name": "StyleView",
            "description_width": ""
          }
        },
        "20f0c4cbc85440e08bc2acacb82ead46": {
          "model_module": "@jupyter-widgets/base",
          "model_module_version": "1.2.0",
          "model_name": "LayoutModel",
          "state": {
            "_model_module": "@jupyter-widgets/base",
            "_model_module_version": "1.2.0",
            "_model_name": "LayoutModel",
            "_view_count": null,
            "_view_module": "@jupyter-widgets/base",
            "_view_module_version": "1.2.0",
            "_view_name": "LayoutView",
            "align_content": null,
            "align_items": null,
            "align_self": null,
            "border": null,
            "bottom": null,
            "display": null,
            "flex": null,
            "flex_flow": null,
            "grid_area": null,
            "grid_auto_columns": null,
            "grid_auto_flow": null,
            "grid_auto_rows": null,
            "grid_column": null,
            "grid_gap": null,
            "grid_row": null,
            "grid_template_areas": null,
            "grid_template_columns": null,
            "grid_template_rows": null,
            "height": null,
            "justify_content": null,
            "justify_items": null,
            "left": null,
            "margin": null,
            "max_height": null,
            "max_width": null,
            "min_height": null,
            "min_width": null,
            "object_fit": null,
            "object_position": null,
            "order": null,
            "overflow": null,
            "overflow_x": null,
            "overflow_y": null,
            "padding": null,
            "right": null,
            "top": null,
            "visibility": null,
            "width": null
          }
        },
        "22812fc6445c47f99a8702f68e379006": {
          "model_module": "@jupyter-widgets/controls",
          "model_module_version": "1.5.0",
          "model_name": "HBoxModel",
          "state": {
            "_dom_classes": [],
            "_model_module": "@jupyter-widgets/controls",
            "_model_module_version": "1.5.0",
            "_model_name": "HBoxModel",
            "_view_count": null,
            "_view_module": "@jupyter-widgets/controls",
            "_view_module_version": "1.5.0",
            "_view_name": "HBoxView",
            "box_style": "",
            "children": [
              "IPY_MODEL_343cb894f9984b79aace0cf44bbde215",
              "IPY_MODEL_1e72f73c97654565aea0a35af6ddbbe3",
              "IPY_MODEL_01e752ed6bdb4392a28b2c6f039e08ce"
            ],
            "layout": "IPY_MODEL_af4e49c6cd114a89bb90bf7c0016650b"
          }
        },
        "2c00fa74a20f42de93385eaa1c4a0021": {
          "model_module": "@jupyter-widgets/controls",
          "model_module_version": "1.5.0",
          "model_name": "FloatProgressModel",
          "state": {
            "_dom_classes": [],
            "_model_module": "@jupyter-widgets/controls",
            "_model_module_version": "1.5.0",
            "_model_name": "FloatProgressModel",
            "_view_count": null,
            "_view_module": "@jupyter-widgets/controls",
            "_view_module_version": "1.5.0",
            "_view_name": "ProgressView",
            "bar_style": "success",
            "description": "",
            "description_tooltip": null,
            "layout": "IPY_MODEL_dc9b8e8c9a58451f8236993d2371cb58",
            "max": 1,
            "min": 0,
            "orientation": "horizontal",
            "style": "IPY_MODEL_74d7adf7563e4ddda98905efd4959b88",
            "value": 1
          }
        },
        "2d205da440ec4cc7b40e8941dfedc976": {
          "model_module": "@jupyter-widgets/controls",
          "model_module_version": "1.5.0",
          "model_name": "DescriptionStyleModel",
          "state": {
            "_model_module": "@jupyter-widgets/controls",
            "_model_module_version": "1.5.0",
            "_model_name": "DescriptionStyleModel",
            "_view_count": null,
            "_view_module": "@jupyter-widgets/base",
            "_view_module_version": "1.2.0",
            "_view_name": "StyleView",
            "description_width": ""
          }
        },
        "31c2d1325ab64c76a6005241d17dc83e": {
          "model_module": "@jupyter-widgets/base",
          "model_module_version": "1.2.0",
          "model_name": "LayoutModel",
          "state": {
            "_model_module": "@jupyter-widgets/base",
            "_model_module_version": "1.2.0",
            "_model_name": "LayoutModel",
            "_view_count": null,
            "_view_module": "@jupyter-widgets/base",
            "_view_module_version": "1.2.0",
            "_view_name": "LayoutView",
            "align_content": null,
            "align_items": null,
            "align_self": null,
            "border": null,
            "bottom": null,
            "display": null,
            "flex": null,
            "flex_flow": null,
            "grid_area": null,
            "grid_auto_columns": null,
            "grid_auto_flow": null,
            "grid_auto_rows": null,
            "grid_column": null,
            "grid_gap": null,
            "grid_row": null,
            "grid_template_areas": null,
            "grid_template_columns": null,
            "grid_template_rows": null,
            "height": null,
            "justify_content": null,
            "justify_items": null,
            "left": null,
            "margin": null,
            "max_height": null,
            "max_width": null,
            "min_height": null,
            "min_width": null,
            "object_fit": null,
            "object_position": null,
            "order": null,
            "overflow": null,
            "overflow_x": null,
            "overflow_y": null,
            "padding": null,
            "right": null,
            "top": null,
            "visibility": null,
            "width": null
          }
        },
        "343cb894f9984b79aace0cf44bbde215": {
          "model_module": "@jupyter-widgets/controls",
          "model_module_version": "1.5.0",
          "model_name": "HTMLModel",
          "state": {
            "_dom_classes": [],
            "_model_module": "@jupyter-widgets/controls",
            "_model_module_version": "1.5.0",
            "_model_name": "HTMLModel",
            "_view_count": null,
            "_view_module": "@jupyter-widgets/controls",
            "_view_module_version": "1.5.0",
            "_view_name": "HTMLView",
            "description": "",
            "description_tooltip": null,
            "layout": "IPY_MODEL_ee89caf4dbd244abbdd31a15a312b4f9",
            "placeholder": "​",
            "style": "IPY_MODEL_704167d5ba8f46b8863c5b9353797cee",
            "value": "sentence_bert_config.json: 100%"
          }
        },
        "354d09e07d844342a807a8e8ac9d5912": {
          "model_module": "@jupyter-widgets/controls",
          "model_module_version": "1.5.0",
          "model_name": "DescriptionStyleModel",
          "state": {
            "_model_module": "@jupyter-widgets/controls",
            "_model_module_version": "1.5.0",
            "_model_name": "DescriptionStyleModel",
            "_view_count": null,
            "_view_module": "@jupyter-widgets/base",
            "_view_module_version": "1.2.0",
            "_view_name": "StyleView",
            "description_width": ""
          }
        },
        "360cdfa4fa6843269c4d8b3a39776d25": {
          "model_module": "@jupyter-widgets/base",
          "model_module_version": "1.2.0",
          "model_name": "LayoutModel",
          "state": {
            "_model_module": "@jupyter-widgets/base",
            "_model_module_version": "1.2.0",
            "_model_name": "LayoutModel",
            "_view_count": null,
            "_view_module": "@jupyter-widgets/base",
            "_view_module_version": "1.2.0",
            "_view_name": "LayoutView",
            "align_content": null,
            "align_items": null,
            "align_self": null,
            "border": null,
            "bottom": null,
            "display": null,
            "flex": null,
            "flex_flow": null,
            "grid_area": null,
            "grid_auto_columns": null,
            "grid_auto_flow": null,
            "grid_auto_rows": null,
            "grid_column": null,
            "grid_gap": null,
            "grid_row": null,
            "grid_template_areas": null,
            "grid_template_columns": null,
            "grid_template_rows": null,
            "height": null,
            "justify_content": null,
            "justify_items": null,
            "left": null,
            "margin": null,
            "max_height": null,
            "max_width": null,
            "min_height": null,
            "min_width": null,
            "object_fit": null,
            "object_position": null,
            "order": null,
            "overflow": null,
            "overflow_x": null,
            "overflow_y": null,
            "padding": null,
            "right": null,
            "top": null,
            "visibility": null,
            "width": null
          }
        },
        "391a1d8f76b946cfba872e243d2ad2e8": {
          "model_module": "@jupyter-widgets/controls",
          "model_module_version": "1.5.0",
          "model_name": "HBoxModel",
          "state": {
            "_dom_classes": [],
            "_model_module": "@jupyter-widgets/controls",
            "_model_module_version": "1.5.0",
            "_model_name": "HBoxModel",
            "_view_count": null,
            "_view_module": "@jupyter-widgets/controls",
            "_view_module_version": "1.5.0",
            "_view_name": "HBoxView",
            "box_style": "",
            "children": [
              "IPY_MODEL_aded46e477594feeb0f9b6cd273d2350",
              "IPY_MODEL_5fa0d27792d04b67a015d94d5477c9d3",
              "IPY_MODEL_7dc68c4964c14a50b1c3c4bf99bf883f"
            ],
            "layout": "IPY_MODEL_e75326cc58dc4a63a848685df1e1feb8"
          }
        },
        "3983f259a5e4466e838b5d3baf8b6e5a": {
          "model_module": "@jupyter-widgets/controls",
          "model_module_version": "1.5.0",
          "model_name": "HTMLModel",
          "state": {
            "_dom_classes": [],
            "_model_module": "@jupyter-widgets/controls",
            "_model_module_version": "1.5.0",
            "_model_name": "HTMLModel",
            "_view_count": null,
            "_view_module": "@jupyter-widgets/controls",
            "_view_module_version": "1.5.0",
            "_view_name": "HTMLView",
            "description": "",
            "description_tooltip": null,
            "layout": "IPY_MODEL_fa89e4f126cf4e9baf2c15c689ffd05e",
            "placeholder": "​",
            "style": "IPY_MODEL_956d06c7ad924d77a0f917c571baae1e",
            "value": " 239/239 [00:00&lt;00:00, 20.6kB/s]"
          }
        },
        "3a19e68e814a45198ded7648c0fb72de": {
          "model_module": "@jupyter-widgets/controls",
          "model_module_version": "1.5.0",
          "model_name": "ProgressStyleModel",
          "state": {
            "_model_module": "@jupyter-widgets/controls",
            "_model_module_version": "1.5.0",
            "_model_name": "ProgressStyleModel",
            "_view_count": null,
            "_view_module": "@jupyter-widgets/base",
            "_view_module_version": "1.2.0",
            "_view_name": "StyleView",
            "bar_color": null,
            "description_width": ""
          }
        },
        "4364b21ab6fa443a9f1f8ef4828468b4": {
          "model_module": "@jupyter-widgets/base",
          "model_module_version": "1.2.0",
          "model_name": "LayoutModel",
          "state": {
            "_model_module": "@jupyter-widgets/base",
            "_model_module_version": "1.2.0",
            "_model_name": "LayoutModel",
            "_view_count": null,
            "_view_module": "@jupyter-widgets/base",
            "_view_module_version": "1.2.0",
            "_view_name": "LayoutView",
            "align_content": null,
            "align_items": null,
            "align_self": null,
            "border": null,
            "bottom": null,
            "display": null,
            "flex": null,
            "flex_flow": null,
            "grid_area": null,
            "grid_auto_columns": null,
            "grid_auto_flow": null,
            "grid_auto_rows": null,
            "grid_column": null,
            "grid_gap": null,
            "grid_row": null,
            "grid_template_areas": null,
            "grid_template_columns": null,
            "grid_template_rows": null,
            "height": null,
            "justify_content": null,
            "justify_items": null,
            "left": null,
            "margin": null,
            "max_height": null,
            "max_width": null,
            "min_height": null,
            "min_width": null,
            "object_fit": null,
            "object_position": null,
            "order": null,
            "overflow": null,
            "overflow_x": null,
            "overflow_y": null,
            "padding": null,
            "right": null,
            "top": null,
            "visibility": null,
            "width": null
          }
        },
        "43ce2a3bd2e84a5abf82c5302a5fcbdb": {
          "model_module": "@jupyter-widgets/base",
          "model_module_version": "1.2.0",
          "model_name": "LayoutModel",
          "state": {
            "_model_module": "@jupyter-widgets/base",
            "_model_module_version": "1.2.0",
            "_model_name": "LayoutModel",
            "_view_count": null,
            "_view_module": "@jupyter-widgets/base",
            "_view_module_version": "1.2.0",
            "_view_name": "LayoutView",
            "align_content": null,
            "align_items": null,
            "align_self": null,
            "border": null,
            "bottom": null,
            "display": null,
            "flex": null,
            "flex_flow": null,
            "grid_area": null,
            "grid_auto_columns": null,
            "grid_auto_flow": null,
            "grid_auto_rows": null,
            "grid_column": null,
            "grid_gap": null,
            "grid_row": null,
            "grid_template_areas": null,
            "grid_template_columns": null,
            "grid_template_rows": null,
            "height": null,
            "justify_content": null,
            "justify_items": null,
            "left": null,
            "margin": null,
            "max_height": null,
            "max_width": null,
            "min_height": null,
            "min_width": null,
            "object_fit": null,
            "object_position": null,
            "order": null,
            "overflow": null,
            "overflow_x": null,
            "overflow_y": null,
            "padding": null,
            "right": null,
            "top": null,
            "visibility": null,
            "width": null
          }
        },
        "4ac63adb8ce04906a5df135ec7b06db9": {
          "model_module": "@jupyter-widgets/controls",
          "model_module_version": "1.5.0",
          "model_name": "FloatProgressModel",
          "state": {
            "_dom_classes": [],
            "_model_module": "@jupyter-widgets/controls",
            "_model_module_version": "1.5.0",
            "_model_name": "FloatProgressModel",
            "_view_count": null,
            "_view_module": "@jupyter-widgets/controls",
            "_view_module_version": "1.5.0",
            "_view_name": "ProgressView",
            "bar_style": "success",
            "description": "",
            "description_tooltip": null,
            "layout": "IPY_MODEL_e5f84e5ef3744c949866862534a1c01c",
            "max": 229,
            "min": 0,
            "orientation": "horizontal",
            "style": "IPY_MODEL_4f9926ac92344d14b67bb30581169edf",
            "value": 229
          }
        },
        "4af0aba09ad142d4a8f3cd515e64e701": {
          "model_module": "@jupyter-widgets/base",
          "model_module_version": "1.2.0",
          "model_name": "LayoutModel",
          "state": {
            "_model_module": "@jupyter-widgets/base",
            "_model_module_version": "1.2.0",
            "_model_name": "LayoutModel",
            "_view_count": null,
            "_view_module": "@jupyter-widgets/base",
            "_view_module_version": "1.2.0",
            "_view_name": "LayoutView",
            "align_content": null,
            "align_items": null,
            "align_self": null,
            "border": null,
            "bottom": null,
            "display": null,
            "flex": null,
            "flex_flow": null,
            "grid_area": null,
            "grid_auto_columns": null,
            "grid_auto_flow": null,
            "grid_auto_rows": null,
            "grid_column": null,
            "grid_gap": null,
            "grid_row": null,
            "grid_template_areas": null,
            "grid_template_columns": null,
            "grid_template_rows": null,
            "height": null,
            "justify_content": null,
            "justify_items": null,
            "left": null,
            "margin": null,
            "max_height": null,
            "max_width": null,
            "min_height": null,
            "min_width": null,
            "object_fit": null,
            "object_position": null,
            "order": null,
            "overflow": null,
            "overflow_x": null,
            "overflow_y": null,
            "padding": null,
            "right": null,
            "top": null,
            "visibility": null,
            "width": null
          }
        },
        "4b4deca8a569434eb8bc86405a9d8b99": {
          "model_module": "@jupyter-widgets/base",
          "model_module_version": "1.2.0",
          "model_name": "LayoutModel",
          "state": {
            "_model_module": "@jupyter-widgets/base",
            "_model_module_version": "1.2.0",
            "_model_name": "LayoutModel",
            "_view_count": null,
            "_view_module": "@jupyter-widgets/base",
            "_view_module_version": "1.2.0",
            "_view_name": "LayoutView",
            "align_content": null,
            "align_items": null,
            "align_self": null,
            "border": null,
            "bottom": null,
            "display": null,
            "flex": null,
            "flex_flow": null,
            "grid_area": null,
            "grid_auto_columns": null,
            "grid_auto_flow": null,
            "grid_auto_rows": null,
            "grid_column": null,
            "grid_gap": null,
            "grid_row": null,
            "grid_template_areas": null,
            "grid_template_columns": null,
            "grid_template_rows": null,
            "height": null,
            "justify_content": null,
            "justify_items": null,
            "left": null,
            "margin": null,
            "max_height": null,
            "max_width": null,
            "min_height": null,
            "min_width": null,
            "object_fit": null,
            "object_position": null,
            "order": null,
            "overflow": null,
            "overflow_x": null,
            "overflow_y": null,
            "padding": null,
            "right": null,
            "top": null,
            "visibility": null,
            "width": null
          }
        },
        "4e58c66243f24293af5bcdc2e87c3f23": {
          "model_module": "@jupyter-widgets/controls",
          "model_module_version": "1.5.0",
          "model_name": "HTMLModel",
          "state": {
            "_dom_classes": [],
            "_model_module": "@jupyter-widgets/controls",
            "_model_module_version": "1.5.0",
            "_model_name": "HTMLModel",
            "_view_count": null,
            "_view_module": "@jupyter-widgets/controls",
            "_view_module_version": "1.5.0",
            "_view_name": "HTMLView",
            "description": "",
            "description_tooltip": null,
            "layout": "IPY_MODEL_0a419c13b8ed4b7e81615999e3a6492f",
            "placeholder": "​",
            "style": "IPY_MODEL_f1da0a23847d4d74a22e9434bbac2fd3",
            "value": "tokenizer_config.json: 100%"
          }
        },
        "4ea9cee427c7404397d1c271767f1ce7": {
          "model_module": "@jupyter-widgets/base",
          "model_module_version": "1.2.0",
          "model_name": "LayoutModel",
          "state": {
            "_model_module": "@jupyter-widgets/base",
            "_model_module_version": "1.2.0",
            "_model_name": "LayoutModel",
            "_view_count": null,
            "_view_module": "@jupyter-widgets/base",
            "_view_module_version": "1.2.0",
            "_view_name": "LayoutView",
            "align_content": null,
            "align_items": null,
            "align_self": null,
            "border": null,
            "bottom": null,
            "display": null,
            "flex": null,
            "flex_flow": null,
            "grid_area": null,
            "grid_auto_columns": null,
            "grid_auto_flow": null,
            "grid_auto_rows": null,
            "grid_column": null,
            "grid_gap": null,
            "grid_row": null,
            "grid_template_areas": null,
            "grid_template_columns": null,
            "grid_template_rows": null,
            "height": null,
            "justify_content": null,
            "justify_items": null,
            "left": null,
            "margin": null,
            "max_height": null,
            "max_width": null,
            "min_height": null,
            "min_width": null,
            "object_fit": null,
            "object_position": null,
            "order": null,
            "overflow": null,
            "overflow_x": null,
            "overflow_y": null,
            "padding": null,
            "right": null,
            "top": null,
            "visibility": null,
            "width": null
          }
        },
        "4eb1fde615cc4cdbbb3392138f1baa4b": {
          "model_module": "@jupyter-widgets/base",
          "model_module_version": "1.2.0",
          "model_name": "LayoutModel",
          "state": {
            "_model_module": "@jupyter-widgets/base",
            "_model_module_version": "1.2.0",
            "_model_name": "LayoutModel",
            "_view_count": null,
            "_view_module": "@jupyter-widgets/base",
            "_view_module_version": "1.2.0",
            "_view_name": "LayoutView",
            "align_content": null,
            "align_items": null,
            "align_self": null,
            "border": null,
            "bottom": null,
            "display": null,
            "flex": null,
            "flex_flow": null,
            "grid_area": null,
            "grid_auto_columns": null,
            "grid_auto_flow": null,
            "grid_auto_rows": null,
            "grid_column": null,
            "grid_gap": null,
            "grid_row": null,
            "grid_template_areas": null,
            "grid_template_columns": null,
            "grid_template_rows": null,
            "height": null,
            "justify_content": null,
            "justify_items": null,
            "left": null,
            "margin": null,
            "max_height": null,
            "max_width": null,
            "min_height": null,
            "min_width": null,
            "object_fit": null,
            "object_position": null,
            "order": null,
            "overflow": null,
            "overflow_x": null,
            "overflow_y": null,
            "padding": null,
            "right": null,
            "top": null,
            "visibility": null,
            "width": null
          }
        },
        "4f1cbf14553446c19e1a86b778f06c43": {
          "model_module": "@jupyter-widgets/controls",
          "model_module_version": "1.5.0",
          "model_name": "ProgressStyleModel",
          "state": {
            "_model_module": "@jupyter-widgets/controls",
            "_model_module_version": "1.5.0",
            "_model_name": "ProgressStyleModel",
            "_view_count": null,
            "_view_module": "@jupyter-widgets/base",
            "_view_module_version": "1.2.0",
            "_view_name": "StyleView",
            "bar_color": null,
            "description_width": ""
          }
        },
        "4f9926ac92344d14b67bb30581169edf": {
          "model_module": "@jupyter-widgets/controls",
          "model_module_version": "1.5.0",
          "model_name": "ProgressStyleModel",
          "state": {
            "_model_module": "@jupyter-widgets/controls",
            "_model_module_version": "1.5.0",
            "_model_name": "ProgressStyleModel",
            "_view_count": null,
            "_view_module": "@jupyter-widgets/base",
            "_view_module_version": "1.2.0",
            "_view_name": "StyleView",
            "bar_color": null,
            "description_width": ""
          }
        },
        "4fc68cff0ff04929bb73ece3d9743e5a": {
          "model_module": "@jupyter-widgets/controls",
          "model_module_version": "1.5.0",
          "model_name": "FloatProgressModel",
          "state": {
            "_dom_classes": [],
            "_model_module": "@jupyter-widgets/controls",
            "_model_module_version": "1.5.0",
            "_model_name": "FloatProgressModel",
            "_view_count": null,
            "_view_module": "@jupyter-widgets/controls",
            "_view_module_version": "1.5.0",
            "_view_name": "ProgressView",
            "bar_style": "success",
            "description": "",
            "description_tooltip": null,
            "layout": "IPY_MODEL_4b4deca8a569434eb8bc86405a9d8b99",
            "max": 190,
            "min": 0,
            "orientation": "horizontal",
            "style": "IPY_MODEL_134ff2e05ddd4ae3849172c0afb340d7",
            "value": 190
          }
        },
        "51222f25f646402c86f8ac93b269da3b": {
          "model_module": "@jupyter-widgets/controls",
          "model_module_version": "1.5.0",
          "model_name": "ProgressStyleModel",
          "state": {
            "_model_module": "@jupyter-widgets/controls",
            "_model_module_version": "1.5.0",
            "_model_name": "ProgressStyleModel",
            "_view_count": null,
            "_view_module": "@jupyter-widgets/base",
            "_view_module_version": "1.2.0",
            "_view_name": "StyleView",
            "bar_color": null,
            "description_width": ""
          }
        },
        "52359a596bd64fb698b6d0b194162346": {
          "model_module": "@jupyter-widgets/base",
          "model_module_version": "1.2.0",
          "model_name": "LayoutModel",
          "state": {
            "_model_module": "@jupyter-widgets/base",
            "_model_module_version": "1.2.0",
            "_model_name": "LayoutModel",
            "_view_count": null,
            "_view_module": "@jupyter-widgets/base",
            "_view_module_version": "1.2.0",
            "_view_name": "LayoutView",
            "align_content": null,
            "align_items": null,
            "align_self": null,
            "border": null,
            "bottom": null,
            "display": null,
            "flex": null,
            "flex_flow": null,
            "grid_area": null,
            "grid_auto_columns": null,
            "grid_auto_flow": null,
            "grid_auto_rows": null,
            "grid_column": null,
            "grid_gap": null,
            "grid_row": null,
            "grid_template_areas": null,
            "grid_template_columns": null,
            "grid_template_rows": null,
            "height": null,
            "justify_content": null,
            "justify_items": null,
            "left": null,
            "margin": null,
            "max_height": null,
            "max_width": null,
            "min_height": null,
            "min_width": null,
            "object_fit": null,
            "object_position": null,
            "order": null,
            "overflow": null,
            "overflow_x": null,
            "overflow_y": null,
            "padding": null,
            "right": null,
            "top": null,
            "visibility": null,
            "width": null
          }
        },
        "54391ba4dceb43ab8337e75b35207b4d": {
          "model_module": "@jupyter-widgets/controls",
          "model_module_version": "1.5.0",
          "model_name": "FloatProgressModel",
          "state": {
            "_dom_classes": [],
            "_model_module": "@jupyter-widgets/controls",
            "_model_module_version": "1.5.0",
            "_model_name": "FloatProgressModel",
            "_view_count": null,
            "_view_module": "@jupyter-widgets/controls",
            "_view_module_version": "1.5.0",
            "_view_name": "ProgressView",
            "bar_style": "success",
            "description": "",
            "description_tooltip": null,
            "layout": "IPY_MODEL_4ea9cee427c7404397d1c271767f1ce7",
            "max": 470641600,
            "min": 0,
            "orientation": "horizontal",
            "style": "IPY_MODEL_e63ac5bbafd047cf940693d1f987cb45",
            "value": 470641600
          }
        },
        "5598e2f9ab754473826e7e703c52b762": {
          "model_module": "@jupyter-widgets/controls",
          "model_module_version": "1.5.0",
          "model_name": "ProgressStyleModel",
          "state": {
            "_model_module": "@jupyter-widgets/controls",
            "_model_module_version": "1.5.0",
            "_model_name": "ProgressStyleModel",
            "_view_count": null,
            "_view_module": "@jupyter-widgets/base",
            "_view_module_version": "1.2.0",
            "_view_name": "StyleView",
            "bar_color": null,
            "description_width": ""
          }
        },
        "562751b88e8842ffadd2ef03da720431": {
          "model_module": "@jupyter-widgets/controls",
          "model_module_version": "1.5.0",
          "model_name": "HBoxModel",
          "state": {
            "_dom_classes": [],
            "_model_module": "@jupyter-widgets/controls",
            "_model_module_version": "1.5.0",
            "_model_name": "HBoxModel",
            "_view_count": null,
            "_view_module": "@jupyter-widgets/controls",
            "_view_module_version": "1.5.0",
            "_view_name": "HBoxView",
            "box_style": "",
            "children": [
              "IPY_MODEL_f2740bf454ef41fabe1d2aebfc441e73",
              "IPY_MODEL_820fdf12cfe84856b3f4735d310b4111",
              "IPY_MODEL_f731d3a72201431cae72788cc818269a"
            ],
            "layout": "IPY_MODEL_4af0aba09ad142d4a8f3cd515e64e701"
          }
        },
        "570666d79a4f416d9049d2fc14998f20": {
          "model_module": "@jupyter-widgets/controls",
          "model_module_version": "1.5.0",
          "model_name": "ProgressStyleModel",
          "state": {
            "_model_module": "@jupyter-widgets/controls",
            "_model_module_version": "1.5.0",
            "_model_name": "ProgressStyleModel",
            "_view_count": null,
            "_view_module": "@jupyter-widgets/base",
            "_view_module_version": "1.2.0",
            "_view_name": "StyleView",
            "bar_color": null,
            "description_width": ""
          }
        },
        "5de6c80337274075ac0fb97974322b82": {
          "model_module": "@jupyter-widgets/controls",
          "model_module_version": "1.5.0",
          "model_name": "HBoxModel",
          "state": {
            "_dom_classes": [],
            "_model_module": "@jupyter-widgets/controls",
            "_model_module_version": "1.5.0",
            "_model_name": "HBoxModel",
            "_view_count": null,
            "_view_module": "@jupyter-widgets/controls",
            "_view_module_version": "1.5.0",
            "_view_name": "HBoxView",
            "box_style": "",
            "children": [
              "IPY_MODEL_6e7c524ca1c44fddb2c8a035076a9130",
              "IPY_MODEL_b62e70b85ee249138de2803f9ac96b13",
              "IPY_MODEL_9c44bfc9a02240e58921f8f74fa76c13"
            ],
            "layout": "IPY_MODEL_f43cbd4582c34e3d87a8243c31505064"
          }
        },
        "5fa0d27792d04b67a015d94d5477c9d3": {
          "model_module": "@jupyter-widgets/controls",
          "model_module_version": "1.5.0",
          "model_name": "FloatProgressModel",
          "state": {
            "_dom_classes": [],
            "_model_module": "@jupyter-widgets/controls",
            "_model_module_version": "1.5.0",
            "_model_name": "FloatProgressModel",
            "_view_count": null,
            "_view_module": "@jupyter-widgets/controls",
            "_view_module_version": "1.5.0",
            "_view_name": "ProgressView",
            "bar_style": "success",
            "description": "",
            "description_tooltip": null,
            "layout": "IPY_MODEL_732a2932c9444b6fa0804b3f415e276d",
            "max": 122,
            "min": 0,
            "orientation": "horizontal",
            "style": "IPY_MODEL_51222f25f646402c86f8ac93b269da3b",
            "value": 122
          }
        },
        "619af71d630043df98a5ca3183356a37": {
          "model_module": "@jupyter-widgets/controls",
          "model_module_version": "1.5.0",
          "model_name": "HTMLModel",
          "state": {
            "_dom_classes": [],
            "_model_module": "@jupyter-widgets/controls",
            "_model_module_version": "1.5.0",
            "_model_name": "HTMLModel",
            "_view_count": null,
            "_view_module": "@jupyter-widgets/controls",
            "_view_module_version": "1.5.0",
            "_view_name": "HTMLView",
            "description": "",
            "description_tooltip": null,
            "layout": "IPY_MODEL_bb412f49aace4eb3ab8b332829d38734",
            "placeholder": "​",
            "style": "IPY_MODEL_08f63abb66f24f2db663550a3ce8d278",
            "value": " 471M/471M [00:19&lt;00:00, 23.9MB/s]"
          }
        },
        "6241c651279244d19e183ab80c500d87": {
          "model_module": "@jupyter-widgets/controls",
          "model_module_version": "1.5.0",
          "model_name": "HTMLModel",
          "state": {
            "_dom_classes": [],
            "_model_module": "@jupyter-widgets/controls",
            "_model_module_version": "1.5.0",
            "_model_name": "HTMLModel",
            "_view_count": null,
            "_view_module": "@jupyter-widgets/controls",
            "_view_module_version": "1.5.0",
            "_view_name": "HTMLView",
            "description": "",
            "description_tooltip": null,
            "layout": "IPY_MODEL_871864d2995741f6b53a6a4694f8d2d6",
            "placeholder": "​",
            "style": "IPY_MODEL_f82ee2719b4e47f1ac29df0ee2ed7ee7",
            "value": "README.md: "
          }
        },
        "65a582d96e8644138e147765aa30fcec": {
          "model_module": "@jupyter-widgets/base",
          "model_module_version": "1.2.0",
          "model_name": "LayoutModel",
          "state": {
            "_model_module": "@jupyter-widgets/base",
            "_model_module_version": "1.2.0",
            "_model_name": "LayoutModel",
            "_view_count": null,
            "_view_module": "@jupyter-widgets/base",
            "_view_module_version": "1.2.0",
            "_view_name": "LayoutView",
            "align_content": null,
            "align_items": null,
            "align_self": null,
            "border": null,
            "bottom": null,
            "display": null,
            "flex": null,
            "flex_flow": null,
            "grid_area": null,
            "grid_auto_columns": null,
            "grid_auto_flow": null,
            "grid_auto_rows": null,
            "grid_column": null,
            "grid_gap": null,
            "grid_row": null,
            "grid_template_areas": null,
            "grid_template_columns": null,
            "grid_template_rows": null,
            "height": null,
            "justify_content": null,
            "justify_items": null,
            "left": null,
            "margin": null,
            "max_height": null,
            "max_width": null,
            "min_height": null,
            "min_width": null,
            "object_fit": null,
            "object_position": null,
            "order": null,
            "overflow": null,
            "overflow_x": null,
            "overflow_y": null,
            "padding": null,
            "right": null,
            "top": null,
            "visibility": null,
            "width": null
          }
        },
        "65c3d9ef46ab44e4ab63dbf99cae301b": {
          "model_module": "@jupyter-widgets/controls",
          "model_module_version": "1.5.0",
          "model_name": "DescriptionStyleModel",
          "state": {
            "_model_module": "@jupyter-widgets/controls",
            "_model_module_version": "1.5.0",
            "_model_name": "DescriptionStyleModel",
            "_view_count": null,
            "_view_module": "@jupyter-widgets/base",
            "_view_module_version": "1.2.0",
            "_view_name": "StyleView",
            "description_width": ""
          }
        },
        "6686c9add1cd4a9d8588cf4592584842": {
          "model_module": "@jupyter-widgets/base",
          "model_module_version": "1.2.0",
          "model_name": "LayoutModel",
          "state": {
            "_model_module": "@jupyter-widgets/base",
            "_model_module_version": "1.2.0",
            "_model_name": "LayoutModel",
            "_view_count": null,
            "_view_module": "@jupyter-widgets/base",
            "_view_module_version": "1.2.0",
            "_view_name": "LayoutView",
            "align_content": null,
            "align_items": null,
            "align_self": null,
            "border": null,
            "bottom": null,
            "display": null,
            "flex": null,
            "flex_flow": null,
            "grid_area": null,
            "grid_auto_columns": null,
            "grid_auto_flow": null,
            "grid_auto_rows": null,
            "grid_column": null,
            "grid_gap": null,
            "grid_row": null,
            "grid_template_areas": null,
            "grid_template_columns": null,
            "grid_template_rows": null,
            "height": null,
            "justify_content": null,
            "justify_items": null,
            "left": null,
            "margin": null,
            "max_height": null,
            "max_width": null,
            "min_height": null,
            "min_width": null,
            "object_fit": null,
            "object_position": null,
            "order": null,
            "overflow": null,
            "overflow_x": null,
            "overflow_y": null,
            "padding": null,
            "right": null,
            "top": null,
            "visibility": null,
            "width": null
          }
        },
        "6e7c524ca1c44fddb2c8a035076a9130": {
          "model_module": "@jupyter-widgets/controls",
          "model_module_version": "1.5.0",
          "model_name": "HTMLModel",
          "state": {
            "_dom_classes": [],
            "_model_module": "@jupyter-widgets/controls",
            "_model_module_version": "1.5.0",
            "_model_name": "HTMLModel",
            "_view_count": null,
            "_view_module": "@jupyter-widgets/controls",
            "_view_module_version": "1.5.0",
            "_view_name": "HTMLView",
            "description": "",
            "description_tooltip": null,
            "layout": "IPY_MODEL_52359a596bd64fb698b6d0b194162346",
            "placeholder": "​",
            "style": "IPY_MODEL_99e9d4f334994341af28a0930965fc8c",
            "value": "config.json: 100%"
          }
        },
        "704167d5ba8f46b8863c5b9353797cee": {
          "model_module": "@jupyter-widgets/controls",
          "model_module_version": "1.5.0",
          "model_name": "DescriptionStyleModel",
          "state": {
            "_model_module": "@jupyter-widgets/controls",
            "_model_module_version": "1.5.0",
            "_model_name": "DescriptionStyleModel",
            "_view_count": null,
            "_view_module": "@jupyter-widgets/base",
            "_view_module_version": "1.2.0",
            "_view_name": "StyleView",
            "description_width": ""
          }
        },
        "722c599f78d44a1c90ebbc2d5a8050ba": {
          "model_module": "@jupyter-widgets/controls",
          "model_module_version": "1.5.0",
          "model_name": "DescriptionStyleModel",
          "state": {
            "_model_module": "@jupyter-widgets/controls",
            "_model_module_version": "1.5.0",
            "_model_name": "DescriptionStyleModel",
            "_view_count": null,
            "_view_module": "@jupyter-widgets/base",
            "_view_module_version": "1.2.0",
            "_view_name": "StyleView",
            "description_width": ""
          }
        },
        "732a2932c9444b6fa0804b3f415e276d": {
          "model_module": "@jupyter-widgets/base",
          "model_module_version": "1.2.0",
          "model_name": "LayoutModel",
          "state": {
            "_model_module": "@jupyter-widgets/base",
            "_model_module_version": "1.2.0",
            "_model_name": "LayoutModel",
            "_view_count": null,
            "_view_module": "@jupyter-widgets/base",
            "_view_module_version": "1.2.0",
            "_view_name": "LayoutView",
            "align_content": null,
            "align_items": null,
            "align_self": null,
            "border": null,
            "bottom": null,
            "display": null,
            "flex": null,
            "flex_flow": null,
            "grid_area": null,
            "grid_auto_columns": null,
            "grid_auto_flow": null,
            "grid_auto_rows": null,
            "grid_column": null,
            "grid_gap": null,
            "grid_row": null,
            "grid_template_areas": null,
            "grid_template_columns": null,
            "grid_template_rows": null,
            "height": null,
            "justify_content": null,
            "justify_items": null,
            "left": null,
            "margin": null,
            "max_height": null,
            "max_width": null,
            "min_height": null,
            "min_width": null,
            "object_fit": null,
            "object_position": null,
            "order": null,
            "overflow": null,
            "overflow_x": null,
            "overflow_y": null,
            "padding": null,
            "right": null,
            "top": null,
            "visibility": null,
            "width": null
          }
        },
        "74d7adf7563e4ddda98905efd4959b88": {
          "model_module": "@jupyter-widgets/controls",
          "model_module_version": "1.5.0",
          "model_name": "ProgressStyleModel",
          "state": {
            "_model_module": "@jupyter-widgets/controls",
            "_model_module_version": "1.5.0",
            "_model_name": "ProgressStyleModel",
            "_view_count": null,
            "_view_module": "@jupyter-widgets/base",
            "_view_module_version": "1.2.0",
            "_view_name": "StyleView",
            "bar_color": null,
            "description_width": ""
          }
        },
        "7723f61f1acc42ecbbe628c9c4212c8c": {
          "model_module": "@jupyter-widgets/controls",
          "model_module_version": "1.5.0",
          "model_name": "DescriptionStyleModel",
          "state": {
            "_model_module": "@jupyter-widgets/controls",
            "_model_module_version": "1.5.0",
            "_model_name": "DescriptionStyleModel",
            "_view_count": null,
            "_view_module": "@jupyter-widgets/base",
            "_view_module_version": "1.2.0",
            "_view_name": "StyleView",
            "description_width": ""
          }
        },
        "78863ae434284154b3fc903d63355718": {
          "model_module": "@jupyter-widgets/base",
          "model_module_version": "1.2.0",
          "model_name": "LayoutModel",
          "state": {
            "_model_module": "@jupyter-widgets/base",
            "_model_module_version": "1.2.0",
            "_model_name": "LayoutModel",
            "_view_count": null,
            "_view_module": "@jupyter-widgets/base",
            "_view_module_version": "1.2.0",
            "_view_name": "LayoutView",
            "align_content": null,
            "align_items": null,
            "align_self": null,
            "border": null,
            "bottom": null,
            "display": null,
            "flex": null,
            "flex_flow": null,
            "grid_area": null,
            "grid_auto_columns": null,
            "grid_auto_flow": null,
            "grid_auto_rows": null,
            "grid_column": null,
            "grid_gap": null,
            "grid_row": null,
            "grid_template_areas": null,
            "grid_template_columns": null,
            "grid_template_rows": null,
            "height": null,
            "justify_content": null,
            "justify_items": null,
            "left": null,
            "margin": null,
            "max_height": null,
            "max_width": null,
            "min_height": null,
            "min_width": null,
            "object_fit": null,
            "object_position": null,
            "order": null,
            "overflow": null,
            "overflow_x": null,
            "overflow_y": null,
            "padding": null,
            "right": null,
            "top": null,
            "visibility": null,
            "width": null
          }
        },
        "7dc68c4964c14a50b1c3c4bf99bf883f": {
          "model_module": "@jupyter-widgets/controls",
          "model_module_version": "1.5.0",
          "model_name": "HTMLModel",
          "state": {
            "_dom_classes": [],
            "_model_module": "@jupyter-widgets/controls",
            "_model_module_version": "1.5.0",
            "_model_name": "HTMLModel",
            "_view_count": null,
            "_view_module": "@jupyter-widgets/controls",
            "_view_module_version": "1.5.0",
            "_view_name": "HTMLView",
            "description": "",
            "description_tooltip": null,
            "layout": "IPY_MODEL_20f0c4cbc85440e08bc2acacb82ead46",
            "placeholder": "​",
            "style": "IPY_MODEL_7723f61f1acc42ecbbe628c9c4212c8c",
            "value": " 122/122 [00:00&lt;00:00, 10.7kB/s]"
          }
        },
        "818213ba788c419f820cf373f23433a5": {
          "model_module": "@jupyter-widgets/controls",
          "model_module_version": "1.5.0",
          "model_name": "HBoxModel",
          "state": {
            "_dom_classes": [],
            "_model_module": "@jupyter-widgets/controls",
            "_model_module_version": "1.5.0",
            "_model_name": "HBoxModel",
            "_view_count": null,
            "_view_module": "@jupyter-widgets/controls",
            "_view_module_version": "1.5.0",
            "_view_name": "HBoxView",
            "box_style": "",
            "children": [
              "IPY_MODEL_6241c651279244d19e183ab80c500d87",
              "IPY_MODEL_2c00fa74a20f42de93385eaa1c4a0021",
              "IPY_MODEL_9e2eaf9e197f476d842402f75617fc48"
            ],
            "layout": "IPY_MODEL_1e97efa0a9c64ad999dfa7c785d0cde0"
          }
        },
        "81a29301e0b743e3acc8d86cbd9672a8": {
          "model_module": "@jupyter-widgets/controls",
          "model_module_version": "1.5.0",
          "model_name": "HTMLModel",
          "state": {
            "_dom_classes": [],
            "_model_module": "@jupyter-widgets/controls",
            "_model_module_version": "1.5.0",
            "_model_name": "HTMLModel",
            "_view_count": null,
            "_view_module": "@jupyter-widgets/controls",
            "_view_module_version": "1.5.0",
            "_view_name": "HTMLView",
            "description": "",
            "description_tooltip": null,
            "layout": "IPY_MODEL_af45b32430ef4a3bbbdfd78f28e49adb",
            "placeholder": "​",
            "style": "IPY_MODEL_c5314e3bba424b77ba495926cabb3c1f",
            "value": "modules.json: 100%"
          }
        },
        "820fdf12cfe84856b3f4735d310b4111": {
          "model_module": "@jupyter-widgets/controls",
          "model_module_version": "1.5.0",
          "model_name": "FloatProgressModel",
          "state": {
            "_dom_classes": [],
            "_model_module": "@jupyter-widgets/controls",
            "_model_module_version": "1.5.0",
            "_model_name": "FloatProgressModel",
            "_view_count": null,
            "_view_module": "@jupyter-widgets/controls",
            "_view_module_version": "1.5.0",
            "_view_name": "ProgressView",
            "bar_style": "success",
            "description": "",
            "description_tooltip": null,
            "layout": "IPY_MODEL_b2c8640bf9e046f99c5594001c213792",
            "max": 9081518,
            "min": 0,
            "orientation": "horizontal",
            "style": "IPY_MODEL_570666d79a4f416d9049d2fc14998f20",
            "value": 9081518
          }
        },
        "849aaf7fdd96490fafedee10fc1655de": {
          "model_module": "@jupyter-widgets/base",
          "model_module_version": "1.2.0",
          "model_name": "LayoutModel",
          "state": {
            "_model_module": "@jupyter-widgets/base",
            "_model_module_version": "1.2.0",
            "_model_name": "LayoutModel",
            "_view_count": null,
            "_view_module": "@jupyter-widgets/base",
            "_view_module_version": "1.2.0",
            "_view_name": "LayoutView",
            "align_content": null,
            "align_items": null,
            "align_self": null,
            "border": null,
            "bottom": null,
            "display": null,
            "flex": null,
            "flex_flow": null,
            "grid_area": null,
            "grid_auto_columns": null,
            "grid_auto_flow": null,
            "grid_auto_rows": null,
            "grid_column": null,
            "grid_gap": null,
            "grid_row": null,
            "grid_template_areas": null,
            "grid_template_columns": null,
            "grid_template_rows": null,
            "height": null,
            "justify_content": null,
            "justify_items": null,
            "left": null,
            "margin": null,
            "max_height": null,
            "max_width": null,
            "min_height": null,
            "min_width": null,
            "object_fit": null,
            "object_position": null,
            "order": null,
            "overflow": null,
            "overflow_x": null,
            "overflow_y": null,
            "padding": null,
            "right": null,
            "top": null,
            "visibility": null,
            "width": null
          }
        },
        "852e0ec7cdaf4b7c912603f927f85d77": {
          "model_module": "@jupyter-widgets/base",
          "model_module_version": "1.2.0",
          "model_name": "LayoutModel",
          "state": {
            "_model_module": "@jupyter-widgets/base",
            "_model_module_version": "1.2.0",
            "_model_name": "LayoutModel",
            "_view_count": null,
            "_view_module": "@jupyter-widgets/base",
            "_view_module_version": "1.2.0",
            "_view_name": "LayoutView",
            "align_content": null,
            "align_items": null,
            "align_self": null,
            "border": null,
            "bottom": null,
            "display": null,
            "flex": null,
            "flex_flow": null,
            "grid_area": null,
            "grid_auto_columns": null,
            "grid_auto_flow": null,
            "grid_auto_rows": null,
            "grid_column": null,
            "grid_gap": null,
            "grid_row": null,
            "grid_template_areas": null,
            "grid_template_columns": null,
            "grid_template_rows": null,
            "height": null,
            "justify_content": null,
            "justify_items": null,
            "left": null,
            "margin": null,
            "max_height": null,
            "max_width": null,
            "min_height": null,
            "min_width": null,
            "object_fit": null,
            "object_position": null,
            "order": null,
            "overflow": null,
            "overflow_x": null,
            "overflow_y": null,
            "padding": null,
            "right": null,
            "top": null,
            "visibility": null,
            "width": null
          }
        },
        "871864d2995741f6b53a6a4694f8d2d6": {
          "model_module": "@jupyter-widgets/base",
          "model_module_version": "1.2.0",
          "model_name": "LayoutModel",
          "state": {
            "_model_module": "@jupyter-widgets/base",
            "_model_module_version": "1.2.0",
            "_model_name": "LayoutModel",
            "_view_count": null,
            "_view_module": "@jupyter-widgets/base",
            "_view_module_version": "1.2.0",
            "_view_name": "LayoutView",
            "align_content": null,
            "align_items": null,
            "align_self": null,
            "border": null,
            "bottom": null,
            "display": null,
            "flex": null,
            "flex_flow": null,
            "grid_area": null,
            "grid_auto_columns": null,
            "grid_auto_flow": null,
            "grid_auto_rows": null,
            "grid_column": null,
            "grid_gap": null,
            "grid_row": null,
            "grid_template_areas": null,
            "grid_template_columns": null,
            "grid_template_rows": null,
            "height": null,
            "justify_content": null,
            "justify_items": null,
            "left": null,
            "margin": null,
            "max_height": null,
            "max_width": null,
            "min_height": null,
            "min_width": null,
            "object_fit": null,
            "object_position": null,
            "order": null,
            "overflow": null,
            "overflow_x": null,
            "overflow_y": null,
            "padding": null,
            "right": null,
            "top": null,
            "visibility": null,
            "width": null
          }
        },
        "9077ac11ba9a4a3d917692f2c28dbdeb": {
          "model_module": "@jupyter-widgets/controls",
          "model_module_version": "1.5.0",
          "model_name": "HBoxModel",
          "state": {
            "_dom_classes": [],
            "_model_module": "@jupyter-widgets/controls",
            "_model_module_version": "1.5.0",
            "_model_name": "HBoxModel",
            "_view_count": null,
            "_view_module": "@jupyter-widgets/controls",
            "_view_module_version": "1.5.0",
            "_view_name": "HBoxView",
            "box_style": "",
            "children": [
              "IPY_MODEL_81a29301e0b743e3acc8d86cbd9672a8",
              "IPY_MODEL_4ac63adb8ce04906a5df135ec7b06db9",
              "IPY_MODEL_d3689c96857548d28faeda717a41ed40"
            ],
            "layout": "IPY_MODEL_9da09feb19f64720b74f6500a6123d58"
          }
        },
        "91db65bd383b4c85a97fbcfa59662c93": {
          "model_module": "@jupyter-widgets/controls",
          "model_module_version": "1.5.0",
          "model_name": "FloatProgressModel",
          "state": {
            "_dom_classes": [],
            "_model_module": "@jupyter-widgets/controls",
            "_model_module_version": "1.5.0",
            "_model_name": "FloatProgressModel",
            "_view_count": null,
            "_view_module": "@jupyter-widgets/controls",
            "_view_module_version": "1.5.0",
            "_view_name": "ProgressView",
            "bar_style": "success",
            "description": "",
            "description_tooltip": null,
            "layout": "IPY_MODEL_da141840d6914ae59551c107f0ec6484",
            "max": 239,
            "min": 0,
            "orientation": "horizontal",
            "style": "IPY_MODEL_5598e2f9ab754473826e7e703c52b762",
            "value": 239
          }
        },
        "956d06c7ad924d77a0f917c571baae1e": {
          "model_module": "@jupyter-widgets/controls",
          "model_module_version": "1.5.0",
          "model_name": "DescriptionStyleModel",
          "state": {
            "_model_module": "@jupyter-widgets/controls",
            "_model_module_version": "1.5.0",
            "_model_name": "DescriptionStyleModel",
            "_view_count": null,
            "_view_module": "@jupyter-widgets/base",
            "_view_module_version": "1.2.0",
            "_view_name": "StyleView",
            "description_width": ""
          }
        },
        "981994b7605a450388d92288cda0da3e": {
          "model_module": "@jupyter-widgets/base",
          "model_module_version": "1.2.0",
          "model_name": "LayoutModel",
          "state": {
            "_model_module": "@jupyter-widgets/base",
            "_model_module_version": "1.2.0",
            "_model_name": "LayoutModel",
            "_view_count": null,
            "_view_module": "@jupyter-widgets/base",
            "_view_module_version": "1.2.0",
            "_view_name": "LayoutView",
            "align_content": null,
            "align_items": null,
            "align_self": null,
            "border": null,
            "bottom": null,
            "display": null,
            "flex": null,
            "flex_flow": null,
            "grid_area": null,
            "grid_auto_columns": null,
            "grid_auto_flow": null,
            "grid_auto_rows": null,
            "grid_column": null,
            "grid_gap": null,
            "grid_row": null,
            "grid_template_areas": null,
            "grid_template_columns": null,
            "grid_template_rows": null,
            "height": null,
            "justify_content": null,
            "justify_items": null,
            "left": null,
            "margin": null,
            "max_height": null,
            "max_width": null,
            "min_height": null,
            "min_width": null,
            "object_fit": null,
            "object_position": null,
            "order": null,
            "overflow": null,
            "overflow_x": null,
            "overflow_y": null,
            "padding": null,
            "right": null,
            "top": null,
            "visibility": null,
            "width": null
          }
        },
        "99e9d4f334994341af28a0930965fc8c": {
          "model_module": "@jupyter-widgets/controls",
          "model_module_version": "1.5.0",
          "model_name": "DescriptionStyleModel",
          "state": {
            "_model_module": "@jupyter-widgets/controls",
            "_model_module_version": "1.5.0",
            "_model_name": "DescriptionStyleModel",
            "_view_count": null,
            "_view_module": "@jupyter-widgets/base",
            "_view_module_version": "1.2.0",
            "_view_name": "StyleView",
            "description_width": ""
          }
        },
        "9c44bfc9a02240e58921f8f74fa76c13": {
          "model_module": "@jupyter-widgets/controls",
          "model_module_version": "1.5.0",
          "model_name": "HTMLModel",
          "state": {
            "_dom_classes": [],
            "_model_module": "@jupyter-widgets/controls",
            "_model_module_version": "1.5.0",
            "_model_name": "HTMLModel",
            "_view_count": null,
            "_view_module": "@jupyter-widgets/controls",
            "_view_module_version": "1.5.0",
            "_view_name": "HTMLView",
            "description": "",
            "description_tooltip": null,
            "layout": "IPY_MODEL_d03ca82744764600b16f71f713022d87",
            "placeholder": "​",
            "style": "IPY_MODEL_20268da10af14aa8abf98393c3fa5018",
            "value": " 645/645 [00:00&lt;00:00, 60.2kB/s]"
          }
        },
        "9c71ef1e3839478899b32d2865667648": {
          "model_module": "@jupyter-widgets/controls",
          "model_module_version": "1.5.0",
          "model_name": "HBoxModel",
          "state": {
            "_dom_classes": [],
            "_model_module": "@jupyter-widgets/controls",
            "_model_module_version": "1.5.0",
            "_model_name": "HBoxModel",
            "_view_count": null,
            "_view_module": "@jupyter-widgets/controls",
            "_view_module_version": "1.5.0",
            "_view_name": "HBoxView",
            "box_style": "",
            "children": [
              "IPY_MODEL_02c004e56f1b46f78f2b97e5828648f3",
              "IPY_MODEL_4fc68cff0ff04929bb73ece3d9743e5a",
              "IPY_MODEL_d81ac2acea4a46fcb12301a8edd4b050"
            ],
            "layout": "IPY_MODEL_c174c9a0fd7145ffbf7791512f5f0dc0"
          }
        },
        "9da09feb19f64720b74f6500a6123d58": {
          "model_module": "@jupyter-widgets/base",
          "model_module_version": "1.2.0",
          "model_name": "LayoutModel",
          "state": {
            "_model_module": "@jupyter-widgets/base",
            "_model_module_version": "1.2.0",
            "_model_name": "LayoutModel",
            "_view_count": null,
            "_view_module": "@jupyter-widgets/base",
            "_view_module_version": "1.2.0",
            "_view_name": "LayoutView",
            "align_content": null,
            "align_items": null,
            "align_self": null,
            "border": null,
            "bottom": null,
            "display": null,
            "flex": null,
            "flex_flow": null,
            "grid_area": null,
            "grid_auto_columns": null,
            "grid_auto_flow": null,
            "grid_auto_rows": null,
            "grid_column": null,
            "grid_gap": null,
            "grid_row": null,
            "grid_template_areas": null,
            "grid_template_columns": null,
            "grid_template_rows": null,
            "height": null,
            "justify_content": null,
            "justify_items": null,
            "left": null,
            "margin": null,
            "max_height": null,
            "max_width": null,
            "min_height": null,
            "min_width": null,
            "object_fit": null,
            "object_position": null,
            "order": null,
            "overflow": null,
            "overflow_x": null,
            "overflow_y": null,
            "padding": null,
            "right": null,
            "top": null,
            "visibility": null,
            "width": null
          }
        },
        "9e2eaf9e197f476d842402f75617fc48": {
          "model_module": "@jupyter-widgets/controls",
          "model_module_version": "1.5.0",
          "model_name": "HTMLModel",
          "state": {
            "_dom_classes": [],
            "_model_module": "@jupyter-widgets/controls",
            "_model_module_version": "1.5.0",
            "_model_name": "HTMLModel",
            "_view_count": null,
            "_view_module": "@jupyter-widgets/controls",
            "_view_module_version": "1.5.0",
            "_view_name": "HTMLView",
            "description": "",
            "description_tooltip": null,
            "layout": "IPY_MODEL_4eb1fde615cc4cdbbb3392138f1baa4b",
            "placeholder": "​",
            "style": "IPY_MODEL_2d205da440ec4cc7b40e8941dfedc976",
            "value": " 3.89k/? [00:00&lt;00:00, 305kB/s]"
          }
        },
        "a3137c9284fc4abcaf4f374c072039bd": {
          "model_module": "@jupyter-widgets/controls",
          "model_module_version": "1.5.0",
          "model_name": "HBoxModel",
          "state": {
            "_dom_classes": [],
            "_model_module": "@jupyter-widgets/controls",
            "_model_module_version": "1.5.0",
            "_model_name": "HBoxModel",
            "_view_count": null,
            "_view_module": "@jupyter-widgets/controls",
            "_view_module_version": "1.5.0",
            "_view_name": "HBoxView",
            "box_style": "",
            "children": [
              "IPY_MODEL_1e993252ceea487091d7bc60c364e375",
              "IPY_MODEL_91db65bd383b4c85a97fbcfa59662c93",
              "IPY_MODEL_3983f259a5e4466e838b5d3baf8b6e5a"
            ],
            "layout": "IPY_MODEL_d977e66f757847fe9e9c89f88a35a5c0"
          }
        },
        "a5367f2e6ad4407b8a109ccddec55d11": {
          "model_module": "@jupyter-widgets/controls",
          "model_module_version": "1.5.0",
          "model_name": "HBoxModel",
          "state": {
            "_dom_classes": [],
            "_model_module": "@jupyter-widgets/controls",
            "_model_module_version": "1.5.0",
            "_model_name": "HBoxModel",
            "_view_count": null,
            "_view_module": "@jupyter-widgets/controls",
            "_view_module_version": "1.5.0",
            "_view_name": "HBoxView",
            "box_style": "",
            "children": [
              "IPY_MODEL_4e58c66243f24293af5bcdc2e87c3f23",
              "IPY_MODEL_cc86484184314cdc8e8136b0e52ef88a",
              "IPY_MODEL_ef1523e1989e4d769b08a97a5c7b3729"
            ],
            "layout": "IPY_MODEL_e121e3262e504b57bc3ed148213d10cd"
          }
        },
        "a768db91590f40538a12a4ecef5c8572": {
          "model_module": "@jupyter-widgets/base",
          "model_module_version": "1.2.0",
          "model_name": "LayoutModel",
          "state": {
            "_model_module": "@jupyter-widgets/base",
            "_model_module_version": "1.2.0",
            "_model_name": "LayoutModel",
            "_view_count": null,
            "_view_module": "@jupyter-widgets/base",
            "_view_module_version": "1.2.0",
            "_view_name": "LayoutView",
            "align_content": null,
            "align_items": null,
            "align_self": null,
            "border": null,
            "bottom": null,
            "display": null,
            "flex": null,
            "flex_flow": null,
            "grid_area": null,
            "grid_auto_columns": null,
            "grid_auto_flow": null,
            "grid_auto_rows": null,
            "grid_column": null,
            "grid_gap": null,
            "grid_row": null,
            "grid_template_areas": null,
            "grid_template_columns": null,
            "grid_template_rows": null,
            "height": null,
            "justify_content": null,
            "justify_items": null,
            "left": null,
            "margin": null,
            "max_height": null,
            "max_width": null,
            "min_height": null,
            "min_width": null,
            "object_fit": null,
            "object_position": null,
            "order": null,
            "overflow": null,
            "overflow_x": null,
            "overflow_y": null,
            "padding": null,
            "right": null,
            "top": null,
            "visibility": null,
            "width": null
          }
        },
        "a9858c0b7f3749beae475cb0481852a0": {
          "model_module": "@jupyter-widgets/controls",
          "model_module_version": "1.5.0",
          "model_name": "DescriptionStyleModel",
          "state": {
            "_model_module": "@jupyter-widgets/controls",
            "_model_module_version": "1.5.0",
            "_model_name": "DescriptionStyleModel",
            "_view_count": null,
            "_view_module": "@jupyter-widgets/base",
            "_view_module_version": "1.2.0",
            "_view_name": "StyleView",
            "description_width": ""
          }
        },
        "aded46e477594feeb0f9b6cd273d2350": {
          "model_module": "@jupyter-widgets/controls",
          "model_module_version": "1.5.0",
          "model_name": "HTMLModel",
          "state": {
            "_dom_classes": [],
            "_model_module": "@jupyter-widgets/controls",
            "_model_module_version": "1.5.0",
            "_model_name": "HTMLModel",
            "_view_count": null,
            "_view_module": "@jupyter-widgets/controls",
            "_view_module_version": "1.5.0",
            "_view_name": "HTMLView",
            "description": "",
            "description_tooltip": null,
            "layout": "IPY_MODEL_6686c9add1cd4a9d8588cf4592584842",
            "placeholder": "​",
            "style": "IPY_MODEL_354d09e07d844342a807a8e8ac9d5912",
            "value": "config_sentence_transformers.json: 100%"
          }
        },
        "af45b32430ef4a3bbbdfd78f28e49adb": {
          "model_module": "@jupyter-widgets/base",
          "model_module_version": "1.2.0",
          "model_name": "LayoutModel",
          "state": {
            "_model_module": "@jupyter-widgets/base",
            "_model_module_version": "1.2.0",
            "_model_name": "LayoutModel",
            "_view_count": null,
            "_view_module": "@jupyter-widgets/base",
            "_view_module_version": "1.2.0",
            "_view_name": "LayoutView",
            "align_content": null,
            "align_items": null,
            "align_self": null,
            "border": null,
            "bottom": null,
            "display": null,
            "flex": null,
            "flex_flow": null,
            "grid_area": null,
            "grid_auto_columns": null,
            "grid_auto_flow": null,
            "grid_auto_rows": null,
            "grid_column": null,
            "grid_gap": null,
            "grid_row": null,
            "grid_template_areas": null,
            "grid_template_columns": null,
            "grid_template_rows": null,
            "height": null,
            "justify_content": null,
            "justify_items": null,
            "left": null,
            "margin": null,
            "max_height": null,
            "max_width": null,
            "min_height": null,
            "min_width": null,
            "object_fit": null,
            "object_position": null,
            "order": null,
            "overflow": null,
            "overflow_x": null,
            "overflow_y": null,
            "padding": null,
            "right": null,
            "top": null,
            "visibility": null,
            "width": null
          }
        },
        "af4e49c6cd114a89bb90bf7c0016650b": {
          "model_module": "@jupyter-widgets/base",
          "model_module_version": "1.2.0",
          "model_name": "LayoutModel",
          "state": {
            "_model_module": "@jupyter-widgets/base",
            "_model_module_version": "1.2.0",
            "_model_name": "LayoutModel",
            "_view_count": null,
            "_view_module": "@jupyter-widgets/base",
            "_view_module_version": "1.2.0",
            "_view_name": "LayoutView",
            "align_content": null,
            "align_items": null,
            "align_self": null,
            "border": null,
            "bottom": null,
            "display": null,
            "flex": null,
            "flex_flow": null,
            "grid_area": null,
            "grid_auto_columns": null,
            "grid_auto_flow": null,
            "grid_auto_rows": null,
            "grid_column": null,
            "grid_gap": null,
            "grid_row": null,
            "grid_template_areas": null,
            "grid_template_columns": null,
            "grid_template_rows": null,
            "height": null,
            "justify_content": null,
            "justify_items": null,
            "left": null,
            "margin": null,
            "max_height": null,
            "max_width": null,
            "min_height": null,
            "min_width": null,
            "object_fit": null,
            "object_position": null,
            "order": null,
            "overflow": null,
            "overflow_x": null,
            "overflow_y": null,
            "padding": null,
            "right": null,
            "top": null,
            "visibility": null,
            "width": null
          }
        },
        "b2c8640bf9e046f99c5594001c213792": {
          "model_module": "@jupyter-widgets/base",
          "model_module_version": "1.2.0",
          "model_name": "LayoutModel",
          "state": {
            "_model_module": "@jupyter-widgets/base",
            "_model_module_version": "1.2.0",
            "_model_name": "LayoutModel",
            "_view_count": null,
            "_view_module": "@jupyter-widgets/base",
            "_view_module_version": "1.2.0",
            "_view_name": "LayoutView",
            "align_content": null,
            "align_items": null,
            "align_self": null,
            "border": null,
            "bottom": null,
            "display": null,
            "flex": null,
            "flex_flow": null,
            "grid_area": null,
            "grid_auto_columns": null,
            "grid_auto_flow": null,
            "grid_auto_rows": null,
            "grid_column": null,
            "grid_gap": null,
            "grid_row": null,
            "grid_template_areas": null,
            "grid_template_columns": null,
            "grid_template_rows": null,
            "height": null,
            "justify_content": null,
            "justify_items": null,
            "left": null,
            "margin": null,
            "max_height": null,
            "max_width": null,
            "min_height": null,
            "min_width": null,
            "object_fit": null,
            "object_position": null,
            "order": null,
            "overflow": null,
            "overflow_x": null,
            "overflow_y": null,
            "padding": null,
            "right": null,
            "top": null,
            "visibility": null,
            "width": null
          }
        },
        "b62e70b85ee249138de2803f9ac96b13": {
          "model_module": "@jupyter-widgets/controls",
          "model_module_version": "1.5.0",
          "model_name": "FloatProgressModel",
          "state": {
            "_dom_classes": [],
            "_model_module": "@jupyter-widgets/controls",
            "_model_module_version": "1.5.0",
            "_model_name": "FloatProgressModel",
            "_view_count": null,
            "_view_module": "@jupyter-widgets/controls",
            "_view_module_version": "1.5.0",
            "_view_name": "ProgressView",
            "bar_style": "success",
            "description": "",
            "description_tooltip": null,
            "layout": "IPY_MODEL_360cdfa4fa6843269c4d8b3a39776d25",
            "max": 645,
            "min": 0,
            "orientation": "horizontal",
            "style": "IPY_MODEL_3a19e68e814a45198ded7648c0fb72de",
            "value": 645
          }
        },
        "bb412f49aace4eb3ab8b332829d38734": {
          "model_module": "@jupyter-widgets/base",
          "model_module_version": "1.2.0",
          "model_name": "LayoutModel",
          "state": {
            "_model_module": "@jupyter-widgets/base",
            "_model_module_version": "1.2.0",
            "_model_name": "LayoutModel",
            "_view_count": null,
            "_view_module": "@jupyter-widgets/base",
            "_view_module_version": "1.2.0",
            "_view_name": "LayoutView",
            "align_content": null,
            "align_items": null,
            "align_self": null,
            "border": null,
            "bottom": null,
            "display": null,
            "flex": null,
            "flex_flow": null,
            "grid_area": null,
            "grid_auto_columns": null,
            "grid_auto_flow": null,
            "grid_auto_rows": null,
            "grid_column": null,
            "grid_gap": null,
            "grid_row": null,
            "grid_template_areas": null,
            "grid_template_columns": null,
            "grid_template_rows": null,
            "height": null,
            "justify_content": null,
            "justify_items": null,
            "left": null,
            "margin": null,
            "max_height": null,
            "max_width": null,
            "min_height": null,
            "min_width": null,
            "object_fit": null,
            "object_position": null,
            "order": null,
            "overflow": null,
            "overflow_x": null,
            "overflow_y": null,
            "padding": null,
            "right": null,
            "top": null,
            "visibility": null,
            "width": null
          }
        },
        "bc58cdb8725848648e3ae3c1a4535511": {
          "model_module": "@jupyter-widgets/controls",
          "model_module_version": "1.5.0",
          "model_name": "DescriptionStyleModel",
          "state": {
            "_model_module": "@jupyter-widgets/controls",
            "_model_module_version": "1.5.0",
            "_model_name": "DescriptionStyleModel",
            "_view_count": null,
            "_view_module": "@jupyter-widgets/base",
            "_view_module_version": "1.2.0",
            "_view_name": "StyleView",
            "description_width": ""
          }
        },
        "c174c9a0fd7145ffbf7791512f5f0dc0": {
          "model_module": "@jupyter-widgets/base",
          "model_module_version": "1.2.0",
          "model_name": "LayoutModel",
          "state": {
            "_model_module": "@jupyter-widgets/base",
            "_model_module_version": "1.2.0",
            "_model_name": "LayoutModel",
            "_view_count": null,
            "_view_module": "@jupyter-widgets/base",
            "_view_module_version": "1.2.0",
            "_view_name": "LayoutView",
            "align_content": null,
            "align_items": null,
            "align_self": null,
            "border": null,
            "bottom": null,
            "display": null,
            "flex": null,
            "flex_flow": null,
            "grid_area": null,
            "grid_auto_columns": null,
            "grid_auto_flow": null,
            "grid_auto_rows": null,
            "grid_column": null,
            "grid_gap": null,
            "grid_row": null,
            "grid_template_areas": null,
            "grid_template_columns": null,
            "grid_template_rows": null,
            "height": null,
            "justify_content": null,
            "justify_items": null,
            "left": null,
            "margin": null,
            "max_height": null,
            "max_width": null,
            "min_height": null,
            "min_width": null,
            "object_fit": null,
            "object_position": null,
            "order": null,
            "overflow": null,
            "overflow_x": null,
            "overflow_y": null,
            "padding": null,
            "right": null,
            "top": null,
            "visibility": null,
            "width": null
          }
        },
        "c5314e3bba424b77ba495926cabb3c1f": {
          "model_module": "@jupyter-widgets/controls",
          "model_module_version": "1.5.0",
          "model_name": "DescriptionStyleModel",
          "state": {
            "_model_module": "@jupyter-widgets/controls",
            "_model_module_version": "1.5.0",
            "_model_name": "DescriptionStyleModel",
            "_view_count": null,
            "_view_module": "@jupyter-widgets/base",
            "_view_module_version": "1.2.0",
            "_view_name": "StyleView",
            "description_width": ""
          }
        },
        "cc86484184314cdc8e8136b0e52ef88a": {
          "model_module": "@jupyter-widgets/controls",
          "model_module_version": "1.5.0",
          "model_name": "FloatProgressModel",
          "state": {
            "_dom_classes": [],
            "_model_module": "@jupyter-widgets/controls",
            "_model_module_version": "1.5.0",
            "_model_name": "FloatProgressModel",
            "_view_count": null,
            "_view_module": "@jupyter-widgets/controls",
            "_view_module_version": "1.5.0",
            "_view_name": "ProgressView",
            "bar_style": "success",
            "description": "",
            "description_tooltip": null,
            "layout": "IPY_MODEL_78863ae434284154b3fc903d63355718",
            "max": 480,
            "min": 0,
            "orientation": "horizontal",
            "style": "IPY_MODEL_4f1cbf14553446c19e1a86b778f06c43",
            "value": 480
          }
        },
        "d03ca82744764600b16f71f713022d87": {
          "model_module": "@jupyter-widgets/base",
          "model_module_version": "1.2.0",
          "model_name": "LayoutModel",
          "state": {
            "_model_module": "@jupyter-widgets/base",
            "_model_module_version": "1.2.0",
            "_model_name": "LayoutModel",
            "_view_count": null,
            "_view_module": "@jupyter-widgets/base",
            "_view_module_version": "1.2.0",
            "_view_name": "LayoutView",
            "align_content": null,
            "align_items": null,
            "align_self": null,
            "border": null,
            "bottom": null,
            "display": null,
            "flex": null,
            "flex_flow": null,
            "grid_area": null,
            "grid_auto_columns": null,
            "grid_auto_flow": null,
            "grid_auto_rows": null,
            "grid_column": null,
            "grid_gap": null,
            "grid_row": null,
            "grid_template_areas": null,
            "grid_template_columns": null,
            "grid_template_rows": null,
            "height": null,
            "justify_content": null,
            "justify_items": null,
            "left": null,
            "margin": null,
            "max_height": null,
            "max_width": null,
            "min_height": null,
            "min_width": null,
            "object_fit": null,
            "object_position": null,
            "order": null,
            "overflow": null,
            "overflow_x": null,
            "overflow_y": null,
            "padding": null,
            "right": null,
            "top": null,
            "visibility": null,
            "width": null
          }
        },
        "d21b574a7b0240fe888c46c7a7bbff74": {
          "model_module": "@jupyter-widgets/controls",
          "model_module_version": "1.5.0",
          "model_name": "HBoxModel",
          "state": {
            "_dom_classes": [],
            "_model_module": "@jupyter-widgets/controls",
            "_model_module_version": "1.5.0",
            "_model_name": "HBoxModel",
            "_view_count": null,
            "_view_module": "@jupyter-widgets/controls",
            "_view_module_version": "1.5.0",
            "_view_name": "HBoxView",
            "box_style": "",
            "children": [
              "IPY_MODEL_f5d0f3b014224623b7229cbb10d865b2",
              "IPY_MODEL_54391ba4dceb43ab8337e75b35207b4d",
              "IPY_MODEL_619af71d630043df98a5ca3183356a37"
            ],
            "layout": "IPY_MODEL_31c2d1325ab64c76a6005241d17dc83e"
          }
        },
        "d3689c96857548d28faeda717a41ed40": {
          "model_module": "@jupyter-widgets/controls",
          "model_module_version": "1.5.0",
          "model_name": "HTMLModel",
          "state": {
            "_dom_classes": [],
            "_model_module": "@jupyter-widgets/controls",
            "_model_module_version": "1.5.0",
            "_model_name": "HTMLModel",
            "_view_count": null,
            "_view_module": "@jupyter-widgets/controls",
            "_view_module_version": "1.5.0",
            "_view_name": "HTMLView",
            "description": "",
            "description_tooltip": null,
            "layout": "IPY_MODEL_65a582d96e8644138e147765aa30fcec",
            "placeholder": "​",
            "style": "IPY_MODEL_fd887aaffad242679c4b825ad184ebb1",
            "value": " 229/229 [00:00&lt;00:00, 14.6kB/s]"
          }
        },
        "d59be176df4843308c877f875ef2512a": {
          "model_module": "@jupyter-widgets/base",
          "model_module_version": "1.2.0",
          "model_name": "LayoutModel",
          "state": {
            "_model_module": "@jupyter-widgets/base",
            "_model_module_version": "1.2.0",
            "_model_name": "LayoutModel",
            "_view_count": null,
            "_view_module": "@jupyter-widgets/base",
            "_view_module_version": "1.2.0",
            "_view_name": "LayoutView",
            "align_content": null,
            "align_items": null,
            "align_self": null,
            "border": null,
            "bottom": null,
            "display": null,
            "flex": null,
            "flex_flow": null,
            "grid_area": null,
            "grid_auto_columns": null,
            "grid_auto_flow": null,
            "grid_auto_rows": null,
            "grid_column": null,
            "grid_gap": null,
            "grid_row": null,
            "grid_template_areas": null,
            "grid_template_columns": null,
            "grid_template_rows": null,
            "height": null,
            "justify_content": null,
            "justify_items": null,
            "left": null,
            "margin": null,
            "max_height": null,
            "max_width": null,
            "min_height": null,
            "min_width": null,
            "object_fit": null,
            "object_position": null,
            "order": null,
            "overflow": null,
            "overflow_x": null,
            "overflow_y": null,
            "padding": null,
            "right": null,
            "top": null,
            "visibility": null,
            "width": null
          }
        },
        "d81ac2acea4a46fcb12301a8edd4b050": {
          "model_module": "@jupyter-widgets/controls",
          "model_module_version": "1.5.0",
          "model_name": "HTMLModel",
          "state": {
            "_dom_classes": [],
            "_model_module": "@jupyter-widgets/controls",
            "_model_module_version": "1.5.0",
            "_model_name": "HTMLModel",
            "_view_count": null,
            "_view_module": "@jupyter-widgets/controls",
            "_view_module_version": "1.5.0",
            "_view_name": "HTMLView",
            "description": "",
            "description_tooltip": null,
            "layout": "IPY_MODEL_079dd7d8d55f472aae9b0a5e39127ccd",
            "placeholder": "​",
            "style": "IPY_MODEL_df3259cacb804dc18e7ffdbd53bd29ae",
            "value": " 190/190 [00:00&lt;00:00, 18.2kB/s]"
          }
        },
        "d8ba7e4f1a0346b985f1c1574b432ebd": {
          "model_module": "@jupyter-widgets/controls",
          "model_module_version": "1.5.0",
          "model_name": "ProgressStyleModel",
          "state": {
            "_model_module": "@jupyter-widgets/controls",
            "_model_module_version": "1.5.0",
            "_model_name": "ProgressStyleModel",
            "_view_count": null,
            "_view_module": "@jupyter-widgets/base",
            "_view_module_version": "1.2.0",
            "_view_name": "StyleView",
            "bar_color": null,
            "description_width": ""
          }
        },
        "d977e66f757847fe9e9c89f88a35a5c0": {
          "model_module": "@jupyter-widgets/base",
          "model_module_version": "1.2.0",
          "model_name": "LayoutModel",
          "state": {
            "_model_module": "@jupyter-widgets/base",
            "_model_module_version": "1.2.0",
            "_model_name": "LayoutModel",
            "_view_count": null,
            "_view_module": "@jupyter-widgets/base",
            "_view_module_version": "1.2.0",
            "_view_name": "LayoutView",
            "align_content": null,
            "align_items": null,
            "align_self": null,
            "border": null,
            "bottom": null,
            "display": null,
            "flex": null,
            "flex_flow": null,
            "grid_area": null,
            "grid_auto_columns": null,
            "grid_auto_flow": null,
            "grid_auto_rows": null,
            "grid_column": null,
            "grid_gap": null,
            "grid_row": null,
            "grid_template_areas": null,
            "grid_template_columns": null,
            "grid_template_rows": null,
            "height": null,
            "justify_content": null,
            "justify_items": null,
            "left": null,
            "margin": null,
            "max_height": null,
            "max_width": null,
            "min_height": null,
            "min_width": null,
            "object_fit": null,
            "object_position": null,
            "order": null,
            "overflow": null,
            "overflow_x": null,
            "overflow_y": null,
            "padding": null,
            "right": null,
            "top": null,
            "visibility": null,
            "width": null
          }
        },
        "da141840d6914ae59551c107f0ec6484": {
          "model_module": "@jupyter-widgets/base",
          "model_module_version": "1.2.0",
          "model_name": "LayoutModel",
          "state": {
            "_model_module": "@jupyter-widgets/base",
            "_model_module_version": "1.2.0",
            "_model_name": "LayoutModel",
            "_view_count": null,
            "_view_module": "@jupyter-widgets/base",
            "_view_module_version": "1.2.0",
            "_view_name": "LayoutView",
            "align_content": null,
            "align_items": null,
            "align_self": null,
            "border": null,
            "bottom": null,
            "display": null,
            "flex": null,
            "flex_flow": null,
            "grid_area": null,
            "grid_auto_columns": null,
            "grid_auto_flow": null,
            "grid_auto_rows": null,
            "grid_column": null,
            "grid_gap": null,
            "grid_row": null,
            "grid_template_areas": null,
            "grid_template_columns": null,
            "grid_template_rows": null,
            "height": null,
            "justify_content": null,
            "justify_items": null,
            "left": null,
            "margin": null,
            "max_height": null,
            "max_width": null,
            "min_height": null,
            "min_width": null,
            "object_fit": null,
            "object_position": null,
            "order": null,
            "overflow": null,
            "overflow_x": null,
            "overflow_y": null,
            "padding": null,
            "right": null,
            "top": null,
            "visibility": null,
            "width": null
          }
        },
        "db213a8d26164251a04d221991835c98": {
          "model_module": "@jupyter-widgets/base",
          "model_module_version": "1.2.0",
          "model_name": "LayoutModel",
          "state": {
            "_model_module": "@jupyter-widgets/base",
            "_model_module_version": "1.2.0",
            "_model_name": "LayoutModel",
            "_view_count": null,
            "_view_module": "@jupyter-widgets/base",
            "_view_module_version": "1.2.0",
            "_view_name": "LayoutView",
            "align_content": null,
            "align_items": null,
            "align_self": null,
            "border": null,
            "bottom": null,
            "display": null,
            "flex": null,
            "flex_flow": null,
            "grid_area": null,
            "grid_auto_columns": null,
            "grid_auto_flow": null,
            "grid_auto_rows": null,
            "grid_column": null,
            "grid_gap": null,
            "grid_row": null,
            "grid_template_areas": null,
            "grid_template_columns": null,
            "grid_template_rows": null,
            "height": null,
            "justify_content": null,
            "justify_items": null,
            "left": null,
            "margin": null,
            "max_height": null,
            "max_width": null,
            "min_height": null,
            "min_width": null,
            "object_fit": null,
            "object_position": null,
            "order": null,
            "overflow": null,
            "overflow_x": null,
            "overflow_y": null,
            "padding": null,
            "right": null,
            "top": null,
            "visibility": null,
            "width": null
          }
        },
        "dc9b8e8c9a58451f8236993d2371cb58": {
          "model_module": "@jupyter-widgets/base",
          "model_module_version": "1.2.0",
          "model_name": "LayoutModel",
          "state": {
            "_model_module": "@jupyter-widgets/base",
            "_model_module_version": "1.2.0",
            "_model_name": "LayoutModel",
            "_view_count": null,
            "_view_module": "@jupyter-widgets/base",
            "_view_module_version": "1.2.0",
            "_view_name": "LayoutView",
            "align_content": null,
            "align_items": null,
            "align_self": null,
            "border": null,
            "bottom": null,
            "display": null,
            "flex": null,
            "flex_flow": null,
            "grid_area": null,
            "grid_auto_columns": null,
            "grid_auto_flow": null,
            "grid_auto_rows": null,
            "grid_column": null,
            "grid_gap": null,
            "grid_row": null,
            "grid_template_areas": null,
            "grid_template_columns": null,
            "grid_template_rows": null,
            "height": null,
            "justify_content": null,
            "justify_items": null,
            "left": null,
            "margin": null,
            "max_height": null,
            "max_width": null,
            "min_height": null,
            "min_width": null,
            "object_fit": null,
            "object_position": null,
            "order": null,
            "overflow": null,
            "overflow_x": null,
            "overflow_y": null,
            "padding": null,
            "right": null,
            "top": null,
            "visibility": null,
            "width": "20px"
          }
        },
        "df3259cacb804dc18e7ffdbd53bd29ae": {
          "model_module": "@jupyter-widgets/controls",
          "model_module_version": "1.5.0",
          "model_name": "DescriptionStyleModel",
          "state": {
            "_model_module": "@jupyter-widgets/controls",
            "_model_module_version": "1.5.0",
            "_model_name": "DescriptionStyleModel",
            "_view_count": null,
            "_view_module": "@jupyter-widgets/base",
            "_view_module_version": "1.2.0",
            "_view_name": "StyleView",
            "description_width": ""
          }
        },
        "e121e3262e504b57bc3ed148213d10cd": {
          "model_module": "@jupyter-widgets/base",
          "model_module_version": "1.2.0",
          "model_name": "LayoutModel",
          "state": {
            "_model_module": "@jupyter-widgets/base",
            "_model_module_version": "1.2.0",
            "_model_name": "LayoutModel",
            "_view_count": null,
            "_view_module": "@jupyter-widgets/base",
            "_view_module_version": "1.2.0",
            "_view_name": "LayoutView",
            "align_content": null,
            "align_items": null,
            "align_self": null,
            "border": null,
            "bottom": null,
            "display": null,
            "flex": null,
            "flex_flow": null,
            "grid_area": null,
            "grid_auto_columns": null,
            "grid_auto_flow": null,
            "grid_auto_rows": null,
            "grid_column": null,
            "grid_gap": null,
            "grid_row": null,
            "grid_template_areas": null,
            "grid_template_columns": null,
            "grid_template_rows": null,
            "height": null,
            "justify_content": null,
            "justify_items": null,
            "left": null,
            "margin": null,
            "max_height": null,
            "max_width": null,
            "min_height": null,
            "min_width": null,
            "object_fit": null,
            "object_position": null,
            "order": null,
            "overflow": null,
            "overflow_x": null,
            "overflow_y": null,
            "padding": null,
            "right": null,
            "top": null,
            "visibility": null,
            "width": null
          }
        },
        "e5f84e5ef3744c949866862534a1c01c": {
          "model_module": "@jupyter-widgets/base",
          "model_module_version": "1.2.0",
          "model_name": "LayoutModel",
          "state": {
            "_model_module": "@jupyter-widgets/base",
            "_model_module_version": "1.2.0",
            "_model_name": "LayoutModel",
            "_view_count": null,
            "_view_module": "@jupyter-widgets/base",
            "_view_module_version": "1.2.0",
            "_view_name": "LayoutView",
            "align_content": null,
            "align_items": null,
            "align_self": null,
            "border": null,
            "bottom": null,
            "display": null,
            "flex": null,
            "flex_flow": null,
            "grid_area": null,
            "grid_auto_columns": null,
            "grid_auto_flow": null,
            "grid_auto_rows": null,
            "grid_column": null,
            "grid_gap": null,
            "grid_row": null,
            "grid_template_areas": null,
            "grid_template_columns": null,
            "grid_template_rows": null,
            "height": null,
            "justify_content": null,
            "justify_items": null,
            "left": null,
            "margin": null,
            "max_height": null,
            "max_width": null,
            "min_height": null,
            "min_width": null,
            "object_fit": null,
            "object_position": null,
            "order": null,
            "overflow": null,
            "overflow_x": null,
            "overflow_y": null,
            "padding": null,
            "right": null,
            "top": null,
            "visibility": null,
            "width": null
          }
        },
        "e63ac5bbafd047cf940693d1f987cb45": {
          "model_module": "@jupyter-widgets/controls",
          "model_module_version": "1.5.0",
          "model_name": "ProgressStyleModel",
          "state": {
            "_model_module": "@jupyter-widgets/controls",
            "_model_module_version": "1.5.0",
            "_model_name": "ProgressStyleModel",
            "_view_count": null,
            "_view_module": "@jupyter-widgets/base",
            "_view_module_version": "1.2.0",
            "_view_name": "StyleView",
            "bar_color": null,
            "description_width": ""
          }
        },
        "e75326cc58dc4a63a848685df1e1feb8": {
          "model_module": "@jupyter-widgets/base",
          "model_module_version": "1.2.0",
          "model_name": "LayoutModel",
          "state": {
            "_model_module": "@jupyter-widgets/base",
            "_model_module_version": "1.2.0",
            "_model_name": "LayoutModel",
            "_view_count": null,
            "_view_module": "@jupyter-widgets/base",
            "_view_module_version": "1.2.0",
            "_view_name": "LayoutView",
            "align_content": null,
            "align_items": null,
            "align_self": null,
            "border": null,
            "bottom": null,
            "display": null,
            "flex": null,
            "flex_flow": null,
            "grid_area": null,
            "grid_auto_columns": null,
            "grid_auto_flow": null,
            "grid_auto_rows": null,
            "grid_column": null,
            "grid_gap": null,
            "grid_row": null,
            "grid_template_areas": null,
            "grid_template_columns": null,
            "grid_template_rows": null,
            "height": null,
            "justify_content": null,
            "justify_items": null,
            "left": null,
            "margin": null,
            "max_height": null,
            "max_width": null,
            "min_height": null,
            "min_width": null,
            "object_fit": null,
            "object_position": null,
            "order": null,
            "overflow": null,
            "overflow_x": null,
            "overflow_y": null,
            "padding": null,
            "right": null,
            "top": null,
            "visibility": null,
            "width": null
          }
        },
        "ee89caf4dbd244abbdd31a15a312b4f9": {
          "model_module": "@jupyter-widgets/base",
          "model_module_version": "1.2.0",
          "model_name": "LayoutModel",
          "state": {
            "_model_module": "@jupyter-widgets/base",
            "_model_module_version": "1.2.0",
            "_model_name": "LayoutModel",
            "_view_count": null,
            "_view_module": "@jupyter-widgets/base",
            "_view_module_version": "1.2.0",
            "_view_name": "LayoutView",
            "align_content": null,
            "align_items": null,
            "align_self": null,
            "border": null,
            "bottom": null,
            "display": null,
            "flex": null,
            "flex_flow": null,
            "grid_area": null,
            "grid_auto_columns": null,
            "grid_auto_flow": null,
            "grid_auto_rows": null,
            "grid_column": null,
            "grid_gap": null,
            "grid_row": null,
            "grid_template_areas": null,
            "grid_template_columns": null,
            "grid_template_rows": null,
            "height": null,
            "justify_content": null,
            "justify_items": null,
            "left": null,
            "margin": null,
            "max_height": null,
            "max_width": null,
            "min_height": null,
            "min_width": null,
            "object_fit": null,
            "object_position": null,
            "order": null,
            "overflow": null,
            "overflow_x": null,
            "overflow_y": null,
            "padding": null,
            "right": null,
            "top": null,
            "visibility": null,
            "width": null
          }
        },
        "ef1523e1989e4d769b08a97a5c7b3729": {
          "model_module": "@jupyter-widgets/controls",
          "model_module_version": "1.5.0",
          "model_name": "HTMLModel",
          "state": {
            "_dom_classes": [],
            "_model_module": "@jupyter-widgets/controls",
            "_model_module_version": "1.5.0",
            "_model_name": "HTMLModel",
            "_view_count": null,
            "_view_module": "@jupyter-widgets/controls",
            "_view_module_version": "1.5.0",
            "_view_name": "HTMLView",
            "description": "",
            "description_tooltip": null,
            "layout": "IPY_MODEL_852e0ec7cdaf4b7c912603f927f85d77",
            "placeholder": "​",
            "style": "IPY_MODEL_167fb58bdf074ff8b234e3cfe7fa2183",
            "value": " 480/480 [00:00&lt;00:00, 40.1kB/s]"
          }
        },
        "f1da0a23847d4d74a22e9434bbac2fd3": {
          "model_module": "@jupyter-widgets/controls",
          "model_module_version": "1.5.0",
          "model_name": "DescriptionStyleModel",
          "state": {
            "_model_module": "@jupyter-widgets/controls",
            "_model_module_version": "1.5.0",
            "_model_name": "DescriptionStyleModel",
            "_view_count": null,
            "_view_module": "@jupyter-widgets/base",
            "_view_module_version": "1.2.0",
            "_view_name": "StyleView",
            "description_width": ""
          }
        },
        "f2740bf454ef41fabe1d2aebfc441e73": {
          "model_module": "@jupyter-widgets/controls",
          "model_module_version": "1.5.0",
          "model_name": "HTMLModel",
          "state": {
            "_dom_classes": [],
            "_model_module": "@jupyter-widgets/controls",
            "_model_module_version": "1.5.0",
            "_model_name": "HTMLModel",
            "_view_count": null,
            "_view_module": "@jupyter-widgets/controls",
            "_view_module_version": "1.5.0",
            "_view_name": "HTMLView",
            "description": "",
            "description_tooltip": null,
            "layout": "IPY_MODEL_d59be176df4843308c877f875ef2512a",
            "placeholder": "​",
            "style": "IPY_MODEL_722c599f78d44a1c90ebbc2d5a8050ba",
            "value": "tokenizer.json: 100%"
          }
        },
        "f43cbd4582c34e3d87a8243c31505064": {
          "model_module": "@jupyter-widgets/base",
          "model_module_version": "1.2.0",
          "model_name": "LayoutModel",
          "state": {
            "_model_module": "@jupyter-widgets/base",
            "_model_module_version": "1.2.0",
            "_model_name": "LayoutModel",
            "_view_count": null,
            "_view_module": "@jupyter-widgets/base",
            "_view_module_version": "1.2.0",
            "_view_name": "LayoutView",
            "align_content": null,
            "align_items": null,
            "align_self": null,
            "border": null,
            "bottom": null,
            "display": null,
            "flex": null,
            "flex_flow": null,
            "grid_area": null,
            "grid_auto_columns": null,
            "grid_auto_flow": null,
            "grid_auto_rows": null,
            "grid_column": null,
            "grid_gap": null,
            "grid_row": null,
            "grid_template_areas": null,
            "grid_template_columns": null,
            "grid_template_rows": null,
            "height": null,
            "justify_content": null,
            "justify_items": null,
            "left": null,
            "margin": null,
            "max_height": null,
            "max_width": null,
            "min_height": null,
            "min_width": null,
            "object_fit": null,
            "object_position": null,
            "order": null,
            "overflow": null,
            "overflow_x": null,
            "overflow_y": null,
            "padding": null,
            "right": null,
            "top": null,
            "visibility": null,
            "width": null
          }
        },
        "f5d0f3b014224623b7229cbb10d865b2": {
          "model_module": "@jupyter-widgets/controls",
          "model_module_version": "1.5.0",
          "model_name": "HTMLModel",
          "state": {
            "_dom_classes": [],
            "_model_module": "@jupyter-widgets/controls",
            "_model_module_version": "1.5.0",
            "_model_name": "HTMLModel",
            "_view_count": null,
            "_view_module": "@jupyter-widgets/controls",
            "_view_module_version": "1.5.0",
            "_view_name": "HTMLView",
            "description": "",
            "description_tooltip": null,
            "layout": "IPY_MODEL_4364b21ab6fa443a9f1f8ef4828468b4",
            "placeholder": "​",
            "style": "IPY_MODEL_1fc6a03d3d6943ffbe19988abee8c8d4",
            "value": "model.safetensors: 100%"
          }
        },
        "f731d3a72201431cae72788cc818269a": {
          "model_module": "@jupyter-widgets/controls",
          "model_module_version": "1.5.0",
          "model_name": "HTMLModel",
          "state": {
            "_dom_classes": [],
            "_model_module": "@jupyter-widgets/controls",
            "_model_module_version": "1.5.0",
            "_model_name": "HTMLModel",
            "_view_count": null,
            "_view_module": "@jupyter-widgets/controls",
            "_view_module_version": "1.5.0",
            "_view_name": "HTMLView",
            "description": "",
            "description_tooltip": null,
            "layout": "IPY_MODEL_a768db91590f40538a12a4ecef5c8572",
            "placeholder": "​",
            "style": "IPY_MODEL_65c3d9ef46ab44e4ab63dbf99cae301b",
            "value": " 9.08M/9.08M [00:00&lt;00:00, 45.8MB/s]"
          }
        },
        "f82ee2719b4e47f1ac29df0ee2ed7ee7": {
          "model_module": "@jupyter-widgets/controls",
          "model_module_version": "1.5.0",
          "model_name": "DescriptionStyleModel",
          "state": {
            "_model_module": "@jupyter-widgets/controls",
            "_model_module_version": "1.5.0",
            "_model_name": "DescriptionStyleModel",
            "_view_count": null,
            "_view_module": "@jupyter-widgets/base",
            "_view_module_version": "1.2.0",
            "_view_name": "StyleView",
            "description_width": ""
          }
        },
        "fa89e4f126cf4e9baf2c15c689ffd05e": {
          "model_module": "@jupyter-widgets/base",
          "model_module_version": "1.2.0",
          "model_name": "LayoutModel",
          "state": {
            "_model_module": "@jupyter-widgets/base",
            "_model_module_version": "1.2.0",
            "_model_name": "LayoutModel",
            "_view_count": null,
            "_view_module": "@jupyter-widgets/base",
            "_view_module_version": "1.2.0",
            "_view_name": "LayoutView",
            "align_content": null,
            "align_items": null,
            "align_self": null,
            "border": null,
            "bottom": null,
            "display": null,
            "flex": null,
            "flex_flow": null,
            "grid_area": null,
            "grid_auto_columns": null,
            "grid_auto_flow": null,
            "grid_auto_rows": null,
            "grid_column": null,
            "grid_gap": null,
            "grid_row": null,
            "grid_template_areas": null,
            "grid_template_columns": null,
            "grid_template_rows": null,
            "height": null,
            "justify_content": null,
            "justify_items": null,
            "left": null,
            "margin": null,
            "max_height": null,
            "max_width": null,
            "min_height": null,
            "min_width": null,
            "object_fit": null,
            "object_position": null,
            "order": null,
            "overflow": null,
            "overflow_x": null,
            "overflow_y": null,
            "padding": null,
            "right": null,
            "top": null,
            "visibility": null,
            "width": null
          }
        },
        "fd887aaffad242679c4b825ad184ebb1": {
          "model_module": "@jupyter-widgets/controls",
          "model_module_version": "1.5.0",
          "model_name": "DescriptionStyleModel",
          "state": {
            "_model_module": "@jupyter-widgets/controls",
            "_model_module_version": "1.5.0",
            "_model_name": "DescriptionStyleModel",
            "_view_count": null,
            "_view_module": "@jupyter-widgets/base",
            "_view_module_version": "1.2.0",
            "_view_name": "StyleView",
            "description_width": ""
          }
        }
      }
    }
  },
  "nbformat": 4,
  "nbformat_minor": 0
}
